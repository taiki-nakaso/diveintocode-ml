{
 "cells": [
  {
   "cell_type": "markdown",
   "metadata": {},
   "source": [
    "# Sprint\n",
    "## 機械学習スクラッチ クラスタリング\n",
    "スクラッチでK-meansを実装した後、それを使用しクラスタ分析を行います。"
   ]
  },
  {
   "cell_type": "markdown",
   "metadata": {},
   "source": [
    "K-meansのクラスをスクラッチで作成していきます。NumPyなど最低限のライブラリのみを使いアルゴリズムを実装していきます。\n",
    "\n",
    "\n",
    "以下に雛形を用意してあります。このScratchKMeansクラスにコードを書き加えていってください。"
   ]
  },
  {
   "cell_type": "code",
   "execution_count": 1,
   "metadata": {},
   "outputs": [],
   "source": [
    "import numpy as np\n",
    "import time\n",
    "class ScratchKMeans():\n",
    "    \"\"\"\n",
    "    K-meansのスクラッチ実装\n",
    "\n",
    "    Parameters\n",
    "    ----------\n",
    "    n_clusters : int\n",
    "      クラスタ数\n",
    "    n_init : int\n",
    "      中心点の初期値を何回変えて計算するか\n",
    "    max_iter : int\n",
    "      1回の計算で最大何イテレーションするか\n",
    "    tol : float\n",
    "      イテレーションを終了する基準となる中心点と重心の許容誤差\n",
    "    verbose : bool\n",
    "      学習過程を出力する場合はTrue\n",
    "    \n",
    "    Attributes\n",
    "    ----------\n",
    "    self.mu : ndarray(n_clusters, n_features)\n",
    "      クラスタの中心点\n",
    "    self.r_binary : ndarray(n_samples, n_clusters)\n",
    "      サンプル毎の所属クラスタをone-hot表現で表した配列\n",
    "    self.sse : [float]\n",
    "      クラスタ内誤差平方和（SSE）の推移\n",
    "    \"\"\"\n",
    "    def __init__(self, n_clusters, n_init, max_iter, tol, verbose=False):\n",
    "        # ハイパーパラメータを属性として記録\n",
    "        self.n_clusters = n_clusters\n",
    "        self.n_init = n_init\n",
    "        self.max_iter = max_iter\n",
    "        self.tol = tol\n",
    "        self.verbose = verbose\n",
    "    \n",
    "    def fit(self, X):\n",
    "        \"\"\"\n",
    "        K-meansによるクラスタリングを計算\n",
    "        Parameters\n",
    "        ----------\n",
    "        X : 次の形のndarray, shape (n_samples, n_features)\n",
    "            訓練データの特徴量\n",
    "        \"\"\"\n",
    "        # preparing\n",
    "        n_samples = X.shape[0]\n",
    "        self.mu = None\n",
    "        self.r_binary = None\n",
    "        self.sse = [-1]\n",
    "\n",
    "        if self.verbose:\n",
    "            #verboseをTrueにした際は学習過程を出力\n",
    "            print('start learning')\n",
    "        \n",
    "        start_time = time.time()\n",
    "\n",
    "        # learning\n",
    "        for j in range(self.n_init):\n",
    "            tmp_mu = X[np.random.choice(n_samples, self.n_clusters, replace=False), :]\n",
    "            tmp_r_binary = None\n",
    "            tmp_sse = []\n",
    "            for i in range(self.max_iter):\n",
    "                # break flag\n",
    "                _break = False\n",
    "                \n",
    "                # assign cluster\n",
    "                tmp_r_binary = self._assign_cluster(X, tmp_mu)\n",
    "\n",
    "                # diff old mu /new mu\n",
    "                _mu_new = self._move_mu(X, tmp_r_binary)\n",
    "                _diff = np.sqrt(self._each_diff_norm_squared(_mu_new, tmp_mu))\n",
    "                \n",
    "                # 微小な負数の平方根を計算しようとしてnanが出ることがあるので回避\n",
    "                _diff_sum = np.nansum(np.diag(_diff))\n",
    "                if _diff_sum < self.tol:\n",
    "                    _break = True\n",
    "                tmp_mu = _mu_new\n",
    "\n",
    "                # calc new sse\n",
    "                tmp_sse.append(self._calc_SSE(X, tmp_r_binary, tmp_mu))\n",
    "                if self.verbose:\n",
    "                    print(f'{j+1},{i+1} SSE: {tmp_sse[-1]}')\n",
    "\n",
    "                if _break: break\n",
    "            # update mu / r_binary / sse\n",
    "            if (tmp_sse[-1] < self.sse[-1]) or (self.sse[-1] < 0):\n",
    "                self.mu = tmp_mu\n",
    "                self.r_binary = tmp_r_binary\n",
    "                self.sse = tmp_sse\n",
    "        \n",
    "        end_time = time.time()\n",
    "        elapsed_time = end_time - start_time\n",
    "\n",
    "        print(f'Done! elapsed time: {elapsed_time:.5f}s')\n",
    "    \n",
    "    def predict(self, X):\n",
    "        \"\"\"\n",
    "        入力されたデータがどのクラスタに属するかを計算\n",
    "        Return\n",
    "        ----------\n",
    "          ndarray(n_samples, )\n",
    "            所属クラスタをrange(0, n_clusters)で表現した一次元配列\n",
    "        \"\"\"\n",
    "        # assign cluster\n",
    "        _r_binary = self._assign_cluster(X, self.mu)\n",
    "\n",
    "        # make output data\n",
    "        cluster_num = np.full(X.shape[0], -1)\n",
    "        for c in range(self.n_clusters):\n",
    "            cluster_num[np.nonzero(_r_binary[:, c])] = c\n",
    "\n",
    "        return cluster_num\n",
    "\n",
    "    def _each_diff_norm_squared(self, A, B):\n",
    "        \"\"\"\n",
    "        行列A,Bから一行ずつ選び出し、その差のベクトルのノルムの二乗||(A_i)-(B_j)||^2を計算する\n",
    "\n",
    "        Parameters\n",
    "        ----------\n",
    "        A, B : ndarray\n",
    "            行列 1行が一つのベクトルに対応している\n",
    "        Return\n",
    "        ----------\n",
    "          ndarray(A.shape[0], B.shape(0))\n",
    "        \"\"\"\n",
    "        A_norm = np.linalg.norm(A, axis=1)\n",
    "\n",
    "        B_norm = np.linalg.norm(B, axis=1)\n",
    "\n",
    "        A_dot_B = A@B.T\n",
    "\n",
    "        norm_squared = A_norm.reshape(-1, 1)**2 + B_norm**2 - 2*A_dot_B\n",
    "\n",
    "        return norm_squared\n",
    "\n",
    "    def _calc_SSE(self, X, r_binary, mu):\n",
    "        \"\"\" \n",
    "        クラスタ内誤差平方和を計算する。\n",
    "\n",
    "        \"\"\"\n",
    "        # calc sse\n",
    "        _sse = np.sum(r_binary * self._each_diff_norm_squared(X, mu))\n",
    "\n",
    "        return _sse\n",
    "\n",
    "    def _assign_cluster(self, X, mu):\n",
    "        \"\"\"\n",
    "        データ点をもっとも近い中心点が属するクラスタに割り当てる\n",
    "        \"\"\"\n",
    "        # calc norm\n",
    "        _each_diff_norm = self._each_diff_norm_squared(X, mu)\n",
    "\n",
    "        # one-hot\n",
    "        _r_binary = np.zeros((X.shape[0], self.n_clusters))\n",
    "        _r_binary[range(_r_binary.shape[0]), np.argmin(_each_diff_norm, axis=1)] = 1\n",
    "\n",
    "        return _r_binary\n",
    "\n",
    "    def _move_mu(self, X, r_binary):\n",
    "        \"\"\"\n",
    "        クラスタの中心点の位置をクラスタの重心まで移動する\n",
    "        \"\"\"\n",
    "        mu_new = np.zeros((self.n_clusters, X.shape[1]))\n",
    "\n",
    "        for k in range(self.n_clusters):\n",
    "            mask = np.nonzero(r_binary[:, k])\n",
    "            mu_new[k] = np.mean(X[mask], axis=0)\n",
    "        \n",
    "        return mu_new"
   ]
  },
  {
   "cell_type": "markdown",
   "metadata": {},
   "source": [
    "## クラスタリングのための人工データセット\n",
    "クラスタリングを実験するための人工データセットを作成するコードを用意しています。\n",
    "\n",
    "\n",
    "この`make_blobs`関数は正解ラベルも出力してますが、今回は使用しません。使用しないことを明示するために、 \\_（アンダースコア） で受け取っています。\n",
    "\n",
    "\n",
    "**《シンプルデータセット3》**"
   ]
  },
  {
   "cell_type": "code",
   "execution_count": 2,
   "metadata": {},
   "outputs": [
    {
     "output_type": "stream",
     "name": "stdout",
     "text": "[[ 0.72086751  3.71347124]\n [-1.89468423  7.96898545]\n [ 1.35678894  4.36462484]\n [ 1.05374379  4.49286859]\n [ 1.59141542  4.90497725]\n [ 0.78260667  4.15263595]\n [-1.95751686  3.87291474]\n [-0.77354537  7.87923564]\n [ 0.12313498  5.27917503]\n [-1.43284669  7.71577043]\n [-0.92819001  7.02698199]\n [-1.74836345  7.06307447]\n [-1.26789718  7.25141327]\n [-0.98661744  7.74968685]\n [-0.81984047  7.50994722]\n [ 2.99684287  0.22378413]\n [ 1.46870582  1.86947425]\n [-0.33533163  3.390122  ]\n [-1.86407034  2.93379754]\n [ 2.62496786  0.28025075]\n [ 2.11114739  3.57660449]\n [-1.8219901   7.61654999]\n [-1.91186205  3.18750686]\n [ 2.28809874  0.12954182]\n [ 0.5285368   4.49723858]\n [-1.57613028  2.58614312]\n [-0.565433    3.65813966]\n [ 0.802314    4.38196181]\n [ 2.79939362  1.84560825]\n [ 2.64465731  0.80770124]\n [ 1.7190373   0.71788708]\n [-0.93564005  7.03443119]\n [ 2.14398059  0.69677319]\n [ 2.06051753  1.79059891]\n [-1.21986433  3.3789856 ]\n [ 1.13280393  3.87673946]\n [-1.497272    8.80022604]\n [ 1.85367905  1.5088862 ]\n [-0.1666378   8.50372399]\n [-1.89928142  2.50466299]\n [ 1.04829186  5.03092408]\n [-1.44356727  3.23539798]\n [-1.57006498  6.72375844]\n [-1.98331513  3.47639041]\n [-1.87418794  2.84306499]\n [-1.86097353  8.2576415 ]\n [ 1.61986895  0.60823883]\n [-1.84482705  3.25609891]\n [ 0.72144399  4.08475018]\n [ 0.5323772   3.31338909]\n [ 0.3498724   4.69253251]\n [ 1.89949126  0.92574633]\n [-1.2386086   2.81373288]\n [-1.74448079  3.84251413]\n [-0.96358605  2.37791651]\n [-1.26041884  7.46644456]\n [-0.8623605   8.24721209]\n [ 2.4198128   0.96215512]\n [ 2.23345072  1.25095024]\n [-0.65424088  7.99393132]\n [-1.42525273  7.14798437]\n [ 1.51989121  1.42488952]\n [ 2.11872357  1.09865834]\n [ 1.74265969  5.03846671]\n [ 1.42002502  1.38236201]\n [-0.69842598  8.16309188]\n [-2.18485772  2.68708996]\n [-1.32890066  2.37135151]\n [ 2.15940501  1.38598318]\n [ 1.19820169  4.47062449]\n [-1.7653772   8.17625727]\n [ 1.4726926   1.3480769 ]\n [ 0.92466065  4.50908658]\n [-1.47602203  7.8441996 ]\n [ 0.99914934  4.2101954 ]\n [ 1.40848818  3.93270482]\n [-0.59312453  3.37090459]\n [-1.6609057   3.31911046]\n [ 2.25643834  0.55525861]\n [ 1.24016835  1.12905479]\n [ 1.64869438  0.03452236]\n [-1.61803727  8.60696731]\n [-1.37778493  3.58107521]\n [ 0.16932115  4.19741719]\n [ 1.73810647  0.71629308]\n [-1.05327803  2.84037721]\n [ 1.60161834  0.92363636]\n [ 1.84845803  0.52393625]\n [ 1.72330962  4.2012082 ]\n [ 1.00952869  4.45502328]\n [ 0.96217896  4.51795326]\n [-1.33869125  2.36818187]\n [ 0.4519936   3.59377836]\n [-1.19075663  3.12161318]\n [-2.27253281  3.13757811]\n [-1.80044744  7.86154256]\n [-1.64996061  7.49068513]\n [-1.56102482  3.77455362]\n [-0.78782636  7.99482384]\n [-0.30022483  4.63059663]]\n"
    }
   ],
   "source": [
    "from sklearn.datasets import make_blobs\n",
    "X, _ = make_blobs(n_samples=100, n_features=2, centers=4, cluster_std=0.5, shuffle=True, random_state=0)\n",
    "print(X)"
   ]
  },
  {
   "cell_type": "markdown",
   "metadata": {},
   "source": [
    "# 【問題1】\n",
    "## 中心点の初期値を決める\n",
    "入力されたデータから$K$個の中心点$μ_1$から$μ_K$の初期値を決めるコードを作成してください。$K$は指定したクラスタ数です。\n",
    "\n",
    "\n",
    "最もシンプルな初期値の決定方法は、データ点$X_n$の中からランダムに$K$個選ぶことです。今回はこれを実装してください。\n",
    "\n",
    "\n",
    "K-meansの学習結果は中心点$μ$の初期値に影響を受けます。そのため、学習時には複数個の初期値で計算を行います。"
   ]
  },
  {
   "cell_type": "markdown",
   "metadata": {},
   "source": [
    "```python\n",
    "n_samples = X.shape[0]\n",
    "self.mu = X[np.random.randint(0, n_samples, self.n_clusters), :]\n",
    "```"
   ]
  },
  {
   "cell_type": "markdown",
   "metadata": {},
   "source": [
    "# 【問題2】\n",
    "## SSEを求める関数の作成\n",
    "クラスタ内誤差平方和（SSE, Sum of Squared Errors）を計算する関数を作成してください。\n",
    "\n",
    "\n",
    "K-meansはこのSSEを最小化する$r_{nk}$と$\\mu_k$を求めることが目的となります。複数個の初期値で計算したクラスタリング結果から、どれを最終的に採用するかを決める際にこのSSEを求める関数を使用します。\n",
    "\n",
    "$$\n",
    "SSE = \\sum_{n=1}^N \\sum_{k=1}^K r_{nk} \\|X_n - \\mu_k\\|^2\n",
    "$$\n",
    "\n",
    "$n$ : データ点のインデックス\n",
    "\n",
    "\n",
    "$k$ : クラスタのインデックス\n",
    "\n",
    "\n",
    "$X_n$ : $n$番目のデータ点\n",
    "\n",
    "\n",
    "$\\mu_k$ : $k$番目の中心点\n",
    "\n",
    "\n",
    "$r_{nk}$ : データ点$X_n$がクラスタ$k$に所属していたら1、そうでなければ0"
   ]
  },
  {
   "cell_type": "markdown",
   "metadata": {},
   "source": [
    "以下の式から計算する。\n",
    "$$\n",
    "\\|A-B\\|^2 = \\|A\\|^2 + \\|B\\|^2 - 2*(A \\cdot B)\n",
    "$$\n",
    "-> `_each_diff_norm_squared(A, B)`\n",
    "```python\n",
    "    def _each_diff_norm_squared(self, A, B):\n",
    "        \"\"\"\n",
    "        行列A,Bから一行ずつ選び出し、その差のベクトルのノルムの二乗||(A_i)-(B_j)||^2を計算する\n",
    "\n",
    "        Parameters\n",
    "        ----------\n",
    "        A, B : ndarray\n",
    "            行列 1行が一つのベクトルに対応している\n",
    "        Return\n",
    "        ----------\n",
    "          ndarray(A.shape[0], B.shape(0))\n",
    "        \"\"\"\n",
    "        A_norm = np.linalg.norm(A, axis=1)\n",
    "\n",
    "        B_norm = np.linalg.norm(B, axis=1)\n",
    "\n",
    "        A_dot_B = A@B.T\n",
    "\n",
    "        norm_squared = A_norm.reshape(-1, 1)**2 + B_norm**2 - A_dot_B\n",
    "\n",
    "        return norm_squared\n",
    "\n",
    "    def _calc_SSE(self, X):\n",
    "        \"\"\" \n",
    "        クラスタ内誤差平方和を計算する。\n",
    "\n",
    "        \"\"\"\n",
    "        # calc sse\n",
    "        _sse = np.sum(self.r_binary * self._each_diff_norm_squared(X, self.mu))\n",
    "\n",
    "        return _sse\n",
    "```"
   ]
  },
  {
   "cell_type": "markdown",
   "metadata": {},
   "source": [
    "## クラスタの割り当てと中心点の移動を繰り返す\n",
    "K-meansの学習の基本は以下の2つのフェーズを繰り返すことです。\n",
    "\n",
    "\n",
    "- 中心点$\\mu_k$を固定した上で$SSE$を最小化するクラスタの割り当て$r_{nk}$を選ぶ。\n",
    "- クラスタの割り当て$r_{nk}$を固定した上で$SSE$を最小化する中心点$\\mu_k$を選ぶ。\n",
    "\n",
    "最初の中心点$\\mu_k$は問題1で作成した初期値です。\n",
    "\n",
    "\n",
    "順番に見ていきます。"
   ]
  },
  {
   "cell_type": "markdown",
   "metadata": {},
   "source": [
    "# 【問題3】\n",
    "## クラスタへの割り当て\n",
    "全てのデータ点$X_n$を最も近い中心点$\\mu_k$に割り当てるコードを作成してください。\n",
    "\n",
    "\n",
    "K-menasにおける**近い**とは点と点のユークリッド距離が小さくなることです。ユークリッド距離とはピタゴラスの定理（三平方の定理）で求められるものですが、ベクトル$p, q$に対しては以下の数式で表現できます。\n",
    "\n",
    "$$\n",
    "\\|q-p\\| = \\sqrt{(q-p)\\cdot(q-p)}\n",
    "$$\n",
    "\n",
    "NumPyにはこの関数がnp.linalg.normとして用意されているため使用してください。\n",
    "\n",
    "\n",
    "[numpy.linalg.norm — NumPy v1.17 Manual](https://docs.scipy.org/doc/numpy/reference/generated/numpy.linalg.norm.html)\n",
    "\n",
    "\n",
    "中心点$\\mu_k$を固定した上でSSEを最小化していることになりますが、SSE自体を求める必要はありません。"
   ]
  },
  {
   "cell_type": "markdown",
   "metadata": {},
   "source": [
    "実数空間においては$\\|x\\|\\geq0$であるから、$\\|a\\|\\geq\\|b\\|$のとき$\\|a\\|^2\\geq\\|b\\|^2$もまた成り立つ。\n",
    "\n",
    "よって、簡単のためにユークリッド距離の比較は$\\|q-p\\|^2$を用いて行う。 -> `_each_diff_norm_squared(A, B)`\n",
    "```python\n",
    "    def _assign_cluster(self, X):\n",
    "        \"\"\"\n",
    "        データ点をもっとも近い中心点が属するクラスタに割り当てる\n",
    "        \"\"\"\n",
    "        # calc norm\n",
    "        _each_diff_norm = self._each_diff_norm_squared(X, self.mu)\n",
    "\n",
    "        # one-hot\n",
    "        _r_binary = np.zeros((X.shape[0], self.n_clusters))\n",
    "        _r_binary[range(_r_binary.shape[0]), np.argmin(_each_diff_norm, axis=1)] = 1\n",
    "\n",
    "        return _r_binary\n",
    "```"
   ]
  },
  {
   "cell_type": "markdown",
   "metadata": {},
   "source": [
    "# 【問題4】\n",
    "## 中心点の移動\n",
    "中心点$\\mu_k$を$k$番目のクラスタに割り当てられる全てのデータ点$X_n$の平均値（重心）に移動するコードを作成してください。\n",
    "\n",
    "\n",
    "クラスタの割り当て$r_{nk}$を固定した上でSSEを最小化していることになりますが、SSE自体を求める必要はありません。"
   ]
  },
  {
   "cell_type": "markdown",
   "metadata": {},
   "source": [
    "```python\n",
    "    def _move_mu(self, X):\n",
    "        \"\"\"\n",
    "        クラスタの中心点の位置をクラスタの重心まで移動する\n",
    "        \"\"\"\n",
    "        mu_new = np.zeros((self.n_clusters, X.shape[1]))\n",
    "\n",
    "        for k in range(self.n_clusters):\n",
    "            mask = np.nonzero(self.r_binary[:, k])\n",
    "            mu_new[k] = np.mean(X[mask], axis=0)\n",
    "        \n",
    "        return mu_new\n",
    "```"
   ]
  },
  {
   "cell_type": "markdown",
   "metadata": {},
   "source": [
    "# 【問題5】\n",
    "## 繰り返し\n",
    "クラスタへの割り当てと中心点の移動を繰り返すことで学習を行うコードを作成してください。\n",
    "\n",
    "\n",
    "次のどれかの条件を満たしたらこれを止めます。\n",
    "\n",
    "\n",
    "- 繰り返しが指定した回数に到達する。（雛形では引数max_iter）\n",
    "- 中心点$\\mu_k$と重心の差の合計が指定した許容値以下になる。（雛形では引数tol）\n"
   ]
  },
  {
   "cell_type": "markdown",
   "metadata": {},
   "source": [
    "# 【問題6】\n",
    "## 異なる初期値で計算\n",
    "問題5の繰り返しを、指定した回数初期値を変更して計算するコードを作成してください。回数は雛形では引数n_initで指定します。\n",
    "\n",
    "\n",
    "複数計算した中でSSEが最小になったものが最終的な学習結果となるため、その時の中心点$\\mu_k$を保持しておきます。"
   ]
  },
  {
   "cell_type": "markdown",
   "metadata": {},
   "source": [
    "以下コードは問題5, 6に対応\n",
    "```python\n",
    "    def fit(self, X):\n",
    "        \"\"\"\n",
    "        K-meansによるクラスタリングを計算\n",
    "        Parameters\n",
    "        ----------\n",
    "        X : 次の形のndarray, shape (n_samples, n_features)\n",
    "            訓練データの特徴量\n",
    "        \"\"\"\n",
    "        # preparing\n",
    "        n_samples = X.shape[0]\n",
    "        self.mu = None\n",
    "        self.r_binary = None\n",
    "        self.sse = [-1]\n",
    "\n",
    "        if self.verbose:\n",
    "            #verboseをTrueにした際は学習過程を出力\n",
    "            print('start learning')\n",
    "        \n",
    "        start_time = time.time()\n",
    "\n",
    "        # learning\n",
    "        for j in range(self.n_init):\n",
    "            tmp_mu = X[np.random.choice(n_samples, self.n_clusters, replace=False), :]\n",
    "            tmp_r_binary = None\n",
    "            tmp_sse = []\n",
    "            for i in range(self.max_iter):\n",
    "                # break flag\n",
    "                _break = False\n",
    "                \n",
    "                # assign cluster\n",
    "                tmp_r_binary = self._assign_cluster(X, tmp_mu)\n",
    "\n",
    "                # diff old mu /new mu\n",
    "                _mu_new = self._move_mu(X, tmp_r_binary)\n",
    "                _diff = np.sqrt(self._each_diff_norm_squared(_mu_new, tmp_mu))\n",
    "                \n",
    "                # 微小な負数の平方根を計算しようとしてnanが出ることがあるので回避\n",
    "                _diff_sum = np.nansum(np.diag(_diff))\n",
    "                if _diff_sum < self.tol:\n",
    "                    _break = True\n",
    "                tmp_mu = _mu_new\n",
    "\n",
    "                # calc new sse\n",
    "                tmp_sse.append(self._calc_SSE(X, tmp_r_binary, tmp_mu))\n",
    "                if self.verbose:\n",
    "                    print(f'{j+1},{i+1} SSE: {tmp_sse[-1]}')\n",
    "\n",
    "                if _break: break\n",
    "            # update mu / r_binary / sse\n",
    "            if (tmp_sse[-1] < self.sse[-1]) or (self.sse[-1] < 0):\n",
    "                self.mu = tmp_mu\n",
    "                self.r_binary = tmp_r_binary\n",
    "                self.sse = tmp_sse\n",
    "        \n",
    "        end_time = time.time()\n",
    "        elapsed_time = end_time - start_time\n",
    "\n",
    "        print(f'Done! elapsed time: {elapsed_time:.5f}s')\n",
    "```"
   ]
  },
  {
   "cell_type": "markdown",
   "metadata": {},
   "source": [
    "# 【問題7】\n",
    "## 推定\n",
    "新たなデータに対してどのクラスタに所属するかの推定の際は、学習時の1つ目のフェーズと同じことを行います。\n",
    "\n",
    "\n",
    "- データ点$X_n$と学習で決まった中心点$\\mu_k$に対し、$SSE$を最小化する$r_{nk}$を選ぶ。\n",
    "\n",
    "具体的には次のことです。\n",
    "\n",
    "\n",
    "- データ点$X_n$を最も近い$\\mu_k$に割り当てる。"
   ]
  },
  {
   "cell_type": "markdown",
   "metadata": {},
   "source": [
    "```python\n",
    "    def predict(self, X):\n",
    "        \"\"\"\n",
    "        入力されたデータがどのクラスタに属するかを計算\n",
    "        Return\n",
    "        ----------\n",
    "          ndarray(n_samples, )\n",
    "            所属クラスタをrange(0, n_clusters)で表現した一次元配列\n",
    "        \"\"\"\n",
    "        # assign cluster\n",
    "        _r_binary = self._assign_cluster(X, self.mu)\n",
    "\n",
    "        # make output data\n",
    "        cluster_num = np.full(X.shape[0], -1)\n",
    "        for c in range(self.n_clusters):\n",
    "            cluster_num[np.nonzero(_r_binary[:, c])] = c\n",
    "\n",
    "        return cluster_num\n",
    "```"
   ]
  },
  {
   "cell_type": "markdown",
   "metadata": {},
   "source": [
    "# 【問題8】\n",
    "## エルボー法の実装\n",
    "K-meansにおいて中心点の個数$k$は人為的に決める必要がありますが、その判断方法としてエルボー法があります。エルボー法により中心点の個数$k$を検討するためのコードを作成してください。\n",
    "\n",
    "\n",
    "SSEを縦軸、クラスタ数$k$を横軸にした折れ線グラフを表示します。このためにK-meansのインスタンスからはSSEを取得できるようにしてください。"
   ]
  },
  {
   "cell_type": "markdown",
   "metadata": {},
   "source": [
    "-> 問題5, 6で実装済み"
   ]
  },
  {
   "cell_type": "markdown",
   "metadata": {},
   "source": [
    "実際に学習・予測を行ってみる。"
   ]
  },
  {
   "cell_type": "code",
   "execution_count": 3,
   "metadata": {
    "tags": [
     "outputPrepend"
    ]
   },
   "outputs": [
    {
     "output_type": "stream",
     "name": "stdout",
     "text": "start learning\n1,1 SSE: 132.99397039922638\n1,2 SSE: 132.5005546971779\n1,3 SSE: 132.25725378929906\n1,4 SSE: 132.25725378929906\n2,1 SSE: 256.4882958545686\n2,2 SSE: 135.38064448120275\n2,3 SSE: 134.68639490748558\n2,4 SSE: 134.32814621955902\n2,5 SSE: 133.54759268797744\n2,6 SSE: 132.674651423462\n2,7 SSE: 132.4902159294081\n2,8 SSE: 132.22875558038191\n2,9 SSE: 132.22875558038191\n3,1 SSE: 48.633783207064134\n3,2 SSE: 48.633783207064134\n4,1 SSE: 210.9100723964366\n4,2 SSE: 187.85182418094246\n4,3 SSE: 170.86960607102787\n4,4 SSE: 72.01423454579098\n4,5 SSE: 48.633783207064134\n4,6 SSE: 48.633783207064134\n5,1 SSE: 199.855220673786\n5,2 SSE: 62.7215242593262\n5,3 SSE: 48.633783207064134\n5,4 SSE: 48.633783207064134\n6,1 SSE: 237.14533818354698\n6,2 SSE: 192.37932327683143\n6,3 SSE: 68.12359493492667\n6,4 SSE: 48.633783207064134\n6,5 SSE: 48.633783207064134\n7,1 SSE: 48.633783207064134\n7,2 SSE: 48.633783207064134\n8,1 SSE: 671.6712481994234\n8,2 SSE: 62.81425155534431\n8,3 SSE: 48.633783207064134\n8,4 SSE: 48.633783207064134\n9,1 SSE: 48.633783207064134\n9,2 SSE: 48.633783207064134\n10,1 SSE: 48.633783207064134\n10,2 SSE: 48.633783207064134\n11,1 SSE: 350.38547258140545\n11,2 SSE: 346.5751077152256\n11,3 SSE: 327.95793550633607\n11,4 SSE: 235.97548452379294\n11,5 SSE: 212.51082764272945\n11,6 SSE: 98.77106599175112\n11,7 SSE: 50.50986625280357\n11,8 SSE: 48.633783207064134\n11,9 SSE: 48.633783207064134\n12,1 SSE: 255.3231042852038\n12,2 SSE: 235.11137142016196\n12,3 SSE: 194.3954601060064\n12,4 SSE: 58.51600301764836\n12,5 SSE: 48.633783207064134\n12,6 SSE: 48.633783207064134\n13,1 SSE: 134.48843877933666\n13,2 SSE: 134.38175056942373\n13,3 SSE: 134.38175056942373\n14,1 SSE: 241.80051791830533\n14,2 SSE: 209.42187999485122\n14,3 SSE: 86.57472677524925\n14,4 SSE: 49.56203935787142\n14,5 SSE: 48.633783207064134\n14,6 SSE: 48.633783207064134\n15,1 SSE: 251.65610438993252\n15,2 SSE: 225.2405638427449\n15,3 SSE: 198.22046579618333\n15,4 SSE: 84.00242848317167\n15,5 SSE: 48.633783207064134\n15,6 SSE: 48.633783207064134\n16,1 SSE: 135.56907494507794\n16,2 SSE: 134.36125471814347\n16,3 SSE: 134.36125471814347\n17,1 SSE: 118.4286282106697\n17,2 SSE: 52.291239012384956\n17,3 SSE: 48.633783207064134\n17,4 SSE: 48.633783207064134\n18,1 SSE: 88.50446910399145\n18,2 SSE: 48.633783207064134\n18,3 SSE: 48.633783207064134\n19,1 SSE: 284.9888659768892\n19,2 SSE: 61.0682343014431\n19,3 SSE: 48.633783207064134\n19,4 SSE: 48.633783207064134\n20,1 SSE: 346.32129118681473\n20,2 SSE: 344.20475158260416\n20,3 SSE: 343.07816652898737\n20,4 SSE: 318.08823971351444\n20,5 SSE: 222.34290182982215\n20,6 SSE: 158.41052940828945\n20,7 SSE: 56.57022645923886\n20,8 SSE: 48.633783207064134\n20,9 SSE: 48.633783207064134\nDone! elapsed time: 0.09087s\n"
    }
   ],
   "source": [
    "skm = ScratchKMeans(n_clusters=4, n_init=20, max_iter=20, tol=1.0e-6, verbose=True)\n",
    "skm.fit(X)"
   ]
  },
  {
   "cell_type": "code",
   "execution_count": 4,
   "metadata": {},
   "outputs": [
    {
     "output_type": "stream",
     "name": "stdout",
     "text": "[[1. 0. 0. 0.]\n [0. 1. 0. 0.]\n [1. 0. 0. 0.]\n [1. 0. 0. 0.]\n [1. 0. 0. 0.]\n [1. 0. 0. 0.]\n [0. 0. 0. 1.]\n [0. 1. 0. 0.]\n [1. 0. 0. 0.]\n [0. 1. 0. 0.]\n [0. 1. 0. 0.]\n [0. 1. 0. 0.]\n [0. 1. 0. 0.]\n [0. 1. 0. 0.]\n [0. 1. 0. 0.]\n [0. 0. 1. 0.]\n [0. 0. 1. 0.]\n [0. 0. 0. 1.]\n [0. 0. 0. 1.]\n [0. 0. 1. 0.]\n [1. 0. 0. 0.]\n [0. 1. 0. 0.]\n [0. 0. 0. 1.]\n [0. 0. 1. 0.]\n [1. 0. 0. 0.]\n [0. 0. 0. 1.]\n [0. 0. 0. 1.]\n [1. 0. 0. 0.]\n [0. 0. 1. 0.]\n [0. 0. 1. 0.]\n [0. 0. 1. 0.]\n [0. 1. 0. 0.]\n [0. 0. 1. 0.]\n [0. 0. 1. 0.]\n [0. 0. 0. 1.]\n [1. 0. 0. 0.]\n [0. 1. 0. 0.]\n [0. 0. 1. 0.]\n [0. 1. 0. 0.]\n [0. 0. 0. 1.]\n [1. 0. 0. 0.]\n [0. 0. 0. 1.]\n [0. 1. 0. 0.]\n [0. 0. 0. 1.]\n [0. 0. 0. 1.]\n [0. 1. 0. 0.]\n [0. 0. 1. 0.]\n [0. 0. 0. 1.]\n [1. 0. 0. 0.]\n [1. 0. 0. 0.]\n [1. 0. 0. 0.]\n [0. 0. 1. 0.]\n [0. 0. 0. 1.]\n [0. 0. 0. 1.]\n [0. 0. 0. 1.]\n [0. 1. 0. 0.]\n [0. 1. 0. 0.]\n [0. 0. 1. 0.]\n [0. 0. 1. 0.]\n [0. 1. 0. 0.]\n [0. 1. 0. 0.]\n [0. 0. 1. 0.]\n [0. 0. 1. 0.]\n [1. 0. 0. 0.]\n [0. 0. 1. 0.]\n [0. 1. 0. 0.]\n [0. 0. 0. 1.]\n [0. 0. 0. 1.]\n [0. 0. 1. 0.]\n [1. 0. 0. 0.]\n [0. 1. 0. 0.]\n [0. 0. 1. 0.]\n [1. 0. 0. 0.]\n [0. 1. 0. 0.]\n [1. 0. 0. 0.]\n [1. 0. 0. 0.]\n [0. 0. 0. 1.]\n [0. 0. 0. 1.]\n [0. 0. 1. 0.]\n [0. 0. 1. 0.]\n [0. 0. 1. 0.]\n [0. 1. 0. 0.]\n [0. 0. 0. 1.]\n [1. 0. 0. 0.]\n [0. 0. 1. 0.]\n [0. 0. 0. 1.]\n [0. 0. 1. 0.]\n [0. 0. 1. 0.]\n [1. 0. 0. 0.]\n [1. 0. 0. 0.]\n [1. 0. 0. 0.]\n [0. 0. 0. 1.]\n [1. 0. 0. 0.]\n [0. 0. 0. 1.]\n [0. 0. 0. 1.]\n [0. 1. 0. 0.]\n [0. 1. 0. 0.]\n [0. 0. 0. 1.]\n [0. 1. 0. 0.]\n [1. 0. 0. 0.]]\n"
    }
   ],
   "source": [
    "print(skm.r_binary)"
   ]
  },
  {
   "cell_type": "code",
   "execution_count": 5,
   "metadata": {},
   "outputs": [],
   "source": [
    "import matplotlib.pyplot as plt\n",
    "def plot_cluster(X, model):\n",
    "    \"\"\"\n",
    "    与えられたデータから所属クラスタを予測してプロットする\n",
    "    \"\"\"\n",
    "    _assigned_cluster = model.predict(X)\n",
    "    _mu = model.mu\n",
    "\n",
    "    %matplotlib inline\n",
    "    plt.title('K-means clustering')\n",
    "    plt.xlabel('Feature 1')\n",
    "    plt.ylabel('Feature 2')\n",
    "    for c in range(model.n_clusters):\n",
    "        Xc = X[_assigned_cluster == c]\n",
    "        plt.scatter(Xc[:, 0], Xc[:, 1], label=c)\n",
    "\n",
    "    plt.scatter(_mu[:, 0], _mu[:, 1], marker='x', label=\"mu\")\n",
    "    plt.legend()\n",
    "    plt.show()"
   ]
  },
  {
   "cell_type": "code",
   "execution_count": 6,
   "metadata": {},
   "outputs": [
    {
     "output_type": "display_data",
     "data": {
      "text/plain": "<Figure size 432x288 with 1 Axes>",
      "image/svg+xml": "<?xml version=\"1.0\" encoding=\"utf-8\" standalone=\"no\"?>\r\n<!DOCTYPE svg PUBLIC \"-//W3C//DTD SVG 1.1//EN\"\r\n  \"http://www.w3.org/Graphics/SVG/1.1/DTD/svg11.dtd\">\r\n<!-- Created with matplotlib (https://matplotlib.org/) -->\r\n<svg height=\"277.314375pt\" version=\"1.1\" viewBox=\"0 0 376.240625 277.314375\" width=\"376.240625pt\" xmlns=\"http://www.w3.org/2000/svg\" xmlns:xlink=\"http://www.w3.org/1999/xlink\">\r\n <defs>\r\n  <style type=\"text/css\">\r\n*{stroke-linecap:butt;stroke-linejoin:round;}\r\n  </style>\r\n </defs>\r\n <g id=\"figure_1\">\r\n  <g id=\"patch_1\">\r\n   <path d=\"M 0 277.314375 \r\nL 376.240625 277.314375 \r\nL 376.240625 0 \r\nL 0 0 \r\nz\r\n\" style=\"fill:none;\"/>\r\n  </g>\r\n  <g id=\"axes_1\">\r\n   <g id=\"patch_2\">\r\n    <path d=\"M 34.240625 239.758125 \r\nL 369.040625 239.758125 \r\nL 369.040625 22.318125 \r\nL 34.240625 22.318125 \r\nz\r\n\" style=\"fill:#ffffff;\"/>\r\n   </g>\r\n   <g id=\"PathCollection_1\">\r\n    <defs>\r\n     <path d=\"M 0 3 \r\nC 0.795609 3 1.55874 2.683901 2.12132 2.12132 \r\nC 2.683901 1.55874 3 0.795609 3 0 \r\nC 3 -0.795609 2.683901 -1.55874 2.12132 -2.12132 \r\nC 1.55874 -2.683901 0.795609 -3 0 -3 \r\nC -0.795609 -3 -1.55874 -2.683901 -2.12132 -2.12132 \r\nC -2.683901 -1.55874 -3 -0.795609 -3 0 \r\nC -3 0.795609 -2.683901 1.55874 -2.12132 2.12132 \r\nC -1.55874 2.683901 -0.795609 3 0 3 \r\nz\r\n\" id=\"maf85a92e48\" style=\"stroke:#1f77b4;\"/>\r\n    </defs>\r\n    <g clip-path=\"url(#p4abea0eb48)\">\r\n     <use style=\"fill:#1f77b4;stroke:#1f77b4;\" x=\"222.273941\" xlink:href=\"#maf85a92e48\" y=\"146.10994\"/>\r\n     <use style=\"fill:#1f77b4;stroke:#1f77b4;\" x=\"258.39757\" xlink:href=\"#maf85a92e48\" y=\"131.614804\"/>\r\n     <use style=\"fill:#1f77b4;stroke:#1f77b4;\" x=\"241.183037\" xlink:href=\"#maf85a92e48\" y=\"128.760008\"/>\r\n     <use style=\"fill:#1f77b4;stroke:#1f77b4;\" x=\"271.725569\" xlink:href=\"#maf85a92e48\" y=\"119.58618\"/>\r\n     <use style=\"fill:#1f77b4;stroke:#1f77b4;\" x=\"225.781045\" xlink:href=\"#maf85a92e48\" y=\"136.333825\"/>\r\n     <use style=\"fill:#1f77b4;stroke:#1f77b4;\" x=\"188.319639\" xlink:href=\"#maf85a92e48\" y=\"111.256275\"/>\r\n     <use style=\"fill:#1f77b4;stroke:#1f77b4;\" x=\"301.249035\" xlink:href=\"#maf85a92e48\" y=\"149.15669\"/>\r\n     <use style=\"fill:#1f77b4;stroke:#1f77b4;\" x=\"211.348561\" xlink:href=\"#maf85a92e48\" y=\"128.662729\"/>\r\n     <use style=\"fill:#1f77b4;stroke:#1f77b4;\" x=\"226.900523\" xlink:href=\"#maf85a92e48\" y=\"131.228871\"/>\r\n     <use style=\"fill:#1f77b4;stroke:#1f77b4;\" x=\"245.674062\" xlink:href=\"#maf85a92e48\" y=\"142.475475\"/>\r\n     <use style=\"fill:#1f77b4;stroke:#1f77b4;\" x=\"240.873339\" xlink:href=\"#maf85a92e48\" y=\"116.782515\"/>\r\n     <use style=\"fill:#1f77b4;stroke:#1f77b4;\" x=\"222.306688\" xlink:href=\"#maf85a92e48\" y=\"137.84501\"/>\r\n     <use style=\"fill:#1f77b4;stroke:#1f77b4;\" x=\"211.566716\" xlink:href=\"#maf85a92e48\" y=\"155.016049\"/>\r\n     <use style=\"fill:#1f77b4;stroke:#1f77b4;\" x=\"201.199498\" xlink:href=\"#maf85a92e48\" y=\"124.315349\"/>\r\n     <use style=\"fill:#1f77b4;stroke:#1f77b4;\" x=\"280.317026\" xlink:href=\"#maf85a92e48\" y=\"116.614611\"/>\r\n     <use style=\"fill:#1f77b4;stroke:#1f77b4;\" x=\"249.388993\" xlink:href=\"#maf85a92e48\" y=\"129.255177\"/>\r\n     <use style=\"fill:#1f77b4;stroke:#1f77b4;\" x=\"233.850446\" xlink:href=\"#maf85a92e48\" y=\"128.398984\"/>\r\n     <use style=\"fill:#1f77b4;stroke:#1f77b4;\" x=\"238.081789\" xlink:href=\"#maf85a92e48\" y=\"135.052512\"/>\r\n     <use style=\"fill:#1f77b4;stroke:#1f77b4;\" x=\"261.334354\" xlink:href=\"#maf85a92e48\" y=\"141.229647\"/>\r\n     <use style=\"fill:#1f77b4;stroke:#1f77b4;\" x=\"190.943252\" xlink:href=\"#maf85a92e48\" y=\"135.336964\"/>\r\n     <use style=\"fill:#1f77b4;stroke:#1f77b4;\" x=\"279.217842\" xlink:href=\"#maf85a92e48\" y=\"135.252573\"/>\r\n     <use style=\"fill:#1f77b4;stroke:#1f77b4;\" x=\"238.67139\" xlink:href=\"#maf85a92e48\" y=\"129.602471\"/>\r\n     <use style=\"fill:#1f77b4;stroke:#1f77b4;\" x=\"235.98168\" xlink:href=\"#maf85a92e48\" y=\"128.201606\"/>\r\n     <use style=\"fill:#1f77b4;stroke:#1f77b4;\" x=\"207.00051\" xlink:href=\"#maf85a92e48\" y=\"148.774388\"/>\r\n     <use style=\"fill:#1f77b4;stroke:#1f77b4;\" x=\"164.27061\" xlink:href=\"#maf85a92e48\" y=\"125.694085\"/>\r\n    </g>\r\n   </g>\r\n   <g id=\"PathCollection_2\">\r\n    <defs>\r\n     <path d=\"M 0 3 \r\nC 0.795609 3 1.55874 2.683901 2.12132 2.12132 \r\nC 2.683901 1.55874 3 0.795609 3 0 \r\nC 3 -0.795609 2.683901 -1.55874 2.12132 -2.12132 \r\nC 1.55874 -2.683901 0.795609 -3 0 -3 \r\nC -0.795609 -3 -1.55874 -2.683901 -2.12132 -2.12132 \r\nC -2.683901 -1.55874 -3 -0.795609 -3 0 \r\nC -3 0.795609 -2.683901 1.55874 -2.12132 2.12132 \r\nC -1.55874 2.683901 -0.795609 3 0 3 \r\nz\r\n\" id=\"m73869c5a4f\" style=\"stroke:#ff7f0e;\"/>\r\n    </defs>\r\n    <g clip-path=\"url(#p4abea0eb48)\">\r\n     <use style=\"fill:#ff7f0e;stroke:#ff7f0e;\" x=\"73.697061\" xlink:href=\"#m73869c5a4f\" y=\"51.379207\"/>\r\n     <use style=\"fill:#ff7f0e;stroke:#ff7f0e;\" x=\"137.383553\" xlink:href=\"#m73869c5a4f\" y=\"53.377101\"/>\r\n     <use style=\"fill:#ff7f0e;stroke:#ff7f0e;\" x=\"99.931824\" xlink:href=\"#m73869c5a4f\" y=\"57.015951\"/>\r\n     <use style=\"fill:#ff7f0e;stroke:#ff7f0e;\" x=\"128.598936\" xlink:href=\"#m73869c5a4f\" y=\"72.348865\"/>\r\n     <use style=\"fill:#ff7f0e;stroke:#ff7f0e;\" x=\"82.008839\" xlink:href=\"#m73869c5a4f\" y=\"71.545422\"/>\r\n     <use style=\"fill:#ff7f0e;stroke:#ff7f0e;\" x=\"109.30181\" xlink:href=\"#m73869c5a4f\" y=\"67.352868\"/>\r\n     <use style=\"fill:#ff7f0e;stroke:#ff7f0e;\" x=\"125.279956\" xlink:href=\"#m73869c5a4f\" y=\"56.260948\"/>\r\n     <use style=\"fill:#ff7f0e;stroke:#ff7f0e;\" x=\"134.753751\" xlink:href=\"#m73869c5a4f\" y=\"61.59772\"/>\r\n     <use style=\"fill:#ff7f0e;stroke:#ff7f0e;\" x=\"77.826464\" xlink:href=\"#m73869c5a4f\" y=\"59.224668\"/>\r\n     <use style=\"fill:#ff7f0e;stroke:#ff7f0e;\" x=\"128.175736\" xlink:href=\"#m73869c5a4f\" y=\"72.183041\"/>\r\n     <use style=\"fill:#ff7f0e;stroke:#ff7f0e;\" x=\"96.272133\" xlink:href=\"#m73869c5a4f\" y=\"32.875208\"/>\r\n     <use style=\"fill:#ff7f0e;stroke:#ff7f0e;\" x=\"171.859045\" xlink:href=\"#m73869c5a4f\" y=\"39.475552\"/>\r\n     <use style=\"fill:#ff7f0e;stroke:#ff7f0e;\" x=\"92.137116\" xlink:href=\"#m73869c5a4f\" y=\"79.098834\"/>\r\n     <use style=\"fill:#ff7f0e;stroke:#ff7f0e;\" x=\"75.612004\" xlink:href=\"#m73869c5a4f\" y=\"44.953521\"/>\r\n     <use style=\"fill:#ff7f0e;stroke:#ff7f0e;\" x=\"109.726619\" xlink:href=\"#m73869c5a4f\" y=\"62.56612\"/>\r\n     <use style=\"fill:#ff7f0e;stroke:#ff7f0e;\" x=\"132.338394\" xlink:href=\"#m73869c5a4f\" y=\"45.185687\"/>\r\n     <use style=\"fill:#ff7f0e;stroke:#ff7f0e;\" x=\"144.160665\" xlink:href=\"#m73869c5a4f\" y=\"50.823895\"/>\r\n     <use style=\"fill:#ff7f0e;stroke:#ff7f0e;\" x=\"100.363201\" xlink:href=\"#m73869c5a4f\" y=\"69.655268\"/>\r\n     <use style=\"fill:#ff7f0e;stroke:#ff7f0e;\" x=\"141.650723\" xlink:href=\"#m73869c5a4f\" y=\"47.058262\"/>\r\n     <use style=\"fill:#ff7f0e;stroke:#ff7f0e;\" x=\"81.04237\" xlink:href=\"#m73869c5a4f\" y=\"46.765191\"/>\r\n     <use style=\"fill:#ff7f0e;stroke:#ff7f0e;\" x=\"97.479242\" xlink:href=\"#m73869c5a4f\" y=\"54.157028\"/>\r\n     <use style=\"fill:#ff7f0e;stroke:#ff7f0e;\" x=\"89.412041\" xlink:href=\"#m73869c5a4f\" y=\"37.177283\"/>\r\n     <use style=\"fill:#ff7f0e;stroke:#ff7f0e;\" x=\"79.050199\" xlink:href=\"#m73869c5a4f\" y=\"53.770962\"/>\r\n     <use style=\"fill:#ff7f0e;stroke:#ff7f0e;\" x=\"87.59863\" xlink:href=\"#m73869c5a4f\" y=\"62.026508\"/>\r\n     <use style=\"fill:#ff7f0e;stroke:#ff7f0e;\" x=\"136.572318\" xlink:href=\"#m73869c5a4f\" y=\"50.804027\"/>\r\n    </g>\r\n   </g>\r\n   <g id=\"PathCollection_3\">\r\n    <defs>\r\n     <path d=\"M 0 3 \r\nC 0.795609 3 1.55874 2.683901 2.12132 2.12132 \r\nC 2.683901 1.55874 3 0.795609 3 0 \r\nC 3 -0.795609 2.683901 -1.55874 2.12132 -2.12132 \r\nC 1.55874 -2.683901 0.795609 -3 0 -3 \r\nC -0.795609 -3 -1.55874 -2.683901 -2.12132 -2.12132 \r\nC -2.683901 -1.55874 -3 -0.795609 -3 0 \r\nC -3 0.795609 -2.683901 1.55874 -2.12132 2.12132 \r\nC -1.55874 2.683901 -0.795609 3 0 3 \r\nz\r\n\" id=\"mb48a6b94ff\" style=\"stroke:#2ca02c;\"/>\r\n    </defs>\r\n    <g clip-path=\"url(#p4abea0eb48)\">\r\n     <use style=\"fill:#2ca02c;stroke:#2ca02c;\" x=\"351.561123\" xlink:href=\"#mb48a6b94ff\" y=\"223.792824\"/>\r\n     <use style=\"fill:#2ca02c;stroke:#2ca02c;\" x=\"264.755028\" xlink:href=\"#mb48a6b94ff\" y=\"187.158607\"/>\r\n     <use style=\"fill:#2ca02c;stroke:#2ca02c;\" x=\"330.436698\" xlink:href=\"#mb48a6b94ff\" y=\"222.535838\"/>\r\n     <use style=\"fill:#2ca02c;stroke:#2ca02c;\" x=\"311.300788\" xlink:href=\"#mb48a6b94ff\" y=\"225.890724\"/>\r\n     <use style=\"fill:#2ca02c;stroke:#2ca02c;\" x=\"340.344984\" xlink:href=\"#mb48a6b94ff\" y=\"187.689881\"/>\r\n     <use style=\"fill:#2ca02c;stroke:#2ca02c;\" x=\"331.55516\" xlink:href=\"#mb48a6b94ff\" y=\"210.79442\"/>\r\n     <use style=\"fill:#2ca02c;stroke:#2ca02c;\" x=\"278.975152\" xlink:href=\"#mb48a6b94ff\" y=\"212.793746\"/>\r\n     <use style=\"fill:#2ca02c;stroke:#2ca02c;\" x=\"303.114131\" xlink:href=\"#mb48a6b94ff\" y=\"213.263756\"/>\r\n     <use style=\"fill:#2ca02c;stroke:#2ca02c;\" x=\"298.372997\" xlink:href=\"#mb48a6b94ff\" y=\"188.914428\"/>\r\n     <use style=\"fill:#2ca02c;stroke:#2ca02c;\" x=\"286.6235\" xlink:href=\"#mb48a6b94ff\" y=\"195.18555\"/>\r\n     <use style=\"fill:#2ca02c;stroke:#2ca02c;\" x=\"273.341876\" xlink:href=\"#mb48a6b94ff\" y=\"215.234593\"/>\r\n     <use style=\"fill:#2ca02c;stroke:#2ca02c;\" x=\"289.225871\" xlink:href=\"#mb48a6b94ff\" y=\"208.166653\"/>\r\n     <use style=\"fill:#2ca02c;stroke:#2ca02c;\" x=\"318.782828\" xlink:href=\"#mb48a6b94ff\" y=\"207.356168\"/>\r\n     <use style=\"fill:#2ca02c;stroke:#2ca02c;\" x=\"308.196497\" xlink:href=\"#mb48a6b94ff\" y=\"200.927386\"/>\r\n     <use style=\"fill:#2ca02c;stroke:#2ca02c;\" x=\"267.662623\" xlink:href=\"#mb48a6b94ff\" y=\"197.055375\"/>\r\n     <use style=\"fill:#2ca02c;stroke:#2ca02c;\" x=\"301.679401\" xlink:href=\"#mb48a6b94ff\" y=\"204.31751\"/>\r\n     <use style=\"fill:#2ca02c;stroke:#2ca02c;\" x=\"261.989707\" xlink:href=\"#mb48a6b94ff\" y=\"198.002067\"/>\r\n     <use style=\"fill:#2ca02c;stroke:#2ca02c;\" x=\"303.990318\" xlink:href=\"#mb48a6b94ff\" y=\"197.921458\"/>\r\n     <use style=\"fill:#2ca02c;stroke:#2ca02c;\" x=\"264.981498\" xlink:href=\"#mb48a6b94ff\" y=\"198.765278\"/>\r\n     <use style=\"fill:#2ca02c;stroke:#2ca02c;\" x=\"309.502313\" xlink:href=\"#mb48a6b94ff\" y=\"216.41397\"/>\r\n     <use style=\"fill:#2ca02c;stroke:#2ca02c;\" x=\"251.772917\" xlink:href=\"#mb48a6b94ff\" y=\"203.640864\"/>\r\n     <use style=\"fill:#2ca02c;stroke:#2ca02c;\" x=\"274.97931\" xlink:href=\"#mb48a6b94ff\" y=\"228.005924\"/>\r\n     <use style=\"fill:#2ca02c;stroke:#2ca02c;\" x=\"280.05838\" xlink:href=\"#mb48a6b94ff\" y=\"212.829229\"/>\r\n     <use style=\"fill:#2ca02c;stroke:#2ca02c;\" x=\"272.305147\" xlink:href=\"#mb48a6b94ff\" y=\"208.213622\"/>\r\n     <use style=\"fill:#2ca02c;stroke:#2ca02c;\" x=\"286.32692\" xlink:href=\"#mb48a6b94ff\" y=\"217.111227\"/>\r\n    </g>\r\n   </g>\r\n   <g id=\"PathCollection_4\">\r\n    <defs>\r\n     <path d=\"M 0 3 \r\nC 0.795609 3 1.55874 2.683901 2.12132 2.12132 \r\nC 2.683901 1.55874 3 0.795609 3 0 \r\nC 3 -0.795609 2.683901 -1.55874 2.12132 -2.12132 \r\nC 1.55874 -2.683901 0.795609 -3 0 -3 \r\nC -0.795609 -3 -1.55874 -2.683901 -2.12132 -2.12132 \r\nC -2.683901 -1.55874 -3 -0.795609 -3 0 \r\nC -3 0.795609 -2.683901 1.55874 -2.12132 2.12132 \r\nC -1.55874 2.683901 -0.795609 3 0 3 \r\nz\r\n\" id=\"mc2a47892f5\" style=\"stroke:#d62728;\"/>\r\n    </defs>\r\n    <g clip-path=\"url(#p4abea0eb48)\">\r\n     <use style=\"fill:#d62728;stroke:#d62728;\" x=\"70.127843\" xlink:href=\"#mc2a47892f5\" y=\"142.560616\"/>\r\n     <use style=\"fill:#d62728;stroke:#d62728;\" x=\"162.276362\" xlink:href=\"#mc2a47892f5\" y=\"153.307921\"/>\r\n     <use style=\"fill:#d62728;stroke:#d62728;\" x=\"75.436089\" xlink:href=\"#mc2a47892f5\" y=\"163.466024\"/>\r\n     <use style=\"fill:#d62728;stroke:#d62728;\" x=\"72.721272\" xlink:href=\"#mc2a47892f5\" y=\"157.818276\"/>\r\n     <use style=\"fill:#d62728;stroke:#d62728;\" x=\"91.792575\" xlink:href=\"#mc2a47892f5\" y=\"171.205055\"/>\r\n     <use style=\"fill:#d62728;stroke:#d62728;\" x=\"149.205413\" xlink:href=\"#mc2a47892f5\" y=\"147.34166\"/>\r\n     <use style=\"fill:#d62728;stroke:#d62728;\" x=\"112.030325\" xlink:href=\"#mc2a47892f5\" y=\"153.555825\"/>\r\n     <use style=\"fill:#d62728;stroke:#d62728;\" x=\"73.435917\" xlink:href=\"#mc2a47892f5\" y=\"173.01886\"/>\r\n     <use style=\"fill:#d62728;stroke:#d62728;\" x=\"99.32284\" xlink:href=\"#mc2a47892f5\" y=\"156.752186\"/>\r\n     <use style=\"fill:#d62728;stroke:#d62728;\" x=\"68.662368\" xlink:href=\"#mc2a47892f5\" y=\"151.387526\"/>\r\n     <use style=\"fill:#d62728;stroke:#d62728;\" x=\"74.861357\" xlink:href=\"#mc2a47892f5\" y=\"165.485794\"/>\r\n     <use style=\"fill:#d62728;stroke:#d62728;\" x=\"76.529207\" xlink:href=\"#mc2a47892f5\" y=\"156.291369\"/>\r\n     <use style=\"fill:#d62728;stroke:#d62728;\" x=\"110.965553\" xlink:href=\"#mc2a47892f5\" y=\"166.138747\"/>\r\n     <use style=\"fill:#d62728;stroke:#d62728;\" x=\"82.229394\" xlink:href=\"#mc2a47892f5\" y=\"143.237355\"/>\r\n     <use style=\"fill:#d62728;stroke:#d62728;\" x=\"126.588258\" xlink:href=\"#mc2a47892f5\" y=\"175.840326\"/>\r\n     <use style=\"fill:#d62728;stroke:#d62728;\" x=\"57.213705\" xlink:href=\"#mc2a47892f5\" y=\"168.957908\"/>\r\n     <use style=\"fill:#d62728;stroke:#d62728;\" x=\"105.836497\" xlink:href=\"#mc2a47892f5\" y=\"175.986467\"/>\r\n     <use style=\"fill:#d62728;stroke:#d62728;\" x=\"147.63239\" xlink:href=\"#mc2a47892f5\" y=\"153.735714\"/>\r\n     <use style=\"fill:#d62728;stroke:#d62728;\" x=\"86.976892\" xlink:href=\"#mc2a47892f5\" y=\"154.888688\"/>\r\n     <use style=\"fill:#d62728;stroke:#d62728;\" x=\"103.059618\" xlink:href=\"#mc2a47892f5\" y=\"149.057169\"/>\r\n     <use style=\"fill:#d62728;stroke:#d62728;\" x=\"121.49329\" xlink:href=\"#mc2a47892f5\" y=\"165.545626\"/>\r\n     <use style=\"fill:#d62728;stroke:#d62728;\" x=\"105.280341\" xlink:href=\"#mc2a47892f5\" y=\"176.057026\"/>\r\n     <use style=\"fill:#d62728;stroke:#d62728;\" x=\"113.683793\" xlink:href=\"#mc2a47892f5\" y=\"159.285116\"/>\r\n     <use style=\"fill:#d62728;stroke:#d62728;\" x=\"52.233306\" xlink:href=\"#mc2a47892f5\" y=\"158.929725\"/>\r\n     <use style=\"fill:#d62728;stroke:#d62728;\" x=\"92.650644\" xlink:href=\"#mc2a47892f5\" y=\"144.750203\"/>\r\n    </g>\r\n   </g>\r\n   <g id=\"PathCollection_5\">\r\n    <defs>\r\n     <path d=\"M -3 3 \r\nL 3 -3 \r\nM -3 -3 \r\nL 3 3 \r\n\" id=\"mc4a5267f85\" style=\"stroke:#9467bd;stroke-width:1.5;\"/>\r\n    </defs>\r\n    <g clip-path=\"url(#p4abea0eb48)\">\r\n     <use style=\"fill:#9467bd;stroke:#9467bd;stroke-width:1.5;\" x=\"233.914285\" xlink:href=\"#mc4a5267f85\" y=\"132.50227\"/>\r\n     <use style=\"fill:#9467bd;stroke:#9467bd;stroke-width:1.5;\" x=\"109.289305\" xlink:href=\"#mc4a5267f85\" y=\"55.947165\"/>\r\n     <use style=\"fill:#9467bd;stroke:#9467bd;stroke-width:1.5;\" x=\"294.473407\" xlink:href=\"#mc4a5267f85\" y=\"207.279244\"/>\r\n     <use style=\"fill:#9467bd;stroke:#9467bd;stroke-width:1.5;\" x=\"97.28981\" xlink:href=\"#mc4a5267f85\" y=\"159.384047\"/>\r\n    </g>\r\n   </g>\r\n   <g id=\"matplotlib.axis_1\">\r\n    <g id=\"xtick_1\">\r\n     <g id=\"line2d_1\">\r\n      <defs>\r\n       <path d=\"M 0 0 \r\nL 0 3.5 \r\n\" id=\"m99c123c24a\" style=\"stroke:#000000;stroke-width:0.8;\"/>\r\n      </defs>\r\n      <g>\r\n       <use style=\"stroke:#000000;stroke-width:0.8;\" x=\"67.714581\" xlink:href=\"#m99c123c24a\" y=\"239.758125\"/>\r\n      </g>\r\n     </g>\r\n     <g id=\"text_1\">\r\n      <!-- −2 -->\r\n      <defs>\r\n       <path d=\"M 10.59375 35.5 \r\nL 73.1875 35.5 \r\nL 73.1875 27.203125 \r\nL 10.59375 27.203125 \r\nz\r\n\" id=\"DejaVuSans-8722\"/>\r\n       <path d=\"M 19.1875 8.296875 \r\nL 53.609375 8.296875 \r\nL 53.609375 0 \r\nL 7.328125 0 \r\nL 7.328125 8.296875 \r\nQ 12.9375 14.109375 22.625 23.890625 \r\nQ 32.328125 33.6875 34.8125 36.53125 \r\nQ 39.546875 41.84375 41.421875 45.53125 \r\nQ 43.3125 49.21875 43.3125 52.78125 \r\nQ 43.3125 58.59375 39.234375 62.25 \r\nQ 35.15625 65.921875 28.609375 65.921875 \r\nQ 23.96875 65.921875 18.8125 64.3125 \r\nQ 13.671875 62.703125 7.8125 59.421875 \r\nL 7.8125 69.390625 \r\nQ 13.765625 71.78125 18.9375 73 \r\nQ 24.125 74.21875 28.421875 74.21875 \r\nQ 39.75 74.21875 46.484375 68.546875 \r\nQ 53.21875 62.890625 53.21875 53.421875 \r\nQ 53.21875 48.921875 51.53125 44.890625 \r\nQ 49.859375 40.875 45.40625 35.40625 \r\nQ 44.1875 33.984375 37.640625 27.21875 \r\nQ 31.109375 20.453125 19.1875 8.296875 \r\nz\r\n\" id=\"DejaVuSans-50\"/>\r\n      </defs>\r\n      <g transform=\"translate(60.343487 254.356562)scale(0.1 -0.1)\">\r\n       <use xlink:href=\"#DejaVuSans-8722\"/>\r\n       <use x=\"83.789062\" xlink:href=\"#DejaVuSans-50\"/>\r\n      </g>\r\n     </g>\r\n    </g>\r\n    <g id=\"xtick_2\">\r\n     <g id=\"line2d_2\">\r\n      <g>\r\n       <use style=\"stroke:#000000;stroke-width:0.8;\" x=\"124.519757\" xlink:href=\"#m99c123c24a\" y=\"239.758125\"/>\r\n      </g>\r\n     </g>\r\n     <g id=\"text_2\">\r\n      <!-- −1 -->\r\n      <defs>\r\n       <path d=\"M 12.40625 8.296875 \r\nL 28.515625 8.296875 \r\nL 28.515625 63.921875 \r\nL 10.984375 60.40625 \r\nL 10.984375 69.390625 \r\nL 28.421875 72.90625 \r\nL 38.28125 72.90625 \r\nL 38.28125 8.296875 \r\nL 54.390625 8.296875 \r\nL 54.390625 0 \r\nL 12.40625 0 \r\nz\r\n\" id=\"DejaVuSans-49\"/>\r\n      </defs>\r\n      <g transform=\"translate(117.148664 254.356562)scale(0.1 -0.1)\">\r\n       <use xlink:href=\"#DejaVuSans-8722\"/>\r\n       <use x=\"83.789062\" xlink:href=\"#DejaVuSans-49\"/>\r\n      </g>\r\n     </g>\r\n    </g>\r\n    <g id=\"xtick_3\">\r\n     <g id=\"line2d_3\">\r\n      <g>\r\n       <use style=\"stroke:#000000;stroke-width:0.8;\" x=\"181.324934\" xlink:href=\"#m99c123c24a\" y=\"239.758125\"/>\r\n      </g>\r\n     </g>\r\n     <g id=\"text_3\">\r\n      <!-- 0 -->\r\n      <defs>\r\n       <path d=\"M 31.78125 66.40625 \r\nQ 24.171875 66.40625 20.328125 58.90625 \r\nQ 16.5 51.421875 16.5 36.375 \r\nQ 16.5 21.390625 20.328125 13.890625 \r\nQ 24.171875 6.390625 31.78125 6.390625 \r\nQ 39.453125 6.390625 43.28125 13.890625 \r\nQ 47.125 21.390625 47.125 36.375 \r\nQ 47.125 51.421875 43.28125 58.90625 \r\nQ 39.453125 66.40625 31.78125 66.40625 \r\nz\r\nM 31.78125 74.21875 \r\nQ 44.046875 74.21875 50.515625 64.515625 \r\nQ 56.984375 54.828125 56.984375 36.375 \r\nQ 56.984375 17.96875 50.515625 8.265625 \r\nQ 44.046875 -1.421875 31.78125 -1.421875 \r\nQ 19.53125 -1.421875 13.0625 8.265625 \r\nQ 6.59375 17.96875 6.59375 36.375 \r\nQ 6.59375 54.828125 13.0625 64.515625 \r\nQ 19.53125 74.21875 31.78125 74.21875 \r\nz\r\n\" id=\"DejaVuSans-48\"/>\r\n      </defs>\r\n      <g transform=\"translate(178.143684 254.356562)scale(0.1 -0.1)\">\r\n       <use xlink:href=\"#DejaVuSans-48\"/>\r\n      </g>\r\n     </g>\r\n    </g>\r\n    <g id=\"xtick_4\">\r\n     <g id=\"line2d_4\">\r\n      <g>\r\n       <use style=\"stroke:#000000;stroke-width:0.8;\" x=\"238.130111\" xlink:href=\"#m99c123c24a\" y=\"239.758125\"/>\r\n      </g>\r\n     </g>\r\n     <g id=\"text_4\">\r\n      <!-- 1 -->\r\n      <g transform=\"translate(234.948861 254.356562)scale(0.1 -0.1)\">\r\n       <use xlink:href=\"#DejaVuSans-49\"/>\r\n      </g>\r\n     </g>\r\n    </g>\r\n    <g id=\"xtick_5\">\r\n     <g id=\"line2d_5\">\r\n      <g>\r\n       <use style=\"stroke:#000000;stroke-width:0.8;\" x=\"294.935288\" xlink:href=\"#m99c123c24a\" y=\"239.758125\"/>\r\n      </g>\r\n     </g>\r\n     <g id=\"text_5\">\r\n      <!-- 2 -->\r\n      <g transform=\"translate(291.754038 254.356562)scale(0.1 -0.1)\">\r\n       <use xlink:href=\"#DejaVuSans-50\"/>\r\n      </g>\r\n     </g>\r\n    </g>\r\n    <g id=\"xtick_6\">\r\n     <g id=\"line2d_6\">\r\n      <g>\r\n       <use style=\"stroke:#000000;stroke-width:0.8;\" x=\"351.740465\" xlink:href=\"#m99c123c24a\" y=\"239.758125\"/>\r\n      </g>\r\n     </g>\r\n     <g id=\"text_6\">\r\n      <!-- 3 -->\r\n      <defs>\r\n       <path d=\"M 40.578125 39.3125 \r\nQ 47.65625 37.796875 51.625 33 \r\nQ 55.609375 28.21875 55.609375 21.1875 \r\nQ 55.609375 10.40625 48.1875 4.484375 \r\nQ 40.765625 -1.421875 27.09375 -1.421875 \r\nQ 22.515625 -1.421875 17.65625 -0.515625 \r\nQ 12.796875 0.390625 7.625 2.203125 \r\nL 7.625 11.71875 \r\nQ 11.71875 9.328125 16.59375 8.109375 \r\nQ 21.484375 6.890625 26.8125 6.890625 \r\nQ 36.078125 6.890625 40.9375 10.546875 \r\nQ 45.796875 14.203125 45.796875 21.1875 \r\nQ 45.796875 27.640625 41.28125 31.265625 \r\nQ 36.765625 34.90625 28.71875 34.90625 \r\nL 20.21875 34.90625 \r\nL 20.21875 43.015625 \r\nL 29.109375 43.015625 \r\nQ 36.375 43.015625 40.234375 45.921875 \r\nQ 44.09375 48.828125 44.09375 54.296875 \r\nQ 44.09375 59.90625 40.109375 62.90625 \r\nQ 36.140625 65.921875 28.71875 65.921875 \r\nQ 24.65625 65.921875 20.015625 65.03125 \r\nQ 15.375 64.15625 9.8125 62.3125 \r\nL 9.8125 71.09375 \r\nQ 15.4375 72.65625 20.34375 73.4375 \r\nQ 25.25 74.21875 29.59375 74.21875 \r\nQ 40.828125 74.21875 47.359375 69.109375 \r\nQ 53.90625 64.015625 53.90625 55.328125 \r\nQ 53.90625 49.265625 50.4375 45.09375 \r\nQ 46.96875 40.921875 40.578125 39.3125 \r\nz\r\n\" id=\"DejaVuSans-51\"/>\r\n      </defs>\r\n      <g transform=\"translate(348.559215 254.356562)scale(0.1 -0.1)\">\r\n       <use xlink:href=\"#DejaVuSans-51\"/>\r\n      </g>\r\n     </g>\r\n    </g>\r\n    <g id=\"text_7\">\r\n     <!-- Feature 1 -->\r\n     <defs>\r\n      <path d=\"M 9.8125 72.90625 \r\nL 51.703125 72.90625 \r\nL 51.703125 64.59375 \r\nL 19.671875 64.59375 \r\nL 19.671875 43.109375 \r\nL 48.578125 43.109375 \r\nL 48.578125 34.8125 \r\nL 19.671875 34.8125 \r\nL 19.671875 0 \r\nL 9.8125 0 \r\nz\r\n\" id=\"DejaVuSans-70\"/>\r\n      <path d=\"M 56.203125 29.59375 \r\nL 56.203125 25.203125 \r\nL 14.890625 25.203125 \r\nQ 15.484375 15.921875 20.484375 11.0625 \r\nQ 25.484375 6.203125 34.421875 6.203125 \r\nQ 39.59375 6.203125 44.453125 7.46875 \r\nQ 49.3125 8.734375 54.109375 11.28125 \r\nL 54.109375 2.78125 \r\nQ 49.265625 0.734375 44.1875 -0.34375 \r\nQ 39.109375 -1.421875 33.890625 -1.421875 \r\nQ 20.796875 -1.421875 13.15625 6.1875 \r\nQ 5.515625 13.8125 5.515625 26.8125 \r\nQ 5.515625 40.234375 12.765625 48.109375 \r\nQ 20.015625 56 32.328125 56 \r\nQ 43.359375 56 49.78125 48.890625 \r\nQ 56.203125 41.796875 56.203125 29.59375 \r\nz\r\nM 47.21875 32.234375 \r\nQ 47.125 39.59375 43.09375 43.984375 \r\nQ 39.0625 48.390625 32.421875 48.390625 \r\nQ 24.90625 48.390625 20.390625 44.140625 \r\nQ 15.875 39.890625 15.1875 32.171875 \r\nz\r\n\" id=\"DejaVuSans-101\"/>\r\n      <path d=\"M 34.28125 27.484375 \r\nQ 23.390625 27.484375 19.1875 25 \r\nQ 14.984375 22.515625 14.984375 16.5 \r\nQ 14.984375 11.71875 18.140625 8.90625 \r\nQ 21.296875 6.109375 26.703125 6.109375 \r\nQ 34.1875 6.109375 38.703125 11.40625 \r\nQ 43.21875 16.703125 43.21875 25.484375 \r\nL 43.21875 27.484375 \r\nz\r\nM 52.203125 31.203125 \r\nL 52.203125 0 \r\nL 43.21875 0 \r\nL 43.21875 8.296875 \r\nQ 40.140625 3.328125 35.546875 0.953125 \r\nQ 30.953125 -1.421875 24.3125 -1.421875 \r\nQ 15.921875 -1.421875 10.953125 3.296875 \r\nQ 6 8.015625 6 15.921875 \r\nQ 6 25.140625 12.171875 29.828125 \r\nQ 18.359375 34.515625 30.609375 34.515625 \r\nL 43.21875 34.515625 \r\nL 43.21875 35.40625 \r\nQ 43.21875 41.609375 39.140625 45 \r\nQ 35.0625 48.390625 27.6875 48.390625 \r\nQ 23 48.390625 18.546875 47.265625 \r\nQ 14.109375 46.140625 10.015625 43.890625 \r\nL 10.015625 52.203125 \r\nQ 14.9375 54.109375 19.578125 55.046875 \r\nQ 24.21875 56 28.609375 56 \r\nQ 40.484375 56 46.34375 49.84375 \r\nQ 52.203125 43.703125 52.203125 31.203125 \r\nz\r\n\" id=\"DejaVuSans-97\"/>\r\n      <path d=\"M 18.3125 70.21875 \r\nL 18.3125 54.6875 \r\nL 36.8125 54.6875 \r\nL 36.8125 47.703125 \r\nL 18.3125 47.703125 \r\nL 18.3125 18.015625 \r\nQ 18.3125 11.328125 20.140625 9.421875 \r\nQ 21.96875 7.515625 27.59375 7.515625 \r\nL 36.8125 7.515625 \r\nL 36.8125 0 \r\nL 27.59375 0 \r\nQ 17.1875 0 13.234375 3.875 \r\nQ 9.28125 7.765625 9.28125 18.015625 \r\nL 9.28125 47.703125 \r\nL 2.6875 47.703125 \r\nL 2.6875 54.6875 \r\nL 9.28125 54.6875 \r\nL 9.28125 70.21875 \r\nz\r\n\" id=\"DejaVuSans-116\"/>\r\n      <path d=\"M 8.5 21.578125 \r\nL 8.5 54.6875 \r\nL 17.484375 54.6875 \r\nL 17.484375 21.921875 \r\nQ 17.484375 14.15625 20.5 10.265625 \r\nQ 23.53125 6.390625 29.59375 6.390625 \r\nQ 36.859375 6.390625 41.078125 11.03125 \r\nQ 45.3125 15.671875 45.3125 23.6875 \r\nL 45.3125 54.6875 \r\nL 54.296875 54.6875 \r\nL 54.296875 0 \r\nL 45.3125 0 \r\nL 45.3125 8.40625 \r\nQ 42.046875 3.421875 37.71875 1 \r\nQ 33.40625 -1.421875 27.6875 -1.421875 \r\nQ 18.265625 -1.421875 13.375 4.4375 \r\nQ 8.5 10.296875 8.5 21.578125 \r\nz\r\nM 31.109375 56 \r\nz\r\n\" id=\"DejaVuSans-117\"/>\r\n      <path d=\"M 41.109375 46.296875 \r\nQ 39.59375 47.171875 37.8125 47.578125 \r\nQ 36.03125 48 33.890625 48 \r\nQ 26.265625 48 22.1875 43.046875 \r\nQ 18.109375 38.09375 18.109375 28.8125 \r\nL 18.109375 0 \r\nL 9.078125 0 \r\nL 9.078125 54.6875 \r\nL 18.109375 54.6875 \r\nL 18.109375 46.1875 \r\nQ 20.953125 51.171875 25.484375 53.578125 \r\nQ 30.03125 56 36.53125 56 \r\nQ 37.453125 56 38.578125 55.875 \r\nQ 39.703125 55.765625 41.0625 55.515625 \r\nz\r\n\" id=\"DejaVuSans-114\"/>\r\n      <path id=\"DejaVuSans-32\"/>\r\n     </defs>\r\n     <g transform=\"translate(177.598438 268.034687)scale(0.1 -0.1)\">\r\n      <use xlink:href=\"#DejaVuSans-70\"/>\r\n      <use x=\"57.441406\" xlink:href=\"#DejaVuSans-101\"/>\r\n      <use x=\"118.964844\" xlink:href=\"#DejaVuSans-97\"/>\r\n      <use x=\"180.244141\" xlink:href=\"#DejaVuSans-116\"/>\r\n      <use x=\"219.453125\" xlink:href=\"#DejaVuSans-117\"/>\r\n      <use x=\"282.832031\" xlink:href=\"#DejaVuSans-114\"/>\r\n      <use x=\"323.914062\" xlink:href=\"#DejaVuSans-101\"/>\r\n      <use x=\"385.4375\" xlink:href=\"#DejaVuSans-32\"/>\r\n      <use x=\"417.224609\" xlink:href=\"#DejaVuSans-49\"/>\r\n     </g>\r\n    </g>\r\n   </g>\r\n   <g id=\"matplotlib.axis_2\">\r\n    <g id=\"ytick_1\">\r\n     <g id=\"line2d_7\">\r\n      <defs>\r\n       <path d=\"M 0 0 \r\nL -3.5 0 \r\n\" id=\"macab201a57\" style=\"stroke:#000000;stroke-width:0.8;\"/>\r\n      </defs>\r\n      <g>\r\n       <use style=\"stroke:#000000;stroke-width:0.8;\" x=\"34.240625\" xlink:href=\"#macab201a57\" y=\"228.774416\"/>\r\n      </g>\r\n     </g>\r\n     <g id=\"text_8\">\r\n      <!-- 0 -->\r\n      <g transform=\"translate(20.878125 232.573635)scale(0.1 -0.1)\">\r\n       <use xlink:href=\"#DejaVuSans-48\"/>\r\n      </g>\r\n     </g>\r\n    </g>\r\n    <g id=\"ytick_2\">\r\n     <g id=\"line2d_8\">\r\n      <g>\r\n       <use style=\"stroke:#000000;stroke-width:0.8;\" x=\"34.240625\" xlink:href=\"#macab201a57\" y=\"184.253012\"/>\r\n      </g>\r\n     </g>\r\n     <g id=\"text_9\">\r\n      <!-- 2 -->\r\n      <g transform=\"translate(20.878125 188.052231)scale(0.1 -0.1)\">\r\n       <use xlink:href=\"#DejaVuSans-50\"/>\r\n      </g>\r\n     </g>\r\n    </g>\r\n    <g id=\"ytick_3\">\r\n     <g id=\"line2d_9\">\r\n      <g>\r\n       <use style=\"stroke:#000000;stroke-width:0.8;\" x=\"34.240625\" xlink:href=\"#macab201a57\" y=\"139.731609\"/>\r\n      </g>\r\n     </g>\r\n     <g id=\"text_10\">\r\n      <!-- 4 -->\r\n      <defs>\r\n       <path d=\"M 37.796875 64.3125 \r\nL 12.890625 25.390625 \r\nL 37.796875 25.390625 \r\nz\r\nM 35.203125 72.90625 \r\nL 47.609375 72.90625 \r\nL 47.609375 25.390625 \r\nL 58.015625 25.390625 \r\nL 58.015625 17.1875 \r\nL 47.609375 17.1875 \r\nL 47.609375 0 \r\nL 37.796875 0 \r\nL 37.796875 17.1875 \r\nL 4.890625 17.1875 \r\nL 4.890625 26.703125 \r\nz\r\n\" id=\"DejaVuSans-52\"/>\r\n      </defs>\r\n      <g transform=\"translate(20.878125 143.530828)scale(0.1 -0.1)\">\r\n       <use xlink:href=\"#DejaVuSans-52\"/>\r\n      </g>\r\n     </g>\r\n    </g>\r\n    <g id=\"ytick_4\">\r\n     <g id=\"line2d_10\">\r\n      <g>\r\n       <use style=\"stroke:#000000;stroke-width:0.8;\" x=\"34.240625\" xlink:href=\"#macab201a57\" y=\"95.210205\"/>\r\n      </g>\r\n     </g>\r\n     <g id=\"text_11\">\r\n      <!-- 6 -->\r\n      <defs>\r\n       <path d=\"M 33.015625 40.375 \r\nQ 26.375 40.375 22.484375 35.828125 \r\nQ 18.609375 31.296875 18.609375 23.390625 \r\nQ 18.609375 15.53125 22.484375 10.953125 \r\nQ 26.375 6.390625 33.015625 6.390625 \r\nQ 39.65625 6.390625 43.53125 10.953125 \r\nQ 47.40625 15.53125 47.40625 23.390625 \r\nQ 47.40625 31.296875 43.53125 35.828125 \r\nQ 39.65625 40.375 33.015625 40.375 \r\nz\r\nM 52.59375 71.296875 \r\nL 52.59375 62.3125 \r\nQ 48.875 64.0625 45.09375 64.984375 \r\nQ 41.3125 65.921875 37.59375 65.921875 \r\nQ 27.828125 65.921875 22.671875 59.328125 \r\nQ 17.53125 52.734375 16.796875 39.40625 \r\nQ 19.671875 43.65625 24.015625 45.921875 \r\nQ 28.375 48.1875 33.59375 48.1875 \r\nQ 44.578125 48.1875 50.953125 41.515625 \r\nQ 57.328125 34.859375 57.328125 23.390625 \r\nQ 57.328125 12.15625 50.6875 5.359375 \r\nQ 44.046875 -1.421875 33.015625 -1.421875 \r\nQ 20.359375 -1.421875 13.671875 8.265625 \r\nQ 6.984375 17.96875 6.984375 36.375 \r\nQ 6.984375 53.65625 15.1875 63.9375 \r\nQ 23.390625 74.21875 37.203125 74.21875 \r\nQ 40.921875 74.21875 44.703125 73.484375 \r\nQ 48.484375 72.75 52.59375 71.296875 \r\nz\r\n\" id=\"DejaVuSans-54\"/>\r\n      </defs>\r\n      <g transform=\"translate(20.878125 99.009424)scale(0.1 -0.1)\">\r\n       <use xlink:href=\"#DejaVuSans-54\"/>\r\n      </g>\r\n     </g>\r\n    </g>\r\n    <g id=\"ytick_5\">\r\n     <g id=\"line2d_11\">\r\n      <g>\r\n       <use style=\"stroke:#000000;stroke-width:0.8;\" x=\"34.240625\" xlink:href=\"#macab201a57\" y=\"50.688802\"/>\r\n      </g>\r\n     </g>\r\n     <g id=\"text_12\">\r\n      <!-- 8 -->\r\n      <defs>\r\n       <path d=\"M 31.78125 34.625 \r\nQ 24.75 34.625 20.71875 30.859375 \r\nQ 16.703125 27.09375 16.703125 20.515625 \r\nQ 16.703125 13.921875 20.71875 10.15625 \r\nQ 24.75 6.390625 31.78125 6.390625 \r\nQ 38.8125 6.390625 42.859375 10.171875 \r\nQ 46.921875 13.96875 46.921875 20.515625 \r\nQ 46.921875 27.09375 42.890625 30.859375 \r\nQ 38.875 34.625 31.78125 34.625 \r\nz\r\nM 21.921875 38.8125 \r\nQ 15.578125 40.375 12.03125 44.71875 \r\nQ 8.5 49.078125 8.5 55.328125 \r\nQ 8.5 64.0625 14.71875 69.140625 \r\nQ 20.953125 74.21875 31.78125 74.21875 \r\nQ 42.671875 74.21875 48.875 69.140625 \r\nQ 55.078125 64.0625 55.078125 55.328125 \r\nQ 55.078125 49.078125 51.53125 44.71875 \r\nQ 48 40.375 41.703125 38.8125 \r\nQ 48.828125 37.15625 52.796875 32.3125 \r\nQ 56.78125 27.484375 56.78125 20.515625 \r\nQ 56.78125 9.90625 50.3125 4.234375 \r\nQ 43.84375 -1.421875 31.78125 -1.421875 \r\nQ 19.734375 -1.421875 13.25 4.234375 \r\nQ 6.78125 9.90625 6.78125 20.515625 \r\nQ 6.78125 27.484375 10.78125 32.3125 \r\nQ 14.796875 37.15625 21.921875 38.8125 \r\nz\r\nM 18.3125 54.390625 \r\nQ 18.3125 48.734375 21.84375 45.5625 \r\nQ 25.390625 42.390625 31.78125 42.390625 \r\nQ 38.140625 42.390625 41.71875 45.5625 \r\nQ 45.3125 48.734375 45.3125 54.390625 \r\nQ 45.3125 60.0625 41.71875 63.234375 \r\nQ 38.140625 66.40625 31.78125 66.40625 \r\nQ 25.390625 66.40625 21.84375 63.234375 \r\nQ 18.3125 60.0625 18.3125 54.390625 \r\nz\r\n\" id=\"DejaVuSans-56\"/>\r\n      </defs>\r\n      <g transform=\"translate(20.878125 54.48802)scale(0.1 -0.1)\">\r\n       <use xlink:href=\"#DejaVuSans-56\"/>\r\n      </g>\r\n     </g>\r\n    </g>\r\n    <g id=\"text_13\">\r\n     <!-- Feature 2 -->\r\n     <g transform=\"translate(14.798437 155.080312)rotate(-90)scale(0.1 -0.1)\">\r\n      <use xlink:href=\"#DejaVuSans-70\"/>\r\n      <use x=\"57.441406\" xlink:href=\"#DejaVuSans-101\"/>\r\n      <use x=\"118.964844\" xlink:href=\"#DejaVuSans-97\"/>\r\n      <use x=\"180.244141\" xlink:href=\"#DejaVuSans-116\"/>\r\n      <use x=\"219.453125\" xlink:href=\"#DejaVuSans-117\"/>\r\n      <use x=\"282.832031\" xlink:href=\"#DejaVuSans-114\"/>\r\n      <use x=\"323.914062\" xlink:href=\"#DejaVuSans-101\"/>\r\n      <use x=\"385.4375\" xlink:href=\"#DejaVuSans-32\"/>\r\n      <use x=\"417.224609\" xlink:href=\"#DejaVuSans-50\"/>\r\n     </g>\r\n    </g>\r\n   </g>\r\n   <g id=\"patch_3\">\r\n    <path d=\"M 34.240625 239.758125 \r\nL 34.240625 22.318125 \r\n\" style=\"fill:none;stroke:#000000;stroke-linecap:square;stroke-linejoin:miter;stroke-width:0.8;\"/>\r\n   </g>\r\n   <g id=\"patch_4\">\r\n    <path d=\"M 369.040625 239.758125 \r\nL 369.040625 22.318125 \r\n\" style=\"fill:none;stroke:#000000;stroke-linecap:square;stroke-linejoin:miter;stroke-width:0.8;\"/>\r\n   </g>\r\n   <g id=\"patch_5\">\r\n    <path d=\"M 34.240625 239.758125 \r\nL 369.040625 239.758125 \r\n\" style=\"fill:none;stroke:#000000;stroke-linecap:square;stroke-linejoin:miter;stroke-width:0.8;\"/>\r\n   </g>\r\n   <g id=\"patch_6\">\r\n    <path d=\"M 34.240625 22.318125 \r\nL 369.040625 22.318125 \r\n\" style=\"fill:none;stroke:#000000;stroke-linecap:square;stroke-linejoin:miter;stroke-width:0.8;\"/>\r\n   </g>\r\n   <g id=\"text_14\">\r\n    <!-- K-means clustering -->\r\n    <defs>\r\n     <path d=\"M 9.8125 72.90625 \r\nL 19.671875 72.90625 \r\nL 19.671875 42.09375 \r\nL 52.390625 72.90625 \r\nL 65.09375 72.90625 \r\nL 28.90625 38.921875 \r\nL 67.671875 0 \r\nL 54.6875 0 \r\nL 19.671875 35.109375 \r\nL 19.671875 0 \r\nL 9.8125 0 \r\nz\r\n\" id=\"DejaVuSans-75\"/>\r\n     <path d=\"M 4.890625 31.390625 \r\nL 31.203125 31.390625 \r\nL 31.203125 23.390625 \r\nL 4.890625 23.390625 \r\nz\r\n\" id=\"DejaVuSans-45\"/>\r\n     <path d=\"M 52 44.1875 \r\nQ 55.375 50.25 60.0625 53.125 \r\nQ 64.75 56 71.09375 56 \r\nQ 79.640625 56 84.28125 50.015625 \r\nQ 88.921875 44.046875 88.921875 33.015625 \r\nL 88.921875 0 \r\nL 79.890625 0 \r\nL 79.890625 32.71875 \r\nQ 79.890625 40.578125 77.09375 44.375 \r\nQ 74.3125 48.1875 68.609375 48.1875 \r\nQ 61.625 48.1875 57.5625 43.546875 \r\nQ 53.515625 38.921875 53.515625 30.90625 \r\nL 53.515625 0 \r\nL 44.484375 0 \r\nL 44.484375 32.71875 \r\nQ 44.484375 40.625 41.703125 44.40625 \r\nQ 38.921875 48.1875 33.109375 48.1875 \r\nQ 26.21875 48.1875 22.15625 43.53125 \r\nQ 18.109375 38.875 18.109375 30.90625 \r\nL 18.109375 0 \r\nL 9.078125 0 \r\nL 9.078125 54.6875 \r\nL 18.109375 54.6875 \r\nL 18.109375 46.1875 \r\nQ 21.1875 51.21875 25.484375 53.609375 \r\nQ 29.78125 56 35.6875 56 \r\nQ 41.65625 56 45.828125 52.96875 \r\nQ 50 49.953125 52 44.1875 \r\nz\r\n\" id=\"DejaVuSans-109\"/>\r\n     <path d=\"M 54.890625 33.015625 \r\nL 54.890625 0 \r\nL 45.90625 0 \r\nL 45.90625 32.71875 \r\nQ 45.90625 40.484375 42.875 44.328125 \r\nQ 39.84375 48.1875 33.796875 48.1875 \r\nQ 26.515625 48.1875 22.3125 43.546875 \r\nQ 18.109375 38.921875 18.109375 30.90625 \r\nL 18.109375 0 \r\nL 9.078125 0 \r\nL 9.078125 54.6875 \r\nL 18.109375 54.6875 \r\nL 18.109375 46.1875 \r\nQ 21.34375 51.125 25.703125 53.5625 \r\nQ 30.078125 56 35.796875 56 \r\nQ 45.21875 56 50.046875 50.171875 \r\nQ 54.890625 44.34375 54.890625 33.015625 \r\nz\r\n\" id=\"DejaVuSans-110\"/>\r\n     <path d=\"M 44.28125 53.078125 \r\nL 44.28125 44.578125 \r\nQ 40.484375 46.53125 36.375 47.5 \r\nQ 32.28125 48.484375 27.875 48.484375 \r\nQ 21.1875 48.484375 17.84375 46.4375 \r\nQ 14.5 44.390625 14.5 40.28125 \r\nQ 14.5 37.15625 16.890625 35.375 \r\nQ 19.28125 33.59375 26.515625 31.984375 \r\nL 29.59375 31.296875 \r\nQ 39.15625 29.25 43.1875 25.515625 \r\nQ 47.21875 21.78125 47.21875 15.09375 \r\nQ 47.21875 7.46875 41.1875 3.015625 \r\nQ 35.15625 -1.421875 24.609375 -1.421875 \r\nQ 20.21875 -1.421875 15.453125 -0.5625 \r\nQ 10.6875 0.296875 5.421875 2 \r\nL 5.421875 11.28125 \r\nQ 10.40625 8.6875 15.234375 7.390625 \r\nQ 20.0625 6.109375 24.8125 6.109375 \r\nQ 31.15625 6.109375 34.5625 8.28125 \r\nQ 37.984375 10.453125 37.984375 14.40625 \r\nQ 37.984375 18.0625 35.515625 20.015625 \r\nQ 33.0625 21.96875 24.703125 23.78125 \r\nL 21.578125 24.515625 \r\nQ 13.234375 26.265625 9.515625 29.90625 \r\nQ 5.8125 33.546875 5.8125 39.890625 \r\nQ 5.8125 47.609375 11.28125 51.796875 \r\nQ 16.75 56 26.8125 56 \r\nQ 31.78125 56 36.171875 55.265625 \r\nQ 40.578125 54.546875 44.28125 53.078125 \r\nz\r\n\" id=\"DejaVuSans-115\"/>\r\n     <path d=\"M 48.78125 52.59375 \r\nL 48.78125 44.1875 \r\nQ 44.96875 46.296875 41.140625 47.34375 \r\nQ 37.3125 48.390625 33.40625 48.390625 \r\nQ 24.65625 48.390625 19.8125 42.84375 \r\nQ 14.984375 37.3125 14.984375 27.296875 \r\nQ 14.984375 17.28125 19.8125 11.734375 \r\nQ 24.65625 6.203125 33.40625 6.203125 \r\nQ 37.3125 6.203125 41.140625 7.25 \r\nQ 44.96875 8.296875 48.78125 10.40625 \r\nL 48.78125 2.09375 \r\nQ 45.015625 0.34375 40.984375 -0.53125 \r\nQ 36.96875 -1.421875 32.421875 -1.421875 \r\nQ 20.0625 -1.421875 12.78125 6.34375 \r\nQ 5.515625 14.109375 5.515625 27.296875 \r\nQ 5.515625 40.671875 12.859375 48.328125 \r\nQ 20.21875 56 33.015625 56 \r\nQ 37.15625 56 41.109375 55.140625 \r\nQ 45.0625 54.296875 48.78125 52.59375 \r\nz\r\n\" id=\"DejaVuSans-99\"/>\r\n     <path d=\"M 9.421875 75.984375 \r\nL 18.40625 75.984375 \r\nL 18.40625 0 \r\nL 9.421875 0 \r\nz\r\n\" id=\"DejaVuSans-108\"/>\r\n     <path d=\"M 9.421875 54.6875 \r\nL 18.40625 54.6875 \r\nL 18.40625 0 \r\nL 9.421875 0 \r\nz\r\nM 9.421875 75.984375 \r\nL 18.40625 75.984375 \r\nL 18.40625 64.59375 \r\nL 9.421875 64.59375 \r\nz\r\n\" id=\"DejaVuSans-105\"/>\r\n     <path d=\"M 45.40625 27.984375 \r\nQ 45.40625 37.75 41.375 43.109375 \r\nQ 37.359375 48.484375 30.078125 48.484375 \r\nQ 22.859375 48.484375 18.828125 43.109375 \r\nQ 14.796875 37.75 14.796875 27.984375 \r\nQ 14.796875 18.265625 18.828125 12.890625 \r\nQ 22.859375 7.515625 30.078125 7.515625 \r\nQ 37.359375 7.515625 41.375 12.890625 \r\nQ 45.40625 18.265625 45.40625 27.984375 \r\nz\r\nM 54.390625 6.78125 \r\nQ 54.390625 -7.171875 48.1875 -13.984375 \r\nQ 42 -20.796875 29.203125 -20.796875 \r\nQ 24.46875 -20.796875 20.265625 -20.09375 \r\nQ 16.0625 -19.390625 12.109375 -17.921875 \r\nL 12.109375 -9.1875 \r\nQ 16.0625 -11.328125 19.921875 -12.34375 \r\nQ 23.78125 -13.375 27.78125 -13.375 \r\nQ 36.625 -13.375 41.015625 -8.765625 \r\nQ 45.40625 -4.15625 45.40625 5.171875 \r\nL 45.40625 9.625 \r\nQ 42.625 4.78125 38.28125 2.390625 \r\nQ 33.9375 0 27.875 0 \r\nQ 17.828125 0 11.671875 7.65625 \r\nQ 5.515625 15.328125 5.515625 27.984375 \r\nQ 5.515625 40.671875 11.671875 48.328125 \r\nQ 17.828125 56 27.875 56 \r\nQ 33.9375 56 38.28125 53.609375 \r\nQ 42.625 51.21875 45.40625 46.390625 \r\nL 45.40625 54.6875 \r\nL 54.390625 54.6875 \r\nz\r\n\" id=\"DejaVuSans-103\"/>\r\n    </defs>\r\n    <g transform=\"translate(143.819375 16.318125)scale(0.12 -0.12)\">\r\n     <use xlink:href=\"#DejaVuSans-75\"/>\r\n     <use x=\"65.419922\" xlink:href=\"#DejaVuSans-45\"/>\r\n     <use x=\"101.503906\" xlink:href=\"#DejaVuSans-109\"/>\r\n     <use x=\"198.916016\" xlink:href=\"#DejaVuSans-101\"/>\r\n     <use x=\"260.439453\" xlink:href=\"#DejaVuSans-97\"/>\r\n     <use x=\"321.71875\" xlink:href=\"#DejaVuSans-110\"/>\r\n     <use x=\"385.097656\" xlink:href=\"#DejaVuSans-115\"/>\r\n     <use x=\"437.197266\" xlink:href=\"#DejaVuSans-32\"/>\r\n     <use x=\"468.984375\" xlink:href=\"#DejaVuSans-99\"/>\r\n     <use x=\"523.964844\" xlink:href=\"#DejaVuSans-108\"/>\r\n     <use x=\"551.748047\" xlink:href=\"#DejaVuSans-117\"/>\r\n     <use x=\"615.126953\" xlink:href=\"#DejaVuSans-115\"/>\r\n     <use x=\"667.226562\" xlink:href=\"#DejaVuSans-116\"/>\r\n     <use x=\"706.435547\" xlink:href=\"#DejaVuSans-101\"/>\r\n     <use x=\"767.958984\" xlink:href=\"#DejaVuSans-114\"/>\r\n     <use x=\"809.072266\" xlink:href=\"#DejaVuSans-105\"/>\r\n     <use x=\"836.855469\" xlink:href=\"#DejaVuSans-110\"/>\r\n     <use x=\"900.234375\" xlink:href=\"#DejaVuSans-103\"/>\r\n    </g>\r\n   </g>\r\n   <g id=\"legend_1\">\r\n    <g id=\"patch_7\">\r\n     <path d=\"M 313.9625 103.70875 \r\nL 362.040625 103.70875 \r\nQ 364.040625 103.70875 364.040625 101.70875 \r\nL 364.040625 29.318125 \r\nQ 364.040625 27.318125 362.040625 27.318125 \r\nL 313.9625 27.318125 \r\nQ 311.9625 27.318125 311.9625 29.318125 \r\nL 311.9625 101.70875 \r\nQ 311.9625 103.70875 313.9625 103.70875 \r\nz\r\n\" style=\"fill:#ffffff;opacity:0.8;stroke:#cccccc;stroke-linejoin:miter;\"/>\r\n    </g>\r\n    <g id=\"PathCollection_6\">\r\n     <g>\r\n      <use style=\"fill:#1f77b4;stroke:#1f77b4;\" x=\"325.9625\" xlink:href=\"#maf85a92e48\" y=\"36.291562\"/>\r\n     </g>\r\n    </g>\r\n    <g id=\"text_15\">\r\n     <!-- 0 -->\r\n     <g transform=\"translate(343.9625 38.916562)scale(0.1 -0.1)\">\r\n      <use xlink:href=\"#DejaVuSans-48\"/>\r\n     </g>\r\n    </g>\r\n    <g id=\"PathCollection_7\">\r\n     <g>\r\n      <use style=\"fill:#ff7f0e;stroke:#ff7f0e;\" x=\"325.9625\" xlink:href=\"#m73869c5a4f\" y=\"50.969687\"/>\r\n     </g>\r\n    </g>\r\n    <g id=\"text_16\">\r\n     <!-- 1 -->\r\n     <g transform=\"translate(343.9625 53.594687)scale(0.1 -0.1)\">\r\n      <use xlink:href=\"#DejaVuSans-49\"/>\r\n     </g>\r\n    </g>\r\n    <g id=\"PathCollection_8\">\r\n     <g>\r\n      <use style=\"fill:#2ca02c;stroke:#2ca02c;\" x=\"325.9625\" xlink:href=\"#mb48a6b94ff\" y=\"65.647812\"/>\r\n     </g>\r\n    </g>\r\n    <g id=\"text_17\">\r\n     <!-- 2 -->\r\n     <g transform=\"translate(343.9625 68.272812)scale(0.1 -0.1)\">\r\n      <use xlink:href=\"#DejaVuSans-50\"/>\r\n     </g>\r\n    </g>\r\n    <g id=\"PathCollection_9\">\r\n     <g>\r\n      <use style=\"fill:#d62728;stroke:#d62728;\" x=\"325.9625\" xlink:href=\"#mc2a47892f5\" y=\"80.325938\"/>\r\n     </g>\r\n    </g>\r\n    <g id=\"text_18\">\r\n     <!-- 3 -->\r\n     <g transform=\"translate(343.9625 82.950938)scale(0.1 -0.1)\">\r\n      <use xlink:href=\"#DejaVuSans-51\"/>\r\n     </g>\r\n    </g>\r\n    <g id=\"PathCollection_10\">\r\n     <g>\r\n      <use style=\"fill:#9467bd;stroke:#9467bd;stroke-width:1.5;\" x=\"325.9625\" xlink:href=\"#mc4a5267f85\" y=\"95.004063\"/>\r\n     </g>\r\n    </g>\r\n    <g id=\"text_19\">\r\n     <!-- mu -->\r\n     <g transform=\"translate(343.9625 97.629063)scale(0.1 -0.1)\">\r\n      <use xlink:href=\"#DejaVuSans-109\"/>\r\n      <use x=\"97.412109\" xlink:href=\"#DejaVuSans-117\"/>\r\n     </g>\r\n    </g>\r\n   </g>\r\n  </g>\r\n </g>\r\n <defs>\r\n  <clipPath id=\"p4abea0eb48\">\r\n   <rect height=\"217.44\" width=\"334.8\" x=\"34.240625\" y=\"22.318125\"/>\r\n  </clipPath>\r\n </defs>\r\n</svg>\r\n",
      "image/png": "[encoded data removed]"
     },
     "metadata": {
      "needs_background": "light"
     }
    }
   ],
   "source": [
    "plot_cluster(X, skm)"
   ]
  },
  {
   "cell_type": "markdown",
   "metadata": {},
   "source": [
    "# 【問題9】\n",
    "## （アドバンス課題）シルエット図\n",
    "$k$を決める助けになるものとしてシルエット図もあります。シルエット図を表示するコードを作成してください。\n",
    "\n",
    "\n",
    "Matplotlibを使い図を表示するコードは用意しました。以下を与えてください。\n",
    "\n",
    "\n",
    "`silhouette_vals` : shape(n_samples,)のndarray、各データ点のシルエット係数\n",
    "\n",
    "\n",
    "`silhouette_avg` : float、シルエット係数の平均値\n",
    "\n",
    "\n",
    "`y_km` : shape(n_samples,)のndarray、各データ点のクラスタラベル名\n",
    "\n",
    "\n",
    "`cluster_labels` : list、クラスタのラベル名のリスト\n",
    "\n",
    "\n",
    "`n_clusters` : int、クラスタ数\n",
    "\n",
    "\n",
    "$n$番目のデータ点に対するシルエット係数$s_n$は以下の数式でを求められます。この数式を実装し、シルエット図を確認してください。\n",
    "\n",
    "$$\n",
    "s_n = \\frac{b_n-a_n}{max(b_n,a_n)}\n",
    "$$\n",
    "\n",
    "$a_n$ : 凝集度。同じクラスタ内の他のデータ点との距離の平均値。\n",
    "\n",
    "\n",
    "$b_n$ : 乖離度。最も近い他のクラスタ内の全てのデータ点との距離の平均値。\n",
    "\n",
    "\n",
    "乖離度$b$が大きく、凝集度$b$が小さい時が理想的であり、シルエット係数$s$は1に近くなります。"
   ]
  },
  {
   "cell_type": "code",
   "execution_count": 7,
   "metadata": {},
   "outputs": [
    {
     "output_type": "error",
     "ename": "NameError",
     "evalue": "name 'cluster_labels' is not defined",
     "traceback": [
      "\u001b[1;31m---------------------------------------------------------------------------\u001b[0m",
      "\u001b[1;31mNameError\u001b[0m                                 Traceback (most recent call last)",
      "\u001b[1;32m<ipython-input-7-e7d6fd980994>\u001b[0m in \u001b[0;36m<module>\u001b[1;34m\u001b[0m\n\u001b[0;32m      3\u001b[0m \u001b[0my_ax_lower\u001b[0m\u001b[1;33m,\u001b[0m \u001b[0my_ax_upper\u001b[0m \u001b[1;33m=\u001b[0m \u001b[1;36m0\u001b[0m\u001b[1;33m,\u001b[0m \u001b[1;36m0\u001b[0m\u001b[1;33m\u001b[0m\u001b[1;33m\u001b[0m\u001b[0m\n\u001b[0;32m      4\u001b[0m \u001b[0myticks\u001b[0m \u001b[1;33m=\u001b[0m \u001b[1;33m[\u001b[0m\u001b[1;33m]\u001b[0m\u001b[1;33m\u001b[0m\u001b[1;33m\u001b[0m\u001b[0m\n\u001b[1;32m----> 5\u001b[1;33m \u001b[1;32mfor\u001b[0m \u001b[0mi\u001b[0m\u001b[1;33m,\u001b[0m \u001b[0mc\u001b[0m \u001b[1;32min\u001b[0m \u001b[0menumerate\u001b[0m\u001b[1;33m(\u001b[0m\u001b[0mcluster_labels\u001b[0m\u001b[1;33m)\u001b[0m\u001b[1;33m:\u001b[0m\u001b[1;33m\u001b[0m\u001b[1;33m\u001b[0m\u001b[0m\n\u001b[0m\u001b[0;32m      6\u001b[0m     \u001b[0mc_silhouette_vals\u001b[0m \u001b[1;33m=\u001b[0m \u001b[0msilhouette_vals\u001b[0m\u001b[1;33m[\u001b[0m\u001b[0my_km\u001b[0m \u001b[1;33m==\u001b[0m \u001b[0mc\u001b[0m\u001b[1;33m]\u001b[0m\u001b[1;33m\u001b[0m\u001b[1;33m\u001b[0m\u001b[0m\n\u001b[0;32m      7\u001b[0m     \u001b[0mc_silhouette_vals\u001b[0m\u001b[1;33m.\u001b[0m\u001b[0msort\u001b[0m\u001b[1;33m(\u001b[0m\u001b[1;33m)\u001b[0m\u001b[1;33m\u001b[0m\u001b[1;33m\u001b[0m\u001b[0m\n",
      "\u001b[1;31mNameError\u001b[0m: name 'cluster_labels' is not defined"
     ]
    }
   ],
   "source": [
    "# 《シルエット図を表示するためのコード》\n",
    "from matplotlib import cm\n",
    "y_ax_lower, y_ax_upper = 0, 0\n",
    "yticks = []\n",
    "for i, c in enumerate(cluster_labels):\n",
    "    c_silhouette_vals = silhouette_vals[y_km == c]\n",
    "    c_silhouette_vals.sort()\n",
    "    y_ax_upper += len(c_silhouette_vals)\n",
    "    color = cm.jet(i / n_clusters)\n",
    "    plt.barh(range(y_ax_lower, y_ax_upper), c_silhouette_vals, height=1.0, edgecolor='none', color=color)\n",
    "    yticks.append((y_ax_lower + y_ax_upper) / 2)\n",
    "    y_ax_lower += len(c_silhouette_vals)\n",
    "plt.axvline(silhouette_avg, color=\"red\", linestyle=\"--\")\n",
    "plt.yticks(yticks, cluster_labels + 1)\n",
    "plt.ylabel('Cluster')\n",
    "plt.xlabel('Silhouette coefficient')\n",
    "plt.show()"
   ]
  }
 ],
 "metadata": {
  "language_info": {
   "codemirror_mode": {
    "name": "ipython",
    "version": 3
   },
   "file_extension": ".py",
   "mimetype": "text/x-python",
   "name": "python",
   "nbconvert_exporter": "python",
   "pygments_lexer": "ipython3",
   "version": "3.7.7-final"
  },
  "orig_nbformat": 2,
  "kernelspec": {
   "name": "python3",
   "display_name": "Python 3"
  }
 },
 "nbformat": 4,
 "nbformat_minor": 2
}