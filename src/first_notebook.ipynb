{
 "cells": [
  {
   "cell_type": "code",
   "execution_count": 2,
   "metadata": {},
   "outputs": [
    {
     "output_type": "stream",
     "name": "stdout",
     "text": "hellosy\n"
    }
   ],
   "source": [
    "print(\"hellosy\")"
   ]
  },
  {
   "cell_type": "code",
   "execution_count": 4,
   "metadata": {},
   "outputs": [
    {
     "output_type": "stream",
     "name": "stdout",
     "text": "python\n"
    }
   ],
   "source": [
    "print(\"python\")"
   ]
  },
  {
   "cell_type": "code",
   "execution_count": 6,
   "metadata": {},
   "outputs": [
    {
     "output_type": "stream",
     "name": "stdout",
     "text": "1st ack.ack\n"
    }
   ],
   "source": [
    "name = \"ack\"\n",
    "print(\"1st \" + name + \".ack\")"
   ]
  },
  {
   "cell_type": "code",
   "execution_count": 12,
   "metadata": {},
   "outputs": [
    {
     "output_type": "stream",
     "name": "stdout",
     "text": "im 19834 years old.\nim (1, 2, 3) years old.\n"
    }
   ],
   "source": [
    "age = 19834\n",
    "print(\"im \" + str(age) + \" years old.\")\n",
    "age = (1,2,3)\n",
    "# print(\"im {} years old.\".format(age))\n",
    "# print(\"im {} {} {} years old.\".format(age)) -- false"
   ]
  },
  {
   "cell_type": "code",
   "execution_count": 23,
   "metadata": {},
   "outputs": [
    {
     "output_type": "stream",
     "name": "stdout",
     "text": "answer: 5-3\n"
    }
   ],
   "source": [
    "plus = 5\n",
    "minus = -3\n",
    "print(\"answer:{: }{: }\".format(plus, minus))"
   ]
  }
 ],
 "metadata": {
  "kernelspec": {
   "display_name": "Python 3",
   "language": "python",
   "name": "python3"
  },
  "language_info": {
   "codemirror_mode": {
    "name": "ipython",
    "version": 3
   },
   "file_extension": ".py",
   "mimetype": "text/x-python",
   "name": "python",
   "nbconvert_exporter": "python",
   "pygments_lexer": "ipython3",
   "version": "3.7.6-final"
  }
 },
 "nbformat": 4,
 "nbformat_minor": 4
}