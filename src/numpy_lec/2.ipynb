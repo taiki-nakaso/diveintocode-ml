{
 "nbformat": 4,
 "nbformat_minor": 2,
 "metadata": {
  "language_info": {
   "name": "python",
   "codemirror_mode": {
    "name": "ipython",
    "version": 3
   },
   "version": "3.7.7-final"
  },
  "orig_nbformat": 2,
  "file_extension": ".py",
  "mimetype": "text/x-python",
  "name": "python",
  "npconvert_exporter": "python",
  "pygments_lexer": "ipython3",
  "version": 3,
  "kernelspec": {
   "name": "python37764bitdiccondafb578a96322c450885a5255aa544cfce",
   "display_name": "Python 3.7.7 64-bit ('dic': conda)"
  }
 },
 "cells": [
  {
   "cell_type": "code",
   "execution_count": 1,
   "metadata": {},
   "outputs": [],
   "source": [
    "import numpy as np\n",
    "arr = np.arange(10)"
   ]
  },
  {
   "cell_type": "code",
   "execution_count": 2,
   "metadata": {},
   "outputs": [
    {
     "output_type": "stream",
     "name": "stdout",
     "text": "3\n[0 1 2]\n9\n[0 2 4 6 8]\n[9 8 7 6 5 4 3 2 1 0]\n"
    }
   ],
   "source": [
    "print(arr[3])\n",
    "print(arr[:3])\n",
    "print(arr[-1])\n",
    "print(arr[::2])\n",
    "print(arr[::-1])"
   ]
  },
  {
   "cell_type": "code",
   "execution_count": 3,
   "metadata": {},
   "outputs": [
    {
     "output_type": "stream",
     "name": "stdout",
     "text": "(4,)\n[[0 1]\n [2 3]]\n(2, 2)\n"
    }
   ],
   "source": [
    "arr1 = np.arange(4)\n",
    "print(arr1.shape)\n",
    "arr2 = arr1.reshape(2,2)\n",
    "print(arr2)\n",
    "print(arr2.shape)"
   ]
  },
  {
   "cell_type": "code",
   "execution_count": 8,
   "metadata": {},
   "outputs": [
    {
     "output_type": "stream",
     "name": "stdout",
     "text": "[[0 1 2]\n [3 4 5]]\n5\n[[1 2]\n [4 5]]\n"
    }
   ],
   "source": [
    "arr3 = np.arange(6).reshape(2,3)\n",
    "print(arr3)\n",
    "print(arr3[1,2])\n",
    "print(arr3[::,1::])"
   ]
  },
  {
   "cell_type": "code",
   "execution_count": 9,
   "metadata": {},
   "outputs": [
    {
     "output_type": "stream",
     "name": "stdout",
     "text": "[[0 1 2]\n [3 4 5]]\nshape: (2, 3)\nsum: 15\n0 axis sum: [3 5 7]\n1 axis ave: [1. 4.]\n"
    }
   ],
   "source": [
    "arr4 = np.arange(6)\n",
    "arr5 = arr4.reshape(2,3)\n",
    "print(arr5)\n",
    "print(\"shape: {}\".format(arr5.shape))\n",
    "print(\"sum: {}\".format(arr5.sum()))\n",
    "print(\"0 axis sum: {}\".format(arr5.sum(axis=0)))\n",
    "print(\"1 axis ave: {}\".format(arr5.mean(axis=1)))"
   ]
  }
 ]
}