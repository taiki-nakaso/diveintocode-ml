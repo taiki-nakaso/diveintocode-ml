{
 "cells": [
  {
   "cell_type": "markdown",
   "metadata": {},
   "source": [
    "# Week4授業前課題3\n",
    "## オブジェクト指向の活用\n",
    "これまで使用してきたクラスを元にしてオブジェクト指向を理解していきます。"
   ]
  },
  {
   "cell_type": "markdown",
   "metadata": {},
   "source": [
    "# 【問題1】\n",
    "## これまで利用してきたクラスの列挙\n",
    "クラスを使う際はインスタンス化を行うことと、クラスの命名法がわかりました。この情報を元に、これまでの課題で利用してきたコードの中でどのようなクラスがあったかを答えてください。\n",
    "\n",
    "Pandas、matplotlib、scikit-learnからそれぞれ1つ以上見つけてください。"
   ]
  },
  {
   "cell_type": "markdown",
   "metadata": {},
   "source": [
    "# Pandas\n",
    "- pandas.DataFrame\n",
    "\n",
    "表型のデータ形式\n",
    "- pandas.Series\n",
    "\n",
    "一次元のデータ形式\n",
    "\n",
    "# matplotlib\n",
    "- matplotlib.figure.Figure\n",
    "\n",
    "プロットの図全体\n",
    "- matplotlib.axes.Axes\n",
    "\n",
    "プロットの座標軸\n",
    "# scikit-learn\n",
    "\n",
    "- sklearn.neighbors.KNeighborsClassifier\n",
    "\n",
    "k近傍法によるクラス分類モデル\n",
    "- sklearn.linear_model.LinearRegression\n",
    "\n",
    "線形回帰モデル"
   ]
  },
  {
   "cell_type": "markdown",
   "metadata": {},
   "source": [
    "# 【問題2】\n",
    "## これまで利用してきたメソッドやインスタンス変数の列挙\n",
    "これまでの課題で利用してきたコードの中でどのようなメソッドやインスタンス変数があったかを答えてください。\n",
    "\n",
    "最低でもそれぞれ5つ以上答えてください。"
   ]
  },
  {
   "cell_type": "markdown",
   "metadata": {},
   "source": [
    "# Pandas\n",
    "- pandas.DataFrame.shape\n",
    "\n",
    "DataFrameの形状\n",
    "- pandas.DataFrame.values\n",
    "\n",
    "DataFrameが保持しているnumpy.ndarray形式のデータ\n",
    "- pandas.read_csv\n",
    "\n",
    "csvデータを読み込みDataFrame形式にして返す\n",
    "- pandas.Series.loc\n",
    "\n",
    "列と行のラベルを持っており、抽出操作に有効\n",
    "- pandas.Series.value_counts\n",
    "\n",
    "Series内の一意な値の数を返す\n",
    "\n",
    "# matplotlib\n",
    "- matplotlib.pyplot.figure\n",
    "\n",
    "Figure型のインスタンスを返す\n",
    "- matplotlib.pyplot.show\n",
    "\n",
    "すべての図を表示する\n",
    "- matplotlib.figure.Figure.subplot\n",
    "\n",
    "図に新たな座標軸を追加し、返す\n",
    "- matplotlib.pyplot.suptitle\n",
    "\n",
    "図にタイトルを記入する\n",
    "- matplotlib.axes.Axes.set_xticklabels\n",
    "\n",
    "対象となる座標軸のx軸に目盛りラベルを記入する\n",
    "\n",
    "# scikit-learn\n",
    "- sklearn.model_selection.train_test_split\n",
    "\n",
    "データを訓練データとテストデータにランダム分割する\n",
    "- sklearn.preprocessing.StandardScaler.fit\n",
    "\n",
    "データの標準化のため、平均と分散を設定する\n",
    "- sklearn.preprocessing.StandardScaler.transform\n",
    "\n",
    "標準化を実行する\n",
    "- sklearn.metrics.accuracy_score\n",
    "\n",
    "予測結果から正解率を算出する\n",
    "- sklearn.metrics.mean_squared_error\n",
    "\n",
    "予測結果から平均二乗誤差を算出する"
   ]
  },
  {
   "cell_type": "markdown",
   "metadata": {},
   "source": [
    "# 【問題3】\n",
    "## 標準化クラスをスクラッチで作成\n",
    "理解をより深めるため、StandardScalerをスクラッチで作成しましょう。scikit-learnは使わず、NumPyなどを活用して標準化の計算を記述します。具体的にはfitメソッドとtransformメソッドを作ります。\n",
    "\n",
    "今回は雛形を用意しました。クラスの作成方法は関数に近いです。メソッドはクラスの中にさらにインデントを一段下げて記述します。\n",
    "\n",
    "インスタンス変数を作成する際は`self.mean_`のようにselfを付けます。クラスの外から`scaler.mean_`と書いていたscalerの部分が自分自身を表すselfになっています。"
   ]
  },
  {
   "cell_type": "code",
   "execution_count": 1,
   "metadata": {},
   "outputs": [],
   "source": [
    "class ScratchStandardScaler():\n",
    "    \"\"\"\n",
    "    標準化のためのクラス\n",
    "\n",
    "    Attributes\n",
    "    ----------\n",
    "    mean_ : 次の形のndarray, shape(n_features,)\n",
    "        平均\n",
    "    var_ : 次の形のndarray, shape(n_features,)\n",
    "        分散\n",
    "    \"\"\"\n",
    "    def fit(self, X):\n",
    "        \"\"\"\n",
    "        標準化のために平均と標準偏差を計算する。\n",
    "        (追記: おそらく「平均と分散」？)\n",
    "\n",
    "        Parameters\n",
    "        ----------\n",
    "        X : 次の形のndarray, shape (n_samples, n_features)\n",
    "            訓練データ\n",
    "        \"\"\"\n",
    "        self.mean_ = np.mean(X, axis=0)\n",
    "        self.var_ = np.var(X, axis=0)\n",
    "        pass\n",
    "    def transform(self, X):\n",
    "        \"\"\"\n",
    "        fitで求めた値を使い標準化を行う。\n",
    "\n",
    "        Parameters\n",
    "        ----------\n",
    "        X : 次の形のndarray, shape (n_samples, n_features)\n",
    "            特徴量\n",
    "\n",
    "        Returns\n",
    "        ----------\n",
    "        X_scaled : 次の形のndarray, shape (n_samples, n_features)\n",
    "            標準化された特緒量\n",
    "        \"\"\"\n",
    "        X_scaled = (X - self.mean_)/np.sqrt(self.var_)\n",
    "        pass\n",
    "        return X_scaled"
   ]
  },
  {
   "cell_type": "code",
   "execution_count": 2,
   "metadata": {},
   "outputs": [
    {
     "output_type": "stream",
     "name": "stdout",
     "text": "平均 : [4.86 3.31 1.45 0.22]\n分散 : [0.0764 0.0849 0.0105 0.0056]\n[[ 0.86828953  0.65207831 -0.48795004 -0.26726124]\n [ 0.14471492 -1.06391725 -0.48795004 -0.26726124]\n [-0.57885968 -0.37751902 -1.46385011 -0.26726124]\n [-0.94064699 -0.72071813  0.48795004 -0.26726124]\n [ 0.50650222  0.99527742 -0.48795004 -0.26726124]\n [ 1.95365143  2.02487476  2.43975018  2.40535118]\n [-0.94064699  0.3088792  -0.48795004  1.06904497]\n [ 0.50650222  0.3088792   0.48795004 -0.26726124]\n [-1.66422159 -1.40711636 -0.48795004 -0.26726124]\n [ 0.14471492 -0.72071813  0.48795004 -1.60356745]]\n"
    }
   ],
   "source": [
    "# 動作テスト\n",
    "import numpy as np\n",
    "from sklearn.datasets import load_iris\n",
    "data = load_iris()\n",
    "X = data.data[:10]\n",
    "scratch_scaler = ScratchStandardScaler()\n",
    "scratch_scaler.fit(X)\n",
    "print(\"平均 : {}\".format(scratch_scaler.mean_))\n",
    "print(\"分散 : {}\".format(scratch_scaler.var_))\n",
    "X_std = scratch_scaler.transform(X)\n",
    "print(X_std)"
   ]
  },
  {
   "cell_type": "code",
   "execution_count": 3,
   "metadata": {},
   "outputs": [
    {
     "output_type": "stream",
     "name": "stdout",
     "text": "[4.86 3.31 1.45 0.22] [0.0764 0.0849 0.0105 0.0056]\n[[5.1 3.5 1.4 0.2]\n [4.9 3.  1.4 0.2]\n [4.7 3.2 1.3 0.2]\n [4.6 3.1 1.5 0.2]\n [5.  3.6 1.4 0.2]\n [5.4 3.9 1.7 0.4]\n [4.6 3.4 1.4 0.3]\n [5.  3.4 1.5 0.2]\n [4.4 2.9 1.4 0.2]\n [4.9 3.1 1.5 0.1]]\n[ 2.23709939e-15  1.36557432e-15  0.00000000e+00 -2.88657986e-16] [1. 1. 1. 1.]\n[[ 0.86828953  0.65207831 -0.48795004 -0.26726124]\n [ 0.14471492 -1.06391725 -0.48795004 -0.26726124]\n [-0.57885968 -0.37751902 -1.46385011 -0.26726124]\n [-0.94064699 -0.72071813  0.48795004 -0.26726124]\n [ 0.50650222  0.99527742 -0.48795004 -0.26726124]\n [ 1.95365143  2.02487476  2.43975018  2.40535118]\n [-0.94064699  0.3088792  -0.48795004  1.06904497]\n [ 0.50650222  0.3088792   0.48795004 -0.26726124]\n [-1.66422159 -1.40711636 -0.48795004 -0.26726124]\n [ 0.14471492 -0.72071813  0.48795004 -1.60356745]]\n"
    }
   ],
   "source": [
    "# 平均・分散の変化を確認\n",
    "print(X.mean(axis=0), X.var(axis=0))\n",
    "print(X)\n",
    "print(X_std.mean(axis=0), X_std.var(axis=0))\n",
    "print(X_std)"
   ]
  },
  {
   "cell_type": "markdown",
   "metadata": {},
   "source": [
    "ソースコードの中に含まれる、まだ説明していない重要な部分が以下です。\n",
    "\n",
    "このような__init__というメソッドは、どのクラスにも共通して置かれる **コンストラクタ** と呼ばれるメソッドです。\n",
    "\n",
    "```python\n",
    "def __init__(self, copy=True, with_mean=True, with_std=True):\n",
    "    self.with_mean = with_mean\n",
    "    self.with_std = with_std\n",
    "    self.copy = copy\n",
    "```\n",
    "\n",
    "今回のスクラッチではcopy、with_mean、with_stdなどのパラメータを省略しましたが、このようにインスタンス化の際にパラメータを指定して保存しておくということはよくある使い方です。\n",
    "\n",
    "コンストラクタの動作を確認するためのサンプルコードを用意しました。コンストラクタは、インスタンス化が行われる時に自動的に実行されるという働きがあります。こういった特殊な動作をするメソッドを、 **特殊メソッド** と呼びます。"
   ]
  },
  {
   "cell_type": "code",
   "execution_count": 4,
   "metadata": {},
   "outputs": [
    {
     "output_type": "stream",
     "name": "stdout",
     "text": "初期値5が設定されました\nvalue : 5\nvalue : 8\n"
    }
   ],
   "source": [
    "# Sample Code\n",
    "class ExampleClass():\n",
    "    \"\"\"\n",
    "    説明用の簡単なクラス\n",
    "\n",
    "    Parameters\n",
    "    ----------\n",
    "    value : float or int\n",
    "        初期値\n",
    "\n",
    "    Attributes\n",
    "    ----------\n",
    "    value : float or int\n",
    "        計算結果\n",
    "    \"\"\"\n",
    "    def __init__(self, value):\n",
    "        self.value = value\n",
    "        print(\"初期値{}が設定されました\".format(self.value))\n",
    "    def add(self, value2):\n",
    "        \"\"\"\n",
    "        受け取った引数をself.valueに加える\n",
    "        \"\"\"\n",
    "        self.value += value2\n",
    "example = ExampleClass(5)\n",
    "print(\"value : {}\".format(example.value))\n",
    "example.add(3)\n",
    "print(\"value : {}\".format(example.value))"
   ]
  },
  {
   "cell_type": "markdown",
   "metadata": {},
   "source": [
    "# 【問題4】\n",
    "## 四則演算を行うクラスの作成\n",
    "上記ExampleClassは足し算のメソッドを持っていますが、これに引き算、掛け算、割り算のメソッドを加えてください。\n",
    "\n",
    "コンストラクタに入力されたvalueが文字列や配列など数値以外だった場合にはエラーを出すようにしてください。\n",
    "\n",
    "クラス名や説明文も適切に書き換えてください。"
   ]
  },
  {
   "cell_type": "code",
   "execution_count": 5,
   "metadata": {},
   "outputs": [],
   "source": [
    "class Arithmetics():\n",
    "    \"\"\"\n",
    "    valueの四則演算を行うクラス\n",
    "\n",
    "    Parameters\n",
    "    ----------\n",
    "    value : float or int\n",
    "        初期値\n",
    "\n",
    "    Attributes\n",
    "    ----------\n",
    "    value : float or int\n",
    "        計算結果\n",
    "    \"\"\"\n",
    "    def __init__(self, value):\n",
    "        self.check_type(value)\n",
    "        self.value = value\n",
    "        print(\"初期値{}が設定されました\".format(self.value))\n",
    "    def check_type(self, arg):\n",
    "        \"\"\"\n",
    "        数字以外が引数になったときエラーを返す\n",
    "        \"\"\"\n",
    "        if not isinstance(arg, (int, float)):\n",
    "            raise TypeError(f\"'{arg}' is not a number.\")\n",
    "    def add(self, value2):\n",
    "        \"\"\"\n",
    "        加算\n",
    "        \"\"\"\n",
    "        self.check_type(value2)\n",
    "        self.value += value2\n",
    "    def sub(self, value2):\n",
    "        \"\"\"\n",
    "        減算\n",
    "        \"\"\"\n",
    "        self.check_type(value2)\n",
    "        self.value -= value2\n",
    "    def mul(self, value2):\n",
    "        \"\"\"\n",
    "        乗算\n",
    "        \"\"\"\n",
    "        self.check_type(value2)\n",
    "        self.value *= value2\n",
    "    def div(self, value2):\n",
    "        \"\"\"\n",
    "        除算\n",
    "        \"\"\"\n",
    "        self.check_type(value2)\n",
    "        self.value /= value2"
   ]
  },
  {
   "cell_type": "code",
   "execution_count": 6,
   "metadata": {},
   "outputs": [
    {
     "output_type": "stream",
     "name": "stdout",
     "text": "初期値3が設定されました\nvalue : 3\nvalue : 6\nvalue : 4\nvalue : 16\nvalue : 3.2\n"
    }
   ],
   "source": [
    "# 動作確認\n",
    "# 正常値\n",
    "val = Arithmetics(3)\n",
    "print(\"value : {}\".format(val.value))\n",
    "val.add(3)\n",
    "print(\"value : {}\".format(val.value))\n",
    "val.sub(2)\n",
    "print(\"value : {}\".format(val.value))\n",
    "val.mul(4)\n",
    "print(\"value : {}\".format(val.value))\n",
    "val.div(5)\n",
    "print(\"value : {}\".format(val.value))"
   ]
  },
  {
   "cell_type": "code",
   "execution_count": 7,
   "metadata": {},
   "outputs": [
    {
     "output_type": "error",
     "ename": "TypeError",
     "evalue": "'str' is not a number.",
     "traceback": [
      "\u001b[1;31m---------------------------------------------------------------------------\u001b[0m",
      "\u001b[1;31mTypeError\u001b[0m                                 Traceback (most recent call last)",
      "\u001b[1;32m<ipython-input-7-904f51348810>\u001b[0m in \u001b[0;36m<module>\u001b[1;34m\u001b[0m\n\u001b[0;32m      1\u001b[0m \u001b[1;31m# 異常値 - 文字列\u001b[0m\u001b[1;33m\u001b[0m\u001b[1;33m\u001b[0m\u001b[1;33m\u001b[0m\u001b[0m\n\u001b[1;32m----> 2\u001b[1;33m \u001b[0mval\u001b[0m\u001b[1;33m.\u001b[0m\u001b[0madd\u001b[0m\u001b[1;33m(\u001b[0m\u001b[1;34m'str'\u001b[0m\u001b[1;33m)\u001b[0m\u001b[1;33m\u001b[0m\u001b[1;33m\u001b[0m\u001b[0m\n\u001b[0m\u001b[0;32m      3\u001b[0m \u001b[0mprint\u001b[0m\u001b[1;33m(\u001b[0m\u001b[1;34m\"value : {}\"\u001b[0m\u001b[1;33m.\u001b[0m\u001b[0mformat\u001b[0m\u001b[1;33m(\u001b[0m\u001b[0mval\u001b[0m\u001b[1;33m.\u001b[0m\u001b[0mvalue\u001b[0m\u001b[1;33m)\u001b[0m\u001b[1;33m)\u001b[0m\u001b[1;33m\u001b[0m\u001b[1;33m\u001b[0m\u001b[0m\n",
      "\u001b[1;32m<ipython-input-5-9919a917dda2>\u001b[0m in \u001b[0;36madd\u001b[1;34m(self, value2)\u001b[0m\n\u001b[0;32m     27\u001b[0m         \u001b[0m加算\u001b[0m\u001b[1;33m\u001b[0m\u001b[1;33m\u001b[0m\u001b[0m\n\u001b[0;32m     28\u001b[0m         \"\"\"\n\u001b[1;32m---> 29\u001b[1;33m         \u001b[0mself\u001b[0m\u001b[1;33m.\u001b[0m\u001b[0mcheck_type\u001b[0m\u001b[1;33m(\u001b[0m\u001b[0mvalue2\u001b[0m\u001b[1;33m)\u001b[0m\u001b[1;33m\u001b[0m\u001b[1;33m\u001b[0m\u001b[0m\n\u001b[0m\u001b[0;32m     30\u001b[0m         \u001b[0mself\u001b[0m\u001b[1;33m.\u001b[0m\u001b[0mvalue\u001b[0m \u001b[1;33m+=\u001b[0m \u001b[0mvalue2\u001b[0m\u001b[1;33m\u001b[0m\u001b[1;33m\u001b[0m\u001b[0m\n\u001b[0;32m     31\u001b[0m     \u001b[1;32mdef\u001b[0m \u001b[0msub\u001b[0m\u001b[1;33m(\u001b[0m\u001b[0mself\u001b[0m\u001b[1;33m,\u001b[0m \u001b[0mvalue2\u001b[0m\u001b[1;33m)\u001b[0m\u001b[1;33m:\u001b[0m\u001b[1;33m\u001b[0m\u001b[1;33m\u001b[0m\u001b[0m\n",
      "\u001b[1;32m<ipython-input-5-9919a917dda2>\u001b[0m in \u001b[0;36mcheck_type\u001b[1;34m(self, arg)\u001b[0m\n\u001b[0;32m     22\u001b[0m         \"\"\"\n\u001b[0;32m     23\u001b[0m         \u001b[1;32mif\u001b[0m \u001b[1;32mnot\u001b[0m \u001b[0misinstance\u001b[0m\u001b[1;33m(\u001b[0m\u001b[0marg\u001b[0m\u001b[1;33m,\u001b[0m \u001b[1;33m(\u001b[0m\u001b[0mint\u001b[0m\u001b[1;33m,\u001b[0m \u001b[0mfloat\u001b[0m\u001b[1;33m)\u001b[0m\u001b[1;33m)\u001b[0m\u001b[1;33m:\u001b[0m\u001b[1;33m\u001b[0m\u001b[1;33m\u001b[0m\u001b[0m\n\u001b[1;32m---> 24\u001b[1;33m             \u001b[1;32mraise\u001b[0m \u001b[0mTypeError\u001b[0m\u001b[1;33m(\u001b[0m\u001b[1;34mf\"'{arg}' is not a number.\"\u001b[0m\u001b[1;33m)\u001b[0m\u001b[1;33m\u001b[0m\u001b[1;33m\u001b[0m\u001b[0m\n\u001b[0m\u001b[0;32m     25\u001b[0m     \u001b[1;32mdef\u001b[0m \u001b[0madd\u001b[0m\u001b[1;33m(\u001b[0m\u001b[0mself\u001b[0m\u001b[1;33m,\u001b[0m \u001b[0mvalue2\u001b[0m\u001b[1;33m)\u001b[0m\u001b[1;33m:\u001b[0m\u001b[1;33m\u001b[0m\u001b[1;33m\u001b[0m\u001b[0m\n\u001b[0;32m     26\u001b[0m         \"\"\"\n",
      "\u001b[1;31mTypeError\u001b[0m: 'str' is not a number."
     ]
    }
   ],
   "source": [
    "# 異常値 - 文字列\n",
    "val.add('str')\n",
    "print(\"value : {}\".format(val.value))"
   ]
  },
  {
   "cell_type": "code",
   "execution_count": 8,
   "metadata": {},
   "outputs": [
    {
     "output_type": "error",
     "ename": "TypeError",
     "evalue": "'[11, 6, 3]' is not a number.",
     "traceback": [
      "\u001b[1;31m---------------------------------------------------------------------------\u001b[0m",
      "\u001b[1;31mTypeError\u001b[0m                                 Traceback (most recent call last)",
      "\u001b[1;32m<ipython-input-8-5a56318365e7>\u001b[0m in \u001b[0;36m<module>\u001b[1;34m\u001b[0m\n\u001b[0;32m      1\u001b[0m \u001b[1;31m# 異常値 - 配列\u001b[0m\u001b[1;33m\u001b[0m\u001b[1;33m\u001b[0m\u001b[1;33m\u001b[0m\u001b[0m\n\u001b[1;32m----> 2\u001b[1;33m \u001b[0mval\u001b[0m\u001b[1;33m.\u001b[0m\u001b[0mmul\u001b[0m\u001b[1;33m(\u001b[0m\u001b[1;33m[\u001b[0m\u001b[1;36m11\u001b[0m\u001b[1;33m,\u001b[0m \u001b[1;36m6\u001b[0m\u001b[1;33m,\u001b[0m \u001b[1;36m3\u001b[0m\u001b[1;33m]\u001b[0m\u001b[1;33m)\u001b[0m\u001b[1;33m\u001b[0m\u001b[1;33m\u001b[0m\u001b[0m\n\u001b[0m\u001b[0;32m      3\u001b[0m \u001b[0mprint\u001b[0m\u001b[1;33m(\u001b[0m\u001b[1;34m\"value : {}\"\u001b[0m\u001b[1;33m.\u001b[0m\u001b[0mformat\u001b[0m\u001b[1;33m(\u001b[0m\u001b[0mval\u001b[0m\u001b[1;33m.\u001b[0m\u001b[0mvalue\u001b[0m\u001b[1;33m)\u001b[0m\u001b[1;33m)\u001b[0m\u001b[1;33m\u001b[0m\u001b[1;33m\u001b[0m\u001b[0m\n",
      "\u001b[1;32m<ipython-input-5-9919a917dda2>\u001b[0m in \u001b[0;36mmul\u001b[1;34m(self, value2)\u001b[0m\n\u001b[0;32m     39\u001b[0m         \u001b[0m乗算\u001b[0m\u001b[1;33m\u001b[0m\u001b[1;33m\u001b[0m\u001b[0m\n\u001b[0;32m     40\u001b[0m         \"\"\"\n\u001b[1;32m---> 41\u001b[1;33m         \u001b[0mself\u001b[0m\u001b[1;33m.\u001b[0m\u001b[0mcheck_type\u001b[0m\u001b[1;33m(\u001b[0m\u001b[0mvalue2\u001b[0m\u001b[1;33m)\u001b[0m\u001b[1;33m\u001b[0m\u001b[1;33m\u001b[0m\u001b[0m\n\u001b[0m\u001b[0;32m     42\u001b[0m         \u001b[0mself\u001b[0m\u001b[1;33m.\u001b[0m\u001b[0mvalue\u001b[0m \u001b[1;33m*=\u001b[0m \u001b[0mvalue2\u001b[0m\u001b[1;33m\u001b[0m\u001b[1;33m\u001b[0m\u001b[0m\n\u001b[0;32m     43\u001b[0m     \u001b[1;32mdef\u001b[0m \u001b[0mdiv\u001b[0m\u001b[1;33m(\u001b[0m\u001b[0mself\u001b[0m\u001b[1;33m,\u001b[0m \u001b[0mvalue2\u001b[0m\u001b[1;33m)\u001b[0m\u001b[1;33m:\u001b[0m\u001b[1;33m\u001b[0m\u001b[1;33m\u001b[0m\u001b[0m\n",
      "\u001b[1;32m<ipython-input-5-9919a917dda2>\u001b[0m in \u001b[0;36mcheck_type\u001b[1;34m(self, arg)\u001b[0m\n\u001b[0;32m     22\u001b[0m         \"\"\"\n\u001b[0;32m     23\u001b[0m         \u001b[1;32mif\u001b[0m \u001b[1;32mnot\u001b[0m \u001b[0misinstance\u001b[0m\u001b[1;33m(\u001b[0m\u001b[0marg\u001b[0m\u001b[1;33m,\u001b[0m \u001b[1;33m(\u001b[0m\u001b[0mint\u001b[0m\u001b[1;33m,\u001b[0m \u001b[0mfloat\u001b[0m\u001b[1;33m)\u001b[0m\u001b[1;33m)\u001b[0m\u001b[1;33m:\u001b[0m\u001b[1;33m\u001b[0m\u001b[1;33m\u001b[0m\u001b[0m\n\u001b[1;32m---> 24\u001b[1;33m             \u001b[1;32mraise\u001b[0m \u001b[0mTypeError\u001b[0m\u001b[1;33m(\u001b[0m\u001b[1;34mf\"'{arg}' is not a number.\"\u001b[0m\u001b[1;33m)\u001b[0m\u001b[1;33m\u001b[0m\u001b[1;33m\u001b[0m\u001b[0m\n\u001b[0m\u001b[0;32m     25\u001b[0m     \u001b[1;32mdef\u001b[0m \u001b[0madd\u001b[0m\u001b[1;33m(\u001b[0m\u001b[0mself\u001b[0m\u001b[1;33m,\u001b[0m \u001b[0mvalue2\u001b[0m\u001b[1;33m)\u001b[0m\u001b[1;33m:\u001b[0m\u001b[1;33m\u001b[0m\u001b[1;33m\u001b[0m\u001b[0m\n\u001b[0;32m     26\u001b[0m         \"\"\"\n",
      "\u001b[1;31mTypeError\u001b[0m: '[11, 6, 3]' is not a number."
     ]
    }
   ],
   "source": [
    "# 異常値 - 配列\n",
    "val.mul([11, 6, 3])\n",
    "print(\"value : {}\".format(val.value))"
   ]
  }
 ],
 "metadata": {
  "language_info": {
   "codemirror_mode": {
    "name": "ipython",
    "version": 3
   },
   "file_extension": ".py",
   "mimetype": "text/x-python",
   "name": "python",
   "nbconvert_exporter": "python",
   "pygments_lexer": "ipython3",
   "version": "3.7.7-final"
  },
  "orig_nbformat": 2,
  "kernelspec": {
   "name": "python3",
   "display_name": "Python 3"
  }
 },
 "nbformat": 4,
 "nbformat_minor": 2
}