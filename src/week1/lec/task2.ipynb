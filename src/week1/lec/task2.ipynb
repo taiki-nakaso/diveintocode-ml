{
 "nbformat": 4,
 "nbformat_minor": 2,
 "metadata": {
  "language_info": {
   "name": "python",
   "codemirror_mode": {
    "name": "ipython",
    "version": 3
   },
   "version": "3.7.7-final"
  },
  "orig_nbformat": 2,
  "file_extension": ".py",
  "mimetype": "text/x-python",
  "name": "python",
  "npconvert_exporter": "python",
  "pygments_lexer": "ipython3",
  "version": 3,
  "kernelspec": {
   "name": "python37764bitdiccondafb578a96322c450885a5255aa544cfce",
   "display_name": "Python 3.7.7 64-bit ('dic': conda)"
  }
 },
 "cells": [
  {
   "cell_type": "markdown",
   "metadata": {},
   "source": [
    "# Week1授業課題2\n",
    "## 何回折ったら富士山を超えるか問題\n",
    "「Pythonを使ってみよう」の問題では「1枚の紙を43回折り曲げた時の厚さを計算するプログラム」を作成し、43回折ることで月に届くことが確認できました。\n",
    "\n",
    "\n",
    "ここで「何回折ったらある厚さになるのか」という疑問が生まれます。こういったことを計算するプログラムを作成していきましょう。"
   ]
  },
  {
   "cell_type": "markdown",
   "metadata": {},
   "source": [
    "授業前課題と同様ですが確認しておきます。\n",
    "\n",
    "\n",
    "n回折った紙の厚さ$t_n$は以下のように表せます。\n",
    "$$\n",
    "t_n = t_0 × 2^n\n",
    "$$\n",
    "折る前の紙の厚さ$t_0$は0.00008mとします。一般的なコピー用紙の厚さです。"
   ]
  },
  {
   "cell_type": "markdown",
   "metadata": {},
   "source": [
    "# 問題1\n",
    "## 富士山を超える最小の折る回数\n",
    "厚さが「富士山(3776m)」を超えるのは何回紙を折った時か計算するプログラムを作成してください。"
   ]
  },
  {
   "cell_type": "code",
   "execution_count": 29,
   "metadata": {
    "tags": [
     "outputPrepend",
     "outputPrepend",
     "outputPrepend",
     "outputPrepend",
     "outputPrepend",
     "outputPrepend",
     "outputPrepend",
     "outputPrepend",
     "outputPrepend",
     "outputPrepend",
     "outputPrepend"
    ]
   },
   "outputs": [
    {
     "output_type": "stream",
     "name": "stdout",
     "text": "富士山(3776m)を超える回数: 26回\n"
    }
   ],
   "source": [
    "THICKNESS = 8e-5\n",
    "FUJI_HEIGHT = 3776\n",
    "\n",
    "folded_thickness = THICKNESS\n",
    "fold_count = 0\n",
    "\n",
    "while(folded_thickness <= FUJI_HEIGHT):\n",
    "    folded_thickness *= 2\n",
    "    fold_count += 1\n",
    "\n",
    "print(\"富士山(3776m)を超える回数: {}回\".format(fold_count))"
   ]
  },
  {
   "cell_type": "markdown",
   "metadata": {},
   "source": [
    "# 問題2\n",
    "## 任意の厚さに対応した関数を作成\n",
    "距離を入力すると、何回折った時に超えるかを出力する関数を作成してください。引数として、折る前の厚さ$t_0$も設定できるようにしましょう。\n",
    "\n",
    "\n",
    "この関数を利用して、「最も近い太陽以外の恒星」に到達するには紙を何回折る必要があるか計算してください。「最も近い太陽以外の恒星」の距離は調査してください。"
   ]
  },
  {
   "cell_type": "code",
   "execution_count": 30,
   "metadata": {},
   "outputs": [
    {
     "output_type": "stream",
     "name": "stdout",
     "text": "最も近い恒星に到達する回数: 69回\n"
    }
   ],
   "source": [
    "\"\"\"\n",
    "最も近い太陽以外の恒星: プロキシマ・ケンタウリ(4.243光年)\n",
    "1光年 = 9.461e+15m\n",
    "\"\"\" \n",
    "STELLAR_DISTANCE = 4.243*9.461e+15\n",
    "\n",
    "def times_over_thickness(length, t0=8e-5):\n",
    "    folded_thickness = t0\n",
    "    fold_count = 0\n",
    "    while(folded_thickness < length):\n",
    "        folded_thickness *= 2\n",
    "        fold_count += 1\n",
    "    return fold_count\n",
    "\n",
    "print(\"最も近い恒星に到達する回数: {}回\".format(times_over_thickness(STELLAR_DISTANCE)))"
   ]
  },
  {
   "cell_type": "markdown",
   "metadata": {},
   "source": [
    "# 問題3\n",
    "## 必要な紙の長さ\n",
    "実際のところ身近にある紙は43回はおろか10回も折れません。しかし、大きな紙ほどたくさん折ることができ、トイレットペーパーのような長い紙を一方向に折ることを考えた時の折れる回数を求める公式が存在します。\n",
    "\n",
    "\n",
    "厚さ$t_0$の紙をn回折るために必要な紙の長さLは以下の公式で求まります。\n",
    "$$\n",
    "L=\\frac{πt_0}{6}(2^n+4)(2^n−1)\n",
    "$$\n",
    "この公式を利用して、実際に紙を折り任意の厚さに到達するために必要な紙の長さを求める関数を作成してください。\n",
    "\n",
    "\n",
    "そしてこれを使って「月」「富士山」「最も近い太陽以外の恒星」に届くために必要な紙の長さを求めてください。\n",
    "\n"
   ]
  },
  {
   "cell_type": "code",
   "execution_count": 31,
   "metadata": {},
   "outputs": [
    {
     "output_type": "stream",
     "name": "stdout",
     "text": "月に到達するために必要な紙の長さ: 3.240919444170781e+21m\n富士山の高さに到達するために必要な紙の長さ: 188646348487.24014m\n最も近い太陽以外の恒星に到達するために必要な紙の長さ: 1.4595803601100348e+37m\n"
    }
   ],
   "source": [
    "import math\n",
    "# math.piが必要となるため\n",
    "\n",
    "def required_length(length, t0=8e-5):\n",
    "    folded_count = times_over_thickness(length, t0=t0)\n",
    "    return (math.pi*t0) * (2**folded_count + 4) * (2**folded_count - 1) / 6\n",
    "\n",
    "MOON_DISTANCE = 384400*1000\n",
    "\"\"\"\n",
    "富士山の高さ/最も近い恒星までの距離は以下を流用する。\n",
    "FUJI_HEIGHT = 3776\n",
    "STELLAR_DISTANCE = 4.243*9.461e+15\n",
    "\"\"\"\n",
    "\n",
    "print(\"月に到達するために必要な紙の長さ: {}m\"\n",
    "    .format(required_length(MOON_DISTANCE)))\n",
    "print(\"富士山の高さに到達するために必要な紙の長さ: {}m\"\n",
    "    .format(required_length(FUJI_HEIGHT)))\n",
    "print(\"最も近い太陽以外の恒星に到達するために必要な紙の長さ: {}m\"\n",
    "    .format(required_length(STELLAR_DISTANCE)))"
   ]
  }
 ]
}