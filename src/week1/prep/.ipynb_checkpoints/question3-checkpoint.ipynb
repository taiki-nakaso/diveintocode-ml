{
 "cells": [
  {
   "cell_type": "markdown",
   "metadata": {},
   "source": [
    "# 問題3\n",
    "for文・四則演算を利用して厚さを求める。"
   ]
  },
  {
   "cell_type": "code",
   "execution_count": 59,
   "metadata": {},
   "outputs": [
    {
     "name": "stdout",
     "output_type": "stream",
     "text": [
      "厚さ： 703687441.77664メートル\n",
      "厚さ： 70.37万キロメートル\n"
     ]
    }
   ],
   "source": [
    "\"\"\"\n",
    "Question.3\n",
    "for文を使用する　四則演算のみで計算\n",
    "\"\"\"\n",
    "THICKNESS = 0.00008\n",
    "folded_thickness = THICKNESS\n",
    "for i in range(43):\n",
    "    folded_thickness *= 2\n",
    "print(\"厚さ： {}メートル\".format(folded_thickness))\n",
    "print(\"厚さ： {:.2f}万キロメートル\".format(folded_thickness / (1000*10000)))"
   ]
  }
 ],
 "metadata": {
  "file_extension": ".py",
  "kernelspec": {
   "display_name": "Python 3.7.7 64-bit ('dic': conda)",
   "language": "python",
   "name": "python37764bitdiccondafb578a96322c450885a5255aa544cfce"
  },
  "language_info": {
   "codemirror_mode": {
    "name": "ipython",
    "version": 3
   },
   "file_extension": ".py",
   "mimetype": "text/x-python",
   "name": "python",
   "nbconvert_exporter": "python",
   "pygments_lexer": "ipython3",
   "version": "3.7.7"
  },
  "mimetype": "text/x-python",
  "name": "python",
  "npconvert_exporter": "python",
  "pygments_lexer": "ipython3",
  "version": 3
 },
 "nbformat": 4,
 "nbformat_minor": 2
}
