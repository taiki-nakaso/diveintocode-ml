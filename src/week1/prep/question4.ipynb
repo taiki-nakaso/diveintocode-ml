{
 "cells": [
  {
   "cell_type": "markdown",
   "metadata": {},
   "source": [
    "# 問題4\n",
    "`time` モジュールを利用してべき乗とfor文の実行時間を比較する。\n",
    "なお、変数の定義や `print` 分など共通の処理については除く。"
   ]
  },
  {
   "cell_type": "code",
   "execution_count": 1,
   "metadata": {},
   "outputs": [],
   "source": [
    "import time\n",
    "THICKNESS = 8e-5"
   ]
  },
  {
   "cell_type": "code",
   "execution_count": 2,
   "metadata": {},
   "outputs": [
    {
     "name": "stdout",
     "output_type": "stream",
     "text": [
      "time[1] : 0.0[s]\n"
     ]
    }
   ],
   "source": [
    "start = time.time()\n",
    "\n",
    "# べき乗\n",
    "folded_thickness_1 = THICKNESS * (2**43)\n",
    "\n",
    "elapsed_time = time.time() - start\n",
    "print(\"time[1] : {}[s]\".format(elapsed_time))"
   ]
  },
  {
   "cell_type": "code",
   "execution_count": 3,
   "metadata": {},
   "outputs": [
    {
     "name": "stdout",
     "output_type": "stream",
     "text": [
      "time[2] : 0.0[s]\n"
     ]
    }
   ],
   "source": [
    "start = time.time()\n",
    "\n",
    "# for文\n",
    "folded_thickness_2 = THICKNESS\n",
    "for i in range(43):\n",
    "    folded_thickness_2 *= 2\n",
    "\n",
    "elapsed_time = time.time() - start\n",
    "print(\"time[2] : {}[s]\".format(elapsed_time))"
   ]
  },
  {
   "cell_type": "markdown",
   "metadata": {},
   "source": [
    "# 結果\n",
    "数回試行を行ったが、計算時間が正常に表示されないことがあった。\n",
    "桁が非常に小さく、 `time` モジュールを利用した比較は適切でないと考えられる。"
   ]
  }
 ],
 "metadata": {
  "kernelspec": {
   "display_name": "Python 3.7.7 64-bit ('dic': conda)",
   "language": "python",
   "name": "python37764bitdiccondafb578a96322c450885a5255aa544cfce"
  },
  "language_info": {
   "codemirror_mode": {
    "name": "ipython",
    "version": 3
   },
   "file_extension": ".py",
   "mimetype": "text/x-python",
   "name": "python",
   "nbconvert_exporter": "python",
   "pygments_lexer": "ipython3",
   "version": "3.7.7"
  }
 },
 "nbformat": 4,
 "nbformat_minor": 4
}
