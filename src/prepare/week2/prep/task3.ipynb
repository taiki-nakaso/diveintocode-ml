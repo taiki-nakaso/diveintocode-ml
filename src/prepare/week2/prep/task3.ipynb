{
 "nbformat": 4,
 "nbformat_minor": 2,
 "metadata": {
  "language_info": {
   "name": "python",
   "codemirror_mode": {
    "name": "ipython",
    "version": 3
   },
   "version": "3.7.7-final"
  },
  "orig_nbformat": 2,
  "file_extension": ".py",
  "mimetype": "text/x-python",
  "name": "python",
  "npconvert_exporter": "python",
  "pygments_lexer": "ipython3",
  "version": 3,
  "kernelspec": {
   "name": "python37764bitdiccondafb578a96322c450885a5255aa544cfce",
   "display_name": "Python 3.7.7 64-bit ('dic': conda)"
  }
 },
 "cells": [
  {
   "cell_type": "markdown",
   "metadata": {},
   "source": [
    "# Week2授業前課題3\n",
    "## 行列積のスクラッチ\n",
    "行列積の計算を手計算で行った後、スクラッチ実装することで理解を深めていきます。\n",
    "\n",
    "以下のような行列A、Bを考えます。\n",
    "\n",
    "$$\n",
    "A=\\begin{bmatrix}\n",
    "    -1 & 2 & 3 \\\\\n",
    "    4 & -5 & 6 \\\\\n",
    "    7 & 8 & -9\n",
    "\\end{bmatrix},\n",
    "B=\\begin{bmatrix}\n",
    "    0 & 2 & 1 \\\\\n",
    "    0 & 2 & -8 \\\\\n",
    "    2 & 9 & -1\n",
    "\\end{bmatrix}\n",
    "$$\n",
    "\n",
    "NumPyで表すと次のようになります。\n",
    "\n",
    "```python\n",
    "import numpy as np\n",
    "a_ndarray = np.array([[-1, 2, 3], [4, -5, 6], [7, 8, -9]])\n",
    "b_ndarray = np.array([[0, 2, 1], [0, 2, -8], [2, 9, -1]])\n",
    "```"
   ]
  },
  {
   "cell_type": "markdown",
   "metadata": {},
   "source": [
    "# 問題1\n",
    "## 行列積を手計算する\n",
    "AとBの行列積を手計算で解いてください。\n",
    "\n",
    "\n",
    "計算過程もマークダウンテキストを用いて説明してください。"
   ]
  },
  {
   "cell_type": "markdown",
   "metadata": {},
   "source": [
    "## 行列積の定義（2次元）\n",
    "$n \\times m$行列$A$と$m \\times p$行列$B$を、\n",
    "$$\n",
    "A=\\begin{bmatrix}\n",
    "      a_{11} & a_{12} & \\ldots & a_{1m} \\\\\n",
    "      a_{21} & a_{22} & \\ldots & a_{2m} \\\\\n",
    "      \\vdots & \\vdots & \\ddots & \\vdots \\\\\n",
    "      a_{n1} & a_{n2} & \\ldots & a_{nm}\n",
    "\\end{bmatrix},\\quad\n",
    "B=\\begin{bmatrix}\n",
    "      b_{11} & b_{12} & \\ldots & b_{1p} \\\\\n",
    "      b_{21} & b_{22} & \\ldots & b_{2p} \\\\\n",
    "      \\vdots & \\vdots & \\ddots & \\vdots \\\\\n",
    "      b_{m1} & b_{m2} & \\ldots & b_{mp}\n",
    "\\end{bmatrix}\n",
    "$$\n",
    "とするとき、これらの行列の積$AB$を\n",
    "$$\n",
    "AB=\\begin{bmatrix}\n",
    "      c_{11} & c_{12} & \\ldots & c_{1p} \\\\\n",
    "      c_{21} & c_{22} & \\ldots & c_{2p} \\\\\n",
    "      \\vdots & \\vdots & \\ddots & \\vdots \\\\\n",
    "      c_{n1} & c_{n2} & \\ldots & c_{np}\n",
    "\\end{bmatrix}\n",
    "$$\n",
    "と表す。\n",
    "すると、行列$AB$のそれぞれの要素$c_{ij}$は、\n",
    "$$\n",
    "c_{ij}=\\sum_{k=1}^{m}a_{ik}b_{kj}\\qquad\n",
    "\\begin{pmatrix}\n",
    "      i=1,2,\\ldots,n \\\\\n",
    "      j=1,2,\\ldots,p\n",
    "\\end{pmatrix}\n",
    "$$\n",
    "で表される。\n",
    "\n",
    "よって、\n",
    "\n",
    "$$\n",
    "\\begin{align*}\n",
    "      c_{11}&=(-1)\\times0+2\\times0+3\\times2=6\\\\\n",
    "      c_{12}&=(-1)\\times2+2\\times2+3\\times9=29\\\\\n",
    "      c_{13}&=(-1)\\times1+2\\times(-8)+3\\times(-1)=-20\\\\\n",
    "      c_{21}&=4\\times0+(-5)\\times0+6\\times2=12\\\\\n",
    "      c_{22}&=4\\times2+(-5)\\times2+6\\times9=52\\\\\n",
    "      c_{23}&=4\\times1+(-5)\\times(-8)+6\\times(-1)=38\\\\\n",
    "      c_{31}&=7\\times0+8\\times0+(-9)\\times2=-18\\\\\n",
    "      c_{32}&=7\\times2+8\\times2+(-9)\\times9=-51\\\\\n",
    "      c_{33}&=7\\times1+8\\times(-8)+(-9)\\times(-1)=-48\n",
    "\\end{align*}\n",
    "$$\n",
    "\n",
    "となるから、\n",
    "\n",
    "$$\n",
    "AB=\\begin{bmatrix}\n",
    "      6 & 29 & -20 \\\\\n",
    "      12 & 52 & 38 \\\\\n",
    "      -18 & -51 & -48\n",
    "\\end{bmatrix}\n",
    "$$"
   ]
  },
  {
   "cell_type": "markdown",
   "metadata": {},
   "source": [
    "# 問題2\n",
    "## NumPyの関数による計算\n",
    "この行列積はNumPyの`np.matmul()`や`np.dot()`、または`@`演算子を使うことで簡単に計算できます。\n",
    "\n",
    "\n",
    "これらを使い行列積を計算してください。"
   ]
  },
  {
   "cell_type": "code",
   "execution_count": 3,
   "metadata": {},
   "outputs": [
    {
     "output_type": "stream",
     "name": "stdout",
     "text": "[[  6  29 -20]\n [ 12  52  38]\n [-18 -51 -48]]\n"
    }
   ],
   "source": [
    "# 公式に推奨されるnp.matmul()を使用する\n",
    "import numpy as np\n",
    "a_ndarray = np.array([[-1, 2, 3], [4, -5, 6], [7, 8, -9]])\n",
    "b_ndarray = np.array([[0, 2, 1], [0, 2, -8], [2, 9, -1]])\n",
    "print(np.matmul(a_ndarray, b_ndarray))"
   ]
  },
  {
   "cell_type": "markdown",
   "metadata": {},
   "source": [
    "# 問題3\n",
    "## ある要素の計算を実行\n",
    "手計算をする際はまず行列Aの0行目と行列Bの0列目に注目し、以下の計算を行ったかと思います。\n",
    "\n",
    "\n",
    "- 行列Aの(0,0)の要素$a_{0,0}$と行列Bの(0,0)の要素$b_{0,0}$を掛け合わせる\n",
    "- 行列Aの(0,1)の要素$a_{0,1}$と行列Bの(1,0)の要素$b_{1,0}$を掛け合わせる\n",
    "- 行列Aの(0,2)の要素$a_{0,2}$と行列Bの(2,0)の要素$b_{2,0}$を掛け合わせる\n",
    "- それらの値を全て足し合わせる\n",
    "\n",
    "数式で表すと\n",
    "\n",
    "$$\n",
    "\\sum_{k=0}^{2}a_{0,k}b_{k,0}\n",
    "$$\n",
    "\n",
    "です。\n",
    "\n",
    "\n",
    "この計算を`np.matmul()`や`np.dot()`、または`@`演算子を使わずに行うコードを書いてください。"
   ]
  },
  {
   "cell_type": "code",
   "execution_count": 19,
   "metadata": {},
   "outputs": [
    {
     "output_type": "stream",
     "name": "stdout",
     "text": "6\n"
    }
   ],
   "source": [
    "c_00 = a_ndarray[0][0]*b_ndarray[0][0] + a_ndarray[0][1]*b_ndarray[1][0] + a_ndarray[0][2]*b_ndarray[2][0]\n",
    "print(c_00)"
   ]
  },
  {
   "cell_type": "markdown",
   "metadata": {},
   "source": [
    "# 問題4\n",
    "## 行列積を行う関数の作成\n",
    "問題3のコードを拡張し、行列積のスクラッチ実装を完成させてください。行列AとBを引数に受け取り、行列積を返す関数としてください。\n",
    "\n",
    "\n",
    "行列積を計算する場合は、問題3の計算を異なる行や列に対して繰り返していくことになります。\n",
    "\n",
    "\n",
    "計算結果である$3\\times3$の行列Cの各要素$c_{i,j}$は数式で表すと次のようになります。\n",
    "\n",
    "$$\n",
    "c_{i,j}=\\sum_{k=0}^{2}a_{i,j}b_{k,j}\n",
    "$$\n",
    "\n",
    "for文を使い、ndarrayのインデックスを動かしていくことで、合計9つの要素が計算できます。インデックス$i$や$j$を1増やすと、次の行や列に移ることができます。"
   ]
  },
  {
   "cell_type": "code",
   "execution_count": 15,
   "metadata": {},
   "outputs": [
    {
     "output_type": "stream",
     "name": "stdout",
     "text": "[[  6.  29. -20.]\n [ 12.  52.  38.]\n [-18. -51. -48.]]\n"
    }
   ],
   "source": [
    "# c = ab(行列aと行列bの積)\n",
    "def matrix_multiple(a, b):\n",
    "    c = np.zeros((a.shape[0], b.shape[1]))\n",
    "    for i in range(a.shape[0]):\n",
    "        for j in range(b.shape[1]):\n",
    "            c[i][j] = sum([a[i][k]*b[k][j] for k in range(a.shape[1])])\n",
    "    return c\n",
    "\n",
    "c_ndarray = matrix_multiple(a_ndarray, b_ndarray)\n",
    "print(c_ndarray)"
   ]
  },
  {
   "cell_type": "markdown",
   "metadata": {},
   "source": [
    "次に以下のような例を考えます。\n",
    "\n",
    "$$\n",
    "D=\\begin{bmatrix}\n",
    "    -1 & 2 & 3 \\\\\n",
    "    4 & -5 & 6\n",
    "\\end{bmatrix},\\quad\n",
    "E=\\begin{bmatrix}\n",
    "    -9 & 8 & 7 \\\\\n",
    "    6 & -5 & 4\n",
    "\\end{bmatrix}\n",
    "$$\n",
    "\n",
    "```python\n",
    "d_ndarray = np.array([[-1, 2, 3], [4, -5, 6]])\n",
    "e_ndarray = np.array([[-9, 8, 7], [6, -5, 4]])\n",
    "```\n",
    "\n",
    "行列積DEはDの列数とEの行数が等しい場合に定義されていますから、この例では計算ができません。"
   ]
  },
  {
   "cell_type": "markdown",
   "metadata": {},
   "source": [
    "# 問題5\n",
    "## 計算が定義されない入力を判定する\n",
    "問題4で作成した関数は、実装方法によってはこのDとEの配列を入力しても動いてしまう可能性があります。この場合、不適切な計算が行われることになります。また、途中でエラーになる場合でも、なぜエラーになったかが直接的には分かりづらいメッセージが表示されます。\n",
    "\n",
    "\n",
    "if文などによってこれを防ぎ、入力される形に問題があることを`print()`を使い表示するコードを書き加えてください。"
   ]
  },
  {
   "cell_type": "code",
   "execution_count": 20,
   "metadata": {},
   "outputs": [
    {
     "output_type": "stream",
     "name": "stdout",
     "text": "Cannot define multiplication!\n-1\n"
    }
   ],
   "source": [
    "def advanced_matrix_multiple(a, b):\n",
    "    if a.shape[1]!=b.shape[0]:\n",
    "        print('Cannot define multiplication!')\n",
    "        return -1\n",
    "    else:\n",
    "        return matrix_multiple(a, b)\n",
    "\n",
    "# エラーを発生させてみる\n",
    "d_ndarray = np.array([[-1, 2, 3], [4, -5, 6]])\n",
    "e_ndarray = np.array([[-9, 8, 7], [6, -5, 4]])\n",
    "print(advanced_matrix_multiple(d_ndarray, e_ndarray))"
   ]
  },
  {
   "cell_type": "markdown",
   "metadata": {},
   "source": [
    "# 問題6\n",
    "## 転置\n",
    "片方の行列を転置することで、行列積が計算できるようになります。\n",
    "\n",
    "\n",
    "`np.transpose()`や`.T`アトリビュートを用いて転置し、行列積を計算してください。"
   ]
  },
  {
   "cell_type": "code",
   "execution_count": 21,
   "metadata": {},
   "outputs": [
    {
     "output_type": "stream",
     "name": "stdout",
     "text": "[[ 33. -28.   9.]\n [-48.  41.  -6.]\n [  9.  -6.  45.]]\n[[ 46.  -4.]\n [-34.  73.]]\n"
    }
   ],
   "source": [
    "# np.transpose()\n",
    "print(advanced_matrix_multiple(np.transpose(d_ndarray), e_ndarray))\n",
    "\n",
    "# .T\n",
    "print(advanced_matrix_multiple(d_ndarray, e_ndarray.T))"
   ]
  }
 ]
}