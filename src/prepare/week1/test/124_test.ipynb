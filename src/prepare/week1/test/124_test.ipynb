{
 "cells": [
  {
   "cell_type": "code",
   "execution_count": 116,
   "metadata": {},
   "outputs": [],
   "source": [
    "# code for test\n",
    "\"\"\"\n",
    "Question.4\n",
    "実行時間計算\n",
    "\"\"\"\n",
    "import time\n",
    "start = time.time()"
   ]
  },
  {
   "cell_type": "code",
   "execution_count": 117,
   "metadata": {},
   "outputs": [
    {
     "name": "stdout",
     "output_type": "stream",
     "text": [
      "厚さ： 703687441.77664メートル\n",
      "厚さ： 70.37万キロメートル\n"
     ]
    }
   ],
   "source": [
    "\n",
    "\"\"\"\n",
    "Question.1\n",
    "43回紙を折った厚さの計算（べき乗を利用）\n",
    "\"\"\"\n",
    "THICKNESS = 0.00008\n",
    "folded_thickness = THICKNESS * (2**43)\n",
    "print(\"厚さ： {}メートル\".format(folded_thickness))\n",
    "\"\"\"\n",
    "Question.2\n",
    "# メートルを万キロメートルに変換して小数点以下2桁で表示する\n",
    "\"\"\"\n",
    "print(\"厚さ： {:.2f}万キロメートル\".format(folded_thickness / (1000*10000)))"
   ]
  },
  {
   "cell_type": "code",
   "execution_count": 118,
   "metadata": {},
   "outputs": [
    {
     "name": "stdout",
     "output_type": "stream",
     "text": [
      "time : 0.05803966522216797[s]\n"
     ]
    }
   ],
   "source": [
    "# セル分割するとオーバーヘッドが増えるらしい（0.03sくらい増えていそう）\n",
    "elapsed_time = time.time() - start\n",
    "print(\"time : {}[s]\".format(elapsed_time))"
   ]
  }
 ],
 "metadata": {
  "file_extension": ".py",
  "kernelspec": {
   "display_name": "Python 3.7.7 64-bit ('dic': conda)",
   "language": "python",
   "name": "python37764bitdiccondafb578a96322c450885a5255aa544cfce"
  },
  "language_info": {
   "codemirror_mode": {
    "name": "ipython",
    "version": 3
   },
   "file_extension": ".py",
   "mimetype": "text/x-python",
   "name": "python",
   "nbconvert_exporter": "python",
   "pygments_lexer": "ipython3",
   "version": "3.7.7"
  },
  "mimetype": "text/x-python",
  "name": "python",
  "npconvert_exporter": "python",
  "pygments_lexer": "ipython3",
  "version": 3
 },
 "nbformat": 4,
 "nbformat_minor": 2
}
