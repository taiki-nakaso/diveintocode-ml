{
 "cells": [
  {
   "cell_type": "markdown",
   "metadata": {},
   "source": [
    "# 発展問題\n",
    "- 繰り返し回数を増やして比較\n",
    "- マジックコマンド `%timeit`, `%%timeit` を利用して計算時間を計測\n",
    "\n",
    " → `%%timeit` を利用し、セルごとの処理を繰り返し実行・比較する\n",
    " \n",
    " \n",
    "なお、変数の定義や `print` 分など共通の処理については除く。"
   ]
  },
  {
   "cell_type": "code",
   "execution_count": 1,
   "metadata": {
    "tags": [
     "outputPrepend"
    ]
   },
   "outputs": [],
   "source": [
    "THICKNESS = 8e-5"
   ]
  },
  {
   "cell_type": "code",
   "execution_count": 2,
   "metadata": {
    "tags": [
     "outputPrepend"
    ]
   },
   "outputs": [
    {
     "name": "stdout",
     "output_type": "stream",
     "text": [
      "134 ns ± 7.98 ns per loop (mean ± std. dev. of 7 runs, 10000000 loops each)\n"
     ]
    }
   ],
   "source": [
    "%%timeit\n",
    "folded_thickness_1 = THICKNESS * (2**43)"
   ]
  },
  {
   "cell_type": "code",
   "execution_count": 3,
   "metadata": {},
   "outputs": [
    {
     "name": "stdout",
     "output_type": "stream",
     "text": [
      "3.49 µs ± 357 ns per loop (mean ± std. dev. of 7 runs, 100000 loops each)\n"
     ]
    }
   ],
   "source": [
    "%%timeit\n",
    "folded_thickness_2 = THICKNESS\n",
    "for i in range(43):\n",
    "    folded_thickness_2 *= 2"
   ]
  },
  {
   "cell_type": "markdown",
   "metadata": {},
   "source": [
    "# 結果\n",
    "## べき乗\n",
    "134 ± 7.98 (ns/loop) : 10^7loop\n",
    "## for文\n",
    "> 3.49 µs ± 357 ns per loop\n",
    "\n",
    "= 3490 ± 357 (ns/loop) : 10^5loop\n",
    "## 比較\n",
    " **for文計算時間 > べき乗計算時間** という結果になった。\n",
    "\n",
    "内部ロジックの計算量の差が顕著に表れていると考えられる。（詳細については割愛）"
   ]
  }
 ],
 "metadata": {
  "file_extension": ".py",
  "kernelspec": {
   "display_name": "Python 3.7.7 64-bit ('dic': conda)",
   "language": "python",
   "name": "python37764bitdiccondafb578a96322c450885a5255aa544cfce"
  },
  "language_info": {
   "codemirror_mode": {
    "name": "ipython",
    "version": 3
   },
   "file_extension": ".py",
   "mimetype": "text/x-python",
   "name": "python",
   "nbconvert_exporter": "python",
   "pygments_lexer": "ipython3",
   "version": "3.7.7"
  },
  "mimetype": "text/x-python",
  "name": "python",
  "npconvert_exporter": "python",
  "pygments_lexer": "ipython3",
  "version": 3
 },
 "nbformat": 4,
 "nbformat_minor": 2
}