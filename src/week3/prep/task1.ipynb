{
 "nbformat": 4,
 "nbformat_minor": 2,
 "metadata": {
  "language_info": {
   "name": "python",
   "codemirror_mode": {
    "name": "ipython",
    "version": 3
   },
   "version": "3.7.7-final"
  },
  "orig_nbformat": 2,
  "file_extension": ".py",
  "mimetype": "text/x-python",
  "name": "python",
  "npconvert_exporter": "python",
  "pygments_lexer": "ipython3",
  "version": 3,
  "kernelspec": {
   "name": "python37764bitdiccondafb578a96322c450885a5255aa544cfce",
   "display_name": "Python 3.7.7 64-bit ('dic': conda)"
  }
 },
 "cells": [
  {
   "cell_type": "markdown",
   "metadata": {},
   "source": [
    "# Week3授業前課題1\n",
    "## アヤメの分析\n",
    "「フィッシャーのアヤメ」という機械学習やデータ分析の世界で有名なデータセットを使い、基本的なデータの扱い方を学んでいきます。"
   ],
   "execution_count": null,
   "outputs": []
  },
  {
   "cell_type": "markdown",
   "metadata": {},
   "source": [
    "# 問題1\n",
    "## データの取得\n",
    "以下のドキュメントを参考にしながら、irisデータセットを読み込みましょう。\n",
    "\n",
    "データが読み込めたら、説明変数を下のようなPandasのDataFrame型変数Xに格納してください。列の名前も以下を参考にしてください。\n",
    "\n",
    "目的変数も同様にyに格納してください。\n",
    "\n",
    "（表省略）"
   ],
   "execution_count": null,
   "outputs": []
  },
  {
   "cell_type": "code",
   "execution_count": 1,
   "metadata": {},
   "outputs": [
    {
     "output_type": "stream",
     "name": "stdout",
     "text": "sepal_length  sepal_width  petal_length  petal_width\n0             5.1          3.5           1.4          0.2\n1             4.9          3.0           1.4          0.2\n2             4.7          3.2           1.3          0.2\n3             4.6          3.1           1.5          0.2\n4             5.0          3.6           1.4          0.2\n..            ...          ...           ...          ...\n145           6.7          3.0           5.2          2.3\n146           6.3          2.5           5.0          1.9\n147           6.5          3.0           5.2          2.0\n148           6.2          3.4           5.4          2.3\n149           5.9          3.0           5.1          1.8\n\n[150 rows x 4 columns]\n     Species\n0          0\n1          0\n2          0\n3          0\n4          0\n..       ...\n145        2\n146        2\n147        2\n148        2\n149        2\n\n[150 rows x 1 columns]\n"
    }
   ],
   "source": [
    "import numpy as np\n",
    "import pandas as pd\n",
    "from sklearn.datasets import load_iris\n",
    "# load iris (dictionary型)\n",
    "data = load_iris()\n",
    "\n",
    "# 説明変数\n",
    "X = pd.DataFrame(data=data.get('data'), \n",
    "    columns=['sepal_length', 'sepal_width', 'petal_length', 'petal_width'])\n",
    "print(X)\n",
    "\n",
    "# 目的変数\n",
    "Y = pd.DataFrame(data=data.get('target'),\n",
    "    columns=['Species'])\n",
    "print(Y)"
   ]
  },
  {
   "cell_type": "markdown",
   "metadata": {},
   "source": [
    "# 問題2\n",
    "## データの結合\n",
    "問題1で準備したX,yを結合させたDataFrame型変数dfを作成してください。結合することで扱いやすくなります。これ以降はこのdfを使っていきます。\n",
    "\n",
    "（表省略）"
   ],
   "execution_count": null,
   "outputs": []
  },
  {
   "cell_type": "code",
   "execution_count": 2,
   "metadata": {},
   "outputs": [
    {
     "output_type": "stream",
     "name": "stdout",
     "text": "sepal_length  sepal_width  petal_length  petal_width  Species\n0             5.1          3.5           1.4          0.2        0\n1             4.9          3.0           1.4          0.2        0\n2             4.7          3.2           1.3          0.2        0\n3             4.6          3.1           1.5          0.2        0\n4             5.0          3.6           1.4          0.2        0\n..            ...          ...           ...          ...      ...\n145           6.7          3.0           5.2          2.3        2\n146           6.3          2.5           5.0          1.9        2\n147           6.5          3.0           5.2          2.0        2\n148           6.2          3.4           5.4          2.3        2\n149           5.9          3.0           5.1          1.8        2\n\n[150 rows x 5 columns]\n"
    }
   ],
   "source": [
    "df = pd.concat([X, Y], axis=1)\n",
    "print(df)"
   ]
  },
  {
   "cell_type": "markdown",
   "metadata": {},
   "source": [
    "# 問題3\n",
    "## データの確認\n",
    "今回扱うデータがどのようなものなのかを確認します。以下の4つを行ってください。\n",
    "\n",
    "- 先頭から4番目までのサンプルを表示させ、各特徴量がどういったものかを見る。（数値データか文字データかなど）\n",
    "- ラベルごとのサンプル数の合計を出力する。\n",
    "- 特徴量に欠損値があるかを確認する。\n",
    "- 特徴量の平均値と標準偏差、四分位数を一度に表示させる。\n",
    "\n",
    "DataFrameのメソッドである`.head()`,`.info()`,`.describe()`,`.isnull()`,`.sum()`や、Seriesのメソッドである`.value_counts`などを使ってみましょう。"
   ],
   "execution_count": null,
   "outputs": []
  },
  {
   "cell_type": "code",
   "execution_count": 64,
   "metadata": {},
   "outputs": [
    {
     "output_type": "stream",
     "name": "stdout",
     "text": "sepal_length  sepal_width  petal_length  petal_width  Species\n0           5.1          3.5           1.4          0.2        0\n1           4.9          3.0           1.4          0.2        0\n2           4.7          3.2           1.3          0.2        0\n3           4.6          3.1           1.5          0.2        0\n\n<class 'pandas.core.frame.DataFrame'>\nRangeIndex: 150 entries, 0 to 149\nData columns (total 5 columns):\n #   Column        Non-Null Count  Dtype  \n---  ------        --------------  -----  \n 0   sepal_length  150 non-null    float64\n 1   sepal_width   150 non-null    float64\n 2   petal_length  150 non-null    float64\n 3   petal_width   150 non-null    float64\n 4   Species       150 non-null    int32  \ndtypes: float64(4), int32(1)\nmemory usage: 5.4 KB\n"
    }
   ],
   "source": [
    "# 先頭から4番目までのサンプルを表示させ、各特徴量がどういったものかを見る。（数値データか文字データかなど）\n",
    "\n",
    "print(df.head(4), end='\\n\\n')\n",
    "\n",
    "df.info()\n",
    "\n",
    "# 行数: 150\n",
    "# 型:\n",
    "#     説明変数: float64(64ビット浮動小数点数) \n",
    "#     目的変数: int32(32ビット整数)\n",
    "# 欠損値: なし"
   ]
  },
  {
   "cell_type": "code",
   "execution_count": 22,
   "metadata": {},
   "outputs": [
    {
     "output_type": "stream",
     "name": "stdout",
     "text": "2    50\n1    50\n0    50\nName: Species, dtype: int64\n"
    }
   ],
   "source": [
    "# ラベルごとのサンプル数の合計を出力する。\n",
    "\n",
    "print(df['Species'].value_counts())\n",
    "\n",
    "# 一様に50行ずつ存在する"
   ]
  },
  {
   "cell_type": "code",
   "execution_count": 68,
   "metadata": {},
   "outputs": [
    {
     "output_type": "stream",
     "name": "stdout",
     "text": "sepal_length  sepal_width  petal_length  petal_width  Species\n0           False        False         False        False    False\n1           False        False         False        False    False\n2           False        False         False        False    False\n3           False        False         False        False    False\n4           False        False         False        False    False\n..            ...          ...           ...          ...      ...\n145         False        False         False        False    False\n146         False        False         False        False    False\n147         False        False         False        False    False\n148         False        False         False        False    False\n149         False        False         False        False    False\n\n[150 rows x 5 columns]\n\nFalse    150\nName: sepal_length, dtype: int64\nFalse    150\nName: sepal_width, dtype: int64\nFalse    150\nName: petal_length, dtype: int64\nFalse    150\nName: petal_width, dtype: int64\nFalse    150\nName: Species, dtype: int64\n"
    }
   ],
   "source": [
    "# 特徴量に欠損値があるかを確認する。\n",
    "\n",
    "df_isnull = df.isnull()\n",
    "\n",
    "print(df_isnull, end='\\n\\n')\n",
    "\n",
    "_ = [print(df_isnull[x].value_counts()) for x in df_isnull.columns]\n",
    "\n",
    "# すべての列で欠損値なし"
   ]
  },
  {
   "cell_type": "code",
   "execution_count": 75,
   "metadata": {},
   "outputs": [
    {
     "output_type": "execute_result",
     "data": {
      "text/plain": "       sepal_length  sepal_width  petal_length  petal_width     Species\ncount    150.000000   150.000000    150.000000   150.000000  150.000000\nmean       5.843333     3.057333      3.758000     1.199333    1.000000\nstd        0.828066     0.435866      1.765298     0.762238    0.819232\nmin        4.300000     2.000000      1.000000     0.100000    0.000000\n25%        5.100000     2.800000      1.600000     0.300000    0.000000\n50%        5.800000     3.000000      4.350000     1.300000    1.000000\n75%        6.400000     3.300000      5.100000     1.800000    2.000000\nmax        7.900000     4.400000      6.900000     2.500000    2.000000",
      "text/html": "<div>\n<style scoped>\n    .dataframe tbody tr th:only-of-type {\n        vertical-align: middle;\n    }\n\n    .dataframe tbody tr th {\n        vertical-align: top;\n    }\n\n    .dataframe thead th {\n        text-align: right;\n    }\n</style>\n<table border=\"1\" class=\"dataframe\">\n  <thead>\n    <tr style=\"text-align: right;\">\n      <th></th>\n      <th>sepal_length</th>\n      <th>sepal_width</th>\n      <th>petal_length</th>\n      <th>petal_width</th>\n      <th>Species</th>\n    </tr>\n  </thead>\n  <tbody>\n    <tr>\n      <th>count</th>\n      <td>150.000000</td>\n      <td>150.000000</td>\n      <td>150.000000</td>\n      <td>150.000000</td>\n      <td>150.000000</td>\n    </tr>\n    <tr>\n      <th>mean</th>\n      <td>5.843333</td>\n      <td>3.057333</td>\n      <td>3.758000</td>\n      <td>1.199333</td>\n      <td>1.000000</td>\n    </tr>\n    <tr>\n      <th>std</th>\n      <td>0.828066</td>\n      <td>0.435866</td>\n      <td>1.765298</td>\n      <td>0.762238</td>\n      <td>0.819232</td>\n    </tr>\n    <tr>\n      <th>min</th>\n      <td>4.300000</td>\n      <td>2.000000</td>\n      <td>1.000000</td>\n      <td>0.100000</td>\n      <td>0.000000</td>\n    </tr>\n    <tr>\n      <th>25%</th>\n      <td>5.100000</td>\n      <td>2.800000</td>\n      <td>1.600000</td>\n      <td>0.300000</td>\n      <td>0.000000</td>\n    </tr>\n    <tr>\n      <th>50%</th>\n      <td>5.800000</td>\n      <td>3.000000</td>\n      <td>4.350000</td>\n      <td>1.300000</td>\n      <td>1.000000</td>\n    </tr>\n    <tr>\n      <th>75%</th>\n      <td>6.400000</td>\n      <td>3.300000</td>\n      <td>5.100000</td>\n      <td>1.800000</td>\n      <td>2.000000</td>\n    </tr>\n    <tr>\n      <th>max</th>\n      <td>7.900000</td>\n      <td>4.400000</td>\n      <td>6.900000</td>\n      <td>2.500000</td>\n      <td>2.000000</td>\n    </tr>\n  </tbody>\n</table>\n</div>"
     },
     "metadata": {},
     "execution_count": 75
    }
   ],
   "source": [
    "# 特徴量の平均値と標準偏差、四分位数を一度に表示させる。\n",
    "\n",
    "df.describe()\n",
    "\n",
    "# about df.describe()\n",
    "# column単位で以下データを出力\n",
    "# count: 値がnullでない行の数\n",
    "# mean: 平均値\n",
    "# std: 標準偏差\n",
    "# min: 最小値(=0%)\n",
    "# 25%, 50%, 75%: パーセンタイル(四分位数)\n",
    "# max: 最大値(=100%)"
   ]
  },
  {
   "cell_type": "markdown",
   "metadata": {},
   "source": [
    "# 問題4\n",
    "## irisデータセット自体の調査\n",
    "ページのはじめで「カナダのガスペ半島のある牧草地で」と書きましたが、データセット自体についてもう少し調査しておきましょう。データセットを見る上で、そのデータセット自体について知っておくことも大切です。"
   ]
  },
  {
   "cell_type": "markdown",
   "metadata": {},
   "source": [
    "# WIP"
   ]
  },
  {
   "cell_type": "markdown",
   "metadata": {},
   "source": [
    "# 問題5\n",
    "## 必要なデータを抽出\n",
    "DataFrameから必要なデータを抽出する方法を確認していきます。以下を行ってください。\n",
    "\n",
    "- sepal_widthの列を３つの異なる方法で抽出する\n",
    "- 50番目から99番目までのデータを抽出する\n",
    "- petal_lengthの列の50番目から99番目までのデータを抽出する\n",
    "- petal_widthの値が0.2のデータを抽出する\n",
    "\n",
    "`.loc`や`.iloc`を使うことになります。この２つはどう違うのかについて説明してください。"
   ]
  },
  {
   "cell_type": "code",
   "execution_count": 80,
   "metadata": {},
   "outputs": [
    {
     "output_type": "stream",
     "name": "stdout",
     "text": "0      3.5\n1      3.0\n2      3.2\n3      3.1\n4      3.6\n      ... \n145    3.0\n146    2.5\n147    3.0\n148    3.4\n149    3.0\nName: sepal_width, Length: 150, dtype: float64\n\n0      3.5\n1      3.0\n2      3.2\n3      3.1\n4      3.6\n      ... \n145    3.0\n146    2.5\n147    3.0\n148    3.4\n149    3.0\nName: sepal_width, Length: 150, dtype: float64\n\n0      3.5\n1      3.0\n2      3.2\n3      3.1\n4      3.6\n      ... \n145    3.0\n146    2.5\n147    3.0\n148    3.4\n149    3.0\nName: sepal_width, Length: 150, dtype: float64\n\n"
    }
   ],
   "source": [
    "# sepal_widthの列を３つの異なる方法で抽出する\n",
    "\n",
    "# 直接インデックス参照で抽出\n",
    "print(df['sepal_width'], end='\\n\\n')\n",
    "\n",
    "# .locを利用\n",
    "print(df.loc[:, 'sepal_width'], end='\\n\\n')\n",
    "\n",
    "# .ilocを利用\n",
    "print(df.iloc[:, 1], end='\\n\\n')"
   ]
  },
  {
   "cell_type": "code",
   "execution_count": 82,
   "metadata": {},
   "outputs": [
    {
     "output_type": "stream",
     "name": "stdout",
     "text": "sepal_length  sepal_width  petal_length  petal_width  Species\n49           5.0          3.3           1.4          0.2        0\n50           7.0          3.2           4.7          1.4        1\n51           6.4          3.2           4.5          1.5        1\n52           6.9          3.1           4.9          1.5        1\n53           5.5          2.3           4.0          1.3        1\n54           6.5          2.8           4.6          1.5        1\n55           5.7          2.8           4.5          1.3        1\n56           6.3          3.3           4.7          1.6        1\n57           4.9          2.4           3.3          1.0        1\n58           6.6          2.9           4.6          1.3        1\n59           5.2          2.7           3.9          1.4        1\n60           5.0          2.0           3.5          1.0        1\n61           5.9          3.0           4.2          1.5        1\n62           6.0          2.2           4.0          1.0        1\n63           6.1          2.9           4.7          1.4        1\n64           5.6          2.9           3.6          1.3        1\n65           6.7          3.1           4.4          1.4        1\n66           5.6          3.0           4.5          1.5        1\n67           5.8          2.7           4.1          1.0        1\n68           6.2          2.2           4.5          1.5        1\n69           5.6          2.5           3.9          1.1        1\n70           5.9          3.2           4.8          1.8        1\n71           6.1          2.8           4.0          1.3        1\n72           6.3          2.5           4.9          1.5        1\n73           6.1          2.8           4.7          1.2        1\n74           6.4          2.9           4.3          1.3        1\n75           6.6          3.0           4.4          1.4        1\n76           6.8          2.8           4.8          1.4        1\n77           6.7          3.0           5.0          1.7        1\n78           6.0          2.9           4.5          1.5        1\n79           5.7          2.6           3.5          1.0        1\n80           5.5          2.4           3.8          1.1        1\n81           5.5          2.4           3.7          1.0        1\n82           5.8          2.7           3.9          1.2        1\n83           6.0          2.7           5.1          1.6        1\n84           5.4          3.0           4.5          1.5        1\n85           6.0          3.4           4.5          1.6        1\n86           6.7          3.1           4.7          1.5        1\n87           6.3          2.3           4.4          1.3        1\n88           5.6          3.0           4.1          1.3        1\n89           5.5          2.5           4.0          1.3        1\n90           5.5          2.6           4.4          1.2        1\n91           6.1          3.0           4.6          1.4        1\n92           5.8          2.6           4.0          1.2        1\n93           5.0          2.3           3.3          1.0        1\n94           5.6          2.7           4.2          1.3        1\n95           5.7          3.0           4.2          1.2        1\n96           5.7          2.9           4.2          1.3        1\n97           6.2          2.9           4.3          1.3        1\n98           5.1          2.5           3.0          1.1        1\n"
    }
   ],
   "source": [
    "# 50番目から99番目までのデータを抽出する\n",
    "# index=49-98を抽出\n",
    "\n",
    "print(df.iloc[49:99, :])"
   ]
  },
  {
   "cell_type": "code",
   "execution_count": 83,
   "metadata": {},
   "outputs": [
    {
     "output_type": "stream",
     "name": "stdout",
     "text": "49    1.4\n50    4.7\n51    4.5\n52    4.9\n53    4.0\n54    4.6\n55    4.5\n56    4.7\n57    3.3\n58    4.6\n59    3.9\n60    3.5\n61    4.2\n62    4.0\n63    4.7\n64    3.6\n65    4.4\n66    4.5\n67    4.1\n68    4.5\n69    3.9\n70    4.8\n71    4.0\n72    4.9\n73    4.7\n74    4.3\n75    4.4\n76    4.8\n77    5.0\n78    4.5\n79    3.5\n80    3.8\n81    3.7\n82    3.9\n83    5.1\n84    4.5\n85    4.5\n86    4.7\n87    4.4\n88    4.1\n89    4.0\n90    4.4\n91    4.6\n92    4.0\n93    3.3\n94    4.2\n95    4.2\n96    4.2\n97    4.3\n98    3.0\nName: petal_length, dtype: float64\n"
    }
   ],
   "source": [
    "# petal_lengthの列の50番目から99番目までのデータを抽出する\n",
    "# index=49-98, column_num=2='petal_length'を抽出\n",
    "\n",
    "print(df.iloc[49:99, 2])"
   ]
  },
  {
   "cell_type": "code",
   "execution_count": 85,
   "metadata": {},
   "outputs": [
    {
     "output_type": "stream",
     "name": "stdout",
     "text": "sepal_length  sepal_width  petal_length  petal_width  Species\n0            5.1          3.5           1.4          0.2        0\n1            4.9          3.0           1.4          0.2        0\n2            4.7          3.2           1.3          0.2        0\n3            4.6          3.1           1.5          0.2        0\n4            5.0          3.6           1.4          0.2        0\n7            5.0          3.4           1.5          0.2        0\n8            4.4          2.9           1.4          0.2        0\n10           5.4          3.7           1.5          0.2        0\n11           4.8          3.4           1.6          0.2        0\n14           5.8          4.0           1.2          0.2        0\n20           5.4          3.4           1.7          0.2        0\n22           4.6          3.6           1.0          0.2        0\n24           4.8          3.4           1.9          0.2        0\n25           5.0          3.0           1.6          0.2        0\n27           5.2          3.5           1.5          0.2        0\n28           5.2          3.4           1.4          0.2        0\n29           4.7          3.2           1.6          0.2        0\n30           4.8          3.1           1.6          0.2        0\n33           5.5          4.2           1.4          0.2        0\n34           4.9          3.1           1.5          0.2        0\n35           5.0          3.2           1.2          0.2        0\n36           5.5          3.5           1.3          0.2        0\n38           4.4          3.0           1.3          0.2        0\n39           5.1          3.4           1.5          0.2        0\n42           4.4          3.2           1.3          0.2        0\n46           5.1          3.8           1.6          0.2        0\n47           4.6          3.2           1.4          0.2        0\n48           5.3          3.7           1.5          0.2        0\n49           5.0          3.3           1.4          0.2        0\n"
    }
   ],
   "source": [
    "# petal_widthの値が0.2のデータを抽出する\n",
    "\n",
    "print(df[df['petal_width'] == 0.2])"
   ]
  },
  {
   "cell_type": "markdown",
   "metadata": {},
   "source": [
    "## `.loc`と`.iloc`の違い\n",
    "<dl>\n",
    "    <dt>.loc</dt>\n",
    "    <dd>DataFrameの行、列を<strong>ラベル</strong>で抽出する<dd>\n",
    "    <dt>.iloc</dt>\n",
    "    <dd>DataFrameの行、列を<strong>番号</strong>で抽出する<dd>\n",
    "</dl>"
   ]
  },
  {
   "cell_type": "markdown",
   "metadata": {},
   "source": [
    "# 問題6\n",
    "## 図の作成\n",
    "データは可視化して確認することが大切です。次の3つを行ってください。作図のライブラリはMatplotlibの他seabornもよく使われます。\n",
    "\n",
    "- ラベルごとのサンプル数を円グラフにする（パーセンテージまで表示する）\n",
    "- 特徴量を一つずつ選び、箱ひげ図を使ってラベルごとのデータの分布を可視化する\n",
    "- 特徴量を一つずつ選び、バイオリン図を使ってラベルごとのデータの分布を可視化する\n",
    "\n",
    "箱ひげ図とバイオリン図は似た図を表示します。これらはどう違い、それぞれどのような利点があるのかについて説明してください。"
   ]
  },
  {
   "cell_type": "code",
   "execution_count": null,
   "metadata": {},
   "outputs": [],
   "source": [
    "import matplotlib.pyplot as  plt\n",
    "import seaborn as sns"
   ]
  }
 ]
}