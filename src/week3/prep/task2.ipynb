{
 "nbformat": 4,
 "nbformat_minor": 2,
 "metadata": {
  "language_info": {
   "name": "python",
   "codemirror_mode": {
    "name": "ipython",
    "version": 3
   }
  },
  "orig_nbformat": 2,
  "file_extension": ".py",
  "mimetype": "text/x-python",
  "name": "python",
  "npconvert_exporter": "python",
  "pygments_lexer": "ipython3",
  "version": 3
 },
 "cells": [
  {
   "cell_type": "markdown",
   "metadata": {},
   "source": [
    "# Week3授業前課題2\n",
    "## 住居情報の分析\n",
    "アイオワ州エイムズ市の住宅価格データセットを使い、基本的なデータの扱い方を学んでいきます。\n",
    "\n",
    "住宅に関する79種類もの説明変数が用意されているため、それらと価格との関係を探索していきましょう。\n",
    "\n",
    "エイムズがどのような街なのかもWikipediaなどで確認しておくと良いでしょう。\n",
    "\n",
    "[Ames, Iowa - Wikipedia](https://en.wikipedia.org/wiki/Ames,_Iowa)"
   ]
  },
  {
   "cell_type": "markdown",
   "metadata": {},
   "source": [
    "# 問題1\n",
    "## データセットの取得"
   ]
  }
 ]
}