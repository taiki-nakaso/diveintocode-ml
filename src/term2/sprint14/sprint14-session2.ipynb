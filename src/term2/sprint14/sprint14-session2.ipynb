{
 "cells": [
  {
   "cell_type": "markdown",
   "metadata": {},
   "source": [
    "# Sprint\n",
    "## ディープラーニングフレームワーク2"
   ]
  },
  {
   "cell_type": "markdown",
   "metadata": {},
   "source": [
    "## 1.このSprintについて\n",
    "\n",
    "### Sprintの目的\n",
    "- フレームワークのコードを読めるようにする\n",
    "- フレームワークを習得し続けられるようになる\n",
    "- 理論を知っている範囲をフレームワークで動かす\n",
    "\n",
    "### どのように学ぶか\n",
    "前半はTensorFlowのExampleを動かします。後半ではKerasのコードを書いていきます。"
   ]
  },
  {
   "cell_type": "code",
   "execution_count": 1,
   "metadata": {},
   "outputs": [],
   "source": [
    "# library\n",
    "import numpy as np\n",
    "import pandas as pd\n",
    "import os\n",
    "from sklearn.model_selection import train_test_split\n",
    "from sklearn.preprocessing import StandardScaler\n",
    "from sklearn.metrics import mean_absolute_error, accuracy_score\n",
    "import matplotlib.pyplot as plt\n",
    "import tensorflow as tf\n",
    "import tensorflow_datasets as tfds\n",
    "from tensorflow.python.client import device_lib\n",
    "from tensorflow.keras import backend as K\n",
    "from tensorflow.keras.datasets import mnist\n",
    "import torch\n",
    "import torch.nn as nn\n",
    "from torch.utils.data import TensorDataset, DataLoader\n",
    "import torch.optim as optim"
   ]
  },
  {
   "cell_type": "markdown",
   "metadata": {},
   "source": [
    "## 2.公式Example\n",
    "\n",
    "深層学習フレームワークには公式に様々なモデルのExampleコードが公開されています。"
   ]
  },
  {
   "cell_type": "markdown",
   "metadata": {},
   "source": [
    "### 【問題1】\n",
    "#### 公式チュートリアルモデルを分担して実行\n",
    "TensorFLowの公式チュートリアルモデルを分担して実行してください。\n",
    "\n",
    "\n",
    "以下の中から1人ひとつ選び実行し、その結果を簡単に発表してください。\n",
    "\n",
    "\n",
    "[models/tutorials at master · tensorflow/models](https://www.tensorflow.org/tutorials)"
   ]
  },
  {
   "cell_type": "markdown",
   "metadata": {},
   "source": [
    "#### Kerasによる分散トレーニング"
   ]
  },
  {
   "cell_type": "code",
   "execution_count": 2,
   "metadata": {},
   "outputs": [],
   "source": [
    "tf.reset_default_graph()"
   ]
  },
  {
   "cell_type": "code",
   "execution_count": 3,
   "metadata": {
    "tags": []
   },
   "outputs": [
    {
     "output_type": "stream",
     "name": "stderr",
     "text": "WARNING:absl:Warning: Setting shuffle_files=True because split=TRAIN and shuffle_files=None. This behavior will be deprecated on 2019-08-06, at which point shuffle_files=False will be the default for all splits.\n"
    }
   ],
   "source": [
    "# mnistデータセットの読み込み\n",
    "tfds.disable_progress_bar()\n",
    "datasets, info = tfds.load(name='mnist', with_info=True, as_supervised=True)\n",
    "\n",
    "mnist_train, mnist_test = datasets['train'], datasets['test']"
   ]
  },
  {
   "cell_type": "code",
   "execution_count": 4,
   "metadata": {},
   "outputs": [],
   "source": [
    "# 利用可能デバイス探索\n",
    "def get_available_devices():\n",
    "    local_device_protos = device_lib.list_local_devices()\n",
    "    return [x for x in local_device_protos]"
   ]
  },
  {
   "cell_type": "code",
   "execution_count": 5,
   "metadata": {},
   "outputs": [
    {
     "output_type": "execute_result",
     "data": {
      "text/plain": "[name: \"/device:CPU:0\"\n device_type: \"CPU\"\n memory_limit: 268435456\n locality {\n }\n incarnation: 8428612216925228810]"
     },
     "metadata": {},
     "execution_count": 5
    }
   ],
   "source": [
    "get_available_devices()"
   ]
  },
  {
   "cell_type": "code",
   "execution_count": 6,
   "metadata": {
    "tags": []
   },
   "outputs": [
    {
     "output_type": "stream",
     "name": "stdout",
     "text": "WARNING:tensorflow:There is non-GPU devices in `tf.distribute.Strategy`, not using nccl allreduce.\nWARNING:tensorflow:There is non-GPU devices in `tf.distribute.Strategy`, not using nccl allreduce.\n"
    }
   ],
   "source": [
    "# 複数GPUでの計算を可能にするAPI\n",
    "# このスコープ内でモデルを作成すると分散処理ができる\n",
    "strategy = tf.distribute.MirroredStrategy(devices=['/cpu:0'])"
   ]
  },
  {
   "cell_type": "code",
   "execution_count": 7,
   "metadata": {
    "tags": []
   },
   "outputs": [
    {
     "output_type": "stream",
     "name": "stdout",
     "text": "Number of devices: 1\n"
    }
   ],
   "source": [
    "# デバイス数表示\n",
    "print('Number of devices: {}'.format(strategy.num_replicas_in_sync))"
   ]
  },
  {
   "cell_type": "code",
   "execution_count": 8,
   "metadata": {},
   "outputs": [],
   "source": [
    "# データ分割\n",
    "num_train_examples = info.splits['train'].num_examples\n",
    "num_test_examples = info.splits['test'].num_examples\n",
    "\n",
    "BUFFER_SIZE = 10000\n",
    "\n",
    "BATCH_SIZE_PER_REPLICA = 64\n",
    "BATCH_SIZE = BATCH_SIZE_PER_REPLICA * strategy.num_replicas_in_sync"
   ]
  },
  {
   "cell_type": "code",
   "execution_count": 9,
   "metadata": {},
   "outputs": [],
   "source": [
    "# スケーリング\n",
    "def scale(image, label):\n",
    "  image = tf.cast(image, tf.float32)\n",
    "  image /= 255\n",
    "\n",
    "  return image, label"
   ]
  },
  {
   "cell_type": "code",
   "execution_count": 10,
   "metadata": {},
   "outputs": [],
   "source": [
    "train_dataset = mnist_train.map(scale).cache().shuffle(BUFFER_SIZE).batch(BATCH_SIZE)\n",
    "eval_dataset = mnist_test.map(scale).batch(BATCH_SIZE)"
   ]
  },
  {
   "cell_type": "code",
   "execution_count": 11,
   "metadata": {
    "tags": []
   },
   "outputs": [
    {
     "output_type": "stream",
     "name": "stdout",
     "text": "WARNING:tensorflow:From C:\\Users\\tnaka\\anaconda3\\envs\\dic\\lib\\site-packages\\tensorflow_core\\python\\ops\\resource_variable_ops.py:1630: calling BaseResourceVariable.__init__ (from tensorflow.python.ops.resource_variable_ops) with constraint is deprecated and will be removed in a future version.\nInstructions for updating:\nIf using Keras pass *_constraint arguments to layers.\nWARNING:tensorflow:From C:\\Users\\tnaka\\anaconda3\\envs\\dic\\lib\\site-packages\\tensorflow_core\\python\\ops\\resource_variable_ops.py:1630: calling BaseResourceVariable.__init__ (from tensorflow.python.ops.resource_variable_ops) with constraint is deprecated and will be removed in a future version.\nInstructions for updating:\nIf using Keras pass *_constraint arguments to layers.\n"
    }
   ],
   "source": [
    "# model作成\n",
    "# strategyのスコープ内で作成することで計算をうまく複数デバイスに分散してくれる\n",
    "with strategy.scope():\n",
    "  model = tf.keras.Sequential([\n",
    "      tf.keras.layers.Conv2D(32, 3, activation='relu', input_shape=(28, 28, 1)),\n",
    "      tf.keras.layers.MaxPooling2D(),\n",
    "      tf.keras.layers.Flatten(),\n",
    "      tf.keras.layers.Dense(64, activation='relu'),\n",
    "      tf.keras.layers.Dense(10)\n",
    "  ])\n",
    "\n",
    "  model.compile(loss=tf.keras.losses.SparseCategoricalCrossentropy(from_logits=True),\n",
    "                optimizer=tf.keras.optimizers.Adam(),\n",
    "                metrics=['accuracy'])"
   ]
  },
  {
   "cell_type": "code",
   "execution_count": 12,
   "metadata": {},
   "outputs": [],
   "source": [
    "# checkpoint作成\n",
    "checkpoint_dir = './training_checkpoints'\n",
    "checkpoint_prefix = os.path.join(checkpoint_dir, \"ckpt_{epoch}\")"
   ]
  },
  {
   "cell_type": "code",
   "execution_count": 13,
   "metadata": {},
   "outputs": [],
   "source": [
    "# 学習率をエポックごとに変更する\n",
    "def decay(epoch):\n",
    "  if epoch < 3:\n",
    "    return 1e-3\n",
    "  elif epoch >= 3 and epoch < 7:\n",
    "    return 1e-4\n",
    "  else:\n",
    "    return 1e-5"
   ]
  },
  {
   "cell_type": "code",
   "execution_count": 14,
   "metadata": {},
   "outputs": [],
   "source": [
    "# 学習率を表示する\n",
    "class PrintLR(tf.keras.callbacks.Callback):\n",
    "  def on_epoch_end(self, epoch, logs=None):\n",
    "    print('\\nLearning rate for epoch {} is {}'.format(epoch + 1,\n",
    "                                                      model.optimizer.lr.numpy()))"
   ]
  },
  {
   "cell_type": "code",
   "execution_count": 15,
   "metadata": {},
   "outputs": [],
   "source": [
    "# コールバック設定\n",
    "callbacks = [\n",
    "    #tf.keras.callbacks.TensorBoard(log_dir='./logs'),\n",
    "    tf.keras.callbacks.ModelCheckpoint(filepath=checkpoint_prefix,\n",
    "                                       save_weights_only=True),\n",
    "    tf.keras.callbacks.LearningRateScheduler(decay),\n",
    "    PrintLR()\n",
    "]"
   ]
  },
  {
   "cell_type": "code",
   "execution_count": 16,
   "metadata": {},
   "outputs": [],
   "source": [
    "# 学習\n",
    "# model.fit(train_dataset, epochs=12, callbacks=callbacks)"
   ]
  },
  {
   "cell_type": "markdown",
   "metadata": {},
   "source": [
    "-> localだとうまく動かない/CPU1基のみなのでGoogle Colabを利用: ./keras_distribute.ipynb"
   ]
  },
  {
   "cell_type": "markdown",
   "metadata": {},
   "source": [
    "### 【問題2】\n",
    "#### （アドバンス課題）様々な手法を実行\n",
    "TensorFLowやGoogle AI ResearchのGitHubリポジトリには、定番のモデルから最新のモデルまで多様なコードが公開されています。これらから興味あるものを選び実行してください。\n",
    "\n",
    "\n",
    "なお、これらのコードは初学者向けではないため、巨大なデータセットのダウンロードが必要な場合など、実行が簡単ではないこともあります。そういった場合は、コードリーディングを行ってください。\n",
    "\n",
    "\n",
    "[models/research at master · tensorflow/models]()\n",
    "\n",
    "\n",
    "[google-research/google-research: Google AI Research]()\n",
    "\n",
    "\n",
    "更新日が古いものはPythonやTensorFlowのバージョンが古く、扱いずらい場合があります。新しいものから見ることを推奨します。"
   ]
  },
  {
   "cell_type": "markdown",
   "metadata": {},
   "source": [
    "## 3.異なるフレームワークへの書き換え\n",
    "\n",
    "「ディープラーニングフレームワーク1」で作成した4種類のデータセットを扱うTensorFLowのコードを異なるフレームワークに変更していきます。\n",
    "\n",
    "\n",
    "- Iris（Iris-versicolorとIris-virginicaのみの2値分類）\n",
    "- Iris（3種類全ての目的変数を使用して多値分類）\n",
    "- House Prices\n",
    "- MNIST\n",
    "\n",
    "### Kerasへの書き換え\n",
    "KerasはTensorFLowに含まれるtf.kerasモジュールを使用してください。\n",
    "\n",
    "\n",
    "KerasにはSequentialモデルかFunctional APIかなど書き方に種類がありますが、これは指定しません。"
   ]
  },
  {
   "cell_type": "markdown",
   "metadata": {},
   "source": [
    "### 【問題3】\n",
    "#### Iris（2値分類）をKerasで学習\n",
    "TensorFlowによるIrisデータセットに対する2値分類をKerasに書き換えてください。"
   ]
  },
  {
   "cell_type": "code",
   "execution_count": 17,
   "metadata": {
    "tags": []
   },
   "outputs": [
    {
     "output_type": "display_data",
     "data": {
      "text/plain": "      Id  SepalLengthCm  SepalWidthCm  PetalLengthCm  PetalWidthCm  \\\n0      1            5.1           3.5            1.4           0.2   \n1      2            4.9           3.0            1.4           0.2   \n2      3            4.7           3.2            1.3           0.2   \n3      4            4.6           3.1            1.5           0.2   \n4      5            5.0           3.6            1.4           0.2   \n..   ...            ...           ...            ...           ...   \n145  146            6.7           3.0            5.2           2.3   \n146  147            6.3           2.5            5.0           1.9   \n147  148            6.5           3.0            5.2           2.0   \n148  149            6.2           3.4            5.4           2.3   \n149  150            5.9           3.0            5.1           1.8   \n\n            Species  \n0       Iris-setosa  \n1       Iris-setosa  \n2       Iris-setosa  \n3       Iris-setosa  \n4       Iris-setosa  \n..              ...  \n145  Iris-virginica  \n146  Iris-virginica  \n147  Iris-virginica  \n148  Iris-virginica  \n149  Iris-virginica  \n\n[150 rows x 6 columns]",
      "text/html": "<div>\n<style scoped>\n    .dataframe tbody tr th:only-of-type {\n        vertical-align: middle;\n    }\n\n    .dataframe tbody tr th {\n        vertical-align: top;\n    }\n\n    .dataframe thead th {\n        text-align: right;\n    }\n</style>\n<table border=\"1\" class=\"dataframe\">\n  <thead>\n    <tr style=\"text-align: right;\">\n      <th></th>\n      <th>Id</th>\n      <th>SepalLengthCm</th>\n      <th>SepalWidthCm</th>\n      <th>PetalLengthCm</th>\n      <th>PetalWidthCm</th>\n      <th>Species</th>\n    </tr>\n  </thead>\n  <tbody>\n    <tr>\n      <th>0</th>\n      <td>1</td>\n      <td>5.1</td>\n      <td>3.5</td>\n      <td>1.4</td>\n      <td>0.2</td>\n      <td>Iris-setosa</td>\n    </tr>\n    <tr>\n      <th>1</th>\n      <td>2</td>\n      <td>4.9</td>\n      <td>3.0</td>\n      <td>1.4</td>\n      <td>0.2</td>\n      <td>Iris-setosa</td>\n    </tr>\n    <tr>\n      <th>2</th>\n      <td>3</td>\n      <td>4.7</td>\n      <td>3.2</td>\n      <td>1.3</td>\n      <td>0.2</td>\n      <td>Iris-setosa</td>\n    </tr>\n    <tr>\n      <th>3</th>\n      <td>4</td>\n      <td>4.6</td>\n      <td>3.1</td>\n      <td>1.5</td>\n      <td>0.2</td>\n      <td>Iris-setosa</td>\n    </tr>\n    <tr>\n      <th>4</th>\n      <td>5</td>\n      <td>5.0</td>\n      <td>3.6</td>\n      <td>1.4</td>\n      <td>0.2</td>\n      <td>Iris-setosa</td>\n    </tr>\n    <tr>\n      <th>...</th>\n      <td>...</td>\n      <td>...</td>\n      <td>...</td>\n      <td>...</td>\n      <td>...</td>\n      <td>...</td>\n    </tr>\n    <tr>\n      <th>145</th>\n      <td>146</td>\n      <td>6.7</td>\n      <td>3.0</td>\n      <td>5.2</td>\n      <td>2.3</td>\n      <td>Iris-virginica</td>\n    </tr>\n    <tr>\n      <th>146</th>\n      <td>147</td>\n      <td>6.3</td>\n      <td>2.5</td>\n      <td>5.0</td>\n      <td>1.9</td>\n      <td>Iris-virginica</td>\n    </tr>\n    <tr>\n      <th>147</th>\n      <td>148</td>\n      <td>6.5</td>\n      <td>3.0</td>\n      <td>5.2</td>\n      <td>2.0</td>\n      <td>Iris-virginica</td>\n    </tr>\n    <tr>\n      <th>148</th>\n      <td>149</td>\n      <td>6.2</td>\n      <td>3.4</td>\n      <td>5.4</td>\n      <td>2.3</td>\n      <td>Iris-virginica</td>\n    </tr>\n    <tr>\n      <th>149</th>\n      <td>150</td>\n      <td>5.9</td>\n      <td>3.0</td>\n      <td>5.1</td>\n      <td>1.8</td>\n      <td>Iris-virginica</td>\n    </tr>\n  </tbody>\n</table>\n<p>150 rows × 6 columns</p>\n</div>"
     },
     "metadata": {}
    },
    {
     "output_type": "display_data",
     "data": {
      "text/plain": "(100, 4)"
     },
     "metadata": {}
    },
    {
     "output_type": "display_data",
     "data": {
      "text/plain": "(100, 1)"
     },
     "metadata": {}
    },
    {
     "output_type": "stream",
     "name": "stdout",
     "text": "(64, 4) (64, 1)\n(16, 4) (16, 1)\n(20, 4) (20, 1)\n"
    }
   ],
   "source": [
    "# dataset読み込み\n",
    "df_iris = pd.read_csv('Iris.csv')\n",
    "display(df_iris)\n",
    "X = np.array(df_iris[(df_iris['Species'] == 'Iris-versicolor')|(df_iris['Species'] == 'Iris-virginica')].iloc[:, 1:5])\n",
    "y = np.array(df_iris[(df_iris['Species'] == 'Iris-versicolor')|(df_iris['Species'] == 'Iris-virginica')].iloc[:, 5])\n",
    "y[y=='Iris-versicolor'] = 0\n",
    "y[y=='Iris-virginica'] = 1\n",
    "y = y.astype(np.int)[:, np.newaxis]\n",
    "display(X.shape)\n",
    "display(y.shape)\n",
    "X_train, X_test, y_train, y_test = train_test_split(X, y, test_size=0.2, random_state=0)\n",
    "X_train, X_val, y_train, y_val = train_test_split(X_train, y_train, test_size=0.2, random_state=0)\n",
    "print(X_train.shape, y_train.shape)\n",
    "print(X_val.shape, y_val.shape)\n",
    "print(X_test.shape, y_test.shape)"
   ]
  },
  {
   "cell_type": "code",
   "execution_count": 18,
   "metadata": {},
   "outputs": [],
   "source": [
    "scaler = StandardScaler()\n",
    "X_train = scaler.fit_transform(X_train)\n",
    "X_val = scaler.transform(X_val)\n",
    "X_test = scaler.transform(X_test)"
   ]
  },
  {
   "cell_type": "code",
   "execution_count": 19,
   "metadata": {
    "tags": []
   },
   "outputs": [
    {
     "output_type": "stream",
     "name": "stdout",
     "text": "Model: \"sequential\"\n_________________________________________________________________\nLayer (type)                 Output Shape              Param #   \n=================================================================\ndense (Dense)                (None, 10)                50        \n_________________________________________________________________\ndense_1 (Dense)              (None, 5)                 55        \n_________________________________________________________________\ndense_2 (Dense)              (None, 1)                 6         \n=================================================================\nTotal params: 111\nTrainable params: 111\nNon-trainable params: 0\n_________________________________________________________________\n"
    }
   ],
   "source": [
    "K.clear_session()\n",
    "model = tf.keras.Sequential()\n",
    "model.add(tf.keras.layers.Dense(10, activation = tf.nn.relu, input_shape=(4,)))\n",
    "model.add(tf.keras.layers.Dense(5, activation = tf.nn.relu))\n",
    "model.add(tf.keras.layers.Dense(1, activation = tf.nn.sigmoid))\n",
    "model.summary()"
   ]
  },
  {
   "cell_type": "code",
   "execution_count": 20,
   "metadata": {
    "tags": []
   },
   "outputs": [
    {
     "output_type": "stream",
     "name": "stdout",
     "text": "WARNING:tensorflow:From C:\\Users\\tnaka\\anaconda3\\envs\\dic\\lib\\site-packages\\tensorflow_core\\python\\ops\\nn_impl.py:183: where (from tensorflow.python.ops.array_ops) is deprecated and will be removed in a future version.\nInstructions for updating:\nUse tf.where in 2.0, which has the same broadcast rule as np.where\nWARNING:tensorflow:From C:\\Users\\tnaka\\anaconda3\\envs\\dic\\lib\\site-packages\\tensorflow_core\\python\\ops\\nn_impl.py:183: where (from tensorflow.python.ops.array_ops) is deprecated and will be removed in a future version.\nInstructions for updating:\nUse tf.where in 2.0, which has the same broadcast rule as np.where\nTrain on 64 samples, validate on 16 samples\nEpoch 1/10\n64/64 [==============================] - 0s 6ms/sample - loss: 0.3010 - acc: 0.9219 - val_loss: 0.0348 - val_acc: 1.0000\nEpoch 2/10\n64/64 [==============================] - 0s 2ms/sample - loss: 0.0922 - acc: 0.9531 - val_loss: 0.0353 - val_acc: 1.0000\nEpoch 3/10\n64/64 [==============================] - 0s 2ms/sample - loss: 0.0801 - acc: 0.9688 - val_loss: 0.0846 - val_acc: 0.9375\nEpoch 4/10\n64/64 [==============================] - 0s 1ms/sample - loss: 0.0417 - acc: 0.9844 - val_loss: 0.0076 - val_acc: 1.0000\nEpoch 5/10\n64/64 [==============================] - 0s 1ms/sample - loss: 0.0247 - acc: 1.0000 - val_loss: 0.0068 - val_acc: 1.0000\nEpoch 6/10\n64/64 [==============================] - 0s 2ms/sample - loss: 0.0108 - acc: 1.0000 - val_loss: 0.0377 - val_acc: 1.0000\nEpoch 7/10\n64/64 [==============================] - 0s 2ms/sample - loss: 0.0036 - acc: 1.0000 - val_loss: 0.0066 - val_acc: 1.0000\nEpoch 8/10\n64/64 [==============================] - 0s 2ms/sample - loss: 0.0027 - acc: 1.0000 - val_loss: 0.0089 - val_acc: 1.0000\nEpoch 9/10\n64/64 [==============================] - 0s 2ms/sample - loss: 0.0014 - acc: 1.0000 - val_loss: 0.0060 - val_acc: 1.0000\nEpoch 10/10\n64/64 [==============================] - 0s 1ms/sample - loss: 0.0011 - acc: 1.0000 - val_loss: 0.0053 - val_acc: 1.0000\n"
    }
   ],
   "source": [
    "model.compile(loss='binary_crossentropy',\n",
    "              optimizer=tf.train.AdamOptimizer(learning_rate=0.03),\n",
    "              metrics=['accuracy'])\n",
    "history = model.fit(X_train, y_train,\n",
    "                    batch_size=1,\n",
    "                    epochs=10,\n",
    "                    verbose=1,\n",
    "                    validation_data=(X_val, y_val))"
   ]
  },
  {
   "cell_type": "code",
   "execution_count": 21,
   "metadata": {
    "tags": []
   },
   "outputs": [
    {
     "output_type": "stream",
     "name": "stdout",
     "text": "y_pred_proba [5.9217215e-05 1.0000000e+00 8.0764294e-06 1.0000000e+00 9.9999845e-01\n 1.0000000e+00 7.8290701e-05 9.9985981e-01 1.0000000e+00 1.0000000e+00\n 9.9999952e-01 9.9999988e-01 1.0000000e+00 2.1111965e-04 0.0000000e+00\n 0.0000000e+00 8.0413735e-01 0.0000000e+00 9.9963063e-01 2.0861626e-07]\ny_pred [0 1 0 1 1 1 0 1 1 1 1 1 1 0 0 0 1 0 1 0]\ny_test [0 1 0 1 1 1 0 1 1 1 1 1 1 0 0 0 0 0 0 0]\n"
    }
   ],
   "source": [
    "y_pred_proba = model.predict(X_test)[:, 0]\n",
    "y_pred = np.where(y_pred_proba >0.5, 1, 0)\n",
    "print(\"y_pred_proba\", y_pred_proba)\n",
    "print(\"y_pred\", y_pred)\n",
    "print(\"y_test\", y_test.flatten())"
   ]
  },
  {
   "cell_type": "markdown",
   "metadata": {},
   "source": [
    "### 【問題4】\n",
    "#### Iris（多値分類）をKerasで学習\n",
    "TensorFlowによるIrisデータセットに対する3値分類をKerasに書き換えてください。"
   ]
  },
  {
   "cell_type": "code",
   "execution_count": 22,
   "metadata": {
    "tags": []
   },
   "outputs": [
    {
     "output_type": "display_data",
     "data": {
      "text/plain": "(150, 4)"
     },
     "metadata": {}
    },
    {
     "output_type": "display_data",
     "data": {
      "text/plain": "(150, 3)"
     },
     "metadata": {}
    },
    {
     "output_type": "stream",
     "name": "stdout",
     "text": "(96, 4) (96, 3)\n(24, 4) (24, 3)\n(30, 4) (30, 3)\n"
    }
   ],
   "source": [
    "# 抽出\n",
    "X = np.array(df_iris.iloc[:, 1:5])\n",
    "y = np.array(pd.get_dummies(df_iris.iloc[:, 5]))\n",
    "y = y.astype(np.int)\n",
    "display(X.shape)\n",
    "display(y.shape)\n",
    "\n",
    "# 分割\n",
    "X_train, X_test, y_train, y_test = train_test_split(X, y, test_size=0.2, random_state=0)\n",
    "X_train, X_val, y_train, y_val = train_test_split(X_train, y_train, test_size=0.2, random_state=0)\n",
    "\n",
    "# 標準化\n",
    "scaler = StandardScaler()\n",
    "X_train = scaler.fit_transform(X_train)\n",
    "X_val = scaler.transform(X_val)\n",
    "X_test = scaler.transform(X_test)\n",
    "\n",
    "print(X_train.shape, y_train.shape)\n",
    "print(X_val.shape, y_val.shape)\n",
    "print(X_test.shape, y_test.shape)"
   ]
  },
  {
   "cell_type": "code",
   "execution_count": 23,
   "metadata": {
    "tags": []
   },
   "outputs": [
    {
     "output_type": "stream",
     "name": "stdout",
     "text": "Model: \"sequential\"\n_________________________________________________________________\nLayer (type)                 Output Shape              Param #   \n=================================================================\ndense (Dense)                (None, 100)               500       \n_________________________________________________________________\ndense_1 (Dense)              (None, 10)                1010      \n_________________________________________________________________\ndense_2 (Dense)              (None, 3)                 33        \n=================================================================\nTotal params: 1,543\nTrainable params: 1,543\nNon-trainable params: 0\n_________________________________________________________________\nTrain on 96 samples, validate on 24 samples\nEpoch 1/10\n96/96 [==============================] - 0s 3ms/sample - loss: 0.6409 - acc: 0.6042 - val_loss: 0.5143 - val_acc: 0.7083\nEpoch 2/10\n96/96 [==============================] - 0s 1ms/sample - loss: 0.5490 - acc: 0.6771 - val_loss: 0.4884 - val_acc: 0.7083\nEpoch 3/10\n96/96 [==============================] - 0s 1ms/sample - loss: 0.5329 - acc: 0.6354 - val_loss: 0.4833 - val_acc: 0.6250\nEpoch 4/10\n96/96 [==============================] - 0s 1ms/sample - loss: 0.5306 - acc: 0.6562 - val_loss: 0.4753 - val_acc: 0.7083\nEpoch 5/10\n96/96 [==============================] - 0s 2ms/sample - loss: 0.5285 - acc: 0.6667 - val_loss: 0.4790 - val_acc: 0.6250\nEpoch 6/10\n96/96 [==============================] - 0s 1ms/sample - loss: 0.5320 - acc: 0.5938 - val_loss: 0.4708 - val_acc: 0.7083\nEpoch 7/10\n96/96 [==============================] - 0s 1ms/sample - loss: 0.5343 - acc: 0.6250 - val_loss: 0.4755 - val_acc: 0.6250\nEpoch 8/10\n96/96 [==============================] - 0s 1ms/sample - loss: 0.5298 - acc: 0.6667 - val_loss: 0.4716 - val_acc: 0.7083\nEpoch 9/10\n96/96 [==============================] - 0s 1ms/sample - loss: 0.5235 - acc: 0.6979 - val_loss: 0.4710 - val_acc: 0.7083\nEpoch 10/10\n96/96 [==============================] - 0s 1ms/sample - loss: 0.5346 - acc: 0.6771 - val_loss: 0.4681 - val_acc: 0.7083\n"
    }
   ],
   "source": [
    "# モデル構築\n",
    "K.clear_session()\n",
    "model = tf.keras.Sequential()\n",
    "model.add(tf.keras.layers.Dense(100, activation = tf.nn.relu, input_shape=(4,)))\n",
    "model.add(tf.keras.layers.Dense(10, activation = tf.nn.relu))\n",
    "model.add(tf.keras.layers.Dense(3, activation = tf.nn.softmax))\n",
    "model.summary()\n",
    "\n",
    "# コンパイル\n",
    "model.compile(loss='categorical_crossentropy',\n",
    "              optimizer=tf.train.AdamOptimizer(learning_rate=0.03),\n",
    "              metrics=['accuracy'])\n",
    "\n",
    "# 学習\n",
    "history = model.fit(X_train, y_train,\n",
    "                    batch_size=1,\n",
    "                    epochs=10,\n",
    "                    verbose=1,\n",
    "                    validation_data=(X_val, y_val))"
   ]
  },
  {
   "cell_type": "code",
   "execution_count": 24,
   "metadata": {
    "tags": []
   },
   "outputs": [
    {
     "output_type": "stream",
     "name": "stdout",
     "text": "y_pred_proba [[1.6351793e-02 4.4424191e-01 5.3940624e-01]\n [1.6351793e-02 4.4424191e-01 5.3940624e-01]\n [1.0000000e+00 1.0054625e-11 5.1776939e-15]\n [1.6351793e-02 4.4424191e-01 5.3940624e-01]\n [1.0000000e+00 5.2044641e-08 2.9599864e-10]\n [1.6351793e-02 4.4424191e-01 5.3940624e-01]\n [1.0000000e+00 2.2560716e-08 1.0480896e-10]\n [1.6351793e-02 4.4424191e-01 5.3940624e-01]\n [1.6351793e-02 4.4424191e-01 5.3940624e-01]\n [1.6351793e-02 4.4424191e-01 5.3940624e-01]\n [1.6351793e-02 4.4424191e-01 5.3940624e-01]\n [1.6351793e-02 4.4424191e-01 5.3940624e-01]\n [1.6351793e-02 4.4424191e-01 5.3940624e-01]\n [1.6351793e-02 4.4424191e-01 5.3940624e-01]\n [1.6351793e-02 4.4424191e-01 5.3940624e-01]\n [9.9999928e-01 7.0836012e-07 7.3318369e-09]\n [1.6351793e-02 4.4424191e-01 5.3940624e-01]\n [1.6351793e-02 4.4424191e-01 5.3940624e-01]\n [9.9996328e-01 3.5708748e-05 9.5527037e-07]\n [1.0000000e+00 1.1195316e-09 2.2083496e-12]\n [1.6351793e-02 4.4424191e-01 5.3940624e-01]\n [1.6351793e-02 4.4424191e-01 5.3940624e-01]\n [9.9999988e-01 1.5461842e-07 1.1763377e-09]\n [9.9977142e-01 2.2027746e-04 8.2983170e-06]\n [1.6351793e-02 4.4424191e-01 5.3940624e-01]\n [1.0000000e+00 7.9198686e-10 1.5334035e-12]\n [1.0000000e+00 1.5789622e-08 6.7764808e-11]\n [1.6351793e-02 4.4424191e-01 5.3940624e-01]\n [1.6351793e-02 4.4424191e-01 5.3940624e-01]\n [9.9999952e-01 4.5001516e-07 4.6416906e-09]]\ny_pred [2 2 0 2 0 2 0 2 2 2 2 2 2 2 2 0 2 2 0 0 2 2 0 0 2 0 0 2 2 0]\ny_test [2 1 0 2 0 2 0 1 1 1 2 1 1 1 1 0 1 1 0 0 2 1 0 0 2 0 0 1 1 0]\n"
    }
   ],
   "source": [
    "y_pred_proba = model.predict(X_test)\n",
    "y_pred = np.argmax(y_pred_proba, axis=1)\n",
    "print(\"y_pred_proba\", y_pred_proba)\n",
    "print(\"y_pred\", y_pred)\n",
    "print(\"y_test\", np.argmax(y_test, axis=1))"
   ]
  },
  {
   "cell_type": "markdown",
   "metadata": {},
   "source": [
    "### 【問題5】\n",
    "#### House PricesをKerasで学習\n",
    "TensorFlowによるHouse Pricesデータセットに対する回帰をKerasに書き換えてください。"
   ]
  },
  {
   "cell_type": "code",
   "execution_count": 25,
   "metadata": {},
   "outputs": [
    {
     "output_type": "display_data",
     "data": {
      "text/plain": "        Id  MSSubClass MSZoning  LotFrontage  LotArea Street Alley LotShape  \\\n0        1          60       RL         65.0     8450   Pave   NaN      Reg   \n1        2          20       RL         80.0     9600   Pave   NaN      Reg   \n2        3          60       RL         68.0    11250   Pave   NaN      IR1   \n3        4          70       RL         60.0     9550   Pave   NaN      IR1   \n4        5          60       RL         84.0    14260   Pave   NaN      IR1   \n...    ...         ...      ...          ...      ...    ...   ...      ...   \n1455  1456          60       RL         62.0     7917   Pave   NaN      Reg   \n1456  1457          20       RL         85.0    13175   Pave   NaN      Reg   \n1457  1458          70       RL         66.0     9042   Pave   NaN      Reg   \n1458  1459          20       RL         68.0     9717   Pave   NaN      Reg   \n1459  1460          20       RL         75.0     9937   Pave   NaN      Reg   \n\n     LandContour Utilities  ... PoolArea PoolQC  Fence MiscFeature MiscVal  \\\n0            Lvl    AllPub  ...        0    NaN    NaN         NaN       0   \n1            Lvl    AllPub  ...        0    NaN    NaN         NaN       0   \n2            Lvl    AllPub  ...        0    NaN    NaN         NaN       0   \n3            Lvl    AllPub  ...        0    NaN    NaN         NaN       0   \n4            Lvl    AllPub  ...        0    NaN    NaN         NaN       0   \n...          ...       ...  ...      ...    ...    ...         ...     ...   \n1455         Lvl    AllPub  ...        0    NaN    NaN         NaN       0   \n1456         Lvl    AllPub  ...        0    NaN  MnPrv         NaN       0   \n1457         Lvl    AllPub  ...        0    NaN  GdPrv        Shed    2500   \n1458         Lvl    AllPub  ...        0    NaN    NaN         NaN       0   \n1459         Lvl    AllPub  ...        0    NaN    NaN         NaN       0   \n\n     MoSold YrSold  SaleType  SaleCondition  SalePrice  \n0         2   2008        WD         Normal     208500  \n1         5   2007        WD         Normal     181500  \n2         9   2008        WD         Normal     223500  \n3         2   2006        WD        Abnorml     140000  \n4        12   2008        WD         Normal     250000  \n...     ...    ...       ...            ...        ...  \n1455      8   2007        WD         Normal     175000  \n1456      2   2010        WD         Normal     210000  \n1457      5   2010        WD         Normal     266500  \n1458      4   2010        WD         Normal     142125  \n1459      6   2008        WD         Normal     147500  \n\n[1460 rows x 81 columns]",
      "text/html": "<div>\n<style scoped>\n    .dataframe tbody tr th:only-of-type {\n        vertical-align: middle;\n    }\n\n    .dataframe tbody tr th {\n        vertical-align: top;\n    }\n\n    .dataframe thead th {\n        text-align: right;\n    }\n</style>\n<table border=\"1\" class=\"dataframe\">\n  <thead>\n    <tr style=\"text-align: right;\">\n      <th></th>\n      <th>Id</th>\n      <th>MSSubClass</th>\n      <th>MSZoning</th>\n      <th>LotFrontage</th>\n      <th>LotArea</th>\n      <th>Street</th>\n      <th>Alley</th>\n      <th>LotShape</th>\n      <th>LandContour</th>\n      <th>Utilities</th>\n      <th>...</th>\n      <th>PoolArea</th>\n      <th>PoolQC</th>\n      <th>Fence</th>\n      <th>MiscFeature</th>\n      <th>MiscVal</th>\n      <th>MoSold</th>\n      <th>YrSold</th>\n      <th>SaleType</th>\n      <th>SaleCondition</th>\n      <th>SalePrice</th>\n    </tr>\n  </thead>\n  <tbody>\n    <tr>\n      <th>0</th>\n      <td>1</td>\n      <td>60</td>\n      <td>RL</td>\n      <td>65.0</td>\n      <td>8450</td>\n      <td>Pave</td>\n      <td>NaN</td>\n      <td>Reg</td>\n      <td>Lvl</td>\n      <td>AllPub</td>\n      <td>...</td>\n      <td>0</td>\n      <td>NaN</td>\n      <td>NaN</td>\n      <td>NaN</td>\n      <td>0</td>\n      <td>2</td>\n      <td>2008</td>\n      <td>WD</td>\n      <td>Normal</td>\n      <td>208500</td>\n    </tr>\n    <tr>\n      <th>1</th>\n      <td>2</td>\n      <td>20</td>\n      <td>RL</td>\n      <td>80.0</td>\n      <td>9600</td>\n      <td>Pave</td>\n      <td>NaN</td>\n      <td>Reg</td>\n      <td>Lvl</td>\n      <td>AllPub</td>\n      <td>...</td>\n      <td>0</td>\n      <td>NaN</td>\n      <td>NaN</td>\n      <td>NaN</td>\n      <td>0</td>\n      <td>5</td>\n      <td>2007</td>\n      <td>WD</td>\n      <td>Normal</td>\n      <td>181500</td>\n    </tr>\n    <tr>\n      <th>2</th>\n      <td>3</td>\n      <td>60</td>\n      <td>RL</td>\n      <td>68.0</td>\n      <td>11250</td>\n      <td>Pave</td>\n      <td>NaN</td>\n      <td>IR1</td>\n      <td>Lvl</td>\n      <td>AllPub</td>\n      <td>...</td>\n      <td>0</td>\n      <td>NaN</td>\n      <td>NaN</td>\n      <td>NaN</td>\n      <td>0</td>\n      <td>9</td>\n      <td>2008</td>\n      <td>WD</td>\n      <td>Normal</td>\n      <td>223500</td>\n    </tr>\n    <tr>\n      <th>3</th>\n      <td>4</td>\n      <td>70</td>\n      <td>RL</td>\n      <td>60.0</td>\n      <td>9550</td>\n      <td>Pave</td>\n      <td>NaN</td>\n      <td>IR1</td>\n      <td>Lvl</td>\n      <td>AllPub</td>\n      <td>...</td>\n      <td>0</td>\n      <td>NaN</td>\n      <td>NaN</td>\n      <td>NaN</td>\n      <td>0</td>\n      <td>2</td>\n      <td>2006</td>\n      <td>WD</td>\n      <td>Abnorml</td>\n      <td>140000</td>\n    </tr>\n    <tr>\n      <th>4</th>\n      <td>5</td>\n      <td>60</td>\n      <td>RL</td>\n      <td>84.0</td>\n      <td>14260</td>\n      <td>Pave</td>\n      <td>NaN</td>\n      <td>IR1</td>\n      <td>Lvl</td>\n      <td>AllPub</td>\n      <td>...</td>\n      <td>0</td>\n      <td>NaN</td>\n      <td>NaN</td>\n      <td>NaN</td>\n      <td>0</td>\n      <td>12</td>\n      <td>2008</td>\n      <td>WD</td>\n      <td>Normal</td>\n      <td>250000</td>\n    </tr>\n    <tr>\n      <th>...</th>\n      <td>...</td>\n      <td>...</td>\n      <td>...</td>\n      <td>...</td>\n      <td>...</td>\n      <td>...</td>\n      <td>...</td>\n      <td>...</td>\n      <td>...</td>\n      <td>...</td>\n      <td>...</td>\n      <td>...</td>\n      <td>...</td>\n      <td>...</td>\n      <td>...</td>\n      <td>...</td>\n      <td>...</td>\n      <td>...</td>\n      <td>...</td>\n      <td>...</td>\n      <td>...</td>\n    </tr>\n    <tr>\n      <th>1455</th>\n      <td>1456</td>\n      <td>60</td>\n      <td>RL</td>\n      <td>62.0</td>\n      <td>7917</td>\n      <td>Pave</td>\n      <td>NaN</td>\n      <td>Reg</td>\n      <td>Lvl</td>\n      <td>AllPub</td>\n      <td>...</td>\n      <td>0</td>\n      <td>NaN</td>\n      <td>NaN</td>\n      <td>NaN</td>\n      <td>0</td>\n      <td>8</td>\n      <td>2007</td>\n      <td>WD</td>\n      <td>Normal</td>\n      <td>175000</td>\n    </tr>\n    <tr>\n      <th>1456</th>\n      <td>1457</td>\n      <td>20</td>\n      <td>RL</td>\n      <td>85.0</td>\n      <td>13175</td>\n      <td>Pave</td>\n      <td>NaN</td>\n      <td>Reg</td>\n      <td>Lvl</td>\n      <td>AllPub</td>\n      <td>...</td>\n      <td>0</td>\n      <td>NaN</td>\n      <td>MnPrv</td>\n      <td>NaN</td>\n      <td>0</td>\n      <td>2</td>\n      <td>2010</td>\n      <td>WD</td>\n      <td>Normal</td>\n      <td>210000</td>\n    </tr>\n    <tr>\n      <th>1457</th>\n      <td>1458</td>\n      <td>70</td>\n      <td>RL</td>\n      <td>66.0</td>\n      <td>9042</td>\n      <td>Pave</td>\n      <td>NaN</td>\n      <td>Reg</td>\n      <td>Lvl</td>\n      <td>AllPub</td>\n      <td>...</td>\n      <td>0</td>\n      <td>NaN</td>\n      <td>GdPrv</td>\n      <td>Shed</td>\n      <td>2500</td>\n      <td>5</td>\n      <td>2010</td>\n      <td>WD</td>\n      <td>Normal</td>\n      <td>266500</td>\n    </tr>\n    <tr>\n      <th>1458</th>\n      <td>1459</td>\n      <td>20</td>\n      <td>RL</td>\n      <td>68.0</td>\n      <td>9717</td>\n      <td>Pave</td>\n      <td>NaN</td>\n      <td>Reg</td>\n      <td>Lvl</td>\n      <td>AllPub</td>\n      <td>...</td>\n      <td>0</td>\n      <td>NaN</td>\n      <td>NaN</td>\n      <td>NaN</td>\n      <td>0</td>\n      <td>4</td>\n      <td>2010</td>\n      <td>WD</td>\n      <td>Normal</td>\n      <td>142125</td>\n    </tr>\n    <tr>\n      <th>1459</th>\n      <td>1460</td>\n      <td>20</td>\n      <td>RL</td>\n      <td>75.0</td>\n      <td>9937</td>\n      <td>Pave</td>\n      <td>NaN</td>\n      <td>Reg</td>\n      <td>Lvl</td>\n      <td>AllPub</td>\n      <td>...</td>\n      <td>0</td>\n      <td>NaN</td>\n      <td>NaN</td>\n      <td>NaN</td>\n      <td>0</td>\n      <td>6</td>\n      <td>2008</td>\n      <td>WD</td>\n      <td>Normal</td>\n      <td>147500</td>\n    </tr>\n  </tbody>\n</table>\n<p>1460 rows × 81 columns</p>\n</div>"
     },
     "metadata": {}
    }
   ],
   "source": [
    "# 読み込み\n",
    "df_price = pd.read_csv('train.csv')\n",
    "display(df_price)"
   ]
  },
  {
   "cell_type": "code",
   "execution_count": 26,
   "metadata": {
    "tags": []
   },
   "outputs": [
    {
     "output_type": "display_data",
     "data": {
      "text/plain": "(1460, 3)"
     },
     "metadata": {}
    },
    {
     "output_type": "display_data",
     "data": {
      "text/plain": "(1460, 1)"
     },
     "metadata": {}
    },
    {
     "output_type": "stream",
     "name": "stdout",
     "text": "(934, 3) (934, 1)\n(234, 3) (234, 1)\n(292, 3) (292, 1)\n"
    }
   ],
   "source": [
    "# 抽出\n",
    "X = df_price[['LotArea', 'GrLivArea', 'YearBuilt']].values\n",
    "y = df_price['SalePrice'].values[:, np.newaxis]\n",
    "display(X.shape)\n",
    "display(y.shape)\n",
    "\n",
    "# 分割\n",
    "X_train, X_test, y_train, y_test = train_test_split(X, y, test_size=0.2, random_state=0)\n",
    "X_train, X_val, y_train, y_val = train_test_split(X_train, y_train, test_size=0.2, random_state=0)\n",
    "\n",
    "# 標準化\n",
    "scaler = StandardScaler()\n",
    "X_train = scaler.fit_transform(X_train)\n",
    "X_val = scaler.transform(X_val)\n",
    "X_test = scaler.transform(X_test)\n",
    "\n",
    "# 対数変換\n",
    "y_train = np.log(y_train)\n",
    "y_val = np.log(y_val)\n",
    "y_test = np.log(y_test)\n",
    "\n",
    "print(X_train.shape, y_train.shape)\n",
    "print(X_val.shape, y_val.shape)\n",
    "print(X_test.shape, y_test.shape)"
   ]
  },
  {
   "cell_type": "code",
   "execution_count": 27,
   "metadata": {
    "tags": []
   },
   "outputs": [
    {
     "output_type": "stream",
     "name": "stdout",
     "text": "Model: \"sequential\"\n_________________________________________________________________\nLayer (type)                 Output Shape              Param #   \n=================================================================\ndense (Dense)                (None, 10)                40        \n_________________________________________________________________\ndense_1 (Dense)              (None, 3)                 33        \n_________________________________________________________________\ndense_2 (Dense)              (None, 1)                 4         \n=================================================================\nTotal params: 77\nTrainable params: 77\nNon-trainable params: 0\n_________________________________________________________________\nTrain on 934 samples, validate on 234 samples\nEpoch 1/100\n934/934 [==============================] - 0s 233us/sample - loss: 143.7683 - mean_absolute_error: 11.9846 - val_loss: 141.8503 - val_mean_absolute_error: 11.9059\nEpoch 2/100\n934/934 [==============================] - 0s 87us/sample - loss: 140.9924 - mean_absolute_error: 11.8700 - val_loss: 139.0272 - val_mean_absolute_error: 11.7880\nEpoch 3/100\n934/934 [==============================] - 0s 46us/sample - loss: 137.9786 - mean_absolute_error: 11.7432 - val_loss: 135.7180 - val_mean_absolute_error: 11.6474\nEpoch 4/100\n934/934 [==============================] - 0s 48us/sample - loss: 134.4463 - mean_absolute_error: 11.5915 - val_loss: 131.7908 - val_mean_absolute_error: 11.4769\nEpoch 5/100\n934/934 [==============================] - 0s 58us/sample - loss: 130.1424 - mean_absolute_error: 11.4022 - val_loss: 126.9551 - val_mean_absolute_error: 11.2617\nEpoch 6/100\n934/934 [==============================] - 0s 46us/sample - loss: 124.5631 - mean_absolute_error: 11.1507 - val_loss: 120.4840 - val_mean_absolute_error: 10.9660\nEpoch 7/100\n934/934 [==============================] - 0s 47us/sample - loss: 117.7561 - mean_absolute_error: 10.8317 - val_loss: 113.5672 - val_mean_absolute_error: 10.6376\nEpoch 8/100\n934/934 [==============================] - 0s 44us/sample - loss: 110.5467 - mean_absolute_error: 10.4800 - val_loss: 106.0638 - val_mean_absolute_error: 10.2648\nEpoch 9/100\n934/934 [==============================] - 0s 46us/sample - loss: 102.6922 - mean_absolute_error: 10.0785 - val_loss: 97.8423 - val_mean_absolute_error: 9.8345\nEpoch 10/100\n934/934 [==============================] - 0s 43us/sample - loss: 94.1938 - mean_absolute_error: 9.6243 - val_loss: 89.0695 - val_mean_absolute_error: 9.3489\nEpoch 11/100\n934/934 [==============================] - 0s 57us/sample - loss: 85.1021 - mean_absolute_error: 9.1178 - val_loss: 79.6432 - val_mean_absolute_error: 8.7916\nEpoch 12/100\n934/934 [==============================] - 0s 46us/sample - loss: 75.4575 - mean_absolute_error: 8.5430 - val_loss: 69.7376 - val_mean_absolute_error: 8.1606\nEpoch 13/100\n934/934 [==============================] - 0s 43us/sample - loss: 65.3590 - mean_absolute_error: 7.8963 - val_loss: 59.5708 - val_mean_absolute_error: 7.4670\nEpoch 14/100\n934/934 [==============================] - 0s 42us/sample - loss: 55.0152 - mean_absolute_error: 7.1829 - val_loss: 49.2901 - val_mean_absolute_error: 6.7207\nEpoch 15/100\n934/934 [==============================] - 0s 46us/sample - loss: 44.8248 - mean_absolute_error: 6.4067 - val_loss: 39.4732 - val_mean_absolute_error: 5.9583\nEpoch 16/100\n934/934 [==============================] - 0s 46us/sample - loss: 35.3880 - mean_absolute_error: 5.6276 - val_loss: 30.6597 - val_mean_absolute_error: 5.2031\nEpoch 17/100\n934/934 [==============================] - 0s 46us/sample - loss: 27.0028 - mean_absolute_error: 4.8565 - val_loss: 23.0551 - val_mean_absolute_error: 4.4797\nEpoch 18/100\n934/934 [==============================] - 0s 41us/sample - loss: 20.0598 - mean_absolute_error: 4.1126 - val_loss: 16.8239 - val_mean_absolute_error: 3.7830\nEpoch 19/100\n934/934 [==============================] - 0s 47us/sample - loss: 14.5914 - mean_absolute_error: 3.4230 - val_loss: 12.1429 - val_mean_absolute_error: 3.1519\nEpoch 20/100\n934/934 [==============================] - 0s 45us/sample - loss: 10.7157 - mean_absolute_error: 2.8510 - val_loss: 9.0223 - val_mean_absolute_error: 2.6542\nEpoch 21/100\n934/934 [==============================] - 0s 44us/sample - loss: 8.1711 - mean_absolute_error: 2.4052 - val_loss: 6.9174 - val_mean_absolute_error: 2.2682\nEpoch 22/100\n934/934 [==============================] - 0s 45us/sample - loss: 6.5484 - mean_absolute_error: 2.0926 - val_loss: 5.6165 - val_mean_absolute_error: 1.9915\nEpoch 23/100\n934/934 [==============================] - 0s 52us/sample - loss: 5.5766 - mean_absolute_error: 1.8892 - val_loss: 4.8504 - val_mean_absolute_error: 1.8288\nEpoch 24/100\n934/934 [==============================] - 0s 46us/sample - loss: 4.9794 - mean_absolute_error: 1.7585 - val_loss: 4.3470 - val_mean_absolute_error: 1.7138\nEpoch 25/100\n934/934 [==============================] - 0s 42us/sample - loss: 4.5757 - mean_absolute_error: 1.6672 - val_loss: 4.0123 - val_mean_absolute_error: 1.6339\nEpoch 26/100\n934/934 [==============================] - 0s 51us/sample - loss: 4.2423 - mean_absolute_error: 1.5903 - val_loss: 3.7186 - val_mean_absolute_error: 1.5623\nEpoch 27/100\n934/934 [==============================] - 0s 50us/sample - loss: 3.9690 - mean_absolute_error: 1.5287 - val_loss: 3.4783 - val_mean_absolute_error: 1.5048\nEpoch 28/100\n934/934 [==============================] - 0s 56us/sample - loss: 3.7187 - mean_absolute_error: 1.4700 - val_loss: 3.2530 - val_mean_absolute_error: 1.4482\nEpoch 29/100\n934/934 [==============================] - 0s 43us/sample - loss: 3.4871 - mean_absolute_error: 1.4188 - val_loss: 3.0507 - val_mean_absolute_error: 1.3992\nEpoch 30/100\n934/934 [==============================] - 0s 50us/sample - loss: 3.2594 - mean_absolute_error: 1.3719 - val_loss: 2.8845 - val_mean_absolute_error: 1.3565\nEpoch 31/100\n934/934 [==============================] - 0s 43us/sample - loss: 3.0652 - mean_absolute_error: 1.3258 - val_loss: 2.6988 - val_mean_absolute_error: 1.3083\nEpoch 32/100\n934/934 [==============================] - 0s 42us/sample - loss: 2.8677 - mean_absolute_error: 1.2763 - val_loss: 2.5140 - val_mean_absolute_error: 1.2576\nEpoch 33/100\n934/934 [==============================] - 0s 43us/sample - loss: 2.6845 - mean_absolute_error: 1.2318 - val_loss: 2.3677 - val_mean_absolute_error: 1.2180\nEpoch 34/100\n934/934 [==============================] - 0s 53us/sample - loss: 2.5184 - mean_absolute_error: 1.1878 - val_loss: 2.2039 - val_mean_absolute_error: 1.1716\nEpoch 35/100\n934/934 [==============================] - 0s 43us/sample - loss: 2.3533 - mean_absolute_error: 1.1450 - val_loss: 2.0533 - val_mean_absolute_error: 1.1265\nEpoch 36/100\n934/934 [==============================] - 0s 61us/sample - loss: 2.2040 - mean_absolute_error: 1.1035 - val_loss: 1.9097 - val_mean_absolute_error: 1.0841\nEpoch 37/100\n934/934 [==============================] - 0s 47us/sample - loss: 2.0561 - mean_absolute_error: 1.0605 - val_loss: 1.7704 - val_mean_absolute_error: 1.0408\nEpoch 38/100\n934/934 [==============================] - 0s 41us/sample - loss: 1.9270 - mean_absolute_error: 1.0213 - val_loss: 1.6535 - val_mean_absolute_error: 1.0043\nEpoch 39/100\n934/934 [==============================] - 0s 44us/sample - loss: 1.8007 - mean_absolute_error: 0.9849 - val_loss: 1.5337 - val_mean_absolute_error: 0.9656\nEpoch 40/100\n934/934 [==============================] - 0s 43us/sample - loss: 1.6881 - mean_absolute_error: 0.9502 - val_loss: 1.4351 - val_mean_absolute_error: 0.9321\nEpoch 41/100\n934/934 [==============================] - 0s 43us/sample - loss: 1.5781 - mean_absolute_error: 0.9183 - val_loss: 1.3381 - val_mean_absolute_error: 0.8996\nEpoch 42/100\n934/934 [==============================] - 0s 46us/sample - loss: 1.4816 - mean_absolute_error: 0.8855 - val_loss: 1.2569 - val_mean_absolute_error: 0.8697\nEpoch 43/100\n934/934 [==============================] - 0s 44us/sample - loss: 1.3910 - mean_absolute_error: 0.8576 - val_loss: 1.1723 - val_mean_absolute_error: 0.8385\nEpoch 44/100\n934/934 [==============================] - 0s 46us/sample - loss: 1.3081 - mean_absolute_error: 0.8290 - val_loss: 1.0982 - val_mean_absolute_error: 0.8100\nEpoch 45/100\n934/934 [==============================] - 0s 42us/sample - loss: 1.2252 - mean_absolute_error: 0.7979 - val_loss: 1.0192 - val_mean_absolute_error: 0.7787\nEpoch 46/100\n934/934 [==============================] - 0s 43us/sample - loss: 1.1479 - mean_absolute_error: 0.7688 - val_loss: 0.9484 - val_mean_absolute_error: 0.7512\nEpoch 47/100\n934/934 [==============================] - 0s 43us/sample - loss: 1.0755 - mean_absolute_error: 0.7442 - val_loss: 0.8914 - val_mean_absolute_error: 0.7272\nEpoch 48/100\n934/934 [==============================] - 0s 51us/sample - loss: 1.0051 - mean_absolute_error: 0.7178 - val_loss: 0.8272 - val_mean_absolute_error: 0.6988\nEpoch 49/100\n934/934 [==============================] - 0s 43us/sample - loss: 0.9409 - mean_absolute_error: 0.6905 - val_loss: 0.7694 - val_mean_absolute_error: 0.6731\nEpoch 50/100\n934/934 [==============================] - 0s 78us/sample - loss: 0.8813 - mean_absolute_error: 0.6638 - val_loss: 0.7185 - val_mean_absolute_error: 0.6492\nEpoch 51/100\n934/934 [==============================] - 0s 41us/sample - loss: 0.8243 - mean_absolute_error: 0.6415 - val_loss: 0.6750 - val_mean_absolute_error: 0.6277\nEpoch 52/100\n934/934 [==============================] - 0s 45us/sample - loss: 0.7705 - mean_absolute_error: 0.6158 - val_loss: 0.6272 - val_mean_absolute_error: 0.6036\nEpoch 53/100\n934/934 [==============================] - 0s 46us/sample - loss: 0.7185 - mean_absolute_error: 0.5917 - val_loss: 0.5817 - val_mean_absolute_error: 0.5802\nEpoch 54/100\n934/934 [==============================] - 0s 50us/sample - loss: 0.6707 - mean_absolute_error: 0.5641 - val_loss: 0.5347 - val_mean_absolute_error: 0.5548\nEpoch 55/100\n934/934 [==============================] - 0s 43us/sample - loss: 0.6331 - mean_absolute_error: 0.5512 - val_loss: 0.5205 - val_mean_absolute_error: 0.5467\nEpoch 56/100\n934/934 [==============================] - 0s 47us/sample - loss: 0.5747 - mean_absolute_error: 0.5274 - val_loss: 0.4760 - val_mean_absolute_error: 0.5216\nEpoch 57/100\n934/934 [==============================] - 0s 44us/sample - loss: 0.5348 - mean_absolute_error: 0.5052 - val_loss: 0.4364 - val_mean_absolute_error: 0.4988\nEpoch 58/100\n934/934 [==============================] - 0s 46us/sample - loss: 0.4995 - mean_absolute_error: 0.4847 - val_loss: 0.4015 - val_mean_absolute_error: 0.4781\nEpoch 59/100\n934/934 [==============================] - 0s 46us/sample - loss: 0.4671 - mean_absolute_error: 0.4647 - val_loss: 0.3712 - val_mean_absolute_error: 0.4594\nEpoch 60/100\n934/934 [==============================] - 0s 45us/sample - loss: 0.4362 - mean_absolute_error: 0.4491 - val_loss: 0.3488 - val_mean_absolute_error: 0.4451\nEpoch 61/100\n934/934 [==============================] - 0s 45us/sample - loss: 0.4105 - mean_absolute_error: 0.4341 - val_loss: 0.3254 - val_mean_absolute_error: 0.4297\nEpoch 62/100\n934/934 [==============================] - 0s 47us/sample - loss: 0.3839 - mean_absolute_error: 0.4172 - val_loss: 0.2987 - val_mean_absolute_error: 0.4111\nEpoch 63/100\n934/934 [==============================] - 0s 45us/sample - loss: 0.3586 - mean_absolute_error: 0.4026 - val_loss: 0.2817 - val_mean_absolute_error: 0.3994\nEpoch 64/100\n934/934 [==============================] - 0s 44us/sample - loss: 0.3351 - mean_absolute_error: 0.3869 - val_loss: 0.2607 - val_mean_absolute_error: 0.3831\nEpoch 65/100\n934/934 [==============================] - 0s 42us/sample - loss: 0.3135 - mean_absolute_error: 0.3727 - val_loss: 0.2449 - val_mean_absolute_error: 0.3727\nEpoch 66/100\n934/934 [==============================] - 0s 46us/sample - loss: 0.2945 - mean_absolute_error: 0.3628 - val_loss: 0.2301 - val_mean_absolute_error: 0.3609\nEpoch 67/100\n934/934 [==============================] - 0s 43us/sample - loss: 0.2792 - mean_absolute_error: 0.3526 - val_loss: 0.2189 - val_mean_absolute_error: 0.3516\nEpoch 68/100\n934/934 [==============================] - 0s 45us/sample - loss: 0.2665 - mean_absolute_error: 0.3403 - val_loss: 0.2069 - val_mean_absolute_error: 0.3423\nEpoch 69/100\n934/934 [==============================] - 0s 45us/sample - loss: 0.2553 - mean_absolute_error: 0.3377 - val_loss: 0.2031 - val_mean_absolute_error: 0.3400\nEpoch 70/100\n934/934 [==============================] - 0s 88us/sample - loss: 0.2455 - mean_absolute_error: 0.3278 - val_loss: 0.1910 - val_mean_absolute_error: 0.3278\nEpoch 71/100\n934/934 [==============================] - 0s 46us/sample - loss: 0.2333 - mean_absolute_error: 0.3228 - val_loss: 0.1852 - val_mean_absolute_error: 0.3236\nEpoch 72/100\n934/934 [==============================] - 0s 45us/sample - loss: 0.2254 - mean_absolute_error: 0.3177 - val_loss: 0.1811 - val_mean_absolute_error: 0.3192\nEpoch 73/100\n934/934 [==============================] - 0s 49us/sample - loss: 0.2179 - mean_absolute_error: 0.3124 - val_loss: 0.1715 - val_mean_absolute_error: 0.3109\nEpoch 74/100\n934/934 [==============================] - 0s 67us/sample - loss: 0.2089 - mean_absolute_error: 0.3077 - val_loss: 0.1690 - val_mean_absolute_error: 0.3088\nEpoch 75/100\n934/934 [==============================] - 0s 48us/sample - loss: 0.2015 - mean_absolute_error: 0.3036 - val_loss: 0.1617 - val_mean_absolute_error: 0.3012\nEpoch 76/100\n934/934 [==============================] - 0s 44us/sample - loss: 0.1947 - mean_absolute_error: 0.2996 - val_loss: 0.1589 - val_mean_absolute_error: 0.2988\nEpoch 77/100\n934/934 [==============================] - 0s 43us/sample - loss: 0.1898 - mean_absolute_error: 0.2935 - val_loss: 0.1516 - val_mean_absolute_error: 0.2914\nEpoch 78/100\n934/934 [==============================] - 0s 42us/sample - loss: 0.1832 - mean_absolute_error: 0.2908 - val_loss: 0.1487 - val_mean_absolute_error: 0.2890\nEpoch 79/100\n934/934 [==============================] - 0s 46us/sample - loss: 0.1756 - mean_absolute_error: 0.2856 - val_loss: 0.1428 - val_mean_absolute_error: 0.2831\nEpoch 80/100\n934/934 [==============================] - 0s 46us/sample - loss: 0.1701 - mean_absolute_error: 0.2812 - val_loss: 0.1391 - val_mean_absolute_error: 0.2796\nEpoch 81/100\n934/934 [==============================] - 0s 49us/sample - loss: 0.1650 - mean_absolute_error: 0.2771 - val_loss: 0.1323 - val_mean_absolute_error: 0.2719\nEpoch 82/100\n934/934 [==============================] - 0s 45us/sample - loss: 0.1615 - mean_absolute_error: 0.2735 - val_loss: 0.1294 - val_mean_absolute_error: 0.2699\nEpoch 83/100\n934/934 [==============================] - 0s 42us/sample - loss: 0.1590 - mean_absolute_error: 0.2779 - val_loss: 0.1374 - val_mean_absolute_error: 0.2758\nEpoch 84/100\n934/934 [==============================] - 0s 82us/sample - loss: 0.1523 - mean_absolute_error: 0.2708 - val_loss: 0.1266 - val_mean_absolute_error: 0.2654\nEpoch 85/100\n934/934 [==============================] - 0s 50us/sample - loss: 0.1467 - mean_absolute_error: 0.2657 - val_loss: 0.1210 - val_mean_absolute_error: 0.2606\nEpoch 86/100\n934/934 [==============================] - 0s 56us/sample - loss: 0.1431 - mean_absolute_error: 0.2617 - val_loss: 0.1180 - val_mean_absolute_error: 0.2565\nEpoch 87/100\n934/934 [==============================] - 0s 41us/sample - loss: 0.1398 - mean_absolute_error: 0.2599 - val_loss: 0.1148 - val_mean_absolute_error: 0.2535\nEpoch 88/100\n934/934 [==============================] - 0s 42us/sample - loss: 0.1357 - mean_absolute_error: 0.2553 - val_loss: 0.1120 - val_mean_absolute_error: 0.2505\nEpoch 89/100\n934/934 [==============================] - 0s 40us/sample - loss: 0.1334 - mean_absolute_error: 0.2522 - val_loss: 0.1089 - val_mean_absolute_error: 0.2472\nEpoch 90/100\n934/934 [==============================] - 0s 50us/sample - loss: 0.1290 - mean_absolute_error: 0.2499 - val_loss: 0.1083 - val_mean_absolute_error: 0.2458\nEpoch 91/100\n934/934 [==============================] - 0s 41us/sample - loss: 0.1259 - mean_absolute_error: 0.2464 - val_loss: 0.1037 - val_mean_absolute_error: 0.2412\nEpoch 92/100\n934/934 [==============================] - 0s 42us/sample - loss: 0.1236 - mean_absolute_error: 0.2442 - val_loss: 0.1018 - val_mean_absolute_error: 0.2395\nEpoch 93/100\n934/934 [==============================] - 0s 56us/sample - loss: 0.1207 - mean_absolute_error: 0.2415 - val_loss: 0.1013 - val_mean_absolute_error: 0.2378\nEpoch 94/100\n934/934 [==============================] - 0s 42us/sample - loss: 0.1178 - mean_absolute_error: 0.2392 - val_loss: 0.0977 - val_mean_absolute_error: 0.2340\nEpoch 95/100\n934/934 [==============================] - 0s 46us/sample - loss: 0.1146 - mean_absolute_error: 0.2354 - val_loss: 0.0948 - val_mean_absolute_error: 0.2308\nEpoch 96/100\n934/934 [==============================] - 0s 44us/sample - loss: 0.1125 - mean_absolute_error: 0.2322 - val_loss: 0.0933 - val_mean_absolute_error: 0.2284\nEpoch 97/100\n934/934 [==============================] - 0s 44us/sample - loss: 0.1101 - mean_absolute_error: 0.2318 - val_loss: 0.0917 - val_mean_absolute_error: 0.2262\nEpoch 98/100\n934/934 [==============================] - 0s 46us/sample - loss: 0.1083 - mean_absolute_error: 0.2292 - val_loss: 0.0926 - val_mean_absolute_error: 0.2259\nEpoch 99/100\n934/934 [==============================] - 0s 52us/sample - loss: 0.1092 - mean_absolute_error: 0.2322 - val_loss: 0.0959 - val_mean_absolute_error: 0.2283\nEpoch 100/100\n934/934 [==============================] - 0s 51us/sample - loss: 0.1052 - mean_absolute_error: 0.2272 - val_loss: 0.0907 - val_mean_absolute_error: 0.2226\n"
    }
   ],
   "source": [
    "# モデル構築\n",
    "K.clear_session()\n",
    "model = tf.keras.Sequential()\n",
    "model.add(tf.keras.layers.Dense(10, activation = tf.nn.relu, input_shape=(X_train.shape[1],)))\n",
    "model.add(tf.keras.layers.Dense(3, activation = tf.nn.relu))\n",
    "model.add(tf.keras.layers.Dense(1))\n",
    "model.summary()\n",
    "\n",
    "# コンパイル\n",
    "model.compile(loss='mean_squared_error',\n",
    "              optimizer=tf.train.AdamOptimizer(learning_rate=0.001),\n",
    "              metrics=['mae'])\n",
    "\n",
    "# 学習\n",
    "history = model.fit(X_train, y_train,\n",
    "                    batch_size=32,\n",
    "                    epochs=100,\n",
    "                    verbose=1,\n",
    "                    validation_data=(X_val, y_val))"
   ]
  },
  {
   "cell_type": "code",
   "execution_count": 28,
   "metadata": {
    "tags": []
   },
   "outputs": [
    {
     "output_type": "stream",
     "name": "stdout",
     "text": "y_pred_log [12.173798 11.92067  11.794713 11.995914 12.070793]\ny_test [12.20918779 11.79810441 11.60823564 12.16525065 11.38509209]\nmae 0.20861352161122418\n"
    }
   ],
   "source": [
    "y_pred_log = model.predict(X_test)\n",
    "print(\"y_pred_log\", y_pred_log.flatten()[:5])\n",
    "print(\"y_test\", y_test.flatten()[:5])\n",
    "print(\"mae\", mean_absolute_error(y_test, y_pred_log))"
   ]
  },
  {
   "cell_type": "code",
   "execution_count": 29,
   "metadata": {},
   "outputs": [
    {
     "output_type": "display_data",
     "data": {
      "text/plain": "<Figure size 432x288 with 1 Axes>",
      "image/svg+xml": "<?xml version=\"1.0\" encoding=\"utf-8\" standalone=\"no\"?>\r\n<!DOCTYPE svg PUBLIC \"-//W3C//DTD SVG 1.1//EN\"\r\n  \"http://www.w3.org/Graphics/SVG/1.1/DTD/svg11.dtd\">\r\n<!-- Created with matplotlib (https://matplotlib.org/) -->\r\n<svg height=\"248.518125pt\" version=\"1.1\" viewBox=\"0 0 375.2875 248.518125\" width=\"375.2875pt\" xmlns=\"http://www.w3.org/2000/svg\" xmlns:xlink=\"http://www.w3.org/1999/xlink\">\r\n <defs>\r\n  <style type=\"text/css\">\r\n*{stroke-linecap:butt;stroke-linejoin:round;}\r\n  </style>\r\n </defs>\r\n <g id=\"figure_1\">\r\n  <g id=\"patch_1\">\r\n   <path d=\"M 0 248.518125 \r\nL 375.2875 248.518125 \r\nL 375.2875 0 \r\nL 0 0 \r\nz\r\n\" style=\"fill:none;\"/>\r\n  </g>\r\n  <g id=\"axes_1\">\r\n   <g id=\"patch_2\">\r\n    <path d=\"M 33.2875 224.64 \r\nL 368.0875 224.64 \r\nL 368.0875 7.2 \r\nL 33.2875 7.2 \r\nz\r\n\" style=\"fill:#ffffff;\"/>\r\n   </g>\r\n   <g id=\"matplotlib.axis_1\">\r\n    <g id=\"xtick_1\">\r\n     <g id=\"line2d_1\">\r\n      <defs>\r\n       <path d=\"M 0 0 \r\nL 0 3.5 \r\n\" id=\"mdaa62433c5\" style=\"stroke:#000000;stroke-width:0.8;\"/>\r\n      </defs>\r\n      <g>\r\n       <use style=\"stroke:#000000;stroke-width:0.8;\" x=\"48.505682\" xlink:href=\"#mdaa62433c5\" y=\"224.64\"/>\r\n      </g>\r\n     </g>\r\n     <g id=\"text_1\">\r\n      <!-- 0 -->\r\n      <defs>\r\n       <path d=\"M 31.78125 66.40625 \r\nQ 24.171875 66.40625 20.328125 58.90625 \r\nQ 16.5 51.421875 16.5 36.375 \r\nQ 16.5 21.390625 20.328125 13.890625 \r\nQ 24.171875 6.390625 31.78125 6.390625 \r\nQ 39.453125 6.390625 43.28125 13.890625 \r\nQ 47.125 21.390625 47.125 36.375 \r\nQ 47.125 51.421875 43.28125 58.90625 \r\nQ 39.453125 66.40625 31.78125 66.40625 \r\nz\r\nM 31.78125 74.21875 \r\nQ 44.046875 74.21875 50.515625 64.515625 \r\nQ 56.984375 54.828125 56.984375 36.375 \r\nQ 56.984375 17.96875 50.515625 8.265625 \r\nQ 44.046875 -1.421875 31.78125 -1.421875 \r\nQ 19.53125 -1.421875 13.0625 8.265625 \r\nQ 6.59375 17.96875 6.59375 36.375 \r\nQ 6.59375 54.828125 13.0625 64.515625 \r\nQ 19.53125 74.21875 31.78125 74.21875 \r\nz\r\n\" id=\"DejaVuSans-48\"/>\r\n      </defs>\r\n      <g transform=\"translate(45.324432 239.238438)scale(0.1 -0.1)\">\r\n       <use xlink:href=\"#DejaVuSans-48\"/>\r\n      </g>\r\n     </g>\r\n    </g>\r\n    <g id=\"xtick_2\">\r\n     <g id=\"line2d_2\">\r\n      <g>\r\n       <use style=\"stroke:#000000;stroke-width:0.8;\" x=\"109.993285\" xlink:href=\"#mdaa62433c5\" y=\"224.64\"/>\r\n      </g>\r\n     </g>\r\n     <g id=\"text_2\">\r\n      <!-- 20 -->\r\n      <defs>\r\n       <path d=\"M 19.1875 8.296875 \r\nL 53.609375 8.296875 \r\nL 53.609375 0 \r\nL 7.328125 0 \r\nL 7.328125 8.296875 \r\nQ 12.9375 14.109375 22.625 23.890625 \r\nQ 32.328125 33.6875 34.8125 36.53125 \r\nQ 39.546875 41.84375 41.421875 45.53125 \r\nQ 43.3125 49.21875 43.3125 52.78125 \r\nQ 43.3125 58.59375 39.234375 62.25 \r\nQ 35.15625 65.921875 28.609375 65.921875 \r\nQ 23.96875 65.921875 18.8125 64.3125 \r\nQ 13.671875 62.703125 7.8125 59.421875 \r\nL 7.8125 69.390625 \r\nQ 13.765625 71.78125 18.9375 73 \r\nQ 24.125 74.21875 28.421875 74.21875 \r\nQ 39.75 74.21875 46.484375 68.546875 \r\nQ 53.21875 62.890625 53.21875 53.421875 \r\nQ 53.21875 48.921875 51.53125 44.890625 \r\nQ 49.859375 40.875 45.40625 35.40625 \r\nQ 44.1875 33.984375 37.640625 27.21875 \r\nQ 31.109375 20.453125 19.1875 8.296875 \r\nz\r\n\" id=\"DejaVuSans-50\"/>\r\n      </defs>\r\n      <g transform=\"translate(103.630785 239.238438)scale(0.1 -0.1)\">\r\n       <use xlink:href=\"#DejaVuSans-50\"/>\r\n       <use x=\"63.623047\" xlink:href=\"#DejaVuSans-48\"/>\r\n      </g>\r\n     </g>\r\n    </g>\r\n    <g id=\"xtick_3\">\r\n     <g id=\"line2d_3\">\r\n      <g>\r\n       <use style=\"stroke:#000000;stroke-width:0.8;\" x=\"171.480888\" xlink:href=\"#mdaa62433c5\" y=\"224.64\"/>\r\n      </g>\r\n     </g>\r\n     <g id=\"text_3\">\r\n      <!-- 40 -->\r\n      <defs>\r\n       <path d=\"M 37.796875 64.3125 \r\nL 12.890625 25.390625 \r\nL 37.796875 25.390625 \r\nz\r\nM 35.203125 72.90625 \r\nL 47.609375 72.90625 \r\nL 47.609375 25.390625 \r\nL 58.015625 25.390625 \r\nL 58.015625 17.1875 \r\nL 47.609375 17.1875 \r\nL 47.609375 0 \r\nL 37.796875 0 \r\nL 37.796875 17.1875 \r\nL 4.890625 17.1875 \r\nL 4.890625 26.703125 \r\nz\r\n\" id=\"DejaVuSans-52\"/>\r\n      </defs>\r\n      <g transform=\"translate(165.118388 239.238438)scale(0.1 -0.1)\">\r\n       <use xlink:href=\"#DejaVuSans-52\"/>\r\n       <use x=\"63.623047\" xlink:href=\"#DejaVuSans-48\"/>\r\n      </g>\r\n     </g>\r\n    </g>\r\n    <g id=\"xtick_4\">\r\n     <g id=\"line2d_4\">\r\n      <g>\r\n       <use style=\"stroke:#000000;stroke-width:0.8;\" x=\"232.968492\" xlink:href=\"#mdaa62433c5\" y=\"224.64\"/>\r\n      </g>\r\n     </g>\r\n     <g id=\"text_4\">\r\n      <!-- 60 -->\r\n      <defs>\r\n       <path d=\"M 33.015625 40.375 \r\nQ 26.375 40.375 22.484375 35.828125 \r\nQ 18.609375 31.296875 18.609375 23.390625 \r\nQ 18.609375 15.53125 22.484375 10.953125 \r\nQ 26.375 6.390625 33.015625 6.390625 \r\nQ 39.65625 6.390625 43.53125 10.953125 \r\nQ 47.40625 15.53125 47.40625 23.390625 \r\nQ 47.40625 31.296875 43.53125 35.828125 \r\nQ 39.65625 40.375 33.015625 40.375 \r\nz\r\nM 52.59375 71.296875 \r\nL 52.59375 62.3125 \r\nQ 48.875 64.0625 45.09375 64.984375 \r\nQ 41.3125 65.921875 37.59375 65.921875 \r\nQ 27.828125 65.921875 22.671875 59.328125 \r\nQ 17.53125 52.734375 16.796875 39.40625 \r\nQ 19.671875 43.65625 24.015625 45.921875 \r\nQ 28.375 48.1875 33.59375 48.1875 \r\nQ 44.578125 48.1875 50.953125 41.515625 \r\nQ 57.328125 34.859375 57.328125 23.390625 \r\nQ 57.328125 12.15625 50.6875 5.359375 \r\nQ 44.046875 -1.421875 33.015625 -1.421875 \r\nQ 20.359375 -1.421875 13.671875 8.265625 \r\nQ 6.984375 17.96875 6.984375 36.375 \r\nQ 6.984375 53.65625 15.1875 63.9375 \r\nQ 23.390625 74.21875 37.203125 74.21875 \r\nQ 40.921875 74.21875 44.703125 73.484375 \r\nQ 48.484375 72.75 52.59375 71.296875 \r\nz\r\n\" id=\"DejaVuSans-54\"/>\r\n      </defs>\r\n      <g transform=\"translate(226.605992 239.238438)scale(0.1 -0.1)\">\r\n       <use xlink:href=\"#DejaVuSans-54\"/>\r\n       <use x=\"63.623047\" xlink:href=\"#DejaVuSans-48\"/>\r\n      </g>\r\n     </g>\r\n    </g>\r\n    <g id=\"xtick_5\">\r\n     <g id=\"line2d_5\">\r\n      <g>\r\n       <use style=\"stroke:#000000;stroke-width:0.8;\" x=\"294.456095\" xlink:href=\"#mdaa62433c5\" y=\"224.64\"/>\r\n      </g>\r\n     </g>\r\n     <g id=\"text_5\">\r\n      <!-- 80 -->\r\n      <defs>\r\n       <path d=\"M 31.78125 34.625 \r\nQ 24.75 34.625 20.71875 30.859375 \r\nQ 16.703125 27.09375 16.703125 20.515625 \r\nQ 16.703125 13.921875 20.71875 10.15625 \r\nQ 24.75 6.390625 31.78125 6.390625 \r\nQ 38.8125 6.390625 42.859375 10.171875 \r\nQ 46.921875 13.96875 46.921875 20.515625 \r\nQ 46.921875 27.09375 42.890625 30.859375 \r\nQ 38.875 34.625 31.78125 34.625 \r\nz\r\nM 21.921875 38.8125 \r\nQ 15.578125 40.375 12.03125 44.71875 \r\nQ 8.5 49.078125 8.5 55.328125 \r\nQ 8.5 64.0625 14.71875 69.140625 \r\nQ 20.953125 74.21875 31.78125 74.21875 \r\nQ 42.671875 74.21875 48.875 69.140625 \r\nQ 55.078125 64.0625 55.078125 55.328125 \r\nQ 55.078125 49.078125 51.53125 44.71875 \r\nQ 48 40.375 41.703125 38.8125 \r\nQ 48.828125 37.15625 52.796875 32.3125 \r\nQ 56.78125 27.484375 56.78125 20.515625 \r\nQ 56.78125 9.90625 50.3125 4.234375 \r\nQ 43.84375 -1.421875 31.78125 -1.421875 \r\nQ 19.734375 -1.421875 13.25 4.234375 \r\nQ 6.78125 9.90625 6.78125 20.515625 \r\nQ 6.78125 27.484375 10.78125 32.3125 \r\nQ 14.796875 37.15625 21.921875 38.8125 \r\nz\r\nM 18.3125 54.390625 \r\nQ 18.3125 48.734375 21.84375 45.5625 \r\nQ 25.390625 42.390625 31.78125 42.390625 \r\nQ 38.140625 42.390625 41.71875 45.5625 \r\nQ 45.3125 48.734375 45.3125 54.390625 \r\nQ 45.3125 60.0625 41.71875 63.234375 \r\nQ 38.140625 66.40625 31.78125 66.40625 \r\nQ 25.390625 66.40625 21.84375 63.234375 \r\nQ 18.3125 60.0625 18.3125 54.390625 \r\nz\r\n\" id=\"DejaVuSans-56\"/>\r\n      </defs>\r\n      <g transform=\"translate(288.093595 239.238438)scale(0.1 -0.1)\">\r\n       <use xlink:href=\"#DejaVuSans-56\"/>\r\n       <use x=\"63.623047\" xlink:href=\"#DejaVuSans-48\"/>\r\n      </g>\r\n     </g>\r\n    </g>\r\n    <g id=\"xtick_6\">\r\n     <g id=\"line2d_6\">\r\n      <g>\r\n       <use style=\"stroke:#000000;stroke-width:0.8;\" x=\"355.943698\" xlink:href=\"#mdaa62433c5\" y=\"224.64\"/>\r\n      </g>\r\n     </g>\r\n     <g id=\"text_6\">\r\n      <!-- 100 -->\r\n      <defs>\r\n       <path d=\"M 12.40625 8.296875 \r\nL 28.515625 8.296875 \r\nL 28.515625 63.921875 \r\nL 10.984375 60.40625 \r\nL 10.984375 69.390625 \r\nL 28.421875 72.90625 \r\nL 38.28125 72.90625 \r\nL 38.28125 8.296875 \r\nL 54.390625 8.296875 \r\nL 54.390625 0 \r\nL 12.40625 0 \r\nz\r\n\" id=\"DejaVuSans-49\"/>\r\n      </defs>\r\n      <g transform=\"translate(346.399948 239.238438)scale(0.1 -0.1)\">\r\n       <use xlink:href=\"#DejaVuSans-49\"/>\r\n       <use x=\"63.623047\" xlink:href=\"#DejaVuSans-48\"/>\r\n       <use x=\"127.246094\" xlink:href=\"#DejaVuSans-48\"/>\r\n      </g>\r\n     </g>\r\n    </g>\r\n   </g>\r\n   <g id=\"matplotlib.axis_2\">\r\n    <g id=\"ytick_1\">\r\n     <g id=\"line2d_7\">\r\n      <defs>\r\n       <path d=\"M 0 0 \r\nL -3.5 0 \r\n\" id=\"m61abbc1cef\" style=\"stroke:#000000;stroke-width:0.8;\"/>\r\n      </defs>\r\n      <g>\r\n       <use style=\"stroke:#000000;stroke-width:0.8;\" x=\"33.2875\" xlink:href=\"#m61abbc1cef\" y=\"214.881097\"/>\r\n      </g>\r\n     </g>\r\n     <g id=\"text_7\">\r\n      <!-- 0 -->\r\n      <g transform=\"translate(19.925 218.680315)scale(0.1 -0.1)\">\r\n       <use xlink:href=\"#DejaVuSans-48\"/>\r\n      </g>\r\n     </g>\r\n    </g>\r\n    <g id=\"ytick_2\">\r\n     <g id=\"line2d_8\">\r\n      <g>\r\n       <use style=\"stroke:#000000;stroke-width:0.8;\" x=\"33.2875\" xlink:href=\"#m61abbc1cef\" y=\"187.364953\"/>\r\n      </g>\r\n     </g>\r\n     <g id=\"text_8\">\r\n      <!-- 20 -->\r\n      <g transform=\"translate(13.5625 191.164172)scale(0.1 -0.1)\">\r\n       <use xlink:href=\"#DejaVuSans-50\"/>\r\n       <use x=\"63.623047\" xlink:href=\"#DejaVuSans-48\"/>\r\n      </g>\r\n     </g>\r\n    </g>\r\n    <g id=\"ytick_3\">\r\n     <g id=\"line2d_9\">\r\n      <g>\r\n       <use style=\"stroke:#000000;stroke-width:0.8;\" x=\"33.2875\" xlink:href=\"#m61abbc1cef\" y=\"159.848809\"/>\r\n      </g>\r\n     </g>\r\n     <g id=\"text_9\">\r\n      <!-- 40 -->\r\n      <g transform=\"translate(13.5625 163.648028)scale(0.1 -0.1)\">\r\n       <use xlink:href=\"#DejaVuSans-52\"/>\r\n       <use x=\"63.623047\" xlink:href=\"#DejaVuSans-48\"/>\r\n      </g>\r\n     </g>\r\n    </g>\r\n    <g id=\"ytick_4\">\r\n     <g id=\"line2d_10\">\r\n      <g>\r\n       <use style=\"stroke:#000000;stroke-width:0.8;\" x=\"33.2875\" xlink:href=\"#m61abbc1cef\" y=\"132.332665\"/>\r\n      </g>\r\n     </g>\r\n     <g id=\"text_10\">\r\n      <!-- 60 -->\r\n      <g transform=\"translate(13.5625 136.131884)scale(0.1 -0.1)\">\r\n       <use xlink:href=\"#DejaVuSans-54\"/>\r\n       <use x=\"63.623047\" xlink:href=\"#DejaVuSans-48\"/>\r\n      </g>\r\n     </g>\r\n    </g>\r\n    <g id=\"ytick_5\">\r\n     <g id=\"line2d_11\">\r\n      <g>\r\n       <use style=\"stroke:#000000;stroke-width:0.8;\" x=\"33.2875\" xlink:href=\"#m61abbc1cef\" y=\"104.816521\"/>\r\n      </g>\r\n     </g>\r\n     <g id=\"text_11\">\r\n      <!-- 80 -->\r\n      <g transform=\"translate(13.5625 108.61574)scale(0.1 -0.1)\">\r\n       <use xlink:href=\"#DejaVuSans-56\"/>\r\n       <use x=\"63.623047\" xlink:href=\"#DejaVuSans-48\"/>\r\n      </g>\r\n     </g>\r\n    </g>\r\n    <g id=\"ytick_6\">\r\n     <g id=\"line2d_12\">\r\n      <g>\r\n       <use style=\"stroke:#000000;stroke-width:0.8;\" x=\"33.2875\" xlink:href=\"#m61abbc1cef\" y=\"77.300377\"/>\r\n      </g>\r\n     </g>\r\n     <g id=\"text_12\">\r\n      <!-- 100 -->\r\n      <g transform=\"translate(7.2 81.099596)scale(0.1 -0.1)\">\r\n       <use xlink:href=\"#DejaVuSans-49\"/>\r\n       <use x=\"63.623047\" xlink:href=\"#DejaVuSans-48\"/>\r\n       <use x=\"127.246094\" xlink:href=\"#DejaVuSans-48\"/>\r\n      </g>\r\n     </g>\r\n    </g>\r\n    <g id=\"ytick_7\">\r\n     <g id=\"line2d_13\">\r\n      <g>\r\n       <use style=\"stroke:#000000;stroke-width:0.8;\" x=\"33.2875\" xlink:href=\"#m61abbc1cef\" y=\"49.784233\"/>\r\n      </g>\r\n     </g>\r\n     <g id=\"text_13\">\r\n      <!-- 120 -->\r\n      <g transform=\"translate(7.2 53.583452)scale(0.1 -0.1)\">\r\n       <use xlink:href=\"#DejaVuSans-49\"/>\r\n       <use x=\"63.623047\" xlink:href=\"#DejaVuSans-50\"/>\r\n       <use x=\"127.246094\" xlink:href=\"#DejaVuSans-48\"/>\r\n      </g>\r\n     </g>\r\n    </g>\r\n    <g id=\"ytick_8\">\r\n     <g id=\"line2d_14\">\r\n      <g>\r\n       <use style=\"stroke:#000000;stroke-width:0.8;\" x=\"33.2875\" xlink:href=\"#m61abbc1cef\" y=\"22.26809\"/>\r\n      </g>\r\n     </g>\r\n     <g id=\"text_14\">\r\n      <!-- 140 -->\r\n      <g transform=\"translate(7.2 26.067308)scale(0.1 -0.1)\">\r\n       <use xlink:href=\"#DejaVuSans-49\"/>\r\n       <use x=\"63.623047\" xlink:href=\"#DejaVuSans-52\"/>\r\n       <use x=\"127.246094\" xlink:href=\"#DejaVuSans-48\"/>\r\n      </g>\r\n     </g>\r\n    </g>\r\n   </g>\r\n   <g id=\"line2d_15\">\r\n    <path clip-path=\"url(#p74e43b39bd)\" d=\"M 48.505682 17.083636 \r\nL 51.580062 20.902683 \r\nL 54.654442 25.049209 \r\nL 57.728822 29.908877 \r\nL 60.803202 35.830231 \r\nL 63.877583 43.506311 \r\nL 66.951963 52.871449 \r\nL 70.026343 62.790179 \r\nL 73.100723 73.59639 \r\nL 76.175103 85.288529 \r\nL 79.249483 97.797075 \r\nL 82.323864 111.06618 \r\nL 85.398244 124.959689 \r\nL 88.472624 139.190735 \r\nL 91.547004 153.210768 \r\nL 94.621384 166.194018 \r\nL 97.695764 177.73041 \r\nL 100.770145 187.282641 \r\nL 103.844525 194.806186 \r\nL 106.918905 200.138296 \r\nL 109.993285 203.639269 \r\nL 113.067665 205.871703 \r\nL 116.142045 207.208808 \r\nL 119.216426 208.030459 \r\nL 122.290806 208.585834 \r\nL 125.365186 209.044507 \r\nL 128.439566 209.420497 \r\nL 131.513946 209.764913 \r\nL 134.588326 210.083499 \r\nL 137.662707 210.396753 \r\nL 140.737087 210.663905 \r\nL 143.811467 210.935696 \r\nL 146.885847 211.187808 \r\nL 149.960227 211.416244 \r\nL 153.034607 211.643403 \r\nL 156.108988 211.848783 \r\nL 159.183368 212.052271 \r\nL 162.257748 212.229849 \r\nL 165.332128 212.403615 \r\nL 168.406508 212.558579 \r\nL 171.480888 212.709987 \r\nL 174.555269 212.842641 \r\nL 177.629649 212.967303 \r\nL 180.704029 213.081404 \r\nL 183.778409 213.195437 \r\nL 186.852789 213.30177 \r\nL 189.927169 213.401357 \r\nL 193.00155 213.498215 \r\nL 196.07593 213.586575 \r\nL 199.15031 213.668633 \r\nL 202.22469 213.74705 \r\nL 205.29907 213.821054 \r\nL 208.37345 213.892565 \r\nL 211.447831 213.95841 \r\nL 214.522211 214.01012 \r\nL 217.596591 214.090433 \r\nL 220.670971 214.145313 \r\nL 223.745351 214.19389 \r\nL 226.819731 214.238437 \r\nL 229.894112 214.280905 \r\nL 232.968492 214.316309 \r\nL 236.042872 214.35291 \r\nL 239.117252 214.387777 \r\nL 242.191632 214.420013 \r\nL 245.266012 214.449795 \r\nL 248.340393 214.475909 \r\nL 251.414773 214.49695 \r\nL 254.489153 214.514394 \r\nL 257.563533 214.529799 \r\nL 260.637913 214.543294 \r\nL 263.712293 214.560094 \r\nL 266.786674 214.57095 \r\nL 269.861054 214.58133 \r\nL 272.935434 214.593746 \r\nL 276.009814 214.60391 \r\nL 279.084194 214.613161 \r\nL 282.158574 214.620027 \r\nL 285.232955 214.629047 \r\nL 288.307335 214.639448 \r\nL 291.381715 214.647039 \r\nL 294.456095 214.65403 \r\nL 297.530475 214.658948 \r\nL 300.604855 214.662387 \r\nL 303.679236 214.671502 \r\nL 306.753616 214.679302 \r\nL 309.827996 214.684176 \r\nL 312.902376 214.688788 \r\nL 315.976756 214.694449 \r\nL 319.051136 214.697627 \r\nL 322.125517 214.703579 \r\nL 325.199897 214.707881 \r\nL 328.274277 214.711055 \r\nL 331.348657 214.715036 \r\nL 334.423037 214.719034 \r\nL 337.497417 214.723491 \r\nL 340.571798 214.72634 \r\nL 343.646178 214.72958 \r\nL 346.720558 214.732102 \r\nL 349.794938 214.730921 \r\nL 352.869318 214.73641 \r\n\" style=\"fill:none;stroke:#1f77b4;stroke-linecap:square;stroke-width:1.5;\"/>\r\n   </g>\r\n   <g id=\"line2d_16\">\r\n    <path clip-path=\"url(#p74e43b39bd)\" d=\"M 48.505682 19.722492 \r\nL 51.580062 23.60645 \r\nL 54.654442 28.159304 \r\nL 57.728822 33.562303 \r\nL 60.803202 40.215398 \r\nL 63.877583 49.118392 \r\nL 66.951963 58.634524 \r\nL 70.026343 68.957707 \r\nL 73.100723 80.269007 \r\nL 76.175103 92.33858 \r\nL 79.249483 105.307463 \r\nL 82.323864 118.935668 \r\nL 85.398244 132.923179 \r\nL 88.472624 147.067462 \r\nL 91.547004 160.573636 \r\nL 94.621384 172.699306 \r\nL 97.695764 183.161707 \r\nL 100.770145 191.73459 \r\nL 103.844525 198.174748 \r\nL 106.918905 202.468114 \r\nL 109.993285 205.364132 \r\nL 113.067665 207.153836 \r\nL 116.142045 208.207896 \r\nL 119.216426 208.90053 \r\nL 122.290806 209.361007 \r\nL 125.365186 209.764998 \r\nL 128.439566 210.095563 \r\nL 131.513946 210.40557 \r\nL 134.588326 210.683986 \r\nL 137.662707 210.912553 \r\nL 140.737087 211.168066 \r\nL 143.811467 211.422346 \r\nL 146.885847 211.623595 \r\nL 149.960227 211.849013 \r\nL 153.034607 212.056129 \r\nL 156.108988 212.25373 \r\nL 159.183368 212.445326 \r\nL 162.257748 212.60616 \r\nL 165.332128 212.771084 \r\nL 168.406508 212.906715 \r\nL 171.480888 213.040117 \r\nL 174.555269 213.151891 \r\nL 177.629649 213.268265 \r\nL 180.704029 213.37014 \r\nL 183.778409 213.4789 \r\nL 186.852789 213.576248 \r\nL 189.927169 213.654669 \r\nL 193.00155 213.74304 \r\nL 196.07593 213.822601 \r\nL 199.15031 213.892585 \r\nL 202.22469 213.952368 \r\nL 205.29907 214.018218 \r\nL 208.37345 214.080776 \r\nL 211.447831 214.145425 \r\nL 214.522211 214.164922 \r\nL 217.596591 214.226193 \r\nL 220.670971 214.280763 \r\nL 223.745351 214.328666 \r\nL 226.819731 214.370352 \r\nL 229.894112 214.401213 \r\nL 232.968492 214.433379 \r\nL 236.042872 214.470134 \r\nL 239.117252 214.493564 \r\nL 242.191632 214.522441 \r\nL 245.266012 214.544185 \r\nL 248.340393 214.564525 \r\nL 251.414773 214.579879 \r\nL 254.489153 214.596502 \r\nL 257.563533 214.601628 \r\nL 260.637913 214.618328 \r\nL 263.712293 214.626335 \r\nL 266.786674 214.63196 \r\nL 269.861054 214.645117 \r\nL 272.935434 214.648626 \r\nL 276.009814 214.658653 \r\nL 279.084194 214.662495 \r\nL 282.158574 214.672526 \r\nL 285.232955 214.676563 \r\nL 288.307335 214.68466 \r\nL 291.381715 214.689705 \r\nL 294.456095 214.69908 \r\nL 297.530475 214.703065 \r\nL 300.604855 214.692114 \r\nL 303.679236 214.706911 \r\nL 306.753616 214.714558 \r\nL 309.827996 214.71877 \r\nL 312.902376 214.723191 \r\nL 315.976756 214.726961 \r\nL 319.051136 214.731215 \r\nL 322.125517 214.732088 \r\nL 325.199897 214.738443 \r\nL 328.274277 214.740987 \r\nL 331.348657 214.741659 \r\nL 334.423037 214.746743 \r\nL 337.497417 214.750631 \r\nL 340.571798 214.752713 \r\nL 343.646178 214.754974 \r\nL 346.720558 214.753741 \r\nL 349.794938 214.749092 \r\nL 352.869318 214.756364 \r\n\" style=\"fill:none;stroke:#ff7f0e;stroke-linecap:square;stroke-width:1.5;\"/>\r\n   </g>\r\n   <g id=\"patch_3\">\r\n    <path d=\"M 33.2875 224.64 \r\nL 33.2875 7.2 \r\n\" style=\"fill:none;stroke:#000000;stroke-linecap:square;stroke-linejoin:miter;stroke-width:0.8;\"/>\r\n   </g>\r\n   <g id=\"patch_4\">\r\n    <path d=\"M 368.0875 224.64 \r\nL 368.0875 7.2 \r\n\" style=\"fill:none;stroke:#000000;stroke-linecap:square;stroke-linejoin:miter;stroke-width:0.8;\"/>\r\n   </g>\r\n   <g id=\"patch_5\">\r\n    <path d=\"M 33.2875 224.64 \r\nL 368.0875 224.64 \r\n\" style=\"fill:none;stroke:#000000;stroke-linecap:square;stroke-linejoin:miter;stroke-width:0.8;\"/>\r\n   </g>\r\n   <g id=\"patch_6\">\r\n    <path d=\"M 33.2875 7.2 \r\nL 368.0875 7.2 \r\n\" style=\"fill:none;stroke:#000000;stroke-linecap:square;stroke-linejoin:miter;stroke-width:0.8;\"/>\r\n   </g>\r\n   <g id=\"legend_1\">\r\n    <g id=\"patch_7\">\r\n     <path d=\"M 289.946875 44.834375 \r\nL 361.0875 44.834375 \r\nQ 363.0875 44.834375 363.0875 42.834375 \r\nL 363.0875 14.2 \r\nQ 363.0875 12.2 361.0875 12.2 \r\nL 289.946875 12.2 \r\nQ 287.946875 12.2 287.946875 14.2 \r\nL 287.946875 42.834375 \r\nQ 287.946875 44.834375 289.946875 44.834375 \r\nz\r\n\" style=\"fill:#ffffff;opacity:0.8;stroke:#cccccc;stroke-linejoin:miter;\"/>\r\n    </g>\r\n    <g id=\"line2d_17\">\r\n     <path d=\"M 291.946875 20.298437 \r\nL 311.946875 20.298437 \r\n\" style=\"fill:none;stroke:#1f77b4;stroke-linecap:square;stroke-width:1.5;\"/>\r\n    </g>\r\n    <g id=\"line2d_18\"/>\r\n    <g id=\"text_15\">\r\n     <!-- loss -->\r\n     <defs>\r\n      <path d=\"M 9.421875 75.984375 \r\nL 18.40625 75.984375 \r\nL 18.40625 0 \r\nL 9.421875 0 \r\nz\r\n\" id=\"DejaVuSans-108\"/>\r\n      <path d=\"M 30.609375 48.390625 \r\nQ 23.390625 48.390625 19.1875 42.75 \r\nQ 14.984375 37.109375 14.984375 27.296875 \r\nQ 14.984375 17.484375 19.15625 11.84375 \r\nQ 23.34375 6.203125 30.609375 6.203125 \r\nQ 37.796875 6.203125 41.984375 11.859375 \r\nQ 46.1875 17.53125 46.1875 27.296875 \r\nQ 46.1875 37.015625 41.984375 42.703125 \r\nQ 37.796875 48.390625 30.609375 48.390625 \r\nz\r\nM 30.609375 56 \r\nQ 42.328125 56 49.015625 48.375 \r\nQ 55.71875 40.765625 55.71875 27.296875 \r\nQ 55.71875 13.875 49.015625 6.21875 \r\nQ 42.328125 -1.421875 30.609375 -1.421875 \r\nQ 18.84375 -1.421875 12.171875 6.21875 \r\nQ 5.515625 13.875 5.515625 27.296875 \r\nQ 5.515625 40.765625 12.171875 48.375 \r\nQ 18.84375 56 30.609375 56 \r\nz\r\n\" id=\"DejaVuSans-111\"/>\r\n      <path d=\"M 44.28125 53.078125 \r\nL 44.28125 44.578125 \r\nQ 40.484375 46.53125 36.375 47.5 \r\nQ 32.28125 48.484375 27.875 48.484375 \r\nQ 21.1875 48.484375 17.84375 46.4375 \r\nQ 14.5 44.390625 14.5 40.28125 \r\nQ 14.5 37.15625 16.890625 35.375 \r\nQ 19.28125 33.59375 26.515625 31.984375 \r\nL 29.59375 31.296875 \r\nQ 39.15625 29.25 43.1875 25.515625 \r\nQ 47.21875 21.78125 47.21875 15.09375 \r\nQ 47.21875 7.46875 41.1875 3.015625 \r\nQ 35.15625 -1.421875 24.609375 -1.421875 \r\nQ 20.21875 -1.421875 15.453125 -0.5625 \r\nQ 10.6875 0.296875 5.421875 2 \r\nL 5.421875 11.28125 \r\nQ 10.40625 8.6875 15.234375 7.390625 \r\nQ 20.0625 6.109375 24.8125 6.109375 \r\nQ 31.15625 6.109375 34.5625 8.28125 \r\nQ 37.984375 10.453125 37.984375 14.40625 \r\nQ 37.984375 18.0625 35.515625 20.015625 \r\nQ 33.0625 21.96875 24.703125 23.78125 \r\nL 21.578125 24.515625 \r\nQ 13.234375 26.265625 9.515625 29.90625 \r\nQ 5.8125 33.546875 5.8125 39.890625 \r\nQ 5.8125 47.609375 11.28125 51.796875 \r\nQ 16.75 56 26.8125 56 \r\nQ 31.78125 56 36.171875 55.265625 \r\nQ 40.578125 54.546875 44.28125 53.078125 \r\nz\r\n\" id=\"DejaVuSans-115\"/>\r\n     </defs>\r\n     <g transform=\"translate(319.946875 23.798437)scale(0.1 -0.1)\">\r\n      <use xlink:href=\"#DejaVuSans-108\"/>\r\n      <use x=\"27.783203\" xlink:href=\"#DejaVuSans-111\"/>\r\n      <use x=\"88.964844\" xlink:href=\"#DejaVuSans-115\"/>\r\n      <use x=\"141.064453\" xlink:href=\"#DejaVuSans-115\"/>\r\n     </g>\r\n    </g>\r\n    <g id=\"line2d_19\">\r\n     <path d=\"M 291.946875 34.976562 \r\nL 311.946875 34.976562 \r\n\" style=\"fill:none;stroke:#ff7f0e;stroke-linecap:square;stroke-width:1.5;\"/>\r\n    </g>\r\n    <g id=\"line2d_20\"/>\r\n    <g id=\"text_16\">\r\n     <!-- val_loss -->\r\n     <defs>\r\n      <path d=\"M 2.984375 54.6875 \r\nL 12.5 54.6875 \r\nL 29.59375 8.796875 \r\nL 46.6875 54.6875 \r\nL 56.203125 54.6875 \r\nL 35.6875 0 \r\nL 23.484375 0 \r\nz\r\n\" id=\"DejaVuSans-118\"/>\r\n      <path d=\"M 34.28125 27.484375 \r\nQ 23.390625 27.484375 19.1875 25 \r\nQ 14.984375 22.515625 14.984375 16.5 \r\nQ 14.984375 11.71875 18.140625 8.90625 \r\nQ 21.296875 6.109375 26.703125 6.109375 \r\nQ 34.1875 6.109375 38.703125 11.40625 \r\nQ 43.21875 16.703125 43.21875 25.484375 \r\nL 43.21875 27.484375 \r\nz\r\nM 52.203125 31.203125 \r\nL 52.203125 0 \r\nL 43.21875 0 \r\nL 43.21875 8.296875 \r\nQ 40.140625 3.328125 35.546875 0.953125 \r\nQ 30.953125 -1.421875 24.3125 -1.421875 \r\nQ 15.921875 -1.421875 10.953125 3.296875 \r\nQ 6 8.015625 6 15.921875 \r\nQ 6 25.140625 12.171875 29.828125 \r\nQ 18.359375 34.515625 30.609375 34.515625 \r\nL 43.21875 34.515625 \r\nL 43.21875 35.40625 \r\nQ 43.21875 41.609375 39.140625 45 \r\nQ 35.0625 48.390625 27.6875 48.390625 \r\nQ 23 48.390625 18.546875 47.265625 \r\nQ 14.109375 46.140625 10.015625 43.890625 \r\nL 10.015625 52.203125 \r\nQ 14.9375 54.109375 19.578125 55.046875 \r\nQ 24.21875 56 28.609375 56 \r\nQ 40.484375 56 46.34375 49.84375 \r\nQ 52.203125 43.703125 52.203125 31.203125 \r\nz\r\n\" id=\"DejaVuSans-97\"/>\r\n      <path d=\"M 50.984375 -16.609375 \r\nL 50.984375 -23.578125 \r\nL -0.984375 -23.578125 \r\nL -0.984375 -16.609375 \r\nz\r\n\" id=\"DejaVuSans-95\"/>\r\n     </defs>\r\n     <g transform=\"translate(319.946875 38.476562)scale(0.1 -0.1)\">\r\n      <use xlink:href=\"#DejaVuSans-118\"/>\r\n      <use x=\"59.179688\" xlink:href=\"#DejaVuSans-97\"/>\r\n      <use x=\"120.458984\" xlink:href=\"#DejaVuSans-108\"/>\r\n      <use x=\"148.242188\" xlink:href=\"#DejaVuSans-95\"/>\r\n      <use x=\"198.242188\" xlink:href=\"#DejaVuSans-108\"/>\r\n      <use x=\"226.025391\" xlink:href=\"#DejaVuSans-111\"/>\r\n      <use x=\"287.207031\" xlink:href=\"#DejaVuSans-115\"/>\r\n      <use x=\"339.306641\" xlink:href=\"#DejaVuSans-115\"/>\r\n     </g>\r\n    </g>\r\n   </g>\r\n  </g>\r\n </g>\r\n <defs>\r\n  <clipPath id=\"p74e43b39bd\">\r\n   <rect height=\"217.44\" width=\"334.8\" x=\"33.2875\" y=\"7.2\"/>\r\n  </clipPath>\r\n </defs>\r\n</svg>\r\n",
      "image/png": "[encoded data removed]"
     },
     "metadata": {
      "needs_background": "light"
     }
    }
   ],
   "source": [
    "plt.plot(range(len(history.history['loss'])), history.history['loss'], label='loss')\n",
    "plt.plot(range(len(history.history['val_loss'])), history.history['val_loss'], label='val_loss')\n",
    "plt.legend()\n",
    "plt.show()"
   ]
  },
  {
   "cell_type": "markdown",
   "metadata": {},
   "source": [
    "### 【問題6】\n",
    "#### MNISTをKerasで学習\n",
    "TensorFlowによるMNISTデータセットによる画像の多値分類をKerasに書き換えてください。"
   ]
  },
  {
   "cell_type": "code",
   "execution_count": 30,
   "metadata": {
    "tags": []
   },
   "outputs": [
    {
     "output_type": "stream",
     "name": "stdout",
     "text": "(48000, 28, 28, 1)\n(12000, 28, 28, 1)\n(10000, 28, 28, 1)\n"
    }
   ],
   "source": [
    "# 読み込み\n",
    "(X_train, y_train), (X_test, y_test) = mnist.load_data()\n",
    "X_train = X_train.astype(np.float)[:, :, :, np.newaxis]\n",
    "X_test = X_test.astype(np.float)[:, :, :, np.newaxis]\n",
    "X_train /= 255\n",
    "X_test /= 255\n",
    "X_train, X_val, y_train, y_val = train_test_split(X_train, y_train, test_size=0.2)\n",
    "print(X_train.shape)\n",
    "print(X_val.shape)\n",
    "print(X_test.shape)"
   ]
  },
  {
   "cell_type": "code",
   "execution_count": 31,
   "metadata": {
    "tags": []
   },
   "outputs": [
    {
     "output_type": "stream",
     "name": "stdout",
     "text": "(48000, 10)\n(12000, 10)\n(10000, 10)\n"
    }
   ],
   "source": [
    "y_train = np.identity(10)[y_train]\n",
    "y_val = np.identity(10)[y_val]\n",
    "y_test = np.identity(10)[y_test]\n",
    "print(y_train.shape)\n",
    "print(y_val.shape)\n",
    "print(y_test.shape)"
   ]
  },
  {
   "cell_type": "code",
   "execution_count": 32,
   "metadata": {
    "tags": []
   },
   "outputs": [
    {
     "output_type": "stream",
     "name": "stdout",
     "text": "Model: \"sequential\"\n_________________________________________________________________\nLayer (type)                 Output Shape              Param #   \n=================================================================\nconv2d (Conv2D)              (None, 26, 26, 32)        320       \n_________________________________________________________________\nconv2d_1 (Conv2D)            (None, 24, 24, 16)        4624      \n_________________________________________________________________\nmax_pooling2d (MaxPooling2D) (None, 12, 12, 16)        0         \n_________________________________________________________________\nflatten (Flatten)            (None, 2304)              0         \n_________________________________________________________________\ndense (Dense)                (None, 10)                23050     \n=================================================================\nTotal params: 27,994\nTrainable params: 27,994\nNon-trainable params: 0\n_________________________________________________________________\nTrain on 48000 samples, validate on 12000 samples\nEpoch 1/5\n48000/48000 [==============================] - 19s 402us/sample - loss: 0.1558 - acc: 0.9527 - val_loss: 0.0851 - val_acc: 0.9744\nEpoch 2/5\n48000/48000 [==============================] - 20s 410us/sample - loss: 0.0605 - acc: 0.9813 - val_loss: 0.0604 - val_acc: 0.9803\nEpoch 3/5\n48000/48000 [==============================] - 22s 458us/sample - loss: 0.0443 - acc: 0.9859 - val_loss: 0.0568 - val_acc: 0.9826\nEpoch 4/5\n48000/48000 [==============================] - 20s 407us/sample - loss: 0.0340 - acc: 0.9890 - val_loss: 0.0604 - val_acc: 0.9826\nEpoch 5/5\n48000/48000 [==============================] - 20s 411us/sample - loss: 0.0288 - acc: 0.9908 - val_loss: 0.0708 - val_acc: 0.9810\n"
    }
   ],
   "source": [
    "# モデル構築\n",
    "import tensorflow.keras.layers as layers\n",
    "K.clear_session()\n",
    "model = tf.keras.Sequential()\n",
    "model.add(layers.Conv2D(filters=32, kernel_size=(3, 3), activation = tf.nn.relu, input_shape=X_train.shape[1:]))\n",
    "model.add(layers.Conv2D(filters=16, kernel_size=(3, 3), activation = tf.nn.relu))\n",
    "model.add(layers.MaxPooling2D(pool_size=(2, 2)))\n",
    "model.add(layers.Flatten())\n",
    "model.add(layers.Dense(10, activation = tf.nn.softmax))\n",
    "model.summary()\n",
    "\n",
    "# コンパイル\n",
    "model.compile(loss='categorical_crossentropy',\n",
    "              optimizer=tf.train.AdamOptimizer(learning_rate=0.01),\n",
    "              metrics=['accuracy'])\n",
    "\n",
    "# 学習\n",
    "history = model.fit(X_train, y_train,\n",
    "                    batch_size=128,\n",
    "                    epochs=5,\n",
    "                    verbose=1,\n",
    "                    validation_data=(X_val, y_val))"
   ]
  },
  {
   "cell_type": "code",
   "execution_count": 33,
   "metadata": {
    "tags": []
   },
   "outputs": [
    {
     "output_type": "stream",
     "name": "stdout",
     "text": "y_pred_proba [[2.47149767e-13 8.49596001e-12 1.35125364e-12 6.40594244e-10\n  1.25526759e-14 1.65671491e-12 2.78811086e-22 1.00000000e+00\n  2.94381049e-14 1.94739884e-11]\n [5.34899252e-12 2.46878429e-09 1.00000000e+00 3.52235623e-12\n  3.38760053e-14 1.43696971e-13 2.83084365e-08 2.67084031e-19\n  2.67431854e-10 1.35675867e-13]\n [5.02171815e-08 9.99903798e-01 6.34809538e-08 1.85491983e-10\n  8.28697885e-05 1.68360330e-07 1.02892656e-07 3.96535688e-06\n  8.99678071e-06 8.04858735e-10]\n [9.99998450e-01 1.84800041e-14 3.89966814e-08 9.92149830e-13\n  1.18522261e-10 2.94137905e-08 1.48188019e-06 1.08714101e-12\n  5.23613597e-09 2.54026915e-08]\n [7.95300437e-10 5.88887576e-12 2.13421503e-11 8.35541827e-14\n  1.00000000e+00 7.99295144e-11 2.67526242e-14 2.57576649e-09\n  1.26824773e-08 2.03190282e-08]]\ny_pred [7 2 1 ... 4 5 6]\ny_test [7 2 1 ... 4 5 6]\ntest_acc 0.9797\n"
    }
   ],
   "source": [
    "y_pred_proba = model.predict(X_test)\n",
    "y_pred = np.argmax(y_pred_proba, axis=1)\n",
    "print(\"y_pred_proba\", y_pred_proba[:5])\n",
    "print(\"y_pred\", y_pred)\n",
    "print(\"y_test\", np.argmax(y_test, axis=1))\n",
    "print(\"test_acc\", accuracy_score(np.argmax(y_test, axis=1), y_pred))"
   ]
  },
  {
   "cell_type": "markdown",
   "metadata": {},
   "source": [
    "### 【問題7】\n",
    "#### （アドバンス課題）PyTorchへの書き換え\n",
    "4種類の問題をPyTorchに書き換えてください。"
   ]
  },
  {
   "cell_type": "markdown",
   "metadata": {},
   "source": [
    "Keras: (N, H, W, C)\n",
    "\n",
    "PyTorch: (N, C, H, W)"
   ]
  },
  {
   "cell_type": "code",
   "execution_count": 34,
   "metadata": {
    "tags": []
   },
   "outputs": [
    {
     "output_type": "display_data",
     "data": {
      "text/plain": "      Id  SepalLengthCm  SepalWidthCm  PetalLengthCm  PetalWidthCm  \\\n0      1            5.1           3.5            1.4           0.2   \n1      2            4.9           3.0            1.4           0.2   \n2      3            4.7           3.2            1.3           0.2   \n3      4            4.6           3.1            1.5           0.2   \n4      5            5.0           3.6            1.4           0.2   \n..   ...            ...           ...            ...           ...   \n145  146            6.7           3.0            5.2           2.3   \n146  147            6.3           2.5            5.0           1.9   \n147  148            6.5           3.0            5.2           2.0   \n148  149            6.2           3.4            5.4           2.3   \n149  150            5.9           3.0            5.1           1.8   \n\n            Species  \n0       Iris-setosa  \n1       Iris-setosa  \n2       Iris-setosa  \n3       Iris-setosa  \n4       Iris-setosa  \n..              ...  \n145  Iris-virginica  \n146  Iris-virginica  \n147  Iris-virginica  \n148  Iris-virginica  \n149  Iris-virginica  \n\n[150 rows x 6 columns]",
      "text/html": "<div>\n<style scoped>\n    .dataframe tbody tr th:only-of-type {\n        vertical-align: middle;\n    }\n\n    .dataframe tbody tr th {\n        vertical-align: top;\n    }\n\n    .dataframe thead th {\n        text-align: right;\n    }\n</style>\n<table border=\"1\" class=\"dataframe\">\n  <thead>\n    <tr style=\"text-align: right;\">\n      <th></th>\n      <th>Id</th>\n      <th>SepalLengthCm</th>\n      <th>SepalWidthCm</th>\n      <th>PetalLengthCm</th>\n      <th>PetalWidthCm</th>\n      <th>Species</th>\n    </tr>\n  </thead>\n  <tbody>\n    <tr>\n      <th>0</th>\n      <td>1</td>\n      <td>5.1</td>\n      <td>3.5</td>\n      <td>1.4</td>\n      <td>0.2</td>\n      <td>Iris-setosa</td>\n    </tr>\n    <tr>\n      <th>1</th>\n      <td>2</td>\n      <td>4.9</td>\n      <td>3.0</td>\n      <td>1.4</td>\n      <td>0.2</td>\n      <td>Iris-setosa</td>\n    </tr>\n    <tr>\n      <th>2</th>\n      <td>3</td>\n      <td>4.7</td>\n      <td>3.2</td>\n      <td>1.3</td>\n      <td>0.2</td>\n      <td>Iris-setosa</td>\n    </tr>\n    <tr>\n      <th>3</th>\n      <td>4</td>\n      <td>4.6</td>\n      <td>3.1</td>\n      <td>1.5</td>\n      <td>0.2</td>\n      <td>Iris-setosa</td>\n    </tr>\n    <tr>\n      <th>4</th>\n      <td>5</td>\n      <td>5.0</td>\n      <td>3.6</td>\n      <td>1.4</td>\n      <td>0.2</td>\n      <td>Iris-setosa</td>\n    </tr>\n    <tr>\n      <th>...</th>\n      <td>...</td>\n      <td>...</td>\n      <td>...</td>\n      <td>...</td>\n      <td>...</td>\n      <td>...</td>\n    </tr>\n    <tr>\n      <th>145</th>\n      <td>146</td>\n      <td>6.7</td>\n      <td>3.0</td>\n      <td>5.2</td>\n      <td>2.3</td>\n      <td>Iris-virginica</td>\n    </tr>\n    <tr>\n      <th>146</th>\n      <td>147</td>\n      <td>6.3</td>\n      <td>2.5</td>\n      <td>5.0</td>\n      <td>1.9</td>\n      <td>Iris-virginica</td>\n    </tr>\n    <tr>\n      <th>147</th>\n      <td>148</td>\n      <td>6.5</td>\n      <td>3.0</td>\n      <td>5.2</td>\n      <td>2.0</td>\n      <td>Iris-virginica</td>\n    </tr>\n    <tr>\n      <th>148</th>\n      <td>149</td>\n      <td>6.2</td>\n      <td>3.4</td>\n      <td>5.4</td>\n      <td>2.3</td>\n      <td>Iris-virginica</td>\n    </tr>\n    <tr>\n      <th>149</th>\n      <td>150</td>\n      <td>5.9</td>\n      <td>3.0</td>\n      <td>5.1</td>\n      <td>1.8</td>\n      <td>Iris-virginica</td>\n    </tr>\n  </tbody>\n</table>\n<p>150 rows × 6 columns</p>\n</div>"
     },
     "metadata": {}
    },
    {
     "output_type": "display_data",
     "data": {
      "text/plain": "(100, 4)"
     },
     "metadata": {}
    },
    {
     "output_type": "display_data",
     "data": {
      "text/plain": "(100, 1)"
     },
     "metadata": {}
    },
    {
     "output_type": "stream",
     "name": "stdout",
     "text": "(64, 4) (64, 1)\n(16, 4) (16, 1)\n(20, 4) (20, 1)\n"
    }
   ],
   "source": [
    "# 【問題3】Iris（2値分類）\n",
    "## 読み込み\n",
    "df_iris = pd.read_csv('Iris.csv')\n",
    "display(df_iris)\n",
    "X = np.array(df_iris[(df_iris['Species'] == 'Iris-versicolor')|(df_iris['Species'] == 'Iris-virginica')].iloc[:, 1:5])\n",
    "y = np.array(df_iris[(df_iris['Species'] == 'Iris-versicolor')|(df_iris['Species'] == 'Iris-virginica')].iloc[:, 5])\n",
    "y[y=='Iris-versicolor'] = 0\n",
    "y[y=='Iris-virginica'] = 1\n",
    "y = y.astype(np.int)[:, np.newaxis]\n",
    "display(X.shape)\n",
    "display(y.shape)\n",
    "\n",
    "## 分割\n",
    "X_train, X_test, y_train, y_test = train_test_split(X, y, test_size=0.2, random_state=0)\n",
    "X_train, X_val, y_train, y_val = train_test_split(X_train, y_train, test_size=0.2, random_state=0)\n",
    "print(X_train.shape, y_train.shape)\n",
    "print(X_val.shape, y_val.shape)\n",
    "print(X_test.shape, y_test.shape)\n",
    "\n",
    "## 標準化\n",
    "scaler = StandardScaler()\n",
    "X_train = scaler.fit_transform(X_train)\n",
    "X_val = scaler.transform(X_val)\n",
    "X_test = scaler.transform(X_test)"
   ]
  },
  {
   "cell_type": "code",
   "execution_count": 35,
   "metadata": {
    "tags": []
   },
   "outputs": [
    {
     "output_type": "stream",
     "name": "stdout",
     "text": "NNfor3(\n  (layer_1): Linear(in_features=4, out_features=10, bias=True)\n  (layer_2): Linear(in_features=10, out_features=5, bias=True)\n  (layer_output): Linear(in_features=5, out_features=1, bias=True)\n)\n"
    }
   ],
   "source": [
    "# PyTorchでモデル構築\n",
    "n_features = 4\n",
    "n_nodes_1 = 10\n",
    "activation_1 = nn.ReLU()\n",
    "n_nodes_2 = 5\n",
    "activation_2 = nn.ReLU()\n",
    "n_output = 1\n",
    "activation_output = nn.Sigmoid()\n",
    "\n",
    "## ネットワーク\n",
    "class NNfor3(nn.Module):\n",
    "    \n",
    "    def __init__(self):\n",
    "        super(NNfor3, self).__init__()\n",
    "        self.layer_1 = nn.Linear(\n",
    "            n_features,\n",
    "            n_nodes_1)\n",
    "        self.layer_2 = nn.Linear(\n",
    "            n_nodes_1,\n",
    "            n_nodes_2)\n",
    "        self.layer_output = nn.Linear(\n",
    "            n_nodes_2,\n",
    "            n_output)\n",
    "    \n",
    "    def forward(self, X):\n",
    "        X = activation_1(self.layer_1(X))\n",
    "        X = activation_2(self.layer_2(X))\n",
    "        X = activation_output(self.layer_output(X))\n",
    "\n",
    "        return X\n",
    "\n",
    "## インスタンス作成\n",
    "model = NNfor3()\n",
    "print(model)"
   ]
  },
  {
   "cell_type": "code",
   "execution_count": 36,
   "metadata": {},
   "outputs": [],
   "source": [
    "## ミニバッチ\n",
    "batch_size = 1\n",
    "\n",
    "## numpy配列をテンソルに変換\n",
    "t_X_train = torch.from_numpy(X_train).float()\n",
    "t_y_train = torch.from_numpy(y_train).float()\n",
    "t_X_valid = torch.from_numpy(X_val).float()\n",
    "t_y_valid = torch.from_numpy(y_val).float()\n",
    "\n",
    "## 特徴量とラベルをデータセットにまとめる\n",
    "dataset_train = TensorDataset(t_X_train, t_y_train)\n",
    "dataset_valid = TensorDataset(t_X_valid, t_y_valid)\n",
    "\n",
    "# データローダを作成\n",
    "loader_train = DataLoader(dataset_train, batch_size=batch_size, shuffle=True)\n",
    "loader_valid = DataLoader(dataset_valid, batch_size=batch_size)"
   ]
  },
  {
   "cell_type": "code",
   "execution_count": 37,
   "metadata": {},
   "outputs": [],
   "source": [
    "## オプティマイザ\n",
    "lr = 0.003\n",
    "\n",
    "optimizer = optim.Adam(\n",
    "    model.parameters(),\n",
    "    lr=lr\n",
    ")\n",
    "\n",
    "## 損失関数\n",
    "criterion = nn.BCELoss()"
   ]
  },
  {
   "cell_type": "code",
   "execution_count": 38,
   "metadata": {},
   "outputs": [],
   "source": [
    "## 学習(train)\n",
    "def train_step(X_train, y_train):\n",
    "    ## 訓練モード    \n",
    "    model.train()\n",
    "\n",
    "    ## 訓練データに対して予測\n",
    "    y_train_pred = model(X_train)\n",
    "\n",
    "    ## 勾配初期化\n",
    "    optimizer.zero_grad()\n",
    "    ## 損失の取得\n",
    "    loss = criterion(y_train_pred, y_train)\n",
    "    ## 勾配を計算\n",
    "    loss.backward()\n",
    "\n",
    "    ## パラメータ更新\n",
    "    optimizer.step()\n",
    "\n",
    "    ## 正解率の確認\n",
    "    with torch.no_grad():\n",
    "        y_train_pred_binary = torch.where(y_train_pred>0.5, torch.ones(1), torch.zeros(1))\n",
    "        acc = (y_train_pred_binary == y_train).sum()\n",
    "\n",
    "    return (loss.item(), acc.item())\n",
    "\n",
    "## 評価(validation)\n",
    "def valid_step(X_val, y_val):\n",
    "    ## 評価モード\n",
    "    model.eval()\n",
    "\n",
    "    ## 予測\n",
    "    y_val_pred = model(X_val)\n",
    "\n",
    "    ## 損失計算\n",
    "    loss = criterion(y_val_pred, y_val)\n",
    "\n",
    "    ## 正解率計算\n",
    "    with torch.no_grad():\n",
    "        y_val_pred_binary = torch.where(y_val_pred>0.5, torch.ones(1), torch.zeros(1))\n",
    "        acc = (y_val_pred_binary == y_val).sum()\n",
    "\n",
    "    return (loss.item(), acc.item())"
   ]
  },
  {
   "cell_type": "code",
   "execution_count": 39,
   "metadata": {
    "tags": []
   },
   "outputs": [
    {
     "output_type": "stream",
     "name": "stdout",
     "text": "epoch1/10: [loss:0.7555, acc:0.5000, val_loss:0.4092, val_acc:0.7500]\nepoch2/10: [loss:0.4939, acc:0.7656, val_loss:0.3113, val_acc:0.8750]\nepoch3/10: [loss:0.3751, acc:0.9375, val_loss:0.2294, val_acc:0.9375]\nepoch4/10: [loss:0.2828, acc:0.9375, val_loss:0.1736, val_acc:1.0000]\nepoch5/10: [loss:0.2134, acc:0.9688, val_loss:0.1206, val_acc:1.0000]\nepoch6/10: [loss:0.1553, acc:0.9844, val_loss:0.0812, val_acc:1.0000]\nepoch7/10: [loss:0.1171, acc:0.9688, val_loss:0.0564, val_acc:1.0000]\nepoch8/10: [loss:0.0928, acc:0.9844, val_loss:0.0423, val_acc:1.0000]\nepoch9/10: [loss:0.0730, acc:0.9844, val_loss:0.0369, val_acc:1.0000]\nepoch10/10: [loss:0.0605, acc:0.9844, val_loss:0.0341, val_acc:1.0000]\nDone!\n"
    },
    {
     "output_type": "display_data",
     "data": {
      "text/plain": "OrderedDict([('layer_1.weight',\n              tensor([[-0.0112,  1.1246,  0.3225, -0.3176],\n                      [ 0.1721,  1.0316, -0.4480,  0.0591],\n                      [-0.1982, -0.7988,  0.6863,  0.5604],\n                      [ 0.3793,  0.1388, -0.2065, -0.2460],\n                      [-0.1038,  1.1991, -0.8123, -1.1737],\n                      [-1.1994,  0.6630, -0.3975, -0.6415],\n                      [ 0.3623, -0.9293, -0.4348, -0.5136],\n                      [-0.4777,  0.2025, -0.6828, -0.6373],\n                      [-0.9724,  1.2208, -1.6156, -0.2407],\n                      [ 0.5018, -0.3788, -0.7131, -0.3110]])),\n             ('layer_1.bias',\n              tensor([-0.0482, -0.2414,  0.4781, -0.0692,  0.1952,  0.2007, -0.0733,  0.1002,\n                      -0.0614,  0.1847])),\n             ('layer_2.weight',\n              tensor([[-0.1320, -0.0153,  0.0225,  0.7805,  0.5355,  0.4060,  0.0760, -0.3798,\n                        0.3954,  1.0299],\n                      [ 0.0611,  0.3469,  0.0942,  0.3135,  0.0967, -0.2952,  0.0773,  0.1916,\n                        0.6825,  0.3233],\n                      [ 0.3848,  0.2425,  0.7643, -0.6274, -0.7544,  0.4045,  0.0679, -0.2819,\n                        0.0380, -0.6268],\n                      [-0.2671, -0.0770,  0.0664,  0.4608,  0.7420, -0.2332,  0.2519,  1.0082,\n                       -0.0520,  0.1991],\n                      [ 0.4072, -0.0331,  0.9327,  0.6323, -0.4039,  0.1124, -0.0563, -0.0541,\n                       -0.3394, -0.1089]])),\n             ('layer_2.bias',\n              tensor([-0.1444, -0.2097,  0.5821, -0.0989,  0.6589])),\n             ('layer_output.weight',\n              tensor([[-1.4425, -0.2312,  1.2494, -1.4622,  0.6374]])),\n             ('layer_output.bias', tensor([0.4293]))])"
     },
     "metadata": {}
    }
   ],
   "source": [
    "## パラメータ初期化関数\n",
    "def initializer(layer):\n",
    "    if type(layer) == nn.Linear:\n",
    "        nn.init.kaiming_normal_(layer.weight)\n",
    "        layer.bias.data.fill_(0.0)\n",
    "\n",
    "## パラメータ初期化する\n",
    "model.apply(initializer)\n",
    "\n",
    "n_epoch = 10\n",
    "train_history = []\n",
    "val_history = []\n",
    "\n",
    "# 1エポック内1データあたりの損失・正解率の平均\n",
    "avg_loss = 0.0\n",
    "avg_acc = 0.0\n",
    "avg_val_loss = 0.0\n",
    "avg_val_acc = 0.0\n",
    "\n",
    "## 学習する\n",
    "for epoch in range(n_epoch):\n",
    "    ## epoch内のloss, accの保存\n",
    "    total_loss = 0.0\n",
    "    total_acc = 0.0\n",
    "    total_val_loss = 0.0\n",
    "    total_val_acc = 0.0\n",
    "    ## 累計データ数の保存\n",
    "    total_train = 0\n",
    "    total_val = 0\n",
    "\n",
    "    ## 訓練\n",
    "    for X_train, y_train in loader_train:\n",
    "       loss, acc = train_step(X_train, y_train)\n",
    "       total_loss += loss\n",
    "       total_acc += acc\n",
    "       total_train += len(y_train)\n",
    "\n",
    "    ## 評価\n",
    "    for X_val, y_val in loader_valid:\n",
    "        val_loss, val_acc = valid_step(X_val, y_val)\n",
    "        total_val_loss += val_loss\n",
    "        total_val_acc += val_acc\n",
    "        total_val += len(y_val)\n",
    "\n",
    "    # 平均計算\n",
    "    avg_loss = total_loss/total_train\n",
    "    avg_val_loss = total_val_loss/total_val\n",
    "    avg_acc = total_acc/total_train\n",
    "    avg_val_acc = total_val_acc/total_val\n",
    "\n",
    "    print(f'epoch{epoch+1}/{n_epoch}: [loss:{avg_loss:.4f}, acc:{avg_acc:.4f}, val_loss:{avg_val_loss:.4f}, val_acc:{avg_val_acc:.4f}]')\n",
    "\n",
    "    # リストに追加\n",
    "    train_history.append(avg_loss)\n",
    "    val_history.append(avg_val_loss)\n",
    "\n",
    "print('Done!')\n",
    "display(model.state_dict())"
   ]
  },
  {
   "cell_type": "code",
   "execution_count": 40,
   "metadata": {
    "tags": []
   },
   "outputs": [
    {
     "output_type": "stream",
     "name": "stdout",
     "text": "y_pred_proba tensor([[3.0537e-02],\n        [9.8264e-01],\n        [4.9712e-02],\n        [9.9136e-01],\n        [9.6485e-01],\n        [9.8543e-01],\n        [5.6608e-03],\n        [9.1215e-01],\n        [9.8518e-01],\n        [9.6836e-01],\n        [9.7021e-01],\n        [9.8287e-01],\n        [9.8651e-01],\n        [1.5425e-02],\n        [1.2261e-06],\n        [8.1066e-05],\n        [6.4359e-01],\n        [3.6796e-04],\n        [9.4655e-01],\n        [2.4444e-03]], grad_fn=<SigmoidBackward>)\ny_pred [0 1 0 1 1 1 0 1 1 1 1 1 1 0 0 0 1 0 1 0]\ny_test [0 1 0 1 1 1 0 1 1 1 1 1 1 0 0 0 0 0 0 0]\n"
    }
   ],
   "source": [
    "# 予測\n",
    "## Tensor変換\n",
    "t_X_test = torch.from_numpy(X_test).float()\n",
    "t_y_test = torch.from_numpy(y_test).float()\n",
    "y_pred_proba = model(t_X_test)\n",
    "y_pred = torch.where(y_pred_proba>0.5, torch.ones(1), torch.zeros(1))\n",
    "print(\"y_pred_proba\", y_pred_proba)\n",
    "print(\"y_pred\", y_pred.flatten().int().detach().numpy())\n",
    "print(\"y_test\", y_test.flatten())"
   ]
  },
  {
   "cell_type": "code",
   "execution_count": 41,
   "metadata": {},
   "outputs": [
    {
     "output_type": "display_data",
     "data": {
      "text/plain": "<Figure size 432x288 with 1 Axes>",
      "image/svg+xml": "<?xml version=\"1.0\" encoding=\"utf-8\" standalone=\"no\"?>\r\n<!DOCTYPE svg PUBLIC \"-//W3C//DTD SVG 1.1//EN\"\r\n  \"http://www.w3.org/Graphics/SVG/1.1/DTD/svg11.dtd\">\r\n<!-- Created with matplotlib (https://matplotlib.org/) -->\r\n<svg height=\"248.518125pt\" version=\"1.1\" viewBox=\"0 0 372.103125 248.518125\" width=\"372.103125pt\" xmlns=\"http://www.w3.org/2000/svg\" xmlns:xlink=\"http://www.w3.org/1999/xlink\">\r\n <defs>\r\n  <style type=\"text/css\">\r\n*{stroke-linecap:butt;stroke-linejoin:round;}\r\n  </style>\r\n </defs>\r\n <g id=\"figure_1\">\r\n  <g id=\"patch_1\">\r\n   <path d=\"M 0 248.518125 \r\nL 372.103125 248.518125 \r\nL 372.103125 0 \r\nL 0 0 \r\nz\r\n\" style=\"fill:none;\"/>\r\n  </g>\r\n  <g id=\"axes_1\">\r\n   <g id=\"patch_2\">\r\n    <path d=\"M 30.103125 224.64 \r\nL 364.903125 224.64 \r\nL 364.903125 7.2 \r\nL 30.103125 7.2 \r\nz\r\n\" style=\"fill:#ffffff;\"/>\r\n   </g>\r\n   <g id=\"matplotlib.axis_1\">\r\n    <g id=\"xtick_1\">\r\n     <g id=\"line2d_1\">\r\n      <defs>\r\n       <path d=\"M 0 0 \r\nL 0 3.5 \r\n\" id=\"md53630dd2c\" style=\"stroke:#000000;stroke-width:0.8;\"/>\r\n      </defs>\r\n      <g>\r\n       <use style=\"stroke:#000000;stroke-width:0.8;\" x=\"45.321307\" xlink:href=\"#md53630dd2c\" y=\"224.64\"/>\r\n      </g>\r\n     </g>\r\n     <g id=\"text_1\">\r\n      <!-- 0 -->\r\n      <defs>\r\n       <path d=\"M 31.78125 66.40625 \r\nQ 24.171875 66.40625 20.328125 58.90625 \r\nQ 16.5 51.421875 16.5 36.375 \r\nQ 16.5 21.390625 20.328125 13.890625 \r\nQ 24.171875 6.390625 31.78125 6.390625 \r\nQ 39.453125 6.390625 43.28125 13.890625 \r\nQ 47.125 21.390625 47.125 36.375 \r\nQ 47.125 51.421875 43.28125 58.90625 \r\nQ 39.453125 66.40625 31.78125 66.40625 \r\nz\r\nM 31.78125 74.21875 \r\nQ 44.046875 74.21875 50.515625 64.515625 \r\nQ 56.984375 54.828125 56.984375 36.375 \r\nQ 56.984375 17.96875 50.515625 8.265625 \r\nQ 44.046875 -1.421875 31.78125 -1.421875 \r\nQ 19.53125 -1.421875 13.0625 8.265625 \r\nQ 6.59375 17.96875 6.59375 36.375 \r\nQ 6.59375 54.828125 13.0625 64.515625 \r\nQ 19.53125 74.21875 31.78125 74.21875 \r\nz\r\n\" id=\"DejaVuSans-48\"/>\r\n      </defs>\r\n      <g transform=\"translate(42.140057 239.238438)scale(0.1 -0.1)\">\r\n       <use xlink:href=\"#DejaVuSans-48\"/>\r\n      </g>\r\n     </g>\r\n    </g>\r\n    <g id=\"xtick_2\">\r\n     <g id=\"line2d_2\">\r\n      <g>\r\n       <use style=\"stroke:#000000;stroke-width:0.8;\" x=\"112.95767\" xlink:href=\"#md53630dd2c\" y=\"224.64\"/>\r\n      </g>\r\n     </g>\r\n     <g id=\"text_2\">\r\n      <!-- 2 -->\r\n      <defs>\r\n       <path d=\"M 19.1875 8.296875 \r\nL 53.609375 8.296875 \r\nL 53.609375 0 \r\nL 7.328125 0 \r\nL 7.328125 8.296875 \r\nQ 12.9375 14.109375 22.625 23.890625 \r\nQ 32.328125 33.6875 34.8125 36.53125 \r\nQ 39.546875 41.84375 41.421875 45.53125 \r\nQ 43.3125 49.21875 43.3125 52.78125 \r\nQ 43.3125 58.59375 39.234375 62.25 \r\nQ 35.15625 65.921875 28.609375 65.921875 \r\nQ 23.96875 65.921875 18.8125 64.3125 \r\nQ 13.671875 62.703125 7.8125 59.421875 \r\nL 7.8125 69.390625 \r\nQ 13.765625 71.78125 18.9375 73 \r\nQ 24.125 74.21875 28.421875 74.21875 \r\nQ 39.75 74.21875 46.484375 68.546875 \r\nQ 53.21875 62.890625 53.21875 53.421875 \r\nQ 53.21875 48.921875 51.53125 44.890625 \r\nQ 49.859375 40.875 45.40625 35.40625 \r\nQ 44.1875 33.984375 37.640625 27.21875 \r\nQ 31.109375 20.453125 19.1875 8.296875 \r\nz\r\n\" id=\"DejaVuSans-50\"/>\r\n      </defs>\r\n      <g transform=\"translate(109.77642 239.238438)scale(0.1 -0.1)\">\r\n       <use xlink:href=\"#DejaVuSans-50\"/>\r\n      </g>\r\n     </g>\r\n    </g>\r\n    <g id=\"xtick_3\">\r\n     <g id=\"line2d_3\">\r\n      <g>\r\n       <use style=\"stroke:#000000;stroke-width:0.8;\" x=\"180.594034\" xlink:href=\"#md53630dd2c\" y=\"224.64\"/>\r\n      </g>\r\n     </g>\r\n     <g id=\"text_3\">\r\n      <!-- 4 -->\r\n      <defs>\r\n       <path d=\"M 37.796875 64.3125 \r\nL 12.890625 25.390625 \r\nL 37.796875 25.390625 \r\nz\r\nM 35.203125 72.90625 \r\nL 47.609375 72.90625 \r\nL 47.609375 25.390625 \r\nL 58.015625 25.390625 \r\nL 58.015625 17.1875 \r\nL 47.609375 17.1875 \r\nL 47.609375 0 \r\nL 37.796875 0 \r\nL 37.796875 17.1875 \r\nL 4.890625 17.1875 \r\nL 4.890625 26.703125 \r\nz\r\n\" id=\"DejaVuSans-52\"/>\r\n      </defs>\r\n      <g transform=\"translate(177.412784 239.238438)scale(0.1 -0.1)\">\r\n       <use xlink:href=\"#DejaVuSans-52\"/>\r\n      </g>\r\n     </g>\r\n    </g>\r\n    <g id=\"xtick_4\">\r\n     <g id=\"line2d_4\">\r\n      <g>\r\n       <use style=\"stroke:#000000;stroke-width:0.8;\" x=\"248.230398\" xlink:href=\"#md53630dd2c\" y=\"224.64\"/>\r\n      </g>\r\n     </g>\r\n     <g id=\"text_4\">\r\n      <!-- 6 -->\r\n      <defs>\r\n       <path d=\"M 33.015625 40.375 \r\nQ 26.375 40.375 22.484375 35.828125 \r\nQ 18.609375 31.296875 18.609375 23.390625 \r\nQ 18.609375 15.53125 22.484375 10.953125 \r\nQ 26.375 6.390625 33.015625 6.390625 \r\nQ 39.65625 6.390625 43.53125 10.953125 \r\nQ 47.40625 15.53125 47.40625 23.390625 \r\nQ 47.40625 31.296875 43.53125 35.828125 \r\nQ 39.65625 40.375 33.015625 40.375 \r\nz\r\nM 52.59375 71.296875 \r\nL 52.59375 62.3125 \r\nQ 48.875 64.0625 45.09375 64.984375 \r\nQ 41.3125 65.921875 37.59375 65.921875 \r\nQ 27.828125 65.921875 22.671875 59.328125 \r\nQ 17.53125 52.734375 16.796875 39.40625 \r\nQ 19.671875 43.65625 24.015625 45.921875 \r\nQ 28.375 48.1875 33.59375 48.1875 \r\nQ 44.578125 48.1875 50.953125 41.515625 \r\nQ 57.328125 34.859375 57.328125 23.390625 \r\nQ 57.328125 12.15625 50.6875 5.359375 \r\nQ 44.046875 -1.421875 33.015625 -1.421875 \r\nQ 20.359375 -1.421875 13.671875 8.265625 \r\nQ 6.984375 17.96875 6.984375 36.375 \r\nQ 6.984375 53.65625 15.1875 63.9375 \r\nQ 23.390625 74.21875 37.203125 74.21875 \r\nQ 40.921875 74.21875 44.703125 73.484375 \r\nQ 48.484375 72.75 52.59375 71.296875 \r\nz\r\n\" id=\"DejaVuSans-54\"/>\r\n      </defs>\r\n      <g transform=\"translate(245.049148 239.238438)scale(0.1 -0.1)\">\r\n       <use xlink:href=\"#DejaVuSans-54\"/>\r\n      </g>\r\n     </g>\r\n    </g>\r\n    <g id=\"xtick_5\">\r\n     <g id=\"line2d_5\">\r\n      <g>\r\n       <use style=\"stroke:#000000;stroke-width:0.8;\" x=\"315.866761\" xlink:href=\"#md53630dd2c\" y=\"224.64\"/>\r\n      </g>\r\n     </g>\r\n     <g id=\"text_5\">\r\n      <!-- 8 -->\r\n      <defs>\r\n       <path d=\"M 31.78125 34.625 \r\nQ 24.75 34.625 20.71875 30.859375 \r\nQ 16.703125 27.09375 16.703125 20.515625 \r\nQ 16.703125 13.921875 20.71875 10.15625 \r\nQ 24.75 6.390625 31.78125 6.390625 \r\nQ 38.8125 6.390625 42.859375 10.171875 \r\nQ 46.921875 13.96875 46.921875 20.515625 \r\nQ 46.921875 27.09375 42.890625 30.859375 \r\nQ 38.875 34.625 31.78125 34.625 \r\nz\r\nM 21.921875 38.8125 \r\nQ 15.578125 40.375 12.03125 44.71875 \r\nQ 8.5 49.078125 8.5 55.328125 \r\nQ 8.5 64.0625 14.71875 69.140625 \r\nQ 20.953125 74.21875 31.78125 74.21875 \r\nQ 42.671875 74.21875 48.875 69.140625 \r\nQ 55.078125 64.0625 55.078125 55.328125 \r\nQ 55.078125 49.078125 51.53125 44.71875 \r\nQ 48 40.375 41.703125 38.8125 \r\nQ 48.828125 37.15625 52.796875 32.3125 \r\nQ 56.78125 27.484375 56.78125 20.515625 \r\nQ 56.78125 9.90625 50.3125 4.234375 \r\nQ 43.84375 -1.421875 31.78125 -1.421875 \r\nQ 19.734375 -1.421875 13.25 4.234375 \r\nQ 6.78125 9.90625 6.78125 20.515625 \r\nQ 6.78125 27.484375 10.78125 32.3125 \r\nQ 14.796875 37.15625 21.921875 38.8125 \r\nz\r\nM 18.3125 54.390625 \r\nQ 18.3125 48.734375 21.84375 45.5625 \r\nQ 25.390625 42.390625 31.78125 42.390625 \r\nQ 38.140625 42.390625 41.71875 45.5625 \r\nQ 45.3125 48.734375 45.3125 54.390625 \r\nQ 45.3125 60.0625 41.71875 63.234375 \r\nQ 38.140625 66.40625 31.78125 66.40625 \r\nQ 25.390625 66.40625 21.84375 63.234375 \r\nQ 18.3125 60.0625 18.3125 54.390625 \r\nz\r\n\" id=\"DejaVuSans-56\"/>\r\n      </defs>\r\n      <g transform=\"translate(312.685511 239.238438)scale(0.1 -0.1)\">\r\n       <use xlink:href=\"#DejaVuSans-56\"/>\r\n      </g>\r\n     </g>\r\n    </g>\r\n   </g>\r\n   <g id=\"matplotlib.axis_2\">\r\n    <g id=\"ytick_1\">\r\n     <g id=\"line2d_6\">\r\n      <defs>\r\n       <path d=\"M 0 0 \r\nL -3.5 0 \r\n\" id=\"m4f2b82924e\" style=\"stroke:#000000;stroke-width:0.8;\"/>\r\n      </defs>\r\n      <g>\r\n       <use style=\"stroke:#000000;stroke-width:0.8;\" x=\"30.103125\" xlink:href=\"#m4f2b82924e\" y=\"224.090404\"/>\r\n      </g>\r\n     </g>\r\n     <g id=\"text_6\">\r\n      <!-- 0.0 -->\r\n      <defs>\r\n       <path d=\"M 10.6875 12.40625 \r\nL 21 12.40625 \r\nL 21 0 \r\nL 10.6875 0 \r\nz\r\n\" id=\"DejaVuSans-46\"/>\r\n      </defs>\r\n      <g transform=\"translate(7.2 227.889623)scale(0.1 -0.1)\">\r\n       <use xlink:href=\"#DejaVuSans-48\"/>\r\n       <use x=\"63.623047\" xlink:href=\"#DejaVuSans-46\"/>\r\n       <use x=\"95.410156\" xlink:href=\"#DejaVuSans-48\"/>\r\n      </g>\r\n     </g>\r\n    </g>\r\n    <g id=\"ytick_2\">\r\n     <g id=\"line2d_7\">\r\n      <g>\r\n       <use style=\"stroke:#000000;stroke-width:0.8;\" x=\"30.103125\" xlink:href=\"#m4f2b82924e\" y=\"196.691025\"/>\r\n      </g>\r\n     </g>\r\n     <g id=\"text_7\">\r\n      <!-- 0.1 -->\r\n      <defs>\r\n       <path d=\"M 12.40625 8.296875 \r\nL 28.515625 8.296875 \r\nL 28.515625 63.921875 \r\nL 10.984375 60.40625 \r\nL 10.984375 69.390625 \r\nL 28.421875 72.90625 \r\nL 38.28125 72.90625 \r\nL 38.28125 8.296875 \r\nL 54.390625 8.296875 \r\nL 54.390625 0 \r\nL 12.40625 0 \r\nz\r\n\" id=\"DejaVuSans-49\"/>\r\n      </defs>\r\n      <g transform=\"translate(7.2 200.490244)scale(0.1 -0.1)\">\r\n       <use xlink:href=\"#DejaVuSans-48\"/>\r\n       <use x=\"63.623047\" xlink:href=\"#DejaVuSans-46\"/>\r\n       <use x=\"95.410156\" xlink:href=\"#DejaVuSans-49\"/>\r\n      </g>\r\n     </g>\r\n    </g>\r\n    <g id=\"ytick_3\">\r\n     <g id=\"line2d_8\">\r\n      <g>\r\n       <use style=\"stroke:#000000;stroke-width:0.8;\" x=\"30.103125\" xlink:href=\"#m4f2b82924e\" y=\"169.291646\"/>\r\n      </g>\r\n     </g>\r\n     <g id=\"text_8\">\r\n      <!-- 0.2 -->\r\n      <g transform=\"translate(7.2 173.090864)scale(0.1 -0.1)\">\r\n       <use xlink:href=\"#DejaVuSans-48\"/>\r\n       <use x=\"63.623047\" xlink:href=\"#DejaVuSans-46\"/>\r\n       <use x=\"95.410156\" xlink:href=\"#DejaVuSans-50\"/>\r\n      </g>\r\n     </g>\r\n    </g>\r\n    <g id=\"ytick_4\">\r\n     <g id=\"line2d_9\">\r\n      <g>\r\n       <use style=\"stroke:#000000;stroke-width:0.8;\" x=\"30.103125\" xlink:href=\"#m4f2b82924e\" y=\"141.892266\"/>\r\n      </g>\r\n     </g>\r\n     <g id=\"text_9\">\r\n      <!-- 0.3 -->\r\n      <defs>\r\n       <path d=\"M 40.578125 39.3125 \r\nQ 47.65625 37.796875 51.625 33 \r\nQ 55.609375 28.21875 55.609375 21.1875 \r\nQ 55.609375 10.40625 48.1875 4.484375 \r\nQ 40.765625 -1.421875 27.09375 -1.421875 \r\nQ 22.515625 -1.421875 17.65625 -0.515625 \r\nQ 12.796875 0.390625 7.625 2.203125 \r\nL 7.625 11.71875 \r\nQ 11.71875 9.328125 16.59375 8.109375 \r\nQ 21.484375 6.890625 26.8125 6.890625 \r\nQ 36.078125 6.890625 40.9375 10.546875 \r\nQ 45.796875 14.203125 45.796875 21.1875 \r\nQ 45.796875 27.640625 41.28125 31.265625 \r\nQ 36.765625 34.90625 28.71875 34.90625 \r\nL 20.21875 34.90625 \r\nL 20.21875 43.015625 \r\nL 29.109375 43.015625 \r\nQ 36.375 43.015625 40.234375 45.921875 \r\nQ 44.09375 48.828125 44.09375 54.296875 \r\nQ 44.09375 59.90625 40.109375 62.90625 \r\nQ 36.140625 65.921875 28.71875 65.921875 \r\nQ 24.65625 65.921875 20.015625 65.03125 \r\nQ 15.375 64.15625 9.8125 62.3125 \r\nL 9.8125 71.09375 \r\nQ 15.4375 72.65625 20.34375 73.4375 \r\nQ 25.25 74.21875 29.59375 74.21875 \r\nQ 40.828125 74.21875 47.359375 69.109375 \r\nQ 53.90625 64.015625 53.90625 55.328125 \r\nQ 53.90625 49.265625 50.4375 45.09375 \r\nQ 46.96875 40.921875 40.578125 39.3125 \r\nz\r\n\" id=\"DejaVuSans-51\"/>\r\n      </defs>\r\n      <g transform=\"translate(7.2 145.691485)scale(0.1 -0.1)\">\r\n       <use xlink:href=\"#DejaVuSans-48\"/>\r\n       <use x=\"63.623047\" xlink:href=\"#DejaVuSans-46\"/>\r\n       <use x=\"95.410156\" xlink:href=\"#DejaVuSans-51\"/>\r\n      </g>\r\n     </g>\r\n    </g>\r\n    <g id=\"ytick_5\">\r\n     <g id=\"line2d_10\">\r\n      <g>\r\n       <use style=\"stroke:#000000;stroke-width:0.8;\" x=\"30.103125\" xlink:href=\"#m4f2b82924e\" y=\"114.492887\"/>\r\n      </g>\r\n     </g>\r\n     <g id=\"text_10\">\r\n      <!-- 0.4 -->\r\n      <g transform=\"translate(7.2 118.292106)scale(0.1 -0.1)\">\r\n       <use xlink:href=\"#DejaVuSans-48\"/>\r\n       <use x=\"63.623047\" xlink:href=\"#DejaVuSans-46\"/>\r\n       <use x=\"95.410156\" xlink:href=\"#DejaVuSans-52\"/>\r\n      </g>\r\n     </g>\r\n    </g>\r\n    <g id=\"ytick_6\">\r\n     <g id=\"line2d_11\">\r\n      <g>\r\n       <use style=\"stroke:#000000;stroke-width:0.8;\" x=\"30.103125\" xlink:href=\"#m4f2b82924e\" y=\"87.093508\"/>\r\n      </g>\r\n     </g>\r\n     <g id=\"text_11\">\r\n      <!-- 0.5 -->\r\n      <defs>\r\n       <path d=\"M 10.796875 72.90625 \r\nL 49.515625 72.90625 \r\nL 49.515625 64.59375 \r\nL 19.828125 64.59375 \r\nL 19.828125 46.734375 \r\nQ 21.96875 47.46875 24.109375 47.828125 \r\nQ 26.265625 48.1875 28.421875 48.1875 \r\nQ 40.625 48.1875 47.75 41.5 \r\nQ 54.890625 34.8125 54.890625 23.390625 \r\nQ 54.890625 11.625 47.5625 5.09375 \r\nQ 40.234375 -1.421875 26.90625 -1.421875 \r\nQ 22.3125 -1.421875 17.546875 -0.640625 \r\nQ 12.796875 0.140625 7.71875 1.703125 \r\nL 7.71875 11.625 \r\nQ 12.109375 9.234375 16.796875 8.0625 \r\nQ 21.484375 6.890625 26.703125 6.890625 \r\nQ 35.15625 6.890625 40.078125 11.328125 \r\nQ 45.015625 15.765625 45.015625 23.390625 \r\nQ 45.015625 31 40.078125 35.4375 \r\nQ 35.15625 39.890625 26.703125 39.890625 \r\nQ 22.75 39.890625 18.8125 39.015625 \r\nQ 14.890625 38.140625 10.796875 36.28125 \r\nz\r\n\" id=\"DejaVuSans-53\"/>\r\n      </defs>\r\n      <g transform=\"translate(7.2 90.892727)scale(0.1 -0.1)\">\r\n       <use xlink:href=\"#DejaVuSans-48\"/>\r\n       <use x=\"63.623047\" xlink:href=\"#DejaVuSans-46\"/>\r\n       <use x=\"95.410156\" xlink:href=\"#DejaVuSans-53\"/>\r\n      </g>\r\n     </g>\r\n    </g>\r\n    <g id=\"ytick_7\">\r\n     <g id=\"line2d_12\">\r\n      <g>\r\n       <use style=\"stroke:#000000;stroke-width:0.8;\" x=\"30.103125\" xlink:href=\"#m4f2b82924e\" y=\"59.694129\"/>\r\n      </g>\r\n     </g>\r\n     <g id=\"text_12\">\r\n      <!-- 0.6 -->\r\n      <g transform=\"translate(7.2 63.493348)scale(0.1 -0.1)\">\r\n       <use xlink:href=\"#DejaVuSans-48\"/>\r\n       <use x=\"63.623047\" xlink:href=\"#DejaVuSans-46\"/>\r\n       <use x=\"95.410156\" xlink:href=\"#DejaVuSans-54\"/>\r\n      </g>\r\n     </g>\r\n    </g>\r\n    <g id=\"ytick_8\">\r\n     <g id=\"line2d_13\">\r\n      <g>\r\n       <use style=\"stroke:#000000;stroke-width:0.8;\" x=\"30.103125\" xlink:href=\"#m4f2b82924e\" y=\"32.29475\"/>\r\n      </g>\r\n     </g>\r\n     <g id=\"text_13\">\r\n      <!-- 0.7 -->\r\n      <defs>\r\n       <path d=\"M 8.203125 72.90625 \r\nL 55.078125 72.90625 \r\nL 55.078125 68.703125 \r\nL 28.609375 0 \r\nL 18.3125 0 \r\nL 43.21875 64.59375 \r\nL 8.203125 64.59375 \r\nz\r\n\" id=\"DejaVuSans-55\"/>\r\n      </defs>\r\n      <g transform=\"translate(7.2 36.093968)scale(0.1 -0.1)\">\r\n       <use xlink:href=\"#DejaVuSans-48\"/>\r\n       <use x=\"63.623047\" xlink:href=\"#DejaVuSans-46\"/>\r\n       <use x=\"95.410156\" xlink:href=\"#DejaVuSans-55\"/>\r\n      </g>\r\n     </g>\r\n    </g>\r\n   </g>\r\n   <g id=\"line2d_14\">\r\n    <path clip-path=\"url(#p31b8bb4463)\" d=\"M 45.321307 17.083636 \r\nL 79.139489 88.755085 \r\nL 112.95767 121.310119 \r\nL 146.775852 146.607735 \r\nL 180.594034 165.632409 \r\nL 214.412216 181.532716 \r\nL 248.230398 192.015848 \r\nL 282.04858 198.665508 \r\nL 315.866761 204.081808 \r\nL 349.684943 207.503557 \r\n\" style=\"fill:none;stroke:#1f77b4;stroke-linecap:square;stroke-width:1.5;\"/>\r\n   </g>\r\n   <g id=\"line2d_15\">\r\n    <path clip-path=\"url(#p31b8bb4463)\" d=\"M 45.321307 111.979659 \r\nL 79.139489 138.80496 \r\nL 112.95767 161.229495 \r\nL 146.775852 176.514145 \r\nL 180.594034 191.036202 \r\nL 214.412216 201.831901 \r\nL 248.230398 208.627662 \r\nL 282.04858 212.505989 \r\nL 315.866761 213.978896 \r\nL 349.684943 214.756364 \r\n\" style=\"fill:none;stroke:#ff7f0e;stroke-linecap:square;stroke-width:1.5;\"/>\r\n   </g>\r\n   <g id=\"patch_3\">\r\n    <path d=\"M 30.103125 224.64 \r\nL 30.103125 7.2 \r\n\" style=\"fill:none;stroke:#000000;stroke-linecap:square;stroke-linejoin:miter;stroke-width:0.8;\"/>\r\n   </g>\r\n   <g id=\"patch_4\">\r\n    <path d=\"M 364.903125 224.64 \r\nL 364.903125 7.2 \r\n\" style=\"fill:none;stroke:#000000;stroke-linecap:square;stroke-linejoin:miter;stroke-width:0.8;\"/>\r\n   </g>\r\n   <g id=\"patch_5\">\r\n    <path d=\"M 30.103125 224.64 \r\nL 364.903125 224.64 \r\n\" style=\"fill:none;stroke:#000000;stroke-linecap:square;stroke-linejoin:miter;stroke-width:0.8;\"/>\r\n   </g>\r\n   <g id=\"patch_6\">\r\n    <path d=\"M 30.103125 7.2 \r\nL 364.903125 7.2 \r\n\" style=\"fill:none;stroke:#000000;stroke-linecap:square;stroke-linejoin:miter;stroke-width:0.8;\"/>\r\n   </g>\r\n   <g id=\"legend_1\">\r\n    <g id=\"patch_7\">\r\n     <path d=\"M 286.7625 44.834375 \r\nL 357.903125 44.834375 \r\nQ 359.903125 44.834375 359.903125 42.834375 \r\nL 359.903125 14.2 \r\nQ 359.903125 12.2 357.903125 12.2 \r\nL 286.7625 12.2 \r\nQ 284.7625 12.2 284.7625 14.2 \r\nL 284.7625 42.834375 \r\nQ 284.7625 44.834375 286.7625 44.834375 \r\nz\r\n\" style=\"fill:#ffffff;opacity:0.8;stroke:#cccccc;stroke-linejoin:miter;\"/>\r\n    </g>\r\n    <g id=\"line2d_16\">\r\n     <path d=\"M 288.7625 20.298437 \r\nL 308.7625 20.298437 \r\n\" style=\"fill:none;stroke:#1f77b4;stroke-linecap:square;stroke-width:1.5;\"/>\r\n    </g>\r\n    <g id=\"line2d_17\"/>\r\n    <g id=\"text_14\">\r\n     <!-- loss -->\r\n     <defs>\r\n      <path d=\"M 9.421875 75.984375 \r\nL 18.40625 75.984375 \r\nL 18.40625 0 \r\nL 9.421875 0 \r\nz\r\n\" id=\"DejaVuSans-108\"/>\r\n      <path d=\"M 30.609375 48.390625 \r\nQ 23.390625 48.390625 19.1875 42.75 \r\nQ 14.984375 37.109375 14.984375 27.296875 \r\nQ 14.984375 17.484375 19.15625 11.84375 \r\nQ 23.34375 6.203125 30.609375 6.203125 \r\nQ 37.796875 6.203125 41.984375 11.859375 \r\nQ 46.1875 17.53125 46.1875 27.296875 \r\nQ 46.1875 37.015625 41.984375 42.703125 \r\nQ 37.796875 48.390625 30.609375 48.390625 \r\nz\r\nM 30.609375 56 \r\nQ 42.328125 56 49.015625 48.375 \r\nQ 55.71875 40.765625 55.71875 27.296875 \r\nQ 55.71875 13.875 49.015625 6.21875 \r\nQ 42.328125 -1.421875 30.609375 -1.421875 \r\nQ 18.84375 -1.421875 12.171875 6.21875 \r\nQ 5.515625 13.875 5.515625 27.296875 \r\nQ 5.515625 40.765625 12.171875 48.375 \r\nQ 18.84375 56 30.609375 56 \r\nz\r\n\" id=\"DejaVuSans-111\"/>\r\n      <path d=\"M 44.28125 53.078125 \r\nL 44.28125 44.578125 \r\nQ 40.484375 46.53125 36.375 47.5 \r\nQ 32.28125 48.484375 27.875 48.484375 \r\nQ 21.1875 48.484375 17.84375 46.4375 \r\nQ 14.5 44.390625 14.5 40.28125 \r\nQ 14.5 37.15625 16.890625 35.375 \r\nQ 19.28125 33.59375 26.515625 31.984375 \r\nL 29.59375 31.296875 \r\nQ 39.15625 29.25 43.1875 25.515625 \r\nQ 47.21875 21.78125 47.21875 15.09375 \r\nQ 47.21875 7.46875 41.1875 3.015625 \r\nQ 35.15625 -1.421875 24.609375 -1.421875 \r\nQ 20.21875 -1.421875 15.453125 -0.5625 \r\nQ 10.6875 0.296875 5.421875 2 \r\nL 5.421875 11.28125 \r\nQ 10.40625 8.6875 15.234375 7.390625 \r\nQ 20.0625 6.109375 24.8125 6.109375 \r\nQ 31.15625 6.109375 34.5625 8.28125 \r\nQ 37.984375 10.453125 37.984375 14.40625 \r\nQ 37.984375 18.0625 35.515625 20.015625 \r\nQ 33.0625 21.96875 24.703125 23.78125 \r\nL 21.578125 24.515625 \r\nQ 13.234375 26.265625 9.515625 29.90625 \r\nQ 5.8125 33.546875 5.8125 39.890625 \r\nQ 5.8125 47.609375 11.28125 51.796875 \r\nQ 16.75 56 26.8125 56 \r\nQ 31.78125 56 36.171875 55.265625 \r\nQ 40.578125 54.546875 44.28125 53.078125 \r\nz\r\n\" id=\"DejaVuSans-115\"/>\r\n     </defs>\r\n     <g transform=\"translate(316.7625 23.798437)scale(0.1 -0.1)\">\r\n      <use xlink:href=\"#DejaVuSans-108\"/>\r\n      <use x=\"27.783203\" xlink:href=\"#DejaVuSans-111\"/>\r\n      <use x=\"88.964844\" xlink:href=\"#DejaVuSans-115\"/>\r\n      <use x=\"141.064453\" xlink:href=\"#DejaVuSans-115\"/>\r\n     </g>\r\n    </g>\r\n    <g id=\"line2d_18\">\r\n     <path d=\"M 288.7625 34.976562 \r\nL 308.7625 34.976562 \r\n\" style=\"fill:none;stroke:#ff7f0e;stroke-linecap:square;stroke-width:1.5;\"/>\r\n    </g>\r\n    <g id=\"line2d_19\"/>\r\n    <g id=\"text_15\">\r\n     <!-- val_loss -->\r\n     <defs>\r\n      <path d=\"M 2.984375 54.6875 \r\nL 12.5 54.6875 \r\nL 29.59375 8.796875 \r\nL 46.6875 54.6875 \r\nL 56.203125 54.6875 \r\nL 35.6875 0 \r\nL 23.484375 0 \r\nz\r\n\" id=\"DejaVuSans-118\"/>\r\n      <path d=\"M 34.28125 27.484375 \r\nQ 23.390625 27.484375 19.1875 25 \r\nQ 14.984375 22.515625 14.984375 16.5 \r\nQ 14.984375 11.71875 18.140625 8.90625 \r\nQ 21.296875 6.109375 26.703125 6.109375 \r\nQ 34.1875 6.109375 38.703125 11.40625 \r\nQ 43.21875 16.703125 43.21875 25.484375 \r\nL 43.21875 27.484375 \r\nz\r\nM 52.203125 31.203125 \r\nL 52.203125 0 \r\nL 43.21875 0 \r\nL 43.21875 8.296875 \r\nQ 40.140625 3.328125 35.546875 0.953125 \r\nQ 30.953125 -1.421875 24.3125 -1.421875 \r\nQ 15.921875 -1.421875 10.953125 3.296875 \r\nQ 6 8.015625 6 15.921875 \r\nQ 6 25.140625 12.171875 29.828125 \r\nQ 18.359375 34.515625 30.609375 34.515625 \r\nL 43.21875 34.515625 \r\nL 43.21875 35.40625 \r\nQ 43.21875 41.609375 39.140625 45 \r\nQ 35.0625 48.390625 27.6875 48.390625 \r\nQ 23 48.390625 18.546875 47.265625 \r\nQ 14.109375 46.140625 10.015625 43.890625 \r\nL 10.015625 52.203125 \r\nQ 14.9375 54.109375 19.578125 55.046875 \r\nQ 24.21875 56 28.609375 56 \r\nQ 40.484375 56 46.34375 49.84375 \r\nQ 52.203125 43.703125 52.203125 31.203125 \r\nz\r\n\" id=\"DejaVuSans-97\"/>\r\n      <path d=\"M 50.984375 -16.609375 \r\nL 50.984375 -23.578125 \r\nL -0.984375 -23.578125 \r\nL -0.984375 -16.609375 \r\nz\r\n\" id=\"DejaVuSans-95\"/>\r\n     </defs>\r\n     <g transform=\"translate(316.7625 38.476562)scale(0.1 -0.1)\">\r\n      <use xlink:href=\"#DejaVuSans-118\"/>\r\n      <use x=\"59.179688\" xlink:href=\"#DejaVuSans-97\"/>\r\n      <use x=\"120.458984\" xlink:href=\"#DejaVuSans-108\"/>\r\n      <use x=\"148.242188\" xlink:href=\"#DejaVuSans-95\"/>\r\n      <use x=\"198.242188\" xlink:href=\"#DejaVuSans-108\"/>\r\n      <use x=\"226.025391\" xlink:href=\"#DejaVuSans-111\"/>\r\n      <use x=\"287.207031\" xlink:href=\"#DejaVuSans-115\"/>\r\n      <use x=\"339.306641\" xlink:href=\"#DejaVuSans-115\"/>\r\n     </g>\r\n    </g>\r\n   </g>\r\n  </g>\r\n </g>\r\n <defs>\r\n  <clipPath id=\"p31b8bb4463\">\r\n   <rect height=\"217.44\" width=\"334.8\" x=\"30.103125\" y=\"7.2\"/>\r\n  </clipPath>\r\n </defs>\r\n</svg>\r\n",
      "image/png": "[encoded data removed]"
     },
     "metadata": {
      "needs_background": "light"
     }
    }
   ],
   "source": [
    "plt.plot(train_history, label=\"loss\")\n",
    "plt.plot(val_history, label=\"val_loss\")\n",
    "plt.legend()\n",
    "plt.show()"
   ]
  },
  {
   "cell_type": "code",
   "execution_count": 42,
   "metadata": {
    "tags": []
   },
   "outputs": [
    {
     "output_type": "display_data",
     "data": {
      "text/plain": "(150, 4)"
     },
     "metadata": {}
    },
    {
     "output_type": "display_data",
     "data": {
      "text/plain": "(150,)"
     },
     "metadata": {}
    },
    {
     "output_type": "stream",
     "name": "stdout",
     "text": "(96, 4) (96,)\n(24, 4) (24,)\n(30, 4) (30,)\n"
    }
   ],
   "source": [
    "# 【問題4】Iris（多値分類）をKerasで学習\n",
    "# 抽出\n",
    "X = np.array(df_iris.iloc[:, 1:5])\n",
    "y = np.array(df_iris.iloc[:, 5])\n",
    "y[y=='Iris-versicolor'] = 0\n",
    "y[y=='Iris-virginica'] = 1\n",
    "y[y=='Iris-setosa'] = 2\n",
    "y = y.astype(np.int)\n",
    "display(X.shape)\n",
    "display(y.shape)\n",
    "\n",
    "# 分割\n",
    "X_train, X_test, y_train, y_test = train_test_split(X, y, test_size=0.2, random_state=0)\n",
    "X_train, X_val, y_train, y_val = train_test_split(X_train, y_train, test_size=0.2, random_state=0)\n",
    "\n",
    "# 標準化\n",
    "scaler = StandardScaler()\n",
    "X_train = scaler.fit_transform(X_train)\n",
    "X_val = scaler.transform(X_val)\n",
    "X_test = scaler.transform(X_test)\n",
    "\n",
    "print(X_train.shape, y_train.shape)\n",
    "print(X_val.shape, y_val.shape)\n",
    "print(X_test.shape, y_test.shape)"
   ]
  },
  {
   "cell_type": "code",
   "execution_count": 43,
   "metadata": {
    "tags": []
   },
   "outputs": [
    {
     "output_type": "stream",
     "name": "stdout",
     "text": "NNfor4(\n  (layer): Sequential(\n    (0): Linear(in_features=4, out_features=100, bias=True)\n    (1): ReLU()\n    (2): Linear(in_features=100, out_features=10, bias=True)\n    (3): ReLU()\n    (4): Linear(in_features=10, out_features=3, bias=True)\n  )\n)\n"
    }
   ],
   "source": [
    "# PyTorchでモデル構築\n",
    "n_features = 4\n",
    "n_nodes_1 = 100\n",
    "activation_1 = nn.ReLU()\n",
    "n_nodes_2 = 10\n",
    "activation_2 = nn.ReLU()\n",
    "n_output = 3\n",
    "\n",
    "## ネットワーク\n",
    "class NNfor4(nn.Module):\n",
    "    \n",
    "    def __init__(self):\n",
    "        super(NNfor4, self).__init__()\n",
    "        self.layer = nn.Sequential(nn.Linear(n_features, n_nodes_1), activation_1,\n",
    "                                   nn.Linear(n_nodes_1, n_nodes_2), activation_2,\n",
    "                                   nn.Linear(n_nodes_2, n_output))\n",
    "    \n",
    "    def forward(self, X):\n",
    "        X = self.layer(X)\n",
    "\n",
    "        return X\n",
    "\n",
    "## インスタンス作成\n",
    "model = NNfor4()\n",
    "print(model)"
   ]
  },
  {
   "cell_type": "code",
   "execution_count": 44,
   "metadata": {},
   "outputs": [],
   "source": [
    "## ミニバッチ\n",
    "batch_size = 1\n",
    "\n",
    "## numpy配列をテンソルに変換\n",
    "t_X_train = torch.from_numpy(X_train).float()\n",
    "t_y_train = torch.from_numpy(y_train).long()\n",
    "t_X_valid = torch.from_numpy(X_val).float()\n",
    "t_y_valid = torch.from_numpy(y_val).long()\n",
    "\n",
    "## 特徴量とラベルをデータセットにまとめる\n",
    "dataset_train = TensorDataset(t_X_train, t_y_train)\n",
    "dataset_valid = TensorDataset(t_X_valid, t_y_valid)\n",
    "\n",
    "# データローダを作成\n",
    "loader_train = DataLoader(dataset_train, batch_size=batch_size, shuffle=True)\n",
    "loader_valid = DataLoader(dataset_valid, batch_size=batch_size)"
   ]
  },
  {
   "cell_type": "code",
   "execution_count": 45,
   "metadata": {},
   "outputs": [],
   "source": [
    "## オプティマイザ\n",
    "lr = 0.003\n",
    "\n",
    "optimizer = optim.Adam(\n",
    "    model.parameters(),\n",
    "    lr=lr\n",
    ")\n",
    "\n",
    "## 損失関数\n",
    "criterion = nn.CrossEntropyLoss()"
   ]
  },
  {
   "cell_type": "code",
   "execution_count": 46,
   "metadata": {},
   "outputs": [],
   "source": [
    "## 学習(train)\n",
    "def train_step(X_train, y_train):\n",
    "    ## 訓練モード    \n",
    "    model.train()\n",
    "\n",
    "    ## 訓練データに対して予測\n",
    "    y_train_pred = model(X_train)\n",
    "    print(y_train_pred.shape, y_train.shape)\n",
    "\n",
    "    ## 勾配初期化\n",
    "    optimizer.zero_grad()\n",
    "    ## 損失の取得\n",
    "    loss = criterion(y_train_pred, y_train)\n",
    "    ## 勾配を計算\n",
    "    loss.backward()\n",
    "\n",
    "    ## パラメータ更新\n",
    "    optimizer.step()\n",
    "\n",
    "    ## 正解率の確認\n",
    "    with torch.no_grad():\n",
    "        y_train_pred_num = torch.argmax(y_train_pred, axis=1)\n",
    "        acc = (y_train_pred_num == y_train).sum()\n",
    "\n",
    "    return (loss.item(), acc.item())\n",
    "\n",
    "## 評価(validation)\n",
    "def valid_step(X_val, y_val):\n",
    "    ## 評価モード\n",
    "    model.eval()\n",
    "\n",
    "    ## 予測\n",
    "    y_val_pred = model(X_val)\n",
    "\n",
    "    ## 損失計算\n",
    "    loss = criterion(y_val_pred, y_val)\n",
    "\n",
    "    ## 正解率計算\n",
    "    with torch.no_grad():\n",
    "        y_val_pred_num = torch.argmax(y_val_pred, axis=1)\n",
    "        acc = (y_val_pred_num == y_val).sum()\n",
    "\n",
    "    return (loss.item(), acc.item())"
   ]
  },
  {
   "cell_type": "code",
   "execution_count": 47,
   "metadata": {
    "tags": []
   },
   "outputs": [
    {
     "output_type": "stream",
     "name": "stdout",
     "text": "torch.Size([1, 3]) torch.Size([1])\ntorch.Size([1, 3]) torch.Size([1])\ntorch.Size([1, 3]) torch.Size([1])\ntorch.Size([1, 3]) torch.Size([1])\ntorch.Size([1, 3]) torch.Size([1])\ntorch.Size([1, 3]) torch.Size([1])\ntorch.Size([1, 3]) torch.Size([1])\ntorch.Size([1, 3]) torch.Size([1])\ntorch.Size([1, 3]) torch.Size([1])\ntorch.Size([1, 3]) torch.Size([1])\ntorch.Size([1, 3]) torch.Size([1])\ntorch.Size([1, 3]) torch.Size([1])\ntorch.Size([1, 3]) torch.Size([1])\ntorch.Size([1, 3]) torch.Size([1])\ntorch.Size([1, 3]) torch.Size([1])\ntorch.Size([1, 3]) torch.Size([1])\ntorch.Size([1, 3]) torch.Size([1])\ntorch.Size([1, 3]) torch.Size([1])\ntorch.Size([1, 3]) torch.Size([1])\ntorch.Size([1, 3]) torch.Size([1])\ntorch.Size([1, 3]) torch.Size([1])\ntorch.Size([1, 3]) torch.Size([1])\ntorch.Size([1, 3]) torch.Size([1])\ntorch.Size([1, 3]) torch.Size([1])\ntorch.Size([1, 3]) torch.Size([1])\ntorch.Size([1, 3]) torch.Size([1])\ntorch.Size([1, 3]) torch.Size([1])\ntorch.Size([1, 3]) torch.Size([1])\ntorch.Size([1, 3]) torch.Size([1])\ntorch.Size([1, 3]) torch.Size([1])\ntorch.Size([1, 3]) torch.Size([1])\ntorch.Size([1, 3]) torch.Size([1])\ntorch.Size([1, 3]) torch.Size([1])\ntorch.Size([1, 3]) torch.Size([1])\ntorch.Size([1, 3]) torch.Size([1])\ntorch.Size([1, 3]) torch.Size([1])\ntorch.Size([1, 3]) torch.Size([1])\ntorch.Size([1, 3]) torch.Size([1])\ntorch.Size([1, 3]) torch.Size([1])\ntorch.Size([1, 3]) torch.Size([1])\ntorch.Size([1, 3]) torch.Size([1])\ntorch.Size([1, 3]) torch.Size([1])\ntorch.Size([1, 3]) torch.Size([1])\ntorch.Size([1, 3]) torch.Size([1])\ntorch.Size([1, 3]) torch.Size([1])\ntorch.Size([1, 3]) torch.Size([1])\ntorch.Size([1, 3]) torch.Size([1])\ntorch.Size([1, 3]) torch.Size([1])\ntorch.Size([1, 3]) torch.Size([1])\ntorch.Size([1, 3]) torch.Size([1])\ntorch.Size([1, 3]) torch.Size([1])\ntorch.Size([1, 3]) torch.Size([1])\ntorch.Size([1, 3]) torch.Size([1])\ntorch.Size([1, 3]) torch.Size([1])\ntorch.Size([1, 3]) torch.Size([1])\ntorch.Size([1, 3]) torch.Size([1])\ntorch.Size([1, 3]) torch.Size([1])\ntorch.Size([1, 3]) torch.Size([1])\ntorch.Size([1, 3]) torch.Size([1])\ntorch.Size([1, 3]) torch.Size([1])\ntorch.Size([1, 3]) torch.Size([1])\ntorch.Size([1, 3]) torch.Size([1])\ntorch.Size([1, 3]) torch.Size([1])\ntorch.Size([1, 3]) torch.Size([1])\ntorch.Size([1, 3]) torch.Size([1])\ntorch.Size([1, 3]) torch.Size([1])\ntorch.Size([1, 3]) torch.Size([1])\ntorch.Size([1, 3]) torch.Size([1])\ntorch.Size([1, 3]) torch.Size([1])\ntorch.Size([1, 3]) torch.Size([1])\ntorch.Size([1, 3]) torch.Size([1])\ntorch.Size([1, 3]) torch.Size([1])\ntorch.Size([1, 3]) torch.Size([1])\ntorch.Size([1, 3]) torch.Size([1])\ntorch.Size([1, 3]) torch.Size([1])\ntorch.Size([1, 3]) torch.Size([1])\ntorch.Size([1, 3]) torch.Size([1])\ntorch.Size([1, 3]) torch.Size([1])\ntorch.Size([1, 3]) torch.Size([1])\ntorch.Size([1, 3]) torch.Size([1])\ntorch.Size([1, 3]) torch.Size([1])\ntorch.Size([1, 3]) torch.Size([1])\ntorch.Size([1, 3]) torch.Size([1])\ntorch.Size([1, 3]) torch.Size([1])\ntorch.Size([1, 3]) torch.Size([1])\ntorch.Size([1, 3]) torch.Size([1])\ntorch.Size([1, 3]) torch.Size([1])\ntorch.Size([1, 3]) torch.Size([1])\ntorch.Size([1, 3]) torch.Size([1])\ntorch.Size([1, 3]) torch.Size([1])\ntorch.Size([1, 3]) torch.Size([1])\ntorch.Size([1, 3]) torch.Size([1])\ntorch.Size([1, 3]) torch.Size([1])\ntorch.Size([1, 3]) torch.Size([1])\ntorch.Size([1, 3]) torch.Size([1])\ntorch.Size([1, 3]) torch.Size([1])\nepoch1/10: [loss:0.5725, acc:0.7396, val_loss:0.3897, val_acc:0.7917]\ntorch.Size([1, 3]) torch.Size([1])\ntorch.Size([1, 3]) torch.Size([1])\ntorch.Size([1, 3]) torch.Size([1])\ntorch.Size([1, 3]) torch.Size([1])\ntorch.Size([1, 3]) torch.Size([1])\ntorch.Size([1, 3]) torch.Size([1])\ntorch.Size([1, 3]) torch.Size([1])\ntorch.Size([1, 3]) torch.Size([1])\ntorch.Size([1, 3]) torch.Size([1])\ntorch.Size([1, 3]) torch.Size([1])\ntorch.Size([1, 3]) torch.Size([1])\ntorch.Size([1, 3]) torch.Size([1])\ntorch.Size([1, 3]) torch.Size([1])\ntorch.Size([1, 3]) torch.Size([1])\ntorch.Size([1, 3]) torch.Size([1])\ntorch.Size([1, 3]) torch.Size([1])\ntorch.Size([1, 3]) torch.Size([1])\ntorch.Size([1, 3]) torch.Size([1])\ntorch.Size([1, 3]) torch.Size([1])\ntorch.Size([1, 3]) torch.Size([1])\ntorch.Size([1, 3]) torch.Size([1])\ntorch.Size([1, 3]) torch.Size([1])\ntorch.Size([1, 3]) torch.Size([1])\ntorch.Size([1, 3]) torch.Size([1])\ntorch.Size([1, 3]) torch.Size([1])\ntorch.Size([1, 3]) torch.Size([1])\ntorch.Size([1, 3]) torch.Size([1])\ntorch.Size([1, 3]) torch.Size([1])\ntorch.Size([1, 3]) torch.Size([1])\ntorch.Size([1, 3]) torch.Size([1])\ntorch.Size([1, 3]) torch.Size([1])\ntorch.Size([1, 3]) torch.Size([1])\ntorch.Size([1, 3]) torch.Size([1])\ntorch.Size([1, 3]) torch.Size([1])\ntorch.Size([1, 3]) torch.Size([1])\ntorch.Size([1, 3]) torch.Size([1])\ntorch.Size([1, 3]) torch.Size([1])\ntorch.Size([1, 3]) torch.Size([1])\ntorch.Size([1, 3]) torch.Size([1])\ntorch.Size([1, 3]) torch.Size([1])\ntorch.Size([1, 3]) torch.Size([1])\ntorch.Size([1, 3]) torch.Size([1])\ntorch.Size([1, 3]) torch.Size([1])\ntorch.Size([1, 3]) torch.Size([1])\ntorch.Size([1, 3]) torch.Size([1])\ntorch.Size([1, 3]) torch.Size([1])\ntorch.Size([1, 3]) torch.Size([1])\ntorch.Size([1, 3]) torch.Size([1])\ntorch.Size([1, 3]) torch.Size([1])\ntorch.Size([1, 3]) torch.Size([1])\ntorch.Size([1, 3]) torch.Size([1])\ntorch.Size([1, 3]) torch.Size([1])\ntorch.Size([1, 3]) torch.Size([1])\ntorch.Size([1, 3]) torch.Size([1])\ntorch.Size([1, 3]) torch.Size([1])\ntorch.Size([1, 3]) torch.Size([1])\ntorch.Size([1, 3]) torch.Size([1])\ntorch.Size([1, 3]) torch.Size([1])\ntorch.Size([1, 3]) torch.Size([1])\ntorch.Size([1, 3]) torch.Size([1])\ntorch.Size([1, 3]) torch.Size([1])\ntorch.Size([1, 3]) torch.Size([1])\ntorch.Size([1, 3]) torch.Size([1])\ntorch.Size([1, 3]) torch.Size([1])\ntorch.Size([1, 3]) torch.Size([1])\ntorch.Size([1, 3]) torch.Size([1])\ntorch.Size([1, 3]) torch.Size([1])\ntorch.Size([1, 3]) torch.Size([1])\ntorch.Size([1, 3]) torch.Size([1])\ntorch.Size([1, 3]) torch.Size([1])\ntorch.Size([1, 3]) torch.Size([1])\ntorch.Size([1, 3]) torch.Size([1])\ntorch.Size([1, 3]) torch.Size([1])\ntorch.Size([1, 3]) torch.Size([1])\ntorch.Size([1, 3]) torch.Size([1])\ntorch.Size([1, 3]) torch.Size([1])\ntorch.Size([1, 3]) torch.Size([1])\ntorch.Size([1, 3]) torch.Size([1])\ntorch.Size([1, 3]) torch.Size([1])\ntorch.Size([1, 3]) torch.Size([1])\ntorch.Size([1, 3]) torch.Size([1])\ntorch.Size([1, 3]) torch.Size([1])\ntorch.Size([1, 3]) torch.Size([1])\ntorch.Size([1, 3]) torch.Size([1])\ntorch.Size([1, 3]) torch.Size([1])\ntorch.Size([1, 3]) torch.Size([1])\ntorch.Size([1, 3]) torch.Size([1])\ntorch.Size([1, 3]) torch.Size([1])\ntorch.Size([1, 3]) torch.Size([1])\ntorch.Size([1, 3]) torch.Size([1])\ntorch.Size([1, 3]) torch.Size([1])\ntorch.Size([1, 3]) torch.Size([1])\ntorch.Size([1, 3]) torch.Size([1])\ntorch.Size([1, 3]) torch.Size([1])\ntorch.Size([1, 3]) torch.Size([1])\ntorch.Size([1, 3]) torch.Size([1])\nepoch2/10: [loss:0.2813, acc:0.8750, val_loss:0.3512, val_acc:0.7917]\ntorch.Size([1, 3]) torch.Size([1])\ntorch.Size([1, 3]) torch.Size([1])\ntorch.Size([1, 3]) torch.Size([1])\ntorch.Size([1, 3]) torch.Size([1])\ntorch.Size([1, 3]) torch.Size([1])\ntorch.Size([1, 3]) torch.Size([1])\ntorch.Size([1, 3]) torch.Size([1])\ntorch.Size([1, 3]) torch.Size([1])\ntorch.Size([1, 3]) torch.Size([1])\ntorch.Size([1, 3]) torch.Size([1])\ntorch.Size([1, 3]) torch.Size([1])\ntorch.Size([1, 3]) torch.Size([1])\ntorch.Size([1, 3]) torch.Size([1])\ntorch.Size([1, 3]) torch.Size([1])\ntorch.Size([1, 3]) torch.Size([1])\ntorch.Size([1, 3]) torch.Size([1])\ntorch.Size([1, 3]) torch.Size([1])\ntorch.Size([1, 3]) torch.Size([1])\ntorch.Size([1, 3]) torch.Size([1])\ntorch.Size([1, 3]) torch.Size([1])\ntorch.Size([1, 3]) torch.Size([1])\ntorch.Size([1, 3]) torch.Size([1])\ntorch.Size([1, 3]) torch.Size([1])\ntorch.Size([1, 3]) torch.Size([1])\ntorch.Size([1, 3]) torch.Size([1])\ntorch.Size([1, 3]) torch.Size([1])\ntorch.Size([1, 3]) torch.Size([1])\ntorch.Size([1, 3]) torch.Size([1])\ntorch.Size([1, 3]) torch.Size([1])\ntorch.Size([1, 3]) torch.Size([1])\ntorch.Size([1, 3]) torch.Size([1])\ntorch.Size([1, 3]) torch.Size([1])\ntorch.Size([1, 3]) torch.Size([1])\ntorch.Size([1, 3]) torch.Size([1])\ntorch.Size([1, 3]) torch.Size([1])\ntorch.Size([1, 3]) torch.Size([1])\ntorch.Size([1, 3]) torch.Size([1])\ntorch.Size([1, 3]) torch.Size([1])\ntorch.Size([1, 3]) torch.Size([1])\ntorch.Size([1, 3]) torch.Size([1])\ntorch.Size([1, 3]) torch.Size([1])\ntorch.Size([1, 3]) torch.Size([1])\ntorch.Size([1, 3]) torch.Size([1])\ntorch.Size([1, 3]) torch.Size([1])\ntorch.Size([1, 3]) torch.Size([1])\ntorch.Size([1, 3]) torch.Size([1])\ntorch.Size([1, 3]) torch.Size([1])\ntorch.Size([1, 3]) torch.Size([1])\ntorch.Size([1, 3]) torch.Size([1])\ntorch.Size([1, 3]) torch.Size([1])\ntorch.Size([1, 3]) torch.Size([1])\ntorch.Size([1, 3]) torch.Size([1])\ntorch.Size([1, 3]) torch.Size([1])\ntorch.Size([1, 3]) torch.Size([1])\ntorch.Size([1, 3]) torch.Size([1])\ntorch.Size([1, 3]) torch.Size([1])\ntorch.Size([1, 3]) torch.Size([1])\ntorch.Size([1, 3]) torch.Size([1])\ntorch.Size([1, 3]) torch.Size([1])\ntorch.Size([1, 3]) torch.Size([1])\ntorch.Size([1, 3]) torch.Size([1])\ntorch.Size([1, 3]) torch.Size([1])\ntorch.Size([1, 3]) torch.Size([1])\ntorch.Size([1, 3]) torch.Size([1])\ntorch.Size([1, 3]) torch.Size([1])\ntorch.Size([1, 3]) torch.Size([1])\ntorch.Size([1, 3]) torch.Size([1])\ntorch.Size([1, 3]) torch.Size([1])\ntorch.Size([1, 3]) torch.Size([1])\ntorch.Size([1, 3]) torch.Size([1])\ntorch.Size([1, 3]) torch.Size([1])\ntorch.Size([1, 3]) torch.Size([1])\ntorch.Size([1, 3]) torch.Size([1])\ntorch.Size([1, 3]) torch.Size([1])\ntorch.Size([1, 3]) torch.Size([1])\ntorch.Size([1, 3]) torch.Size([1])\ntorch.Size([1, 3]) torch.Size([1])\ntorch.Size([1, 3]) torch.Size([1])\ntorch.Size([1, 3]) torch.Size([1])\ntorch.Size([1, 3]) torch.Size([1])\ntorch.Size([1, 3]) torch.Size([1])\ntorch.Size([1, 3]) torch.Size([1])\ntorch.Size([1, 3]) torch.Size([1])\ntorch.Size([1, 3]) torch.Size([1])\ntorch.Size([1, 3]) torch.Size([1])\ntorch.Size([1, 3]) torch.Size([1])\ntorch.Size([1, 3]) torch.Size([1])\ntorch.Size([1, 3]) torch.Size([1])\ntorch.Size([1, 3]) torch.Size([1])\ntorch.Size([1, 3]) torch.Size([1])\ntorch.Size([1, 3]) torch.Size([1])\ntorch.Size([1, 3]) torch.Size([1])\ntorch.Size([1, 3]) torch.Size([1])\ntorch.Size([1, 3]) torch.Size([1])\ntorch.Size([1, 3]) torch.Size([1])\ntorch.Size([1, 3]) torch.Size([1])\nepoch3/10: [loss:0.2231, acc:0.8958, val_loss:0.4301, val_acc:0.7917]\ntorch.Size([1, 3]) torch.Size([1])\ntorch.Size([1, 3]) torch.Size([1])\ntorch.Size([1, 3]) torch.Size([1])\ntorch.Size([1, 3]) torch.Size([1])\ntorch.Size([1, 3]) torch.Size([1])\ntorch.Size([1, 3]) torch.Size([1])\ntorch.Size([1, 3]) torch.Size([1])\ntorch.Size([1, 3]) torch.Size([1])\ntorch.Size([1, 3]) torch.Size([1])\ntorch.Size([1, 3]) torch.Size([1])\ntorch.Size([1, 3]) torch.Size([1])\ntorch.Size([1, 3]) torch.Size([1])\ntorch.Size([1, 3]) torch.Size([1])\ntorch.Size([1, 3]) torch.Size([1])\ntorch.Size([1, 3]) torch.Size([1])\ntorch.Size([1, 3]) torch.Size([1])\ntorch.Size([1, 3]) torch.Size([1])\ntorch.Size([1, 3]) torch.Size([1])\ntorch.Size([1, 3]) torch.Size([1])\ntorch.Size([1, 3]) torch.Size([1])\ntorch.Size([1, 3]) torch.Size([1])\ntorch.Size([1, 3]) torch.Size([1])\ntorch.Size([1, 3]) torch.Size([1])\ntorch.Size([1, 3]) torch.Size([1])\ntorch.Size([1, 3]) torch.Size([1])\ntorch.Size([1, 3]) torch.Size([1])\ntorch.Size([1, 3]) torch.Size([1])\ntorch.Size([1, 3]) torch.Size([1])\ntorch.Size([1, 3]) torch.Size([1])\ntorch.Size([1, 3]) torch.Size([1])\ntorch.Size([1, 3]) torch.Size([1])\ntorch.Size([1, 3]) torch.Size([1])\ntorch.Size([1, 3]) torch.Size([1])\ntorch.Size([1, 3]) torch.Size([1])\ntorch.Size([1, 3]) torch.Size([1])\ntorch.Size([1, 3]) torch.Size([1])\ntorch.Size([1, 3]) torch.Size([1])\ntorch.Size([1, 3]) torch.Size([1])\ntorch.Size([1, 3]) torch.Size([1])\ntorch.Size([1, 3]) torch.Size([1])\ntorch.Size([1, 3]) torch.Size([1])\ntorch.Size([1, 3]) torch.Size([1])\ntorch.Size([1, 3]) torch.Size([1])\ntorch.Size([1, 3]) torch.Size([1])\ntorch.Size([1, 3]) torch.Size([1])\ntorch.Size([1, 3]) torch.Size([1])\ntorch.Size([1, 3]) torch.Size([1])\ntorch.Size([1, 3]) torch.Size([1])\ntorch.Size([1, 3]) torch.Size([1])\ntorch.Size([1, 3]) torch.Size([1])\ntorch.Size([1, 3]) torch.Size([1])\ntorch.Size([1, 3]) torch.Size([1])\ntorch.Size([1, 3]) torch.Size([1])\ntorch.Size([1, 3]) torch.Size([1])\ntorch.Size([1, 3]) torch.Size([1])\ntorch.Size([1, 3]) torch.Size([1])\ntorch.Size([1, 3]) torch.Size([1])\ntorch.Size([1, 3]) torch.Size([1])\ntorch.Size([1, 3]) torch.Size([1])\ntorch.Size([1, 3]) torch.Size([1])\ntorch.Size([1, 3]) torch.Size([1])\ntorch.Size([1, 3]) torch.Size([1])\ntorch.Size([1, 3]) torch.Size([1])\ntorch.Size([1, 3]) torch.Size([1])\ntorch.Size([1, 3]) torch.Size([1])\ntorch.Size([1, 3]) torch.Size([1])\ntorch.Size([1, 3]) torch.Size([1])\ntorch.Size([1, 3]) torch.Size([1])\ntorch.Size([1, 3]) torch.Size([1])\ntorch.Size([1, 3]) torch.Size([1])\ntorch.Size([1, 3]) torch.Size([1])\ntorch.Size([1, 3]) torch.Size([1])\ntorch.Size([1, 3]) torch.Size([1])\ntorch.Size([1, 3]) torch.Size([1])\ntorch.Size([1, 3]) torch.Size([1])\ntorch.Size([1, 3]) torch.Size([1])\ntorch.Size([1, 3]) torch.Size([1])\ntorch.Size([1, 3]) torch.Size([1])\ntorch.Size([1, 3]) torch.Size([1])\ntorch.Size([1, 3]) torch.Size([1])\ntorch.Size([1, 3]) torch.Size([1])\ntorch.Size([1, 3]) torch.Size([1])\ntorch.Size([1, 3]) torch.Size([1])\ntorch.Size([1, 3]) torch.Size([1])\ntorch.Size([1, 3]) torch.Size([1])\ntorch.Size([1, 3]) torch.Size([1])\ntorch.Size([1, 3]) torch.Size([1])\ntorch.Size([1, 3]) torch.Size([1])\ntorch.Size([1, 3]) torch.Size([1])\ntorch.Size([1, 3]) torch.Size([1])\ntorch.Size([1, 3]) torch.Size([1])\ntorch.Size([1, 3]) torch.Size([1])\ntorch.Size([1, 3]) torch.Size([1])\ntorch.Size([1, 3]) torch.Size([1])\ntorch.Size([1, 3]) torch.Size([1])\ntorch.Size([1, 3]) torch.Size([1])\nepoch4/10: [loss:0.1725, acc:0.9271, val_loss:0.3573, val_acc:0.7917]\ntorch.Size([1, 3]) torch.Size([1])\ntorch.Size([1, 3]) torch.Size([1])\ntorch.Size([1, 3]) torch.Size([1])\ntorch.Size([1, 3]) torch.Size([1])\ntorch.Size([1, 3]) torch.Size([1])\ntorch.Size([1, 3]) torch.Size([1])\ntorch.Size([1, 3]) torch.Size([1])\ntorch.Size([1, 3]) torch.Size([1])\ntorch.Size([1, 3]) torch.Size([1])\ntorch.Size([1, 3]) torch.Size([1])\ntorch.Size([1, 3]) torch.Size([1])\ntorch.Size([1, 3]) torch.Size([1])\ntorch.Size([1, 3]) torch.Size([1])\ntorch.Size([1, 3]) torch.Size([1])\ntorch.Size([1, 3]) torch.Size([1])\ntorch.Size([1, 3]) torch.Size([1])\ntorch.Size([1, 3]) torch.Size([1])\ntorch.Size([1, 3]) torch.Size([1])\ntorch.Size([1, 3]) torch.Size([1])\ntorch.Size([1, 3]) torch.Size([1])\ntorch.Size([1, 3]) torch.Size([1])\ntorch.Size([1, 3]) torch.Size([1])\ntorch.Size([1, 3]) torch.Size([1])\ntorch.Size([1, 3]) torch.Size([1])\ntorch.Size([1, 3]) torch.Size([1])\ntorch.Size([1, 3]) torch.Size([1])\ntorch.Size([1, 3]) torch.Size([1])\ntorch.Size([1, 3]) torch.Size([1])\ntorch.Size([1, 3]) torch.Size([1])\ntorch.Size([1, 3]) torch.Size([1])\ntorch.Size([1, 3]) torch.Size([1])\ntorch.Size([1, 3]) torch.Size([1])\ntorch.Size([1, 3]) torch.Size([1])\ntorch.Size([1, 3]) torch.Size([1])\ntorch.Size([1, 3]) torch.Size([1])\ntorch.Size([1, 3]) torch.Size([1])\ntorch.Size([1, 3]) torch.Size([1])\ntorch.Size([1, 3]) torch.Size([1])\ntorch.Size([1, 3]) torch.Size([1])\ntorch.Size([1, 3]) torch.Size([1])\ntorch.Size([1, 3]) torch.Size([1])\ntorch.Size([1, 3]) torch.Size([1])\ntorch.Size([1, 3]) torch.Size([1])\ntorch.Size([1, 3]) torch.Size([1])\ntorch.Size([1, 3]) torch.Size([1])\ntorch.Size([1, 3]) torch.Size([1])\ntorch.Size([1, 3]) torch.Size([1])\ntorch.Size([1, 3]) torch.Size([1])\ntorch.Size([1, 3]) torch.Size([1])\ntorch.Size([1, 3]) torch.Size([1])\ntorch.Size([1, 3]) torch.Size([1])\ntorch.Size([1, 3]) torch.Size([1])\ntorch.Size([1, 3]) torch.Size([1])\ntorch.Size([1, 3]) torch.Size([1])\ntorch.Size([1, 3]) torch.Size([1])\ntorch.Size([1, 3]) torch.Size([1])\ntorch.Size([1, 3]) torch.Size([1])\ntorch.Size([1, 3]) torch.Size([1])\ntorch.Size([1, 3]) torch.Size([1])\ntorch.Size([1, 3]) torch.Size([1])\ntorch.Size([1, 3]) torch.Size([1])\ntorch.Size([1, 3]) torch.Size([1])\ntorch.Size([1, 3]) torch.Size([1])\ntorch.Size([1, 3]) torch.Size([1])\ntorch.Size([1, 3]) torch.Size([1])\ntorch.Size([1, 3]) torch.Size([1])\ntorch.Size([1, 3]) torch.Size([1])\ntorch.Size([1, 3]) torch.Size([1])\ntorch.Size([1, 3]) torch.Size([1])\ntorch.Size([1, 3]) torch.Size([1])\ntorch.Size([1, 3]) torch.Size([1])\ntorch.Size([1, 3]) torch.Size([1])\ntorch.Size([1, 3]) torch.Size([1])\ntorch.Size([1, 3]) torch.Size([1])\ntorch.Size([1, 3]) torch.Size([1])\ntorch.Size([1, 3]) torch.Size([1])\ntorch.Size([1, 3]) torch.Size([1])\ntorch.Size([1, 3]) torch.Size([1])\ntorch.Size([1, 3]) torch.Size([1])\ntorch.Size([1, 3]) torch.Size([1])\ntorch.Size([1, 3]) torch.Size([1])\ntorch.Size([1, 3]) torch.Size([1])\ntorch.Size([1, 3]) torch.Size([1])\ntorch.Size([1, 3]) torch.Size([1])\ntorch.Size([1, 3]) torch.Size([1])\ntorch.Size([1, 3]) torch.Size([1])\ntorch.Size([1, 3]) torch.Size([1])\ntorch.Size([1, 3]) torch.Size([1])\ntorch.Size([1, 3]) torch.Size([1])\ntorch.Size([1, 3]) torch.Size([1])\ntorch.Size([1, 3]) torch.Size([1])\ntorch.Size([1, 3]) torch.Size([1])\ntorch.Size([1, 3]) torch.Size([1])\ntorch.Size([1, 3]) torch.Size([1])\ntorch.Size([1, 3]) torch.Size([1])\ntorch.Size([1, 3]) torch.Size([1])\nepoch5/10: [loss:0.1406, acc:0.9375, val_loss:0.3911, val_acc:0.7917]\ntorch.Size([1, 3]) torch.Size([1])\ntorch.Size([1, 3]) torch.Size([1])\ntorch.Size([1, 3]) torch.Size([1])\ntorch.Size([1, 3]) torch.Size([1])\ntorch.Size([1, 3]) torch.Size([1])\ntorch.Size([1, 3]) torch.Size([1])\ntorch.Size([1, 3]) torch.Size([1])\ntorch.Size([1, 3]) torch.Size([1])\ntorch.Size([1, 3]) torch.Size([1])\ntorch.Size([1, 3]) torch.Size([1])\ntorch.Size([1, 3]) torch.Size([1])\ntorch.Size([1, 3]) torch.Size([1])\ntorch.Size([1, 3]) torch.Size([1])\ntorch.Size([1, 3]) torch.Size([1])\ntorch.Size([1, 3]) torch.Size([1])\ntorch.Size([1, 3]) torch.Size([1])\ntorch.Size([1, 3]) torch.Size([1])\ntorch.Size([1, 3]) torch.Size([1])\ntorch.Size([1, 3]) torch.Size([1])\ntorch.Size([1, 3]) torch.Size([1])\ntorch.Size([1, 3]) torch.Size([1])\ntorch.Size([1, 3]) torch.Size([1])\ntorch.Size([1, 3]) torch.Size([1])\ntorch.Size([1, 3]) torch.Size([1])\ntorch.Size([1, 3]) torch.Size([1])\ntorch.Size([1, 3]) torch.Size([1])\ntorch.Size([1, 3]) torch.Size([1])\ntorch.Size([1, 3]) torch.Size([1])\ntorch.Size([1, 3]) torch.Size([1])\ntorch.Size([1, 3]) torch.Size([1])\ntorch.Size([1, 3]) torch.Size([1])\ntorch.Size([1, 3]) torch.Size([1])\ntorch.Size([1, 3]) torch.Size([1])\ntorch.Size([1, 3]) torch.Size([1])\ntorch.Size([1, 3]) torch.Size([1])\ntorch.Size([1, 3]) torch.Size([1])\ntorch.Size([1, 3]) torch.Size([1])\ntorch.Size([1, 3]) torch.Size([1])\ntorch.Size([1, 3]) torch.Size([1])\ntorch.Size([1, 3]) torch.Size([1])\ntorch.Size([1, 3]) torch.Size([1])\ntorch.Size([1, 3]) torch.Size([1])\ntorch.Size([1, 3]) torch.Size([1])\ntorch.Size([1, 3]) torch.Size([1])\ntorch.Size([1, 3]) torch.Size([1])\ntorch.Size([1, 3]) torch.Size([1])\ntorch.Size([1, 3]) torch.Size([1])\ntorch.Size([1, 3]) torch.Size([1])\ntorch.Size([1, 3]) torch.Size([1])\ntorch.Size([1, 3]) torch.Size([1])\ntorch.Size([1, 3]) torch.Size([1])\ntorch.Size([1, 3]) torch.Size([1])\ntorch.Size([1, 3]) torch.Size([1])\ntorch.Size([1, 3]) torch.Size([1])\ntorch.Size([1, 3]) torch.Size([1])\ntorch.Size([1, 3]) torch.Size([1])\ntorch.Size([1, 3]) torch.Size([1])\ntorch.Size([1, 3]) torch.Size([1])\ntorch.Size([1, 3]) torch.Size([1])\ntorch.Size([1, 3]) torch.Size([1])\ntorch.Size([1, 3]) torch.Size([1])\ntorch.Size([1, 3]) torch.Size([1])\ntorch.Size([1, 3]) torch.Size([1])\ntorch.Size([1, 3]) torch.Size([1])\ntorch.Size([1, 3]) torch.Size([1])\ntorch.Size([1, 3]) torch.Size([1])\ntorch.Size([1, 3]) torch.Size([1])\ntorch.Size([1, 3]) torch.Size([1])\ntorch.Size([1, 3]) torch.Size([1])\ntorch.Size([1, 3]) torch.Size([1])\ntorch.Size([1, 3]) torch.Size([1])\ntorch.Size([1, 3]) torch.Size([1])\ntorch.Size([1, 3]) torch.Size([1])\ntorch.Size([1, 3]) torch.Size([1])\ntorch.Size([1, 3]) torch.Size([1])\ntorch.Size([1, 3]) torch.Size([1])\ntorch.Size([1, 3]) torch.Size([1])\ntorch.Size([1, 3]) torch.Size([1])\ntorch.Size([1, 3]) torch.Size([1])\ntorch.Size([1, 3]) torch.Size([1])\ntorch.Size([1, 3]) torch.Size([1])\ntorch.Size([1, 3]) torch.Size([1])\ntorch.Size([1, 3]) torch.Size([1])\ntorch.Size([1, 3]) torch.Size([1])\ntorch.Size([1, 3]) torch.Size([1])\ntorch.Size([1, 3]) torch.Size([1])\ntorch.Size([1, 3]) torch.Size([1])\ntorch.Size([1, 3]) torch.Size([1])\ntorch.Size([1, 3]) torch.Size([1])\ntorch.Size([1, 3]) torch.Size([1])\ntorch.Size([1, 3]) torch.Size([1])\ntorch.Size([1, 3]) torch.Size([1])\ntorch.Size([1, 3]) torch.Size([1])\ntorch.Size([1, 3]) torch.Size([1])\ntorch.Size([1, 3]) torch.Size([1])\ntorch.Size([1, 3]) torch.Size([1])\nepoch6/10: [loss:0.1289, acc:0.9688, val_loss:0.3585, val_acc:0.7917]\ntorch.Size([1, 3]) torch.Size([1])\ntorch.Size([1, 3]) torch.Size([1])\ntorch.Size([1, 3]) torch.Size([1])\ntorch.Size([1, 3]) torch.Size([1])\ntorch.Size([1, 3]) torch.Size([1])\ntorch.Size([1, 3]) torch.Size([1])\ntorch.Size([1, 3]) torch.Size([1])\ntorch.Size([1, 3]) torch.Size([1])\ntorch.Size([1, 3]) torch.Size([1])\ntorch.Size([1, 3]) torch.Size([1])\ntorch.Size([1, 3]) torch.Size([1])\ntorch.Size([1, 3]) torch.Size([1])\ntorch.Size([1, 3]) torch.Size([1])\ntorch.Size([1, 3]) torch.Size([1])\ntorch.Size([1, 3]) torch.Size([1])\ntorch.Size([1, 3]) torch.Size([1])\ntorch.Size([1, 3]) torch.Size([1])\ntorch.Size([1, 3]) torch.Size([1])\ntorch.Size([1, 3]) torch.Size([1])\ntorch.Size([1, 3]) torch.Size([1])\ntorch.Size([1, 3]) torch.Size([1])\ntorch.Size([1, 3]) torch.Size([1])\ntorch.Size([1, 3]) torch.Size([1])\ntorch.Size([1, 3]) torch.Size([1])\ntorch.Size([1, 3]) torch.Size([1])\ntorch.Size([1, 3]) torch.Size([1])\ntorch.Size([1, 3]) torch.Size([1])\ntorch.Size([1, 3]) torch.Size([1])\ntorch.Size([1, 3]) torch.Size([1])\ntorch.Size([1, 3]) torch.Size([1])\ntorch.Size([1, 3]) torch.Size([1])\ntorch.Size([1, 3]) torch.Size([1])\ntorch.Size([1, 3]) torch.Size([1])\ntorch.Size([1, 3]) torch.Size([1])\ntorch.Size([1, 3]) torch.Size([1])\ntorch.Size([1, 3]) torch.Size([1])\ntorch.Size([1, 3]) torch.Size([1])\ntorch.Size([1, 3]) torch.Size([1])\ntorch.Size([1, 3]) torch.Size([1])\ntorch.Size([1, 3]) torch.Size([1])\ntorch.Size([1, 3]) torch.Size([1])\ntorch.Size([1, 3]) torch.Size([1])\ntorch.Size([1, 3]) torch.Size([1])\ntorch.Size([1, 3]) torch.Size([1])\ntorch.Size([1, 3]) torch.Size([1])\ntorch.Size([1, 3]) torch.Size([1])\ntorch.Size([1, 3]) torch.Size([1])\ntorch.Size([1, 3]) torch.Size([1])\ntorch.Size([1, 3]) torch.Size([1])\ntorch.Size([1, 3]) torch.Size([1])\ntorch.Size([1, 3]) torch.Size([1])\ntorch.Size([1, 3]) torch.Size([1])\ntorch.Size([1, 3]) torch.Size([1])\ntorch.Size([1, 3]) torch.Size([1])\ntorch.Size([1, 3]) torch.Size([1])\ntorch.Size([1, 3]) torch.Size([1])\ntorch.Size([1, 3]) torch.Size([1])\ntorch.Size([1, 3]) torch.Size([1])\ntorch.Size([1, 3]) torch.Size([1])\ntorch.Size([1, 3]) torch.Size([1])\ntorch.Size([1, 3]) torch.Size([1])\ntorch.Size([1, 3]) torch.Size([1])\ntorch.Size([1, 3]) torch.Size([1])\ntorch.Size([1, 3]) torch.Size([1])\ntorch.Size([1, 3]) torch.Size([1])\ntorch.Size([1, 3]) torch.Size([1])\ntorch.Size([1, 3]) torch.Size([1])\ntorch.Size([1, 3]) torch.Size([1])\ntorch.Size([1, 3]) torch.Size([1])\ntorch.Size([1, 3]) torch.Size([1])\ntorch.Size([1, 3]) torch.Size([1])\ntorch.Size([1, 3]) torch.Size([1])\ntorch.Size([1, 3]) torch.Size([1])\ntorch.Size([1, 3]) torch.Size([1])\ntorch.Size([1, 3]) torch.Size([1])\ntorch.Size([1, 3]) torch.Size([1])\ntorch.Size([1, 3]) torch.Size([1])\ntorch.Size([1, 3]) torch.Size([1])\ntorch.Size([1, 3]) torch.Size([1])\ntorch.Size([1, 3]) torch.Size([1])\ntorch.Size([1, 3]) torch.Size([1])\ntorch.Size([1, 3]) torch.Size([1])\ntorch.Size([1, 3]) torch.Size([1])\ntorch.Size([1, 3]) torch.Size([1])\ntorch.Size([1, 3]) torch.Size([1])\ntorch.Size([1, 3]) torch.Size([1])\ntorch.Size([1, 3]) torch.Size([1])\ntorch.Size([1, 3]) torch.Size([1])\ntorch.Size([1, 3]) torch.Size([1])\ntorch.Size([1, 3]) torch.Size([1])\ntorch.Size([1, 3]) torch.Size([1])\ntorch.Size([1, 3]) torch.Size([1])\ntorch.Size([1, 3]) torch.Size([1])\ntorch.Size([1, 3]) torch.Size([1])\ntorch.Size([1, 3]) torch.Size([1])\ntorch.Size([1, 3]) torch.Size([1])\nepoch7/10: [loss:0.1020, acc:0.9688, val_loss:0.2911, val_acc:0.9167]\ntorch.Size([1, 3]) torch.Size([1])\ntorch.Size([1, 3]) torch.Size([1])\ntorch.Size([1, 3]) torch.Size([1])\ntorch.Size([1, 3]) torch.Size([1])\ntorch.Size([1, 3]) torch.Size([1])\ntorch.Size([1, 3]) torch.Size([1])\ntorch.Size([1, 3]) torch.Size([1])\ntorch.Size([1, 3]) torch.Size([1])\ntorch.Size([1, 3]) torch.Size([1])\ntorch.Size([1, 3]) torch.Size([1])\ntorch.Size([1, 3]) torch.Size([1])\ntorch.Size([1, 3]) torch.Size([1])\ntorch.Size([1, 3]) torch.Size([1])\ntorch.Size([1, 3]) torch.Size([1])\ntorch.Size([1, 3]) torch.Size([1])\ntorch.Size([1, 3]) torch.Size([1])\ntorch.Size([1, 3]) torch.Size([1])\ntorch.Size([1, 3]) torch.Size([1])\ntorch.Size([1, 3]) torch.Size([1])\ntorch.Size([1, 3]) torch.Size([1])\ntorch.Size([1, 3]) torch.Size([1])\ntorch.Size([1, 3]) torch.Size([1])\ntorch.Size([1, 3]) torch.Size([1])\ntorch.Size([1, 3]) torch.Size([1])\ntorch.Size([1, 3]) torch.Size([1])\ntorch.Size([1, 3]) torch.Size([1])\ntorch.Size([1, 3]) torch.Size([1])\ntorch.Size([1, 3]) torch.Size([1])\ntorch.Size([1, 3]) torch.Size([1])\ntorch.Size([1, 3]) torch.Size([1])\ntorch.Size([1, 3]) torch.Size([1])\ntorch.Size([1, 3]) torch.Size([1])\ntorch.Size([1, 3]) torch.Size([1])\ntorch.Size([1, 3]) torch.Size([1])\ntorch.Size([1, 3]) torch.Size([1])\ntorch.Size([1, 3]) torch.Size([1])\ntorch.Size([1, 3]) torch.Size([1])\ntorch.Size([1, 3]) torch.Size([1])\ntorch.Size([1, 3]) torch.Size([1])\ntorch.Size([1, 3]) torch.Size([1])\ntorch.Size([1, 3]) torch.Size([1])\ntorch.Size([1, 3]) torch.Size([1])\ntorch.Size([1, 3]) torch.Size([1])\ntorch.Size([1, 3]) torch.Size([1])\ntorch.Size([1, 3]) torch.Size([1])\ntorch.Size([1, 3]) torch.Size([1])\ntorch.Size([1, 3]) torch.Size([1])\ntorch.Size([1, 3]) torch.Size([1])\ntorch.Size([1, 3]) torch.Size([1])\ntorch.Size([1, 3]) torch.Size([1])\ntorch.Size([1, 3]) torch.Size([1])\ntorch.Size([1, 3]) torch.Size([1])\ntorch.Size([1, 3]) torch.Size([1])\ntorch.Size([1, 3]) torch.Size([1])\ntorch.Size([1, 3]) torch.Size([1])\ntorch.Size([1, 3]) torch.Size([1])\ntorch.Size([1, 3]) torch.Size([1])\ntorch.Size([1, 3]) torch.Size([1])\ntorch.Size([1, 3]) torch.Size([1])\ntorch.Size([1, 3]) torch.Size([1])\ntorch.Size([1, 3]) torch.Size([1])\ntorch.Size([1, 3]) torch.Size([1])\ntorch.Size([1, 3]) torch.Size([1])\ntorch.Size([1, 3]) torch.Size([1])\ntorch.Size([1, 3]) torch.Size([1])\ntorch.Size([1, 3]) torch.Size([1])\ntorch.Size([1, 3]) torch.Size([1])\ntorch.Size([1, 3]) torch.Size([1])\ntorch.Size([1, 3]) torch.Size([1])\ntorch.Size([1, 3]) torch.Size([1])\ntorch.Size([1, 3]) torch.Size([1])\ntorch.Size([1, 3]) torch.Size([1])\ntorch.Size([1, 3]) torch.Size([1])\ntorch.Size([1, 3]) torch.Size([1])\ntorch.Size([1, 3]) torch.Size([1])\ntorch.Size([1, 3]) torch.Size([1])\ntorch.Size([1, 3]) torch.Size([1])\ntorch.Size([1, 3]) torch.Size([1])\ntorch.Size([1, 3]) torch.Size([1])\ntorch.Size([1, 3]) torch.Size([1])\ntorch.Size([1, 3]) torch.Size([1])\ntorch.Size([1, 3]) torch.Size([1])\ntorch.Size([1, 3]) torch.Size([1])\ntorch.Size([1, 3]) torch.Size([1])\ntorch.Size([1, 3]) torch.Size([1])\ntorch.Size([1, 3]) torch.Size([1])\ntorch.Size([1, 3]) torch.Size([1])\ntorch.Size([1, 3]) torch.Size([1])\ntorch.Size([1, 3]) torch.Size([1])\ntorch.Size([1, 3]) torch.Size([1])\ntorch.Size([1, 3]) torch.Size([1])\ntorch.Size([1, 3]) torch.Size([1])\ntorch.Size([1, 3]) torch.Size([1])\ntorch.Size([1, 3]) torch.Size([1])\ntorch.Size([1, 3]) torch.Size([1])\ntorch.Size([1, 3]) torch.Size([1])\nepoch8/10: [loss:0.0957, acc:0.9583, val_loss:0.5129, val_acc:0.7917]\ntorch.Size([1, 3]) torch.Size([1])\ntorch.Size([1, 3]) torch.Size([1])\ntorch.Size([1, 3]) torch.Size([1])\ntorch.Size([1, 3]) torch.Size([1])\ntorch.Size([1, 3]) torch.Size([1])\ntorch.Size([1, 3]) torch.Size([1])\ntorch.Size([1, 3]) torch.Size([1])\ntorch.Size([1, 3]) torch.Size([1])\ntorch.Size([1, 3]) torch.Size([1])\ntorch.Size([1, 3]) torch.Size([1])\ntorch.Size([1, 3]) torch.Size([1])\ntorch.Size([1, 3]) torch.Size([1])\ntorch.Size([1, 3]) torch.Size([1])\ntorch.Size([1, 3]) torch.Size([1])\ntorch.Size([1, 3]) torch.Size([1])\ntorch.Size([1, 3]) torch.Size([1])\ntorch.Size([1, 3]) torch.Size([1])\ntorch.Size([1, 3]) torch.Size([1])\ntorch.Size([1, 3]) torch.Size([1])\ntorch.Size([1, 3]) torch.Size([1])\ntorch.Size([1, 3]) torch.Size([1])\ntorch.Size([1, 3]) torch.Size([1])\ntorch.Size([1, 3]) torch.Size([1])\ntorch.Size([1, 3]) torch.Size([1])\ntorch.Size([1, 3]) torch.Size([1])\ntorch.Size([1, 3]) torch.Size([1])\ntorch.Size([1, 3]) torch.Size([1])\ntorch.Size([1, 3]) torch.Size([1])\ntorch.Size([1, 3]) torch.Size([1])\ntorch.Size([1, 3]) torch.Size([1])\ntorch.Size([1, 3]) torch.Size([1])\ntorch.Size([1, 3]) torch.Size([1])\ntorch.Size([1, 3]) torch.Size([1])\ntorch.Size([1, 3]) torch.Size([1])\ntorch.Size([1, 3]) torch.Size([1])\ntorch.Size([1, 3]) torch.Size([1])\ntorch.Size([1, 3]) torch.Size([1])\ntorch.Size([1, 3]) torch.Size([1])\ntorch.Size([1, 3]) torch.Size([1])\ntorch.Size([1, 3]) torch.Size([1])\ntorch.Size([1, 3]) torch.Size([1])\ntorch.Size([1, 3]) torch.Size([1])\ntorch.Size([1, 3]) torch.Size([1])\ntorch.Size([1, 3]) torch.Size([1])\ntorch.Size([1, 3]) torch.Size([1])\ntorch.Size([1, 3]) torch.Size([1])\ntorch.Size([1, 3]) torch.Size([1])\ntorch.Size([1, 3]) torch.Size([1])\ntorch.Size([1, 3]) torch.Size([1])\ntorch.Size([1, 3]) torch.Size([1])\ntorch.Size([1, 3]) torch.Size([1])\ntorch.Size([1, 3]) torch.Size([1])\ntorch.Size([1, 3]) torch.Size([1])\ntorch.Size([1, 3]) torch.Size([1])\ntorch.Size([1, 3]) torch.Size([1])\ntorch.Size([1, 3]) torch.Size([1])\ntorch.Size([1, 3]) torch.Size([1])\ntorch.Size([1, 3]) torch.Size([1])\ntorch.Size([1, 3]) torch.Size([1])\ntorch.Size([1, 3]) torch.Size([1])\ntorch.Size([1, 3]) torch.Size([1])\ntorch.Size([1, 3]) torch.Size([1])\ntorch.Size([1, 3]) torch.Size([1])\ntorch.Size([1, 3]) torch.Size([1])\ntorch.Size([1, 3]) torch.Size([1])\ntorch.Size([1, 3]) torch.Size([1])\ntorch.Size([1, 3]) torch.Size([1])\ntorch.Size([1, 3]) torch.Size([1])\ntorch.Size([1, 3]) torch.Size([1])\ntorch.Size([1, 3]) torch.Size([1])\ntorch.Size([1, 3]) torch.Size([1])\ntorch.Size([1, 3]) torch.Size([1])\ntorch.Size([1, 3]) torch.Size([1])\ntorch.Size([1, 3]) torch.Size([1])\ntorch.Size([1, 3]) torch.Size([1])\ntorch.Size([1, 3]) torch.Size([1])\ntorch.Size([1, 3]) torch.Size([1])\ntorch.Size([1, 3]) torch.Size([1])\ntorch.Size([1, 3]) torch.Size([1])\ntorch.Size([1, 3]) torch.Size([1])\ntorch.Size([1, 3]) torch.Size([1])\ntorch.Size([1, 3]) torch.Size([1])\ntorch.Size([1, 3]) torch.Size([1])\ntorch.Size([1, 3]) torch.Size([1])\ntorch.Size([1, 3]) torch.Size([1])\ntorch.Size([1, 3]) torch.Size([1])\ntorch.Size([1, 3]) torch.Size([1])\ntorch.Size([1, 3]) torch.Size([1])\ntorch.Size([1, 3]) torch.Size([1])\ntorch.Size([1, 3]) torch.Size([1])\ntorch.Size([1, 3]) torch.Size([1])\ntorch.Size([1, 3]) torch.Size([1])\ntorch.Size([1, 3]) torch.Size([1])\ntorch.Size([1, 3]) torch.Size([1])\ntorch.Size([1, 3]) torch.Size([1])\ntorch.Size([1, 3]) torch.Size([1])\nepoch9/10: [loss:0.0879, acc:0.9792, val_loss:0.3128, val_acc:0.8750]\ntorch.Size([1, 3]) torch.Size([1])\ntorch.Size([1, 3]) torch.Size([1])\ntorch.Size([1, 3]) torch.Size([1])\ntorch.Size([1, 3]) torch.Size([1])\ntorch.Size([1, 3]) torch.Size([1])\ntorch.Size([1, 3]) torch.Size([1])\ntorch.Size([1, 3]) torch.Size([1])\ntorch.Size([1, 3]) torch.Size([1])\ntorch.Size([1, 3]) torch.Size([1])\ntorch.Size([1, 3]) torch.Size([1])\ntorch.Size([1, 3]) torch.Size([1])\ntorch.Size([1, 3]) torch.Size([1])\ntorch.Size([1, 3]) torch.Size([1])\ntorch.Size([1, 3]) torch.Size([1])\ntorch.Size([1, 3]) torch.Size([1])\ntorch.Size([1, 3]) torch.Size([1])\ntorch.Size([1, 3]) torch.Size([1])\ntorch.Size([1, 3]) torch.Size([1])\ntorch.Size([1, 3]) torch.Size([1])\ntorch.Size([1, 3]) torch.Size([1])\ntorch.Size([1, 3]) torch.Size([1])\ntorch.Size([1, 3]) torch.Size([1])\ntorch.Size([1, 3]) torch.Size([1])\ntorch.Size([1, 3]) torch.Size([1])\ntorch.Size([1, 3]) torch.Size([1])\ntorch.Size([1, 3]) torch.Size([1])\ntorch.Size([1, 3]) torch.Size([1])\ntorch.Size([1, 3]) torch.Size([1])\ntorch.Size([1, 3]) torch.Size([1])\ntorch.Size([1, 3]) torch.Size([1])\ntorch.Size([1, 3]) torch.Size([1])\ntorch.Size([1, 3]) torch.Size([1])\ntorch.Size([1, 3]) torch.Size([1])\ntorch.Size([1, 3]) torch.Size([1])\ntorch.Size([1, 3]) torch.Size([1])\ntorch.Size([1, 3]) torch.Size([1])\ntorch.Size([1, 3]) torch.Size([1])\ntorch.Size([1, 3]) torch.Size([1])\ntorch.Size([1, 3]) torch.Size([1])\ntorch.Size([1, 3]) torch.Size([1])\ntorch.Size([1, 3]) torch.Size([1])\ntorch.Size([1, 3]) torch.Size([1])\ntorch.Size([1, 3]) torch.Size([1])\ntorch.Size([1, 3]) torch.Size([1])\ntorch.Size([1, 3]) torch.Size([1])\ntorch.Size([1, 3]) torch.Size([1])\ntorch.Size([1, 3]) torch.Size([1])\ntorch.Size([1, 3]) torch.Size([1])\ntorch.Size([1, 3]) torch.Size([1])\ntorch.Size([1, 3]) torch.Size([1])\ntorch.Size([1, 3]) torch.Size([1])\ntorch.Size([1, 3]) torch.Size([1])\ntorch.Size([1, 3]) torch.Size([1])\ntorch.Size([1, 3]) torch.Size([1])\ntorch.Size([1, 3]) torch.Size([1])\ntorch.Size([1, 3]) torch.Size([1])\ntorch.Size([1, 3]) torch.Size([1])\ntorch.Size([1, 3]) torch.Size([1])\ntorch.Size([1, 3]) torch.Size([1])\ntorch.Size([1, 3]) torch.Size([1])\ntorch.Size([1, 3]) torch.Size([1])\ntorch.Size([1, 3]) torch.Size([1])\ntorch.Size([1, 3]) torch.Size([1])\ntorch.Size([1, 3]) torch.Size([1])\ntorch.Size([1, 3]) torch.Size([1])\ntorch.Size([1, 3]) torch.Size([1])\ntorch.Size([1, 3]) torch.Size([1])\ntorch.Size([1, 3]) torch.Size([1])\ntorch.Size([1, 3]) torch.Size([1])\ntorch.Size([1, 3]) torch.Size([1])\ntorch.Size([1, 3]) torch.Size([1])\ntorch.Size([1, 3]) torch.Size([1])\ntorch.Size([1, 3]) torch.Size([1])\ntorch.Size([1, 3]) torch.Size([1])\ntorch.Size([1, 3]) torch.Size([1])\ntorch.Size([1, 3]) torch.Size([1])\ntorch.Size([1, 3]) torch.Size([1])\ntorch.Size([1, 3]) torch.Size([1])\ntorch.Size([1, 3]) torch.Size([1])\ntorch.Size([1, 3]) torch.Size([1])\ntorch.Size([1, 3]) torch.Size([1])\ntorch.Size([1, 3]) torch.Size([1])\ntorch.Size([1, 3]) torch.Size([1])\ntorch.Size([1, 3]) torch.Size([1])\ntorch.Size([1, 3]) torch.Size([1])\ntorch.Size([1, 3]) torch.Size([1])\ntorch.Size([1, 3]) torch.Size([1])\ntorch.Size([1, 3]) torch.Size([1])\ntorch.Size([1, 3]) torch.Size([1])\ntorch.Size([1, 3]) torch.Size([1])\ntorch.Size([1, 3]) torch.Size([1])\ntorch.Size([1, 3]) torch.Size([1])\ntorch.Size([1, 3]) torch.Size([1])\ntorch.Size([1, 3]) torch.Size([1])\ntorch.Size([1, 3]) torch.Size([1])\ntorch.Size([1, 3]) torch.Size([1])\nepoch10/10: [loss:0.0852, acc:0.9688, val_loss:0.2864, val_acc:0.9167]\nDone!\n"
    },
    {
     "output_type": "display_data",
     "data": {
      "text/plain": "OrderedDict([('layer.0.weight',\n              tensor([[-1.6172e-01, -2.9952e-02, -4.0384e-01, -1.6883e-01],\n                      [-4.4544e-01, -2.9843e-02,  8.6297e-01,  2.5780e-01],\n                      [-6.0677e-01,  5.6239e-01,  5.8795e-01, -6.1593e-01],\n                      [-1.4384e-01, -7.0777e-01,  9.5688e-02, -4.3323e-01],\n                      [ 4.1650e-01, -3.3849e-01,  6.5422e-01,  4.5548e-01],\n                      [ 2.0147e-01,  8.2869e-02, -1.4099e-01, -1.3356e+00],\n                      [-6.4342e-01, -2.9998e-01,  2.8024e-01, -3.5627e-01],\n                      [-5.7008e-01, -8.9157e-01, -9.8975e-01, -3.6891e-01],\n                      [-1.4727e+00, -8.8067e-01, -1.3542e-03,  6.8844e-01],\n                      [-6.3768e-01,  1.1503e-01,  7.0110e-01,  1.8334e+00],\n                      [ 7.9395e-01,  2.3525e+00,  6.3460e-01,  2.2536e-01],\n                      [ 1.0079e+00, -1.1863e+00, -1.7975e-01,  4.0535e-01],\n                      [-9.7313e-01, -1.7195e-01, -7.7480e-01,  1.9884e-01],\n                      [-4.2036e-02, -1.9303e-01, -6.5491e-01, -4.0894e-01],\n                      [ 3.8110e-01, -1.1925e-01, -7.8421e-01,  4.6824e-01],\n                      [ 9.7837e-02, -6.9436e-01,  3.1604e-01,  3.1210e-01],\n                      [ 4.9136e-01, -6.1607e-01,  5.2732e-01, -1.1340e+00],\n                      [-2.6780e-01,  7.1788e-01, -1.2554e+00,  1.7120e-01],\n                      [ 1.5111e+00, -2.2394e-01, -2.2187e-01,  1.6795e-01],\n                      [-3.4713e-01, -6.1478e-01,  7.8081e-01, -1.1388e+00],\n                      [-1.3376e+00, -3.9527e-01, -1.2848e-01, -8.8808e-01],\n                      [ 1.3495e+00, -7.5299e-01,  1.6311e+00,  7.5031e-01],\n                      [-6.0916e-01,  5.4765e-01,  7.6959e-01,  3.0774e-01],\n                      [-1.2989e+00,  3.1272e-01,  2.8318e-01,  5.7713e-01],\n                      [-6.1823e-01,  7.6608e-01, -4.4597e-01, -1.4435e+00],\n                      [ 3.5919e-01, -8.3640e-01, -1.3587e+00,  2.3565e+00],\n                      [ 3.7097e-01, -6.3945e-02, -5.7759e-01, -4.8421e-01],\n                      [-2.2410e-01,  1.1381e+00, -7.6662e-02, -5.0529e-01],\n                      [-9.7415e-01,  9.9049e-01,  7.0853e-01, -4.4311e-02],\n                      [-1.1614e+00,  1.7515e-01, -1.9664e-01,  6.9784e-01],\n                      [ 9.3586e-01,  1.0219e+00, -5.6360e-02, -5.9826e-01],\n                      [-3.4481e-01,  1.6697e-02,  5.6675e-01,  1.0137e+00],\n                      [ 1.8325e-01,  4.9059e-01,  1.5636e-01, -5.4725e-02],\n                      [-9.5238e-01, -5.1331e-01, -2.1395e-01,  2.6896e-01],\n                      [-1.4137e-01, -2.3548e-01,  9.5734e-01, -3.2839e-01],\n                      [ 2.0943e-02, -1.4068e+00, -7.0860e-01, -1.2793e+00],\n                      [-2.9531e-01,  1.5386e-01,  2.5309e-01, -2.1757e-01],\n                      [-5.6990e-01, -3.1586e-01,  4.4640e-01,  1.8099e-01],\n                      [ 1.6849e+00, -9.3340e-01, -5.8943e-01, -1.5422e+00],\n                      [ 2.1820e+00,  1.1901e+00,  4.3152e-01, -9.3967e-02],\n                      [-1.1222e-01,  1.8395e-02,  3.9647e-01,  6.5188e-01],\n                      [-2.2671e-01, -5.1013e-01, -6.2771e-01, -3.4513e-01],\n                      [ 2.8459e-01, -6.2688e-01,  2.8003e-01,  2.7444e-01],\n                      [ 6.4433e-01, -7.5528e-01, -9.2279e-01,  7.8516e-02],\n                      [ 4.9550e-01,  3.4173e-01, -2.4005e-01,  3.3415e-01],\n                      [-8.7166e-01,  7.6894e-02, -6.0683e-01, -1.3364e+00],\n                      [ 6.0530e-01,  1.3636e+00,  1.8285e-01, -9.4730e-01],\n                      [-8.5818e-01, -9.6639e-01, -5.2077e-01,  9.4948e-01],\n                      [-7.4977e-01,  1.2510e-01,  3.7872e-01, -4.5028e-01],\n                      [ 5.6963e-02,  9.8165e-01,  4.2331e-01,  4.6535e-01],\n                      [ 1.8438e-01,  1.6029e+00,  6.7293e-01, -7.3395e-02],\n                      [ 2.4809e+00,  1.0345e+00,  2.7779e-01,  1.8865e+00],\n                      [ 2.2222e-01, -8.4633e-01,  2.3023e-01,  1.7720e-02],\n                      [-9.8857e-01, -5.9445e-01,  1.0010e+00, -1.1945e+00],\n                      [-1.0729e+00,  4.5335e-01,  4.2393e-01,  2.9726e-01],\n                      [-7.3255e-01, -5.1959e-01,  2.6117e-01,  3.5651e-01],\n                      [ 5.6479e-01, -9.6194e-01, -6.9124e-01, -1.9657e-01],\n                      [-1.5231e-01,  7.6073e-01, -3.9117e-01,  4.7143e-01],\n                      [ 6.0197e-01,  4.1610e-01, -6.1191e-01, -8.0017e-01],\n                      [-7.9627e-02,  1.3374e-01, -7.2612e-01,  3.3408e-01],\n                      [ 8.3625e-01,  8.4744e-01, -1.2975e-01,  3.2545e-01],\n                      [ 3.2363e-01, -1.3767e+00, -5.7073e-01,  1.5360e-01],\n                      [ 8.6470e-01, -8.6837e-01,  1.3767e+00, -1.1791e+00],\n                      [-1.0498e+00, -3.7737e-01,  1.2895e+00, -4.5862e-01],\n                      [-3.6747e-01, -3.4319e-01,  1.2380e+00, -4.0514e-01],\n                      [-1.2583e-01, -3.5799e-01,  1.0927e+00, -9.8762e-01],\n                      [ 6.9108e-01,  1.9189e+00, -9.0940e-01,  5.7527e-01],\n                      [-9.7475e-01, -3.5595e-01,  6.1413e-02, -1.2714e-01],\n                      [ 1.4957e+00, -2.5787e-01, -3.3080e-01, -1.0119e+00],\n                      [-1.0099e+00,  9.4828e-02,  6.0519e-01, -7.2437e-01],\n                      [-8.3311e-01, -3.2032e-01,  8.5331e-01,  1.7132e+00],\n                      [ 2.4253e-01, -2.0284e-01,  5.2373e-01,  2.5259e-03],\n                      [-5.8699e-01,  7.2254e-01,  1.8375e-01, -1.1517e+00],\n                      [ 4.1207e-01, -7.5244e-01, -8.6296e-01,  1.4161e+00],\n                      [-3.4218e-01, -7.2453e-02, -3.8649e-01, -9.4711e-01],\n                      [-1.2605e+00,  9.3837e-01, -7.5974e-01, -5.5248e-01],\n                      [ 1.0483e+00,  1.6278e-02, -6.7888e-01,  3.1402e-04],\n                      [ 5.0633e-01, -5.9397e-01,  4.3514e-01,  4.4976e-01],\n                      [ 3.6054e-01, -2.0828e-01,  1.0948e+00, -8.3176e-01],\n                      [ 1.2927e+00, -5.8746e-04, -2.0406e-01, -9.4934e-01],\n                      [-4.1274e-01, -7.3082e-01,  5.8972e-01, -1.5569e-01],\n                      [-7.5926e-01,  2.7262e-01, -1.0074e+00, -4.5836e-01],\n                      [-6.5893e-02, -2.1054e-01,  6.4847e-01,  6.1922e-01],\n                      [-1.0384e+00,  9.9697e-02,  1.1360e-01,  2.4750e+00],\n                      [-2.7456e-01, -7.6640e-01,  2.8606e-01, -4.1935e-01],\n                      [-1.5291e+00,  4.8467e-01,  2.5893e-01, -6.5229e-01],\n                      [ 1.2143e+00,  3.1064e-01, -4.8415e-01,  6.3011e-01],\n                      [ 5.3749e-01, -8.9029e-01,  4.3473e-01,  3.3433e-01],\n                      [-7.4938e-02, -2.5185e-01, -1.0039e-01,  1.2953e+00],\n                      [-3.3366e-01,  6.6430e-01, -5.5368e-01,  8.0015e-01],\n                      [-1.5723e-01, -5.3163e-02,  8.9541e-01, -1.0489e-01],\n                      [ 4.4917e-01,  1.5734e+00,  4.9390e-01,  4.5763e-01],\n                      [ 1.6191e+00, -3.2715e-01, -2.2362e-01, -1.9320e-01],\n                      [-1.5648e-01,  3.9844e-02,  1.4968e+00,  5.8307e-01],\n                      [-3.4060e-01, -6.5277e-01,  3.2990e-01, -6.9591e-04],\n                      [-4.3532e-01,  5.5179e-01, -1.4395e+00,  1.6388e-01],\n                      [-3.3246e-01,  5.1361e-01, -1.4288e-02, -5.4233e-01],\n                      [ 7.2955e-01,  3.7799e-01,  1.1051e-01,  8.1853e-01],\n                      [ 8.3294e-01, -2.3354e-01,  7.3885e-01,  5.4038e-01],\n                      [-4.0215e-01, -1.0982e-01,  4.9422e-01,  8.7100e-01]])),\n             ('layer.0.bias',\n              tensor([ 0.2315, -0.1139,  0.3893, -0.1309, -0.2092,  0.0227, -0.1022,  0.0222,\n                       0.0038,  0.0961, -0.2432, -0.0135,  0.2398,  0.1629,  0.1898, -0.2133,\n                       0.3202,  0.0890,  0.0842,  0.1969, -0.1132,  0.1784, -0.0186,  0.0951,\n                       0.0883, -0.0975, -0.0666,  0.0052,  0.2647, -0.1129, -0.0623, -0.1725,\n                       0.1001,  0.3244, -0.2766,  0.0139,  0.1541,  0.1118,  0.2674, -0.0786,\n                      -0.2057, -0.0472,  0.2770,  0.1841, -0.0919,  0.1159,  0.2200, -0.0704,\n                       0.0030, -0.1804, -0.2742, -0.1682,  0.2637,  0.1200,  0.2680, -0.1603,\n                       0.2467, -0.0591, -0.1776, -0.0694,  0.1179,  0.0843,  0.2137, -0.2242,\n                      -0.1729,  0.0165,  0.1872, -0.1606,  0.2189,  0.1654, -0.0861,  0.1907,\n                       0.0511, -0.1328,  0.3485,  0.1459,  0.2848,  0.0763,  0.0295,  0.2698,\n                       0.0645,  0.1237, -0.3527,  0.0050,  0.1675,  0.0279, -0.2269, -0.2273,\n                      -0.2106,  0.1290, -0.2372, -0.2852, -0.0181, -0.2883,  0.2302,  0.0132,\n                       0.3873, -0.2866, -0.2061, -0.1674])),\n             ('layer.2.weight',\n              tensor([[ 1.7766e-01, -2.2467e-01, -2.0340e-01,  3.3959e-02,  3.0559e-02,\n                       -1.1664e-01, -3.5461e-02, -1.2497e-01, -5.2767e-02, -3.5608e-01,\n                       -1.4508e-01, -1.8965e-01, -1.7155e-01, -3.1957e-02, -1.6462e-01,\n                       -1.6476e-01,  1.0062e-01,  2.5660e-01, -1.3489e-01,  1.3265e-01,\n                       -1.0698e-01,  1.0704e-01,  1.4745e-01,  5.5206e-03,  9.1541e-04,\n                       -8.7382e-02, -2.8801e-02, -1.2339e-01, -1.6123e-01,  4.3631e-02,\n                       -1.3489e-02,  6.5901e-02, -1.0533e-01, -7.2428e-02, -3.4915e-01,\n                       -4.6366e-02, -3.9299e-02, -1.1699e-01,  7.9658e-02, -2.0258e-01,\n                       -1.0103e-01, -1.9551e-01, -1.1931e-01,  2.4590e-01, -6.5887e-03,\n                       -7.6162e-02, -2.9163e-02,  3.0695e-02, -4.0652e-01, -1.3717e-01,\n                       -1.4940e-02, -3.3263e-02,  6.8778e-02,  5.0127e-02, -2.0197e-02,\n                        1.4120e-01, -2.4226e-01, -1.6260e-01,  4.8806e-02, -2.0051e-01,\n                       -4.4760e-02, -7.4159e-02, -1.2178e-01, -2.8304e-02, -2.4357e-02,\n                       -2.5122e-01, -9.1615e-02,  6.4785e-02,  8.0597e-02, -3.4592e-01,\n                        3.7507e-02,  1.5969e-01, -4.5650e-02,  1.2127e-01,  4.2852e-02,\n                       -1.6687e-01,  3.4419e-02,  6.0774e-02,  2.3276e-01,  9.1140e-02,\n                        3.5827e-02,  1.9639e-01, -1.2975e-01,  2.4619e-01,  1.7265e-01,\n                        3.5212e-01,  7.6067e-02,  1.4151e-02, -1.1292e-01,  8.1532e-02,\n                       -3.6475e-01, -6.6953e-02,  7.6803e-02,  1.4709e-01,  2.0635e-02,\n                        1.8969e-01,  5.5618e-02, -1.0903e-01, -8.5057e-02,  1.1215e-01],\n                      [-1.8533e-01,  1.5947e-01, -2.0958e-01,  5.2060e-02,  7.9999e-02,\n                       -3.5835e-02, -1.9609e-01, -2.0830e-01,  6.9319e-02,  3.8332e-01,\n                        6.1537e-02,  3.3036e-01,  1.1500e-01, -2.1666e-02, -2.3314e-01,\n                        2.6698e-01, -8.5035e-02, -2.7519e-01, -1.1164e-01, -7.5302e-02,\n                        1.1204e-01,  1.2399e-02,  1.7128e-02, -6.3242e-02, -1.7265e-01,\n                        1.8230e-01,  1.2296e-01, -2.5291e-01, -5.3034e-02, -7.6626e-02,\n                       -2.1764e-01,  1.0219e-01,  1.9457e-01,  1.1902e-01,  1.1715e-01,\n                       -1.1789e-01, -1.5891e-01,  2.4368e-01, -7.4161e-02,  4.1562e-02,\n                        1.4378e-01, -4.3824e-04,  1.6216e-01,  1.2964e-01, -1.1313e-01,\n                        1.4683e-01, -5.1463e-01, -3.4177e-03, -2.9995e-01,  4.1206e-01,\n                        1.5514e-01,  3.3416e-01,  1.4111e-01,  2.2512e-01,  1.5188e-02,\n                        6.0080e-02,  5.1563e-02,  2.2148e-01, -1.8895e-02,  1.1436e-01,\n                       -2.7771e-01, -2.2418e-01,  3.6700e-01,  1.3742e-01,  4.1918e-01,\n                       -3.7860e-02, -9.1208e-02, -1.4975e-01, -4.5562e-01, -1.5111e-01,\n                        2.1037e-01,  2.3660e-01,  8.3481e-02, -3.4045e-02, -5.8581e-02,\n                        1.7488e-01, -4.0698e-01,  2.6884e-01, -1.4463e-02, -3.5626e-01,\n                        3.8139e-01,  5.4315e-02,  2.2694e-01,  4.2461e-01,  2.2709e-01,\n                        3.5104e-01,  1.2977e-02, -9.7316e-02,  3.9467e-01,  1.4217e-01,\n                        2.2407e-01, -3.1591e-02,  1.8795e-02,  1.5589e-01,  2.3633e-01,\n                       -4.2343e-01, -4.0151e-02, -2.3626e-01,  3.5436e-01,  1.4152e-01],\n                      [ 1.4278e-01,  3.0860e-01, -2.0276e-01,  6.3891e-02,  8.2942e-02,\n                       -1.3892e-01,  2.8703e-01,  4.2769e-02,  6.3304e-02,  3.6448e-01,\n                        5.3976e-02,  4.2895e-02, -3.6245e-01, -2.0097e-01, -1.3344e-01,\n                        1.6064e-01, -1.8002e-01,  5.5956e-03, -1.5260e-01,  2.5150e-01,\n                       -2.7126e-01, -1.1729e-01,  1.2793e-01, -1.2653e-01, -3.9690e-01,\n                        4.4620e-02, -9.0869e-02,  3.7238e-01, -1.9081e-01, -1.6580e-02,\n                       -1.2347e-01,  3.3471e-01,  4.3564e-02, -1.1935e-01,  2.4483e-01,\n                        2.4113e-03, -3.4302e-01,  3.9916e-02, -1.3466e-01,  2.6076e-01,\n                        4.4685e-01,  2.6326e-02,  1.1778e-03, -2.1097e-02,  1.9040e-02,\n                       -3.6823e-01,  4.3167e-03,  1.5447e-01, -7.3870e-02, -5.6986e-02,\n                        1.7996e-01, -6.2393e-02, -2.2747e-01,  5.8932e-02, -2.9571e-01,\n                        8.6811e-02, -1.1816e-01,  1.1655e-01, -1.1342e-01,  3.3319e-03,\n                       -3.0195e-01,  3.7558e-02, -1.6782e-02, -3.1015e-03,  4.0628e-01,\n                        1.7127e-01, -1.6346e-01,  8.9455e-02, -1.9043e-01, -1.5846e-01,\n                        4.3527e-01,  3.0767e-01, -1.3223e-01,  1.2671e-01, -3.5035e-01,\n                       -4.6551e-01, -1.8897e-01,  2.6353e-01, -9.2627e-02, -2.9769e-01,\n                       -1.6885e-03, -2.1441e-01,  2.4887e-01,  3.3961e-01, -5.8670e-02,\n                        2.1837e-02,  1.6669e-01,  3.7880e-01,  5.3078e-01,  2.1763e-01,\n                        3.7876e-03,  1.3131e-01, -2.1374e-01,  4.5948e-01, -1.3986e-01,\n                        6.3599e-02, -2.2262e-01,  7.7338e-02,  3.7560e-01,  2.4723e-01],\n                      [-1.0503e-01, -3.1112e-02,  2.7608e-01,  8.6972e-02, -1.5561e-01,\n                        4.3644e-02,  8.7102e-02,  1.2103e-01,  2.7035e-01, -2.6010e-01,\n                       -5.3838e-02, -1.5710e-01,  8.5790e-02,  2.6242e-02,  1.5521e-01,\n                       -4.3356e-02, -3.6572e-01,  3.2975e-01, -5.7713e-02,  3.5160e-02,\n                        9.2262e-02, -4.5912e-02, -1.3836e-01, -1.3799e-01,  2.1410e-01,\n                       -2.1200e-01,  7.3232e-02,  8.7003e-02,  1.1703e-01, -5.3059e-02,\n                       -5.3784e-02,  1.1519e-01,  7.3166e-02,  3.4589e-02, -3.3397e-01,\n                        3.9484e-02,  8.8901e-02, -2.7986e-02,  2.6741e-01,  5.7183e-02,\n                        3.1436e-02,  2.7118e-02, -3.8850e-01, -1.9298e-01,  1.1414e-01,\n                        3.1768e-03,  2.3530e-01,  1.3806e-01,  1.3065e-01,  1.1816e-01,\n                       -1.5503e-01,  2.5603e-02, -1.0427e-01,  1.2805e-01,  8.2148e-02,\n                       -8.8521e-02, -9.2537e-02,  6.4557e-03, -1.9606e-01,  3.1569e-01,\n                        1.3345e-02,  6.7613e-02, -1.6280e-01,  4.5851e-02, -2.0743e-01,\n                       -6.0664e-02,  1.2776e-01, -1.1949e-01,  2.8083e-04,  7.8145e-02,\n                       -3.1539e-01,  2.3603e-01,  1.6973e-01, -1.2210e-01,  2.0239e-01,\n                        2.6220e-01,  2.3675e-01,  6.7010e-02, -1.7368e-01, -1.0684e-01,\n                       -6.1893e-02,  2.0215e-01,  6.3546e-02, -4.3812e-01, -3.0266e-01,\n                        2.0989e-01,  2.1637e-02, -2.5151e-01, -2.1225e-01,  1.3799e-01,\n                       -1.5165e-01,  1.3150e-01,  8.2220e-03, -2.8383e-01, -4.9950e-02,\n                        1.0766e-01,  2.8067e-01, -4.8331e-02,  5.8193e-03, -1.5156e-01],\n                      [ 4.5549e-02, -3.2937e-01,  1.3926e-01, -1.2631e-01, -2.4602e-01,\n                        2.5034e-01,  1.7502e-01, -1.6154e-01,  1.2609e-02,  1.4379e-01,\n                       -2.1920e-02,  4.7759e-02, -2.4111e-02,  2.1328e-01,  1.5548e-01,\n                        8.8537e-04,  7.4023e-02, -8.4056e-02, -3.4154e-02,  6.6948e-02,\n                        7.4504e-02, -1.5853e-01, -3.5599e-01,  6.9947e-02, -1.2079e-01,\n                        2.2271e-01,  8.6329e-02, -1.9473e-01, -2.9102e-01, -1.0333e-01,\n                        3.2022e-01, -3.0189e-01, -3.5928e-01, -1.3722e-01, -1.8603e-01,\n                       -1.2348e-01,  3.3281e-02, -3.4102e-02,  3.8795e-02, -4.9017e-02,\n                       -3.7599e-01, -1.3301e-02, -8.6158e-02, -1.2150e-01, -2.1676e-02,\n                        2.1863e-02,  7.4893e-02,  3.6219e-01,  5.8581e-02, -8.5426e-02,\n                        1.1926e-01, -1.4358e-01,  3.4640e-02,  1.9630e-01, -1.4916e-01,\n                       -1.0293e-01,  1.0394e-01, -2.2568e-01, -1.0172e-02,  9.6917e-02,\n                       -2.7398e-02, -9.3723e-02,  1.3202e-01,  1.3827e-01, -1.4890e-01,\n                        2.5436e-01,  1.9783e-01, -2.9407e-01,  9.9784e-02,  4.4406e-02,\n                       -7.9650e-02, -1.7092e-02, -1.2206e-01,  4.3224e-02, -5.4932e-02,\n                        1.0750e-01, -1.6947e-02,  2.8767e-02,  1.7416e-01,  3.3609e-02,\n                        1.4360e-01, -5.2645e-03,  7.3149e-03, -1.9913e-01,  3.2108e-01,\n                       -2.1388e-01,  2.8312e-01,  1.0912e-01, -3.8136e-01,  6.9004e-02,\n                        5.5016e-02, -1.3788e-01, -3.5151e-02, -2.1483e-01,  1.6661e-01,\n                       -6.7688e-02,  4.2335e-02,  7.8600e-02, -7.7628e-02,  1.7003e-01],\n                      [ 1.5111e-01, -2.9172e-02,  3.5418e-02, -1.6922e-01,  3.4897e-02,\n                        1.0284e-02,  3.0777e-03,  8.4862e-03, -5.6651e-02, -3.7017e-02,\n                        3.0599e-01, -7.3664e-02,  2.0809e-01,  5.0566e-02, -1.9702e-01,\n                       -3.5670e-01,  2.0254e-02,  1.2586e-01, -1.0769e-01, -8.6006e-03,\n                       -3.2561e-02,  1.9107e-02,  1.9194e-02,  4.4853e-02,  7.1435e-02,\n                       -2.5717e-01,  8.5607e-03,  2.4253e-01,  2.2303e-02, -7.2606e-02,\n                        1.6885e-01, -8.3900e-02,  3.2682e-03, -9.9519e-02, -6.0555e-02,\n                        1.6216e-01,  5.3320e-03, -2.5547e-01,  3.6941e-02,  1.5023e-02,\n                        2.3826e-01,  1.3893e-01, -2.8785e-01,  1.7102e-01, -3.0905e-01,\n                        3.0923e-01,  7.7996e-03,  6.9929e-02, -1.3997e-01,  1.6482e-01,\n                        1.5537e-01, -2.4783e-01,  1.7895e-02, -3.9834e-02,  2.5855e-02,\n                       -1.5133e-01, -1.7889e-01, -2.0479e-02, -9.6038e-02,  1.4627e-01,\n                       -8.3317e-02,  6.5707e-02,  6.7930e-02,  7.3314e-02, -4.4974e-01,\n                       -1.7597e-02,  2.2668e-01, -3.3720e-02, -3.6421e-02, -2.2357e-02,\n                       -2.5198e-01, -7.7218e-02,  1.7671e-01, -1.9784e-02,  1.2589e-01,\n                        1.2041e-01,  3.4781e-02, -2.8693e-01,  2.8062e-01,  7.8153e-02,\n                        2.5505e-02,  2.7705e-01, -7.4147e-02,  9.2981e-02, -1.7399e-01,\n                        2.8814e-01, -7.4974e-02, -1.9163e-01, -3.2187e-02,  2.3916e-01,\n                        2.8392e-02, -2.8639e-01, -1.2015e-01,  1.6087e-02, -2.8548e-02,\n                       -1.0913e-01,  1.3903e-01,  6.4719e-02, -9.5567e-02,  1.8381e-01],\n                      [ 3.1033e-02,  1.7830e-01,  2.5752e-01,  1.5062e-01, -3.4280e-01,\n                        4.2008e-02,  1.7239e-01, -2.4337e-02,  2.0798e-01,  8.1109e-02,\n                       -7.5950e-02, -2.5646e-01, -1.8679e-01,  1.1454e-01,  2.1690e-01,\n                       -1.9194e-02,  8.4854e-03, -7.5685e-02, -1.7527e-01, -4.6495e-02,\n                        1.0072e-01,  2.0671e-02, -1.1286e-01, -1.1659e-02, -1.8186e-01,\n                       -1.4148e-01,  4.4997e-02, -5.1656e-02,  1.7820e-02, -8.1022e-02,\n                       -9.2511e-03, -2.0208e-01,  6.4713e-02, -6.8079e-02, -7.2191e-02,\n                        1.4452e-01,  1.4581e-01,  5.0121e-02,  3.7986e-02, -2.1843e-01,\n                       -1.2723e-01, -4.5812e-01, -1.2715e-01,  1.6358e-01,  1.6977e-02,\n                       -6.5124e-02,  2.1845e-01, -1.6269e-01, -1.4208e-01, -7.9777e-02,\n                       -8.2048e-02, -1.4343e-01, -1.7499e-01,  1.4119e-01,  2.2970e-02,\n                       -1.9767e-01, -2.3665e-01,  6.3584e-02, -1.0071e-01,  4.4691e-02,\n                       -2.4219e-01, -5.1440e-02, -1.2980e-01, -9.6080e-02,  1.7718e-01,\n                        2.7449e-01, -1.4481e-02, -5.5667e-02, -8.2628e-02,  9.0358e-03,\n                        4.4831e-02, -6.8165e-02, -1.3093e-01, -3.6029e-02, -7.4971e-02,\n                        2.6161e-02, -1.5944e-01,  4.4281e-02,  2.8262e-01,  4.0873e-02,\n                        2.8024e-01,  1.2726e-01, -2.5343e-01,  6.3290e-02,  4.2691e-01,\n                        4.7687e-02, -3.1857e-01, -1.5173e-01,  1.4620e-02,  1.4307e-01,\n                       -5.5083e-02,  3.3334e-02, -1.2067e-02, -5.8100e-02,  1.4175e-02,\n                       -2.3431e-01, -5.3943e-03, -1.6466e-01, -9.7850e-02, -5.3263e-02],\n                      [ 5.0510e-03,  1.3780e-01,  7.7013e-03, -1.9900e-01,  1.1526e-01,\n                       -2.2321e-01,  1.2783e-01, -4.2528e-02,  2.4541e-02,  6.8951e-02,\n                       -8.2531e-02,  1.1933e-01, -1.4049e-01, -3.1701e-01, -6.0143e-02,\n                        2.0565e-01, -5.6374e-02, -1.2159e-01, -1.1481e-01,  2.0112e-01,\n                       -1.7572e-01,  1.7722e-01,  3.4915e-01,  1.5759e-01, -7.8732e-02,\n                        1.3246e-01,  1.2148e-01,  1.1713e-01, -1.6928e-01,  2.5623e-01,\n                        8.0292e-02,  1.3510e-01, -7.0861e-02,  3.6881e-01,  8.8336e-03,\n                        1.5333e-01,  3.9359e-01,  1.4765e-01, -9.0313e-02,  3.1892e-01,\n                        1.2124e-01, -1.2057e-01,  5.0005e-01,  1.6385e-02,  2.1095e-01,\n                        1.3986e-01,  5.9206e-02,  3.6988e-02,  3.5797e-02, -1.1947e-01,\n                        1.3898e-01,  2.2046e-02,  3.3298e-01, -2.5739e-01,  2.8385e-01,\n                        8.0965e-02, -1.0629e-01, -7.0083e-02,  1.4224e-01, -1.1385e-01,\n                       -7.9261e-02,  1.4411e-01,  3.7881e-01,  1.3646e-01, -4.8576e-02,\n                        2.4919e-01, -6.2823e-03, -2.1802e-02, -1.1620e-01,  4.7435e-03,\n                        2.8718e-01,  2.3164e-01, -2.2364e-01,  1.2649e-01,  1.0307e-01,\n                       -2.8665e-01, -8.2033e-02, -8.4376e-02, -2.3219e-03, -1.3738e-01,\n                        2.4022e-01,  1.3639e-01,  1.7764e-01,  2.2439e-01,  5.0590e-02,\n                       -3.5573e-02,  5.9362e-02,  4.1922e-02,  1.5764e-01,  5.3331e-02,\n                        2.0781e-01, -1.8378e-02,  1.3118e-01,  2.5940e-02,  1.2575e-01,\n                       -1.2129e-01, -1.1677e-01,  1.5630e-01, -7.4345e-02,  2.6070e-01],\n                      [ 3.3568e-01, -4.1193e-01,  6.7678e-02,  2.6240e-01, -4.4249e-02,\n                        3.7272e-01,  1.7165e-01, -9.8275e-02,  1.4822e-01, -9.6477e-02,\n                       -2.3517e-01, -1.1161e-01,  2.5371e-01,  9.0721e-02, -6.7436e-02,\n                       -5.7062e-02, -2.0155e-01,  1.1515e-01, -1.5757e-01, -1.1691e-01,\n                       -5.9948e-03, -2.0401e-01,  5.1847e-02,  3.6368e-01,  1.5088e-01,\n                       -1.2245e-01, -2.3492e-01,  1.1386e-01,  1.2807e-01,  8.2066e-02,\n                        5.5501e-02, -2.4966e-01,  1.0725e-01,  1.7729e-01,  3.3126e-02,\n                        2.9522e-01, -2.0526e-01, -1.9354e-01, -5.2446e-02,  4.3908e-02,\n                        7.5704e-02,  4.5811e-01, -3.1236e-01,  2.4373e-02,  1.9210e-01,\n                        1.8190e-01, -3.5059e-01, -1.0065e-01,  8.6922e-02, -5.0844e-02,\n                       -1.7626e-01,  1.4946e-01,  1.5854e-02,  9.0508e-02,  1.9634e-01,\n                        2.2340e-01,  1.1015e-01, -6.9216e-02,  7.6781e-04,  7.2535e-02,\n                       -9.6303e-02, -2.2499e-01, -1.5230e-01,  1.5421e-02, -2.9943e-01,\n                        7.6234e-02,  3.8123e-02,  5.8996e-02, -7.8620e-02, -1.6453e-01,\n                       -2.0467e-02, -1.9656e-01,  2.0534e-01,  1.0508e-01,  4.4490e-01,\n                        5.7262e-02, -6.0566e-03, -1.0305e-01, -2.7636e-01, -1.6134e-02,\n                        2.7858e-01,  2.9741e-01, -1.0656e-01, -1.0447e-01, -1.2146e-01,\n                        8.2412e-02,  1.7439e-01, -2.5953e-01, -2.2928e-01,  1.0705e-01,\n                       -2.1122e-01,  1.4532e-01, -2.8558e-01, -9.3136e-02, -1.4567e-01,\n                        2.2352e-01,  3.0887e-01,  3.5405e-02,  2.4466e-02, -8.6671e-02],\n                      [ 2.7182e-01, -8.4312e-02,  4.9763e-01, -2.4491e-02, -3.7331e-01,\n                       -9.4545e-02, -1.1321e-01,  5.3433e-02, -4.2526e-02,  2.3678e-01,\n                       -1.3333e-02,  7.0440e-02,  3.5863e-01,  2.4373e-01,  3.1374e-01,\n                       -1.7115e-01,  2.9026e-01,  2.6311e-01,  6.7193e-02,  5.3727e-01,\n                       -1.1409e-01,  2.6690e-02,  1.7616e-01,  8.3436e-02,  1.2961e-01,\n                       -9.8725e-02, -1.4191e-01, -7.8375e-02,  3.7401e-01, -3.7170e-02,\n                       -7.2932e-02, -4.2012e-01,  1.6882e-01,  2.8922e-01, -2.3207e-01,\n                        8.1252e-02,  2.9824e-01,  2.8073e-02,  2.4123e-01,  9.5004e-02,\n                       -2.7293e-01, -2.1158e-01,  1.0432e-01,  3.8381e-01,  1.4865e-02,\n                        1.2100e-01,  8.2986e-02, -3.0987e-02,  6.0708e-02,  2.3353e-02,\n                       -1.8171e-01, -6.4023e-02,  6.1864e-02,  7.8294e-02,  1.9794e-01,\n                        2.0037e-03,  2.5499e-01, -6.2220e-03, -7.0709e-02, -1.7361e-01,\n                        4.2292e-01,  1.3500e-01,  2.2525e-01, -1.6448e-01, -2.9859e-01,\n                       -4.2182e-02,  6.3935e-02, -1.9614e-02,  1.7099e-01,  1.4383e-01,\n                       -1.2560e-01,  3.1411e-01,  5.5875e-02, -2.2565e-02,  3.8038e-01,\n                        9.7426e-02,  8.0355e-02,  1.2736e-01, -8.8997e-02,  2.3058e-01,\n                       -4.4863e-02,  1.8214e-01, -1.6175e-01,  5.1860e-02,  3.9097e-02,\n                        1.4480e-01, -3.1867e-02, -2.1472e-01, -3.5558e-01,  1.4801e-01,\n                       -3.2803e-01,  6.2648e-03, -3.0232e-02, -2.2240e-01,  1.6228e-01,\n                        1.1317e-01,  3.4281e-01, -8.8815e-02,  1.3721e-02, -2.9453e-01]])),\n             ('layer.2.bias',\n              tensor([-0.0222, -0.0956, -0.2535, -0.0579,  0.1537, -0.0625,  0.1580,  0.0186,\n                      -0.0426,  0.2957])),\n             ('layer.4.weight',\n              tensor([[ 0.2748, -0.1055, -0.7688, -0.4583,  0.2742, -0.2357,  0.5090,  0.4272,\n                       -0.0809,  0.5585],\n                      [-0.1408,  0.1498, -0.2154, -0.2699,  0.0629,  0.0793,  0.1684,  0.5188,\n                       -0.1104, -0.6264],\n                      [-0.2100, -0.8918,  0.0080,  0.0732, -0.0411,  0.2633, -0.2573, -1.0606,\n                        0.4177,  0.2667]])),\n             ('layer.4.bias', tensor([ 0.2499, -0.2728, -0.0340]))])"
     },
     "metadata": {}
    }
   ],
   "source": [
    "## パラメータ初期化関数\n",
    "def initializer(layer):\n",
    "    if type(layer) == nn.Linear:\n",
    "        nn.init.kaiming_normal_(layer.weight)\n",
    "        layer.bias.data.fill_(0.0)\n",
    "\n",
    "## パラメータ初期化する\n",
    "model.apply(initializer)\n",
    "\n",
    "n_epoch = 10\n",
    "train_history = []\n",
    "val_history = []\n",
    "\n",
    "# 1エポック内1データあたりの損失・正解率の平均\n",
    "avg_loss = 0.0\n",
    "avg_acc = 0.0\n",
    "avg_val_loss = 0.0\n",
    "avg_val_acc = 0.0\n",
    "\n",
    "## 学習する\n",
    "for epoch in range(n_epoch):\n",
    "    ## epoch内のloss, accの保存\n",
    "    total_loss = 0.0\n",
    "    total_acc = 0.0\n",
    "    total_val_loss = 0.0\n",
    "    total_val_acc = 0.0\n",
    "    ## 累計データ数の保存\n",
    "    total_train = 0\n",
    "    total_val = 0\n",
    "\n",
    "    ## 訓練\n",
    "    for X_train, y_train in loader_train:\n",
    "       loss, acc = train_step(X_train, y_train)\n",
    "       total_loss += loss\n",
    "       total_acc += acc\n",
    "       total_train += len(y_train)\n",
    "\n",
    "    ## 評価\n",
    "    for X_val, y_val in loader_valid:\n",
    "        val_loss, val_acc = valid_step(X_val, y_val)\n",
    "        total_val_loss += val_loss\n",
    "        total_val_acc += val_acc\n",
    "        total_val += len(y_val)\n",
    "\n",
    "    # 平均計算\n",
    "    avg_loss = total_loss/total_train\n",
    "    avg_val_loss = total_val_loss/total_val\n",
    "    avg_acc = total_acc/total_train\n",
    "    avg_val_acc = total_val_acc/total_val\n",
    "\n",
    "    print(f'epoch{epoch+1}/{n_epoch}: [loss:{avg_loss:.4f}, acc:{avg_acc:.4f}, val_loss:{avg_val_loss:.4f}, val_acc:{avg_val_acc:.4f}]')\n",
    "\n",
    "    # リストに追加\n",
    "    train_history.append(avg_loss)\n",
    "    val_history.append(avg_val_loss)\n",
    "\n",
    "print('Done!')\n",
    "display(model.state_dict())"
   ]
  },
  {
   "cell_type": "code",
   "execution_count": 48,
   "metadata": {
    "tags": []
   },
   "outputs": [
    {
     "output_type": "stream",
     "name": "stdout",
     "text": "y_pred_proba tensor([[-4.3099e+00,  3.3991e+00, -1.7093e+01],\n        [ 5.5031e+00, -1.0094e+00, -5.6576e+00],\n        [-1.4447e+00, -9.3380e+00,  8.5164e+00],\n        [-2.6020e-01,  2.5684e+00, -1.2309e+01],\n        [-7.6004e-01, -8.2141e+00,  7.8958e+00],\n        [-5.4209e+00,  2.8095e+00, -1.6570e+01],\n        [-1.0396e+00, -8.1515e+00,  7.9747e+00],\n        [ 2.3756e+00, -2.7869e-01, -2.7388e+00],\n        [ 3.4171e+00, -1.9792e-01, -4.5037e+00],\n        [ 2.5493e+00, -8.0244e-01, -1.9612e+00],\n        [-3.0930e-01,  1.9866e+00, -1.0883e+01],\n        [ 1.6333e+00, -4.5852e-01, -2.0345e+00],\n        [ 2.6356e+00, -1.0244e-01, -3.9338e+00],\n        [ 2.1095e+00,  2.8288e-01, -5.0584e+00],\n        [ 1.0010e+00,  4.1020e-01, -4.7767e+00],\n        [ 6.9603e-02, -8.3832e+00,  7.9066e+00],\n        [ 3.7599e-01,  7.0462e-01, -5.3756e+00],\n        [ 3.1974e+00,  4.2757e-01, -6.3812e+00],\n        [ 1.6721e-02, -8.0253e+00,  7.6775e+00],\n        [-1.2350e+00, -8.1819e+00,  7.6003e+00],\n        [-2.5979e+00,  2.7531e+00, -1.3064e+01],\n        [ 1.0587e+00,  4.3130e-01, -5.2706e+00],\n        [-5.9658e-01, -8.5330e+00,  8.1232e+00],\n        [-1.3008e-02, -9.1741e+00,  8.9000e+00],\n        [-1.4873e+00,  2.0740e+00, -9.7985e+00],\n        [-1.3284e+00, -9.8073e+00,  9.7161e+00],\n        [-1.0458e+00, -8.1049e+00,  7.6411e+00],\n        [ 2.2738e+00, -6.7559e-01, -2.0207e+00],\n        [ 4.7730e+00, -1.4728e+00, -4.0757e+00],\n        [-7.5171e-01, -7.6087e+00,  7.3559e+00]], grad_fn=<AddmmBackward>)\ny_pred [1 0 2 1 2 1 2 0 0 0 1 0 0 0 0 2 1 0 2 2 1 0 2 2 1 2 2 0 0 2]\ny_test [1 0 2 1 2 1 2 0 0 0 1 0 0 0 0 2 0 0 2 2 1 0 2 2 1 2 2 0 0 2]\n"
    }
   ],
   "source": [
    "# 予測\n",
    "## Tensor変換\n",
    "t_X_test = torch.from_numpy(X_test).float()\n",
    "y_pred_proba = model(t_X_test)\n",
    "y_pred = torch.argmax(y_pred_proba, axis=1)\n",
    "print(\"y_pred_proba\", y_pred_proba)\n",
    "print(\"y_pred\", y_pred.flatten().int().detach().numpy())\n",
    "print(\"y_test\", y_test.flatten())"
   ]
  },
  {
   "cell_type": "code",
   "execution_count": 49,
   "metadata": {},
   "outputs": [
    {
     "output_type": "display_data",
     "data": {
      "text/plain": "<Figure size 432x288 with 1 Axes>",
      "image/svg+xml": "<?xml version=\"1.0\" encoding=\"utf-8\" standalone=\"no\"?>\r\n<!DOCTYPE svg PUBLIC \"-//W3C//DTD SVG 1.1//EN\"\r\n  \"http://www.w3.org/Graphics/SVG/1.1/DTD/svg11.dtd\">\r\n<!-- Created with matplotlib (https://matplotlib.org/) -->\r\n<svg height=\"248.518125pt\" version=\"1.1\" viewBox=\"0 0 372.103125 248.518125\" width=\"372.103125pt\" xmlns=\"http://www.w3.org/2000/svg\" xmlns:xlink=\"http://www.w3.org/1999/xlink\">\r\n <defs>\r\n  <style type=\"text/css\">\r\n*{stroke-linecap:butt;stroke-linejoin:round;}\r\n  </style>\r\n </defs>\r\n <g id=\"figure_1\">\r\n  <g id=\"patch_1\">\r\n   <path d=\"M 0 248.518125 \r\nL 372.103125 248.518125 \r\nL 372.103125 0 \r\nL 0 0 \r\nz\r\n\" style=\"fill:none;\"/>\r\n  </g>\r\n  <g id=\"axes_1\">\r\n   <g id=\"patch_2\">\r\n    <path d=\"M 30.103125 224.64 \r\nL 364.903125 224.64 \r\nL 364.903125 7.2 \r\nL 30.103125 7.2 \r\nz\r\n\" style=\"fill:#ffffff;\"/>\r\n   </g>\r\n   <g id=\"matplotlib.axis_1\">\r\n    <g id=\"xtick_1\">\r\n     <g id=\"line2d_1\">\r\n      <defs>\r\n       <path d=\"M 0 0 \r\nL 0 3.5 \r\n\" id=\"m7db41cdced\" style=\"stroke:#000000;stroke-width:0.8;\"/>\r\n      </defs>\r\n      <g>\r\n       <use style=\"stroke:#000000;stroke-width:0.8;\" x=\"45.321307\" xlink:href=\"#m7db41cdced\" y=\"224.64\"/>\r\n      </g>\r\n     </g>\r\n     <g id=\"text_1\">\r\n      <!-- 0 -->\r\n      <defs>\r\n       <path d=\"M 31.78125 66.40625 \r\nQ 24.171875 66.40625 20.328125 58.90625 \r\nQ 16.5 51.421875 16.5 36.375 \r\nQ 16.5 21.390625 20.328125 13.890625 \r\nQ 24.171875 6.390625 31.78125 6.390625 \r\nQ 39.453125 6.390625 43.28125 13.890625 \r\nQ 47.125 21.390625 47.125 36.375 \r\nQ 47.125 51.421875 43.28125 58.90625 \r\nQ 39.453125 66.40625 31.78125 66.40625 \r\nz\r\nM 31.78125 74.21875 \r\nQ 44.046875 74.21875 50.515625 64.515625 \r\nQ 56.984375 54.828125 56.984375 36.375 \r\nQ 56.984375 17.96875 50.515625 8.265625 \r\nQ 44.046875 -1.421875 31.78125 -1.421875 \r\nQ 19.53125 -1.421875 13.0625 8.265625 \r\nQ 6.59375 17.96875 6.59375 36.375 \r\nQ 6.59375 54.828125 13.0625 64.515625 \r\nQ 19.53125 74.21875 31.78125 74.21875 \r\nz\r\n\" id=\"DejaVuSans-48\"/>\r\n      </defs>\r\n      <g transform=\"translate(42.140057 239.238437)scale(0.1 -0.1)\">\r\n       <use xlink:href=\"#DejaVuSans-48\"/>\r\n      </g>\r\n     </g>\r\n    </g>\r\n    <g id=\"xtick_2\">\r\n     <g id=\"line2d_2\">\r\n      <g>\r\n       <use style=\"stroke:#000000;stroke-width:0.8;\" x=\"112.95767\" xlink:href=\"#m7db41cdced\" y=\"224.64\"/>\r\n      </g>\r\n     </g>\r\n     <g id=\"text_2\">\r\n      <!-- 2 -->\r\n      <defs>\r\n       <path d=\"M 19.1875 8.296875 \r\nL 53.609375 8.296875 \r\nL 53.609375 0 \r\nL 7.328125 0 \r\nL 7.328125 8.296875 \r\nQ 12.9375 14.109375 22.625 23.890625 \r\nQ 32.328125 33.6875 34.8125 36.53125 \r\nQ 39.546875 41.84375 41.421875 45.53125 \r\nQ 43.3125 49.21875 43.3125 52.78125 \r\nQ 43.3125 58.59375 39.234375 62.25 \r\nQ 35.15625 65.921875 28.609375 65.921875 \r\nQ 23.96875 65.921875 18.8125 64.3125 \r\nQ 13.671875 62.703125 7.8125 59.421875 \r\nL 7.8125 69.390625 \r\nQ 13.765625 71.78125 18.9375 73 \r\nQ 24.125 74.21875 28.421875 74.21875 \r\nQ 39.75 74.21875 46.484375 68.546875 \r\nQ 53.21875 62.890625 53.21875 53.421875 \r\nQ 53.21875 48.921875 51.53125 44.890625 \r\nQ 49.859375 40.875 45.40625 35.40625 \r\nQ 44.1875 33.984375 37.640625 27.21875 \r\nQ 31.109375 20.453125 19.1875 8.296875 \r\nz\r\n\" id=\"DejaVuSans-50\"/>\r\n      </defs>\r\n      <g transform=\"translate(109.77642 239.238437)scale(0.1 -0.1)\">\r\n       <use xlink:href=\"#DejaVuSans-50\"/>\r\n      </g>\r\n     </g>\r\n    </g>\r\n    <g id=\"xtick_3\">\r\n     <g id=\"line2d_3\">\r\n      <g>\r\n       <use style=\"stroke:#000000;stroke-width:0.8;\" x=\"180.594034\" xlink:href=\"#m7db41cdced\" y=\"224.64\"/>\r\n      </g>\r\n     </g>\r\n     <g id=\"text_3\">\r\n      <!-- 4 -->\r\n      <defs>\r\n       <path d=\"M 37.796875 64.3125 \r\nL 12.890625 25.390625 \r\nL 37.796875 25.390625 \r\nz\r\nM 35.203125 72.90625 \r\nL 47.609375 72.90625 \r\nL 47.609375 25.390625 \r\nL 58.015625 25.390625 \r\nL 58.015625 17.1875 \r\nL 47.609375 17.1875 \r\nL 47.609375 0 \r\nL 37.796875 0 \r\nL 37.796875 17.1875 \r\nL 4.890625 17.1875 \r\nL 4.890625 26.703125 \r\nz\r\n\" id=\"DejaVuSans-52\"/>\r\n      </defs>\r\n      <g transform=\"translate(177.412784 239.238437)scale(0.1 -0.1)\">\r\n       <use xlink:href=\"#DejaVuSans-52\"/>\r\n      </g>\r\n     </g>\r\n    </g>\r\n    <g id=\"xtick_4\">\r\n     <g id=\"line2d_4\">\r\n      <g>\r\n       <use style=\"stroke:#000000;stroke-width:0.8;\" x=\"248.230398\" xlink:href=\"#m7db41cdced\" y=\"224.64\"/>\r\n      </g>\r\n     </g>\r\n     <g id=\"text_4\">\r\n      <!-- 6 -->\r\n      <defs>\r\n       <path d=\"M 33.015625 40.375 \r\nQ 26.375 40.375 22.484375 35.828125 \r\nQ 18.609375 31.296875 18.609375 23.390625 \r\nQ 18.609375 15.53125 22.484375 10.953125 \r\nQ 26.375 6.390625 33.015625 6.390625 \r\nQ 39.65625 6.390625 43.53125 10.953125 \r\nQ 47.40625 15.53125 47.40625 23.390625 \r\nQ 47.40625 31.296875 43.53125 35.828125 \r\nQ 39.65625 40.375 33.015625 40.375 \r\nz\r\nM 52.59375 71.296875 \r\nL 52.59375 62.3125 \r\nQ 48.875 64.0625 45.09375 64.984375 \r\nQ 41.3125 65.921875 37.59375 65.921875 \r\nQ 27.828125 65.921875 22.671875 59.328125 \r\nQ 17.53125 52.734375 16.796875 39.40625 \r\nQ 19.671875 43.65625 24.015625 45.921875 \r\nQ 28.375 48.1875 33.59375 48.1875 \r\nQ 44.578125 48.1875 50.953125 41.515625 \r\nQ 57.328125 34.859375 57.328125 23.390625 \r\nQ 57.328125 12.15625 50.6875 5.359375 \r\nQ 44.046875 -1.421875 33.015625 -1.421875 \r\nQ 20.359375 -1.421875 13.671875 8.265625 \r\nQ 6.984375 17.96875 6.984375 36.375 \r\nQ 6.984375 53.65625 15.1875 63.9375 \r\nQ 23.390625 74.21875 37.203125 74.21875 \r\nQ 40.921875 74.21875 44.703125 73.484375 \r\nQ 48.484375 72.75 52.59375 71.296875 \r\nz\r\n\" id=\"DejaVuSans-54\"/>\r\n      </defs>\r\n      <g transform=\"translate(245.049148 239.238437)scale(0.1 -0.1)\">\r\n       <use xlink:href=\"#DejaVuSans-54\"/>\r\n      </g>\r\n     </g>\r\n    </g>\r\n    <g id=\"xtick_5\">\r\n     <g id=\"line2d_5\">\r\n      <g>\r\n       <use style=\"stroke:#000000;stroke-width:0.8;\" x=\"315.866761\" xlink:href=\"#m7db41cdced\" y=\"224.64\"/>\r\n      </g>\r\n     </g>\r\n     <g id=\"text_5\">\r\n      <!-- 8 -->\r\n      <defs>\r\n       <path d=\"M 31.78125 34.625 \r\nQ 24.75 34.625 20.71875 30.859375 \r\nQ 16.703125 27.09375 16.703125 20.515625 \r\nQ 16.703125 13.921875 20.71875 10.15625 \r\nQ 24.75 6.390625 31.78125 6.390625 \r\nQ 38.8125 6.390625 42.859375 10.171875 \r\nQ 46.921875 13.96875 46.921875 20.515625 \r\nQ 46.921875 27.09375 42.890625 30.859375 \r\nQ 38.875 34.625 31.78125 34.625 \r\nz\r\nM 21.921875 38.8125 \r\nQ 15.578125 40.375 12.03125 44.71875 \r\nQ 8.5 49.078125 8.5 55.328125 \r\nQ 8.5 64.0625 14.71875 69.140625 \r\nQ 20.953125 74.21875 31.78125 74.21875 \r\nQ 42.671875 74.21875 48.875 69.140625 \r\nQ 55.078125 64.0625 55.078125 55.328125 \r\nQ 55.078125 49.078125 51.53125 44.71875 \r\nQ 48 40.375 41.703125 38.8125 \r\nQ 48.828125 37.15625 52.796875 32.3125 \r\nQ 56.78125 27.484375 56.78125 20.515625 \r\nQ 56.78125 9.90625 50.3125 4.234375 \r\nQ 43.84375 -1.421875 31.78125 -1.421875 \r\nQ 19.734375 -1.421875 13.25 4.234375 \r\nQ 6.78125 9.90625 6.78125 20.515625 \r\nQ 6.78125 27.484375 10.78125 32.3125 \r\nQ 14.796875 37.15625 21.921875 38.8125 \r\nz\r\nM 18.3125 54.390625 \r\nQ 18.3125 48.734375 21.84375 45.5625 \r\nQ 25.390625 42.390625 31.78125 42.390625 \r\nQ 38.140625 42.390625 41.71875 45.5625 \r\nQ 45.3125 48.734375 45.3125 54.390625 \r\nQ 45.3125 60.0625 41.71875 63.234375 \r\nQ 38.140625 66.40625 31.78125 66.40625 \r\nQ 25.390625 66.40625 21.84375 63.234375 \r\nQ 18.3125 60.0625 18.3125 54.390625 \r\nz\r\n\" id=\"DejaVuSans-56\"/>\r\n      </defs>\r\n      <g transform=\"translate(312.685511 239.238437)scale(0.1 -0.1)\">\r\n       <use xlink:href=\"#DejaVuSans-56\"/>\r\n      </g>\r\n     </g>\r\n    </g>\r\n   </g>\r\n   <g id=\"matplotlib.axis_2\">\r\n    <g id=\"ytick_1\">\r\n     <g id=\"line2d_6\">\r\n      <defs>\r\n       <path d=\"M 0 0 \r\nL -3.5 0 \r\n\" id=\"m7194bb34d3\" style=\"stroke:#000000;stroke-width:0.8;\"/>\r\n      </defs>\r\n      <g>\r\n       <use style=\"stroke:#000000;stroke-width:0.8;\" x=\"30.103125\" xlink:href=\"#m7194bb34d3\" y=\"208.74443\"/>\r\n      </g>\r\n     </g>\r\n     <g id=\"text_6\">\r\n      <!-- 0.1 -->\r\n      <defs>\r\n       <path d=\"M 10.6875 12.40625 \r\nL 21 12.40625 \r\nL 21 0 \r\nL 10.6875 0 \r\nz\r\n\" id=\"DejaVuSans-46\"/>\r\n       <path d=\"M 12.40625 8.296875 \r\nL 28.515625 8.296875 \r\nL 28.515625 63.921875 \r\nL 10.984375 60.40625 \r\nL 10.984375 69.390625 \r\nL 28.421875 72.90625 \r\nL 38.28125 72.90625 \r\nL 38.28125 8.296875 \r\nL 54.390625 8.296875 \r\nL 54.390625 0 \r\nL 12.40625 0 \r\nz\r\n\" id=\"DejaVuSans-49\"/>\r\n      </defs>\r\n      <g transform=\"translate(7.2 212.543649)scale(0.1 -0.1)\">\r\n       <use xlink:href=\"#DejaVuSans-48\"/>\r\n       <use x=\"63.623047\" xlink:href=\"#DejaVuSans-46\"/>\r\n       <use x=\"95.410156\" xlink:href=\"#DejaVuSans-49\"/>\r\n      </g>\r\n     </g>\r\n    </g>\r\n    <g id=\"ytick_2\">\r\n     <g id=\"line2d_7\">\r\n      <g>\r\n       <use style=\"stroke:#000000;stroke-width:0.8;\" x=\"30.103125\" xlink:href=\"#m7194bb34d3\" y=\"168.183849\"/>\r\n      </g>\r\n     </g>\r\n     <g id=\"text_7\">\r\n      <!-- 0.2 -->\r\n      <g transform=\"translate(7.2 171.983068)scale(0.1 -0.1)\">\r\n       <use xlink:href=\"#DejaVuSans-48\"/>\r\n       <use x=\"63.623047\" xlink:href=\"#DejaVuSans-46\"/>\r\n       <use x=\"95.410156\" xlink:href=\"#DejaVuSans-50\"/>\r\n      </g>\r\n     </g>\r\n    </g>\r\n    <g id=\"ytick_3\">\r\n     <g id=\"line2d_8\">\r\n      <g>\r\n       <use style=\"stroke:#000000;stroke-width:0.8;\" x=\"30.103125\" xlink:href=\"#m7194bb34d3\" y=\"127.623268\"/>\r\n      </g>\r\n     </g>\r\n     <g id=\"text_8\">\r\n      <!-- 0.3 -->\r\n      <defs>\r\n       <path d=\"M 40.578125 39.3125 \r\nQ 47.65625 37.796875 51.625 33 \r\nQ 55.609375 28.21875 55.609375 21.1875 \r\nQ 55.609375 10.40625 48.1875 4.484375 \r\nQ 40.765625 -1.421875 27.09375 -1.421875 \r\nQ 22.515625 -1.421875 17.65625 -0.515625 \r\nQ 12.796875 0.390625 7.625 2.203125 \r\nL 7.625 11.71875 \r\nQ 11.71875 9.328125 16.59375 8.109375 \r\nQ 21.484375 6.890625 26.8125 6.890625 \r\nQ 36.078125 6.890625 40.9375 10.546875 \r\nQ 45.796875 14.203125 45.796875 21.1875 \r\nQ 45.796875 27.640625 41.28125 31.265625 \r\nQ 36.765625 34.90625 28.71875 34.90625 \r\nL 20.21875 34.90625 \r\nL 20.21875 43.015625 \r\nL 29.109375 43.015625 \r\nQ 36.375 43.015625 40.234375 45.921875 \r\nQ 44.09375 48.828125 44.09375 54.296875 \r\nQ 44.09375 59.90625 40.109375 62.90625 \r\nQ 36.140625 65.921875 28.71875 65.921875 \r\nQ 24.65625 65.921875 20.015625 65.03125 \r\nQ 15.375 64.15625 9.8125 62.3125 \r\nL 9.8125 71.09375 \r\nQ 15.4375 72.65625 20.34375 73.4375 \r\nQ 25.25 74.21875 29.59375 74.21875 \r\nQ 40.828125 74.21875 47.359375 69.109375 \r\nQ 53.90625 64.015625 53.90625 55.328125 \r\nQ 53.90625 49.265625 50.4375 45.09375 \r\nQ 46.96875 40.921875 40.578125 39.3125 \r\nz\r\n\" id=\"DejaVuSans-51\"/>\r\n      </defs>\r\n      <g transform=\"translate(7.2 131.422486)scale(0.1 -0.1)\">\r\n       <use xlink:href=\"#DejaVuSans-48\"/>\r\n       <use x=\"63.623047\" xlink:href=\"#DejaVuSans-46\"/>\r\n       <use x=\"95.410156\" xlink:href=\"#DejaVuSans-51\"/>\r\n      </g>\r\n     </g>\r\n    </g>\r\n    <g id=\"ytick_4\">\r\n     <g id=\"line2d_9\">\r\n      <g>\r\n       <use style=\"stroke:#000000;stroke-width:0.8;\" x=\"30.103125\" xlink:href=\"#m7194bb34d3\" y=\"87.062687\"/>\r\n      </g>\r\n     </g>\r\n     <g id=\"text_9\">\r\n      <!-- 0.4 -->\r\n      <g transform=\"translate(7.2 90.861905)scale(0.1 -0.1)\">\r\n       <use xlink:href=\"#DejaVuSans-48\"/>\r\n       <use x=\"63.623047\" xlink:href=\"#DejaVuSans-46\"/>\r\n       <use x=\"95.410156\" xlink:href=\"#DejaVuSans-52\"/>\r\n      </g>\r\n     </g>\r\n    </g>\r\n    <g id=\"ytick_5\">\r\n     <g id=\"line2d_10\">\r\n      <g>\r\n       <use style=\"stroke:#000000;stroke-width:0.8;\" x=\"30.103125\" xlink:href=\"#m7194bb34d3\" y=\"46.502106\"/>\r\n      </g>\r\n     </g>\r\n     <g id=\"text_10\">\r\n      <!-- 0.5 -->\r\n      <defs>\r\n       <path d=\"M 10.796875 72.90625 \r\nL 49.515625 72.90625 \r\nL 49.515625 64.59375 \r\nL 19.828125 64.59375 \r\nL 19.828125 46.734375 \r\nQ 21.96875 47.46875 24.109375 47.828125 \r\nQ 26.265625 48.1875 28.421875 48.1875 \r\nQ 40.625 48.1875 47.75 41.5 \r\nQ 54.890625 34.8125 54.890625 23.390625 \r\nQ 54.890625 11.625 47.5625 5.09375 \r\nQ 40.234375 -1.421875 26.90625 -1.421875 \r\nQ 22.3125 -1.421875 17.546875 -0.640625 \r\nQ 12.796875 0.140625 7.71875 1.703125 \r\nL 7.71875 11.625 \r\nQ 12.109375 9.234375 16.796875 8.0625 \r\nQ 21.484375 6.890625 26.703125 6.890625 \r\nQ 35.15625 6.890625 40.078125 11.328125 \r\nQ 45.015625 15.765625 45.015625 23.390625 \r\nQ 45.015625 31 40.078125 35.4375 \r\nQ 35.15625 39.890625 26.703125 39.890625 \r\nQ 22.75 39.890625 18.8125 39.015625 \r\nQ 14.890625 38.140625 10.796875 36.28125 \r\nz\r\n\" id=\"DejaVuSans-53\"/>\r\n      </defs>\r\n      <g transform=\"translate(7.2 50.301324)scale(0.1 -0.1)\">\r\n       <use xlink:href=\"#DejaVuSans-48\"/>\r\n       <use x=\"63.623047\" xlink:href=\"#DejaVuSans-46\"/>\r\n       <use x=\"95.410156\" xlink:href=\"#DejaVuSans-53\"/>\r\n      </g>\r\n     </g>\r\n    </g>\r\n   </g>\r\n   <g id=\"line2d_11\">\r\n    <path clip-path=\"url(#pe3acb61d3a)\" d=\"M 45.321307 17.083636 \r\nL 79.139489 135.212624 \r\nL 112.95767 158.818962 \r\nL 146.775852 179.331096 \r\nL 180.594034 192.279407 \r\nL 214.412216 197.00826 \r\nL 248.230398 207.941692 \r\nL 282.04858 210.492701 \r\nL 315.866761 213.644308 \r\nL 349.684943 214.756364 \r\n\" style=\"fill:none;stroke:#1f77b4;stroke-linecap:square;stroke-width:1.5;\"/>\r\n   </g>\r\n   <g id=\"line2d_12\">\r\n    <path clip-path=\"url(#pe3acb61d3a)\" d=\"M 45.321307 91.260111 \r\nL 79.139489 106.86012 \r\nL 112.95767 74.87175 \r\nL 146.775852 104.391571 \r\nL 180.594034 90.683603 \r\nL 214.412216 103.900399 \r\nL 248.230398 131.233278 \r\nL 282.04858 41.265777 \r\nL 315.866761 122.442274 \r\nL 349.684943 133.142242 \r\n\" style=\"fill:none;stroke:#ff7f0e;stroke-linecap:square;stroke-width:1.5;\"/>\r\n   </g>\r\n   <g id=\"patch_3\">\r\n    <path d=\"M 30.103125 224.64 \r\nL 30.103125 7.2 \r\n\" style=\"fill:none;stroke:#000000;stroke-linecap:square;stroke-linejoin:miter;stroke-width:0.8;\"/>\r\n   </g>\r\n   <g id=\"patch_4\">\r\n    <path d=\"M 364.903125 224.64 \r\nL 364.903125 7.2 \r\n\" style=\"fill:none;stroke:#000000;stroke-linecap:square;stroke-linejoin:miter;stroke-width:0.8;\"/>\r\n   </g>\r\n   <g id=\"patch_5\">\r\n    <path d=\"M 30.103125 224.64 \r\nL 364.903125 224.64 \r\n\" style=\"fill:none;stroke:#000000;stroke-linecap:square;stroke-linejoin:miter;stroke-width:0.8;\"/>\r\n   </g>\r\n   <g id=\"patch_6\">\r\n    <path d=\"M 30.103125 7.2 \r\nL 364.903125 7.2 \r\n\" style=\"fill:none;stroke:#000000;stroke-linecap:square;stroke-linejoin:miter;stroke-width:0.8;\"/>\r\n   </g>\r\n   <g id=\"legend_1\">\r\n    <g id=\"patch_7\">\r\n     <path d=\"M 286.7625 44.834375 \r\nL 357.903125 44.834375 \r\nQ 359.903125 44.834375 359.903125 42.834375 \r\nL 359.903125 14.2 \r\nQ 359.903125 12.2 357.903125 12.2 \r\nL 286.7625 12.2 \r\nQ 284.7625 12.2 284.7625 14.2 \r\nL 284.7625 42.834375 \r\nQ 284.7625 44.834375 286.7625 44.834375 \r\nz\r\n\" style=\"fill:#ffffff;opacity:0.8;stroke:#cccccc;stroke-linejoin:miter;\"/>\r\n    </g>\r\n    <g id=\"line2d_13\">\r\n     <path d=\"M 288.7625 20.298437 \r\nL 308.7625 20.298437 \r\n\" style=\"fill:none;stroke:#1f77b4;stroke-linecap:square;stroke-width:1.5;\"/>\r\n    </g>\r\n    <g id=\"line2d_14\"/>\r\n    <g id=\"text_11\">\r\n     <!-- loss -->\r\n     <defs>\r\n      <path d=\"M 9.421875 75.984375 \r\nL 18.40625 75.984375 \r\nL 18.40625 0 \r\nL 9.421875 0 \r\nz\r\n\" id=\"DejaVuSans-108\"/>\r\n      <path d=\"M 30.609375 48.390625 \r\nQ 23.390625 48.390625 19.1875 42.75 \r\nQ 14.984375 37.109375 14.984375 27.296875 \r\nQ 14.984375 17.484375 19.15625 11.84375 \r\nQ 23.34375 6.203125 30.609375 6.203125 \r\nQ 37.796875 6.203125 41.984375 11.859375 \r\nQ 46.1875 17.53125 46.1875 27.296875 \r\nQ 46.1875 37.015625 41.984375 42.703125 \r\nQ 37.796875 48.390625 30.609375 48.390625 \r\nz\r\nM 30.609375 56 \r\nQ 42.328125 56 49.015625 48.375 \r\nQ 55.71875 40.765625 55.71875 27.296875 \r\nQ 55.71875 13.875 49.015625 6.21875 \r\nQ 42.328125 -1.421875 30.609375 -1.421875 \r\nQ 18.84375 -1.421875 12.171875 6.21875 \r\nQ 5.515625 13.875 5.515625 27.296875 \r\nQ 5.515625 40.765625 12.171875 48.375 \r\nQ 18.84375 56 30.609375 56 \r\nz\r\n\" id=\"DejaVuSans-111\"/>\r\n      <path d=\"M 44.28125 53.078125 \r\nL 44.28125 44.578125 \r\nQ 40.484375 46.53125 36.375 47.5 \r\nQ 32.28125 48.484375 27.875 48.484375 \r\nQ 21.1875 48.484375 17.84375 46.4375 \r\nQ 14.5 44.390625 14.5 40.28125 \r\nQ 14.5 37.15625 16.890625 35.375 \r\nQ 19.28125 33.59375 26.515625 31.984375 \r\nL 29.59375 31.296875 \r\nQ 39.15625 29.25 43.1875 25.515625 \r\nQ 47.21875 21.78125 47.21875 15.09375 \r\nQ 47.21875 7.46875 41.1875 3.015625 \r\nQ 35.15625 -1.421875 24.609375 -1.421875 \r\nQ 20.21875 -1.421875 15.453125 -0.5625 \r\nQ 10.6875 0.296875 5.421875 2 \r\nL 5.421875 11.28125 \r\nQ 10.40625 8.6875 15.234375 7.390625 \r\nQ 20.0625 6.109375 24.8125 6.109375 \r\nQ 31.15625 6.109375 34.5625 8.28125 \r\nQ 37.984375 10.453125 37.984375 14.40625 \r\nQ 37.984375 18.0625 35.515625 20.015625 \r\nQ 33.0625 21.96875 24.703125 23.78125 \r\nL 21.578125 24.515625 \r\nQ 13.234375 26.265625 9.515625 29.90625 \r\nQ 5.8125 33.546875 5.8125 39.890625 \r\nQ 5.8125 47.609375 11.28125 51.796875 \r\nQ 16.75 56 26.8125 56 \r\nQ 31.78125 56 36.171875 55.265625 \r\nQ 40.578125 54.546875 44.28125 53.078125 \r\nz\r\n\" id=\"DejaVuSans-115\"/>\r\n     </defs>\r\n     <g transform=\"translate(316.7625 23.798437)scale(0.1 -0.1)\">\r\n      <use xlink:href=\"#DejaVuSans-108\"/>\r\n      <use x=\"27.783203\" xlink:href=\"#DejaVuSans-111\"/>\r\n      <use x=\"88.964844\" xlink:href=\"#DejaVuSans-115\"/>\r\n      <use x=\"141.064453\" xlink:href=\"#DejaVuSans-115\"/>\r\n     </g>\r\n    </g>\r\n    <g id=\"line2d_15\">\r\n     <path d=\"M 288.7625 34.976562 \r\nL 308.7625 34.976562 \r\n\" style=\"fill:none;stroke:#ff7f0e;stroke-linecap:square;stroke-width:1.5;\"/>\r\n    </g>\r\n    <g id=\"line2d_16\"/>\r\n    <g id=\"text_12\">\r\n     <!-- val_loss -->\r\n     <defs>\r\n      <path d=\"M 2.984375 54.6875 \r\nL 12.5 54.6875 \r\nL 29.59375 8.796875 \r\nL 46.6875 54.6875 \r\nL 56.203125 54.6875 \r\nL 35.6875 0 \r\nL 23.484375 0 \r\nz\r\n\" id=\"DejaVuSans-118\"/>\r\n      <path d=\"M 34.28125 27.484375 \r\nQ 23.390625 27.484375 19.1875 25 \r\nQ 14.984375 22.515625 14.984375 16.5 \r\nQ 14.984375 11.71875 18.140625 8.90625 \r\nQ 21.296875 6.109375 26.703125 6.109375 \r\nQ 34.1875 6.109375 38.703125 11.40625 \r\nQ 43.21875 16.703125 43.21875 25.484375 \r\nL 43.21875 27.484375 \r\nz\r\nM 52.203125 31.203125 \r\nL 52.203125 0 \r\nL 43.21875 0 \r\nL 43.21875 8.296875 \r\nQ 40.140625 3.328125 35.546875 0.953125 \r\nQ 30.953125 -1.421875 24.3125 -1.421875 \r\nQ 15.921875 -1.421875 10.953125 3.296875 \r\nQ 6 8.015625 6 15.921875 \r\nQ 6 25.140625 12.171875 29.828125 \r\nQ 18.359375 34.515625 30.609375 34.515625 \r\nL 43.21875 34.515625 \r\nL 43.21875 35.40625 \r\nQ 43.21875 41.609375 39.140625 45 \r\nQ 35.0625 48.390625 27.6875 48.390625 \r\nQ 23 48.390625 18.546875 47.265625 \r\nQ 14.109375 46.140625 10.015625 43.890625 \r\nL 10.015625 52.203125 \r\nQ 14.9375 54.109375 19.578125 55.046875 \r\nQ 24.21875 56 28.609375 56 \r\nQ 40.484375 56 46.34375 49.84375 \r\nQ 52.203125 43.703125 52.203125 31.203125 \r\nz\r\n\" id=\"DejaVuSans-97\"/>\r\n      <path d=\"M 50.984375 -16.609375 \r\nL 50.984375 -23.578125 \r\nL -0.984375 -23.578125 \r\nL -0.984375 -16.609375 \r\nz\r\n\" id=\"DejaVuSans-95\"/>\r\n     </defs>\r\n     <g transform=\"translate(316.7625 38.476562)scale(0.1 -0.1)\">\r\n      <use xlink:href=\"#DejaVuSans-118\"/>\r\n      <use x=\"59.179688\" xlink:href=\"#DejaVuSans-97\"/>\r\n      <use x=\"120.458984\" xlink:href=\"#DejaVuSans-108\"/>\r\n      <use x=\"148.242188\" xlink:href=\"#DejaVuSans-95\"/>\r\n      <use x=\"198.242188\" xlink:href=\"#DejaVuSans-108\"/>\r\n      <use x=\"226.025391\" xlink:href=\"#DejaVuSans-111\"/>\r\n      <use x=\"287.207031\" xlink:href=\"#DejaVuSans-115\"/>\r\n      <use x=\"339.306641\" xlink:href=\"#DejaVuSans-115\"/>\r\n     </g>\r\n    </g>\r\n   </g>\r\n  </g>\r\n </g>\r\n <defs>\r\n  <clipPath id=\"pe3acb61d3a\">\r\n   <rect height=\"217.44\" width=\"334.8\" x=\"30.103125\" y=\"7.2\"/>\r\n  </clipPath>\r\n </defs>\r\n</svg>\r\n",
      "image/png": "[encoded data removed]"
     },
     "metadata": {
      "needs_background": "light"
     }
    }
   ],
   "source": [
    "plt.plot(train_history, label=\"loss\")\n",
    "plt.plot(val_history, label=\"val_loss\")\n",
    "plt.legend()\n",
    "plt.show()"
   ]
  },
  {
   "cell_type": "code",
   "execution_count": 50,
   "metadata": {
    "tags": []
   },
   "outputs": [
    {
     "output_type": "display_data",
     "data": {
      "text/plain": "        Id  MSSubClass MSZoning  LotFrontage  LotArea Street Alley LotShape  \\\n0        1          60       RL         65.0     8450   Pave   NaN      Reg   \n1        2          20       RL         80.0     9600   Pave   NaN      Reg   \n2        3          60       RL         68.0    11250   Pave   NaN      IR1   \n3        4          70       RL         60.0     9550   Pave   NaN      IR1   \n4        5          60       RL         84.0    14260   Pave   NaN      IR1   \n...    ...         ...      ...          ...      ...    ...   ...      ...   \n1455  1456          60       RL         62.0     7917   Pave   NaN      Reg   \n1456  1457          20       RL         85.0    13175   Pave   NaN      Reg   \n1457  1458          70       RL         66.0     9042   Pave   NaN      Reg   \n1458  1459          20       RL         68.0     9717   Pave   NaN      Reg   \n1459  1460          20       RL         75.0     9937   Pave   NaN      Reg   \n\n     LandContour Utilities  ... PoolArea PoolQC  Fence MiscFeature MiscVal  \\\n0            Lvl    AllPub  ...        0    NaN    NaN         NaN       0   \n1            Lvl    AllPub  ...        0    NaN    NaN         NaN       0   \n2            Lvl    AllPub  ...        0    NaN    NaN         NaN       0   \n3            Lvl    AllPub  ...        0    NaN    NaN         NaN       0   \n4            Lvl    AllPub  ...        0    NaN    NaN         NaN       0   \n...          ...       ...  ...      ...    ...    ...         ...     ...   \n1455         Lvl    AllPub  ...        0    NaN    NaN         NaN       0   \n1456         Lvl    AllPub  ...        0    NaN  MnPrv         NaN       0   \n1457         Lvl    AllPub  ...        0    NaN  GdPrv        Shed    2500   \n1458         Lvl    AllPub  ...        0    NaN    NaN         NaN       0   \n1459         Lvl    AllPub  ...        0    NaN    NaN         NaN       0   \n\n     MoSold YrSold  SaleType  SaleCondition  SalePrice  \n0         2   2008        WD         Normal     208500  \n1         5   2007        WD         Normal     181500  \n2         9   2008        WD         Normal     223500  \n3         2   2006        WD        Abnorml     140000  \n4        12   2008        WD         Normal     250000  \n...     ...    ...       ...            ...        ...  \n1455      8   2007        WD         Normal     175000  \n1456      2   2010        WD         Normal     210000  \n1457      5   2010        WD         Normal     266500  \n1458      4   2010        WD         Normal     142125  \n1459      6   2008        WD         Normal     147500  \n\n[1460 rows x 81 columns]",
      "text/html": "<div>\n<style scoped>\n    .dataframe tbody tr th:only-of-type {\n        vertical-align: middle;\n    }\n\n    .dataframe tbody tr th {\n        vertical-align: top;\n    }\n\n    .dataframe thead th {\n        text-align: right;\n    }\n</style>\n<table border=\"1\" class=\"dataframe\">\n  <thead>\n    <tr style=\"text-align: right;\">\n      <th></th>\n      <th>Id</th>\n      <th>MSSubClass</th>\n      <th>MSZoning</th>\n      <th>LotFrontage</th>\n      <th>LotArea</th>\n      <th>Street</th>\n      <th>Alley</th>\n      <th>LotShape</th>\n      <th>LandContour</th>\n      <th>Utilities</th>\n      <th>...</th>\n      <th>PoolArea</th>\n      <th>PoolQC</th>\n      <th>Fence</th>\n      <th>MiscFeature</th>\n      <th>MiscVal</th>\n      <th>MoSold</th>\n      <th>YrSold</th>\n      <th>SaleType</th>\n      <th>SaleCondition</th>\n      <th>SalePrice</th>\n    </tr>\n  </thead>\n  <tbody>\n    <tr>\n      <th>0</th>\n      <td>1</td>\n      <td>60</td>\n      <td>RL</td>\n      <td>65.0</td>\n      <td>8450</td>\n      <td>Pave</td>\n      <td>NaN</td>\n      <td>Reg</td>\n      <td>Lvl</td>\n      <td>AllPub</td>\n      <td>...</td>\n      <td>0</td>\n      <td>NaN</td>\n      <td>NaN</td>\n      <td>NaN</td>\n      <td>0</td>\n      <td>2</td>\n      <td>2008</td>\n      <td>WD</td>\n      <td>Normal</td>\n      <td>208500</td>\n    </tr>\n    <tr>\n      <th>1</th>\n      <td>2</td>\n      <td>20</td>\n      <td>RL</td>\n      <td>80.0</td>\n      <td>9600</td>\n      <td>Pave</td>\n      <td>NaN</td>\n      <td>Reg</td>\n      <td>Lvl</td>\n      <td>AllPub</td>\n      <td>...</td>\n      <td>0</td>\n      <td>NaN</td>\n      <td>NaN</td>\n      <td>NaN</td>\n      <td>0</td>\n      <td>5</td>\n      <td>2007</td>\n      <td>WD</td>\n      <td>Normal</td>\n      <td>181500</td>\n    </tr>\n    <tr>\n      <th>2</th>\n      <td>3</td>\n      <td>60</td>\n      <td>RL</td>\n      <td>68.0</td>\n      <td>11250</td>\n      <td>Pave</td>\n      <td>NaN</td>\n      <td>IR1</td>\n      <td>Lvl</td>\n      <td>AllPub</td>\n      <td>...</td>\n      <td>0</td>\n      <td>NaN</td>\n      <td>NaN</td>\n      <td>NaN</td>\n      <td>0</td>\n      <td>9</td>\n      <td>2008</td>\n      <td>WD</td>\n      <td>Normal</td>\n      <td>223500</td>\n    </tr>\n    <tr>\n      <th>3</th>\n      <td>4</td>\n      <td>70</td>\n      <td>RL</td>\n      <td>60.0</td>\n      <td>9550</td>\n      <td>Pave</td>\n      <td>NaN</td>\n      <td>IR1</td>\n      <td>Lvl</td>\n      <td>AllPub</td>\n      <td>...</td>\n      <td>0</td>\n      <td>NaN</td>\n      <td>NaN</td>\n      <td>NaN</td>\n      <td>0</td>\n      <td>2</td>\n      <td>2006</td>\n      <td>WD</td>\n      <td>Abnorml</td>\n      <td>140000</td>\n    </tr>\n    <tr>\n      <th>4</th>\n      <td>5</td>\n      <td>60</td>\n      <td>RL</td>\n      <td>84.0</td>\n      <td>14260</td>\n      <td>Pave</td>\n      <td>NaN</td>\n      <td>IR1</td>\n      <td>Lvl</td>\n      <td>AllPub</td>\n      <td>...</td>\n      <td>0</td>\n      <td>NaN</td>\n      <td>NaN</td>\n      <td>NaN</td>\n      <td>0</td>\n      <td>12</td>\n      <td>2008</td>\n      <td>WD</td>\n      <td>Normal</td>\n      <td>250000</td>\n    </tr>\n    <tr>\n      <th>...</th>\n      <td>...</td>\n      <td>...</td>\n      <td>...</td>\n      <td>...</td>\n      <td>...</td>\n      <td>...</td>\n      <td>...</td>\n      <td>...</td>\n      <td>...</td>\n      <td>...</td>\n      <td>...</td>\n      <td>...</td>\n      <td>...</td>\n      <td>...</td>\n      <td>...</td>\n      <td>...</td>\n      <td>...</td>\n      <td>...</td>\n      <td>...</td>\n      <td>...</td>\n      <td>...</td>\n    </tr>\n    <tr>\n      <th>1455</th>\n      <td>1456</td>\n      <td>60</td>\n      <td>RL</td>\n      <td>62.0</td>\n      <td>7917</td>\n      <td>Pave</td>\n      <td>NaN</td>\n      <td>Reg</td>\n      <td>Lvl</td>\n      <td>AllPub</td>\n      <td>...</td>\n      <td>0</td>\n      <td>NaN</td>\n      <td>NaN</td>\n      <td>NaN</td>\n      <td>0</td>\n      <td>8</td>\n      <td>2007</td>\n      <td>WD</td>\n      <td>Normal</td>\n      <td>175000</td>\n    </tr>\n    <tr>\n      <th>1456</th>\n      <td>1457</td>\n      <td>20</td>\n      <td>RL</td>\n      <td>85.0</td>\n      <td>13175</td>\n      <td>Pave</td>\n      <td>NaN</td>\n      <td>Reg</td>\n      <td>Lvl</td>\n      <td>AllPub</td>\n      <td>...</td>\n      <td>0</td>\n      <td>NaN</td>\n      <td>MnPrv</td>\n      <td>NaN</td>\n      <td>0</td>\n      <td>2</td>\n      <td>2010</td>\n      <td>WD</td>\n      <td>Normal</td>\n      <td>210000</td>\n    </tr>\n    <tr>\n      <th>1457</th>\n      <td>1458</td>\n      <td>70</td>\n      <td>RL</td>\n      <td>66.0</td>\n      <td>9042</td>\n      <td>Pave</td>\n      <td>NaN</td>\n      <td>Reg</td>\n      <td>Lvl</td>\n      <td>AllPub</td>\n      <td>...</td>\n      <td>0</td>\n      <td>NaN</td>\n      <td>GdPrv</td>\n      <td>Shed</td>\n      <td>2500</td>\n      <td>5</td>\n      <td>2010</td>\n      <td>WD</td>\n      <td>Normal</td>\n      <td>266500</td>\n    </tr>\n    <tr>\n      <th>1458</th>\n      <td>1459</td>\n      <td>20</td>\n      <td>RL</td>\n      <td>68.0</td>\n      <td>9717</td>\n      <td>Pave</td>\n      <td>NaN</td>\n      <td>Reg</td>\n      <td>Lvl</td>\n      <td>AllPub</td>\n      <td>...</td>\n      <td>0</td>\n      <td>NaN</td>\n      <td>NaN</td>\n      <td>NaN</td>\n      <td>0</td>\n      <td>4</td>\n      <td>2010</td>\n      <td>WD</td>\n      <td>Normal</td>\n      <td>142125</td>\n    </tr>\n    <tr>\n      <th>1459</th>\n      <td>1460</td>\n      <td>20</td>\n      <td>RL</td>\n      <td>75.0</td>\n      <td>9937</td>\n      <td>Pave</td>\n      <td>NaN</td>\n      <td>Reg</td>\n      <td>Lvl</td>\n      <td>AllPub</td>\n      <td>...</td>\n      <td>0</td>\n      <td>NaN</td>\n      <td>NaN</td>\n      <td>NaN</td>\n      <td>0</td>\n      <td>6</td>\n      <td>2008</td>\n      <td>WD</td>\n      <td>Normal</td>\n      <td>147500</td>\n    </tr>\n  </tbody>\n</table>\n<p>1460 rows × 81 columns</p>\n</div>"
     },
     "metadata": {}
    },
    {
     "output_type": "display_data",
     "data": {
      "text/plain": "(1460, 3)"
     },
     "metadata": {}
    },
    {
     "output_type": "display_data",
     "data": {
      "text/plain": "(1460, 1)"
     },
     "metadata": {}
    },
    {
     "output_type": "stream",
     "name": "stdout",
     "text": "(934, 3) (934, 1)\n(234, 3) (234, 1)\n(292, 3) (292, 1)\n"
    }
   ],
   "source": [
    "# 【問題5】House PricesをKerasで学習\n",
    "# 読み込み\n",
    "df_price = pd.read_csv('train.csv')\n",
    "display(df_price)\n",
    "# 抽出\n",
    "X = df_price[['LotArea', 'GrLivArea', 'YearBuilt']].values\n",
    "y = df_price['SalePrice'].values[:, np.newaxis]\n",
    "display(X.shape)\n",
    "display(y.shape)\n",
    "\n",
    "# 分割\n",
    "X_train, X_test, y_train, y_test = train_test_split(X, y, test_size=0.2, random_state=0)\n",
    "X_train, X_val, y_train, y_val = train_test_split(X_train, y_train, test_size=0.2, random_state=0)\n",
    "\n",
    "# 標準化\n",
    "scaler = StandardScaler()\n",
    "X_train = scaler.fit_transform(X_train)\n",
    "X_val = scaler.transform(X_val)\n",
    "X_test = scaler.transform(X_test)\n",
    "\n",
    "# 対数変換\n",
    "y_train = np.log(y_train)\n",
    "y_val = np.log(y_val)\n",
    "y_test = np.log(y_test)\n",
    "\n",
    "print(X_train.shape, y_train.shape)\n",
    "print(X_val.shape, y_val.shape)\n",
    "print(X_test.shape, y_test.shape)"
   ]
  },
  {
   "cell_type": "code",
   "execution_count": 51,
   "metadata": {
    "tags": []
   },
   "outputs": [
    {
     "output_type": "stream",
     "name": "stdout",
     "text": "NNfor5(\n  (layer): Sequential(\n    (0): Linear(in_features=3, out_features=10, bias=True)\n    (1): ReLU()\n    (2): Linear(in_features=10, out_features=3, bias=True)\n    (3): ReLU()\n    (4): Linear(in_features=3, out_features=1, bias=True)\n  )\n)\n"
    }
   ],
   "source": [
    "# PyTorchでモデル構築\n",
    "n_features = 3\n",
    "n_nodes_1 = 10\n",
    "activation_1 = nn.ReLU()\n",
    "n_nodes_2 = 3\n",
    "activation_2 = nn.ReLU()\n",
    "n_output = 1\n",
    "\n",
    "## ネットワーク\n",
    "class NNfor5(nn.Module):\n",
    "    \n",
    "    def __init__(self):\n",
    "        super(NNfor5, self).__init__()\n",
    "        self.layer = nn.Sequential(nn.Linear(n_features, n_nodes_1), activation_1,\n",
    "                                   nn.Linear(n_nodes_1, n_nodes_2), activation_2,\n",
    "                                   nn.Linear(n_nodes_2, n_output))\n",
    "    \n",
    "    def forward(self, X):\n",
    "        X = self.layer(X)\n",
    "\n",
    "        return X\n",
    "\n",
    "## インスタンス作成\n",
    "model = NNfor5()\n",
    "print(model)"
   ]
  },
  {
   "cell_type": "code",
   "execution_count": 52,
   "metadata": {},
   "outputs": [],
   "source": [
    "## ミニバッチ\n",
    "batch_size = 32\n",
    "\n",
    "## numpy配列をテンソルに変換\n",
    "t_X_train = torch.from_numpy(X_train).float()\n",
    "t_y_train = torch.from_numpy(y_train).float()\n",
    "t_X_valid = torch.from_numpy(X_val).float()\n",
    "t_y_valid = torch.from_numpy(y_val).float()\n",
    "\n",
    "## 特徴量とラベルをデータセットにまとめる\n",
    "dataset_train = TensorDataset(t_X_train, t_y_train)\n",
    "dataset_valid = TensorDataset(t_X_valid, t_y_valid)\n",
    "\n",
    "# データローダを作成\n",
    "loader_train = DataLoader(dataset_train, batch_size=batch_size, shuffle=True)\n",
    "loader_valid = DataLoader(dataset_valid, batch_size=batch_size)"
   ]
  },
  {
   "cell_type": "code",
   "execution_count": 53,
   "metadata": {},
   "outputs": [],
   "source": [
    "## オプティマイザ\n",
    "lr = 0.001\n",
    "\n",
    "optimizer = optim.Adam(\n",
    "    model.parameters(),\n",
    "    lr=lr\n",
    ")\n",
    "\n",
    "## 損失関数\n",
    "criterion = nn.MSELoss()"
   ]
  },
  {
   "cell_type": "code",
   "execution_count": 54,
   "metadata": {},
   "outputs": [],
   "source": [
    "## 学習(train)\n",
    "def train_step(X_train, y_train):\n",
    "    ## 訓練モード    \n",
    "    model.train()\n",
    "\n",
    "    ## 訓練データに対して予測\n",
    "    y_train_pred = model(X_train)\n",
    "\n",
    "    ## 勾配初期化\n",
    "    optimizer.zero_grad()\n",
    "    ## 損失の取得\n",
    "    loss = criterion(y_train_pred, y_train)\n",
    "    ## 勾配を計算\n",
    "    loss.backward()\n",
    "\n",
    "    ## パラメータ更新\n",
    "    optimizer.step()\n",
    "\n",
    "    ## 平均絶対誤差計算\n",
    "    with torch.no_grad():\n",
    "        mae = mean_absolute_error(y_train.detach().numpy(), y_train_pred.detach().numpy())\n",
    "\n",
    "    return (loss.item(), mae)\n",
    "\n",
    "## 評価(validation)\n",
    "def valid_step(X_val, y_val):\n",
    "    ## 評価モード\n",
    "    model.eval()\n",
    "\n",
    "    ## 予測\n",
    "    y_val_pred = model(X_val)\n",
    "\n",
    "    ## 損失計算\n",
    "    loss = criterion(y_val_pred, y_val)\n",
    "\n",
    "    ## 平均絶対誤差計算\n",
    "    with torch.no_grad():\n",
    "        mae = mean_absolute_error(y_val.detach().numpy(), y_val_pred.detach().numpy())\n",
    "\n",
    "    return (loss.item(), mae)"
   ]
  },
  {
   "cell_type": "code",
   "execution_count": 55,
   "metadata": {
    "tags": []
   },
   "outputs": [
    {
     "output_type": "stream",
     "name": "stdout",
     "text": "epoch1/100: [loss:4.1010, mae:11.2721, val_loss:4.2031, val_mae:11.0550]\nepoch2/100: [loss:3.8817, mae:10.9538, val_loss:3.9329, val_mae:10.6765]\nepoch3/100: [loss:3.6014, mae:10.5288, val_loss:3.5816, val_mae:10.1662]\nepoch4/100: [loss:3.2442, mae:9.9732, val_loss:3.1198, val_mae:9.4550]\nepoch5/100: [loss:2.7529, mae:9.1398, val_loss:2.5866, val_mae:8.5358]\nepoch6/100: [loss:2.2422, mae:8.1516, val_loss:2.1206, val_mae:7.6041]\nepoch7/100: [loss:1.8058, mae:7.1738, val_loss:1.7184, val_mae:6.6678]\nepoch8/100: [loss:1.4476, mae:6.2435, val_loss:1.3785, val_mae:5.7635]\nepoch9/100: [loss:1.1659, mae:5.4286, val_loss:1.1091, val_mae:4.9762]\nepoch10/100: [loss:0.9570, mae:4.7683, val_loss:0.9000, val_mae:4.3803]\nepoch11/100: [loss:0.7787, mae:4.2090, val_loss:0.7467, val_mae:3.9539]\nepoch12/100: [loss:0.6447, mae:3.7636, val_loss:0.6320, val_mae:3.6357]\nepoch13/100: [loss:0.5562, mae:3.4760, val_loss:0.5467, val_mae:3.3757]\nepoch14/100: [loss:0.4918, mae:3.2614, val_loss:0.4811, val_mae:3.1517]\nepoch15/100: [loss:0.4346, mae:3.0407, val_loss:0.4312, val_mae:2.9698]\nepoch16/100: [loss:0.3986, mae:2.8943, val_loss:0.3905, val_mae:2.8147]\nepoch17/100: [loss:0.3614, mae:2.7273, val_loss:0.3595, val_mae:2.6839]\nepoch18/100: [loss:0.3350, mae:2.6037, val_loss:0.3341, val_mae:2.5705]\nepoch19/100: [loss:0.3273, mae:2.5658, val_loss:0.3137, val_mae:2.4784]\nepoch20/100: [loss:0.2947, mae:2.4123, val_loss:0.2940, val_mae:2.3814]\nepoch21/100: [loss:0.2879, mae:2.3740, val_loss:0.2773, val_mae:2.2989]\nepoch22/100: [loss:0.2637, mae:2.2527, val_loss:0.2624, val_mae:2.2288]\nepoch23/100: [loss:0.2614, mae:2.2367, val_loss:0.2489, val_mae:2.1642]\nepoch24/100: [loss:0.2441, mae:2.1646, val_loss:0.2376, val_mae:2.1047]\nepoch25/100: [loss:0.2347, mae:2.1067, val_loss:0.2249, val_mae:2.0451]\nepoch26/100: [loss:0.2254, mae:2.0656, val_loss:0.2135, val_mae:1.9888]\nepoch27/100: [loss:0.2047, mae:1.9424, val_loss:0.2021, val_mae:1.9314]\nepoch28/100: [loss:0.1974, mae:1.9166, val_loss:0.1924, val_mae:1.8839]\nepoch29/100: [loss:0.1977, mae:1.9066, val_loss:0.1833, val_mae:1.8399]\nepoch30/100: [loss:0.1779, mae:1.8124, val_loss:0.1744, val_mae:1.7917]\nepoch31/100: [loss:0.1714, mae:1.7769, val_loss:0.1651, val_mae:1.7456]\nepoch32/100: [loss:0.1611, mae:1.7222, val_loss:0.1569, val_mae:1.7023]\nepoch33/100: [loss:0.1565, mae:1.7024, val_loss:0.1492, val_mae:1.6593]\nepoch34/100: [loss:0.1474, mae:1.6418, val_loss:0.1410, val_mae:1.6157]\nepoch35/100: [loss:0.1404, mae:1.6034, val_loss:0.1338, val_mae:1.5708]\nepoch36/100: [loss:0.1359, mae:1.5822, val_loss:0.1261, val_mae:1.5269]\nepoch37/100: [loss:0.1262, mae:1.5251, val_loss:0.1197, val_mae:1.4879]\nepoch38/100: [loss:0.1195, mae:1.4775, val_loss:0.1131, val_mae:1.4475]\nepoch39/100: [loss:0.1093, mae:1.4059, val_loss:0.1060, val_mae:1.4056]\nepoch40/100: [loss:0.1055, mae:1.3830, val_loss:0.1002, val_mae:1.3663]\nepoch41/100: [loss:0.0988, mae:1.3426, val_loss:0.0939, val_mae:1.3226]\nepoch42/100: [loss:0.0911, mae:1.2823, val_loss:0.0882, val_mae:1.2821]\nepoch43/100: [loss:0.0855, mae:1.2421, val_loss:0.0837, val_mae:1.2469]\nepoch44/100: [loss:0.0807, mae:1.2049, val_loss:0.0784, val_mae:1.2050]\nepoch45/100: [loss:0.0748, mae:1.1561, val_loss:0.0737, val_mae:1.1678]\nepoch46/100: [loss:0.0706, mae:1.1189, val_loss:0.0687, val_mae:1.1272]\nepoch47/100: [loss:0.0705, mae:1.1148, val_loss:0.0646, val_mae:1.0905]\nepoch48/100: [loss:0.0623, mae:1.0528, val_loss:0.0607, val_mae:1.0549]\nepoch49/100: [loss:0.0586, mae:1.0230, val_loss:0.0564, val_mae:1.0158]\nepoch50/100: [loss:0.0532, mae:0.9648, val_loss:0.0525, val_mae:0.9790]\nepoch51/100: [loss:0.0499, mae:0.9256, val_loss:0.0488, val_mae:0.9423]\nepoch52/100: [loss:0.0477, mae:0.9085, val_loss:0.0454, val_mae:0.9079]\nepoch53/100: [loss:0.0426, mae:0.8555, val_loss:0.0419, val_mae:0.8707]\nepoch54/100: [loss:0.0409, mae:0.8371, val_loss:0.0392, val_mae:0.8392]\nepoch55/100: [loss:0.0370, mae:0.7907, val_loss:0.0364, val_mae:0.8067]\nepoch56/100: [loss:0.0341, mae:0.7550, val_loss:0.0340, val_mae:0.7762]\nepoch57/100: [loss:0.0316, mae:0.7259, val_loss:0.0317, val_mae:0.7459]\nepoch58/100: [loss:0.0297, mae:0.6989, val_loss:0.0295, val_mae:0.7162]\nepoch59/100: [loss:0.0273, mae:0.6723, val_loss:0.0274, val_mae:0.6886]\nepoch60/100: [loss:0.0252, mae:0.6453, val_loss:0.0254, val_mae:0.6604]\nepoch61/100: [loss:0.0232, mae:0.6094, val_loss:0.0239, val_mae:0.6385]\nepoch62/100: [loss:0.0217, mae:0.5970, val_loss:0.0223, val_mae:0.6154]\nepoch63/100: [loss:0.0200, mae:0.5646, val_loss:0.0207, val_mae:0.5899]\nepoch64/100: [loss:0.0186, mae:0.5419, val_loss:0.0194, val_mae:0.5688]\nepoch65/100: [loss:0.0170, mae:0.5175, val_loss:0.0182, val_mae:0.5494]\nepoch66/100: [loss:0.0162, mae:0.5093, val_loss:0.0171, val_mae:0.5319]\nepoch67/100: [loss:0.0149, mae:0.4859, val_loss:0.0161, val_mae:0.5126]\nepoch68/100: [loss:0.0150, mae:0.4760, val_loss:0.0152, val_mae:0.4984]\nepoch69/100: [loss:0.0135, mae:0.4641, val_loss:0.0142, val_mae:0.4804]\nepoch70/100: [loss:0.0128, mae:0.4476, val_loss:0.0136, val_mae:0.4687]\nepoch71/100: [loss:0.0118, mae:0.4311, val_loss:0.0128, val_mae:0.4556]\nepoch72/100: [loss:0.0108, mae:0.4113, val_loss:0.0122, val_mae:0.4423]\nepoch73/100: [loss:0.0107, mae:0.4065, val_loss:0.0117, val_mae:0.4345]\nepoch74/100: [loss:0.0101, mae:0.3994, val_loss:0.0114, val_mae:0.4300]\nepoch75/100: [loss:0.0099, mae:0.3911, val_loss:0.0108, val_mae:0.4150]\nepoch76/100: [loss:0.0091, mae:0.3764, val_loss:0.0103, val_mae:0.4052]\nepoch77/100: [loss:0.0088, mae:0.3684, val_loss:0.0100, val_mae:0.3987]\nepoch78/100: [loss:0.0082, mae:0.3540, val_loss:0.0096, val_mae:0.3886]\nepoch79/100: [loss:0.0078, mae:0.3484, val_loss:0.0093, val_mae:0.3835]\nepoch80/100: [loss:0.0074, mae:0.3354, val_loss:0.0089, val_mae:0.3746]\nepoch81/100: [loss:0.0074, mae:0.3388, val_loss:0.0086, val_mae:0.3692]\nepoch82/100: [loss:0.0068, mae:0.3231, val_loss:0.0082, val_mae:0.3592]\nepoch83/100: [loss:0.0065, mae:0.3140, val_loss:0.0080, val_mae:0.3542]\nepoch84/100: [loss:0.0063, mae:0.3100, val_loss:0.0078, val_mae:0.3470]\nepoch85/100: [loss:0.0060, mae:0.3045, val_loss:0.0075, val_mae:0.3413]\nepoch86/100: [loss:0.0059, mae:0.3003, val_loss:0.0073, val_mae:0.3345]\nepoch87/100: [loss:0.0057, mae:0.2962, val_loss:0.0071, val_mae:0.3298]\nepoch88/100: [loss:0.0058, mae:0.2976, val_loss:0.0069, val_mae:0.3243]\nepoch89/100: [loss:0.0055, mae:0.2910, val_loss:0.0066, val_mae:0.3174]\nepoch90/100: [loss:0.0051, mae:0.2855, val_loss:0.0064, val_mae:0.3135]\nepoch91/100: [loss:0.0050, mae:0.2802, val_loss:0.0063, val_mae:0.3092]\nepoch92/100: [loss:0.0048, mae:0.2712, val_loss:0.0061, val_mae:0.3028]\nepoch93/100: [loss:0.0047, mae:0.2727, val_loss:0.0059, val_mae:0.3000]\nepoch94/100: [loss:0.0046, mae:0.2713, val_loss:0.0058, val_mae:0.2980]\nepoch95/100: [loss:0.0045, mae:0.2696, val_loss:0.0056, val_mae:0.2922]\nepoch96/100: [loss:0.0044, mae:0.2628, val_loss:0.0055, val_mae:0.2888]\nepoch97/100: [loss:0.0042, mae:0.2587, val_loss:0.0053, val_mae:0.2852]\nepoch98/100: [loss:0.0041, mae:0.2577, val_loss:0.0052, val_mae:0.2826]\nepoch99/100: [loss:0.0040, mae:0.2547, val_loss:0.0051, val_mae:0.2788]\nepoch100/100: [loss:0.0039, mae:0.2509, val_loss:0.0049, val_mae:0.2749]\nDone!\n"
    },
    {
     "output_type": "display_data",
     "data": {
      "text/plain": "OrderedDict([('layer.0.weight',\n              tensor([[ 0.2202, -0.1152, -0.7598],\n                      [ 0.8974,  0.2736, -0.9688],\n                      [-0.2748,  0.8688, -1.3371],\n                      [ 0.8830,  0.6596, -0.0986],\n                      [ 0.3867, -0.9331, -0.9216],\n                      [-0.0939, -1.6006,  0.6810],\n                      [ 0.2627, -0.6191, -1.2107],\n                      [-0.4682,  0.0571, -1.4039],\n                      [ 0.2172, -0.0258,  1.1626],\n                      [-1.0451, -0.2601,  1.1364]])),\n             ('layer.0.bias',\n              tensor([ 1.0873, -0.5225,  1.0728,  1.2970, -0.3657,  0.7772,  0.8506, -0.6843,\n                       0.8390,  0.7751])),\n             ('layer.2.weight',\n              tensor([[ 1.3676, -0.8989,  0.0278,  0.1677, -0.3735,  0.1284,  0.6931, -0.7670,\n                        0.6672,  0.4866],\n                      [ 0.5381, -0.8158,  0.6016,  0.9449, -0.1460, -0.0056,  0.0900,  0.1746,\n                        0.7575,  0.6795],\n                      [ 0.4351, -0.0505, -0.6233, -0.5962, -0.3303, -0.0893,  0.4855,  0.4977,\n                       -0.0771,  0.3111]])),\n             ('layer.2.bias', tensor([ 0.6855,  0.5756, -0.1345])),\n             ('layer.4.weight', tensor([[ 1.6571,  1.1500, -0.1858]])),\n             ('layer.4.bias', tensor([0.4577]))])"
     },
     "metadata": {}
    }
   ],
   "source": [
    "## パラメータ初期化関数\n",
    "def initializer(layer):\n",
    "    if type(layer) == nn.Linear:\n",
    "        nn.init.kaiming_normal_(layer.weight)\n",
    "        layer.bias.data.fill_(0.0)\n",
    "\n",
    "## パラメータ初期化する\n",
    "model.apply(initializer)\n",
    "\n",
    "n_epoch = 100\n",
    "train_history = []\n",
    "val_history = []\n",
    "\n",
    "# 1エポック内1データあたりの損失・正解率の平均\n",
    "avg_loss = 0.0\n",
    "avg_mae = 0.0\n",
    "avg_val_loss = 0.0\n",
    "avg_val_mae = 0.0\n",
    "\n",
    "## 学習する\n",
    "for epoch in range(n_epoch):\n",
    "    ## epoch内のloss, accの保存\n",
    "    total_loss = 0.0\n",
    "    total_mae = 0.0\n",
    "    total_val_loss = 0.0\n",
    "    total_val_mae = 0.0\n",
    "    ## 累計データ数の保存\n",
    "    total_train = 0\n",
    "    total_val = 0\n",
    "\n",
    "    ## 訓練\n",
    "    for X_train, y_train in loader_train:\n",
    "       loss, mae = train_step(X_train, y_train)\n",
    "       total_loss += loss\n",
    "       total_mae += mae\n",
    "       total_train += len(y_train)\n",
    "\n",
    "    ## 評価\n",
    "    for X_val, y_val in loader_valid:\n",
    "        val_loss, val_mae = valid_step(X_val, y_val)\n",
    "        total_val_loss += val_loss\n",
    "        total_val_mae += val_mae\n",
    "        total_val += len(y_val)\n",
    "\n",
    "    # 平均計算\n",
    "    avg_loss = total_loss/total_train\n",
    "    avg_val_loss = total_val_loss/total_val\n",
    "    avg_mae = total_mae/len(loader_train)\n",
    "    avg_val_mae = total_val_mae/len(loader_valid)\n",
    "\n",
    "    print(f'epoch{epoch+1}/{n_epoch}: [loss:{avg_loss:.4f}, mae:{avg_mae:.4f}, val_loss:{avg_val_loss:.4f}, val_mae:{avg_val_mae:.4f}]')\n",
    "\n",
    "    # リストに追加\n",
    "    train_history.append(avg_loss)\n",
    "    val_history.append(avg_val_loss)\n",
    "\n",
    "print('Done!')\n",
    "display(model.state_dict())"
   ]
  },
  {
   "cell_type": "code",
   "execution_count": 56,
   "metadata": {
    "tags": []
   },
   "outputs": [
    {
     "output_type": "stream",
     "name": "stdout",
     "text": "y_pred_log [11.882249 11.601649 11.481923 11.721519 11.585099]\ny_test [12.20918779 11.79810441 11.60823564 12.16525065 11.38509209]\nmae 0.2669870817156004\n"
    }
   ],
   "source": [
    "# 予測\n",
    "## Tensor変換\n",
    "t_X_test = torch.from_numpy(X_test).float()\n",
    "y_pred_log = model(t_X_test).detach().numpy()\n",
    "print(\"y_pred_log\", y_pred_log.flatten()[:5])\n",
    "print(\"y_test\", y_test.flatten()[:5])\n",
    "print(\"mae\", mean_absolute_error(y_test, y_pred_log))"
   ]
  },
  {
   "cell_type": "code",
   "execution_count": 57,
   "metadata": {},
   "outputs": [
    {
     "output_type": "display_data",
     "data": {
      "text/plain": "<Figure size 432x288 with 1 Axes>",
      "image/svg+xml": "<?xml version=\"1.0\" encoding=\"utf-8\" standalone=\"no\"?>\r\n<!DOCTYPE svg PUBLIC \"-//W3C//DTD SVG 1.1//EN\"\r\n  \"http://www.w3.org/Graphics/SVG/1.1/DTD/svg11.dtd\">\r\n<!-- Created with matplotlib (https://matplotlib.org/) -->\r\n<svg height=\"248.518125pt\" version=\"1.1\" viewBox=\"0 0 362.5625 248.518125\" width=\"362.5625pt\" xmlns=\"http://www.w3.org/2000/svg\" xmlns:xlink=\"http://www.w3.org/1999/xlink\">\r\n <defs>\r\n  <style type=\"text/css\">\r\n*{stroke-linecap:butt;stroke-linejoin:round;}\r\n  </style>\r\n </defs>\r\n <g id=\"figure_1\">\r\n  <g id=\"patch_1\">\r\n   <path d=\"M 0 248.518125 \r\nL 362.5625 248.518125 \r\nL 362.5625 0 \r\nL 0 0 \r\nz\r\n\" style=\"fill:none;\"/>\r\n  </g>\r\n  <g id=\"axes_1\">\r\n   <g id=\"patch_2\">\r\n    <path d=\"M 20.5625 224.64 \r\nL 355.3625 224.64 \r\nL 355.3625 7.2 \r\nL 20.5625 7.2 \r\nz\r\n\" style=\"fill:#ffffff;\"/>\r\n   </g>\r\n   <g id=\"matplotlib.axis_1\">\r\n    <g id=\"xtick_1\">\r\n     <g id=\"line2d_1\">\r\n      <defs>\r\n       <path d=\"M 0 0 \r\nL 0 3.5 \r\n\" id=\"mb4c3d85c89\" style=\"stroke:#000000;stroke-width:0.8;\"/>\r\n      </defs>\r\n      <g>\r\n       <use style=\"stroke:#000000;stroke-width:0.8;\" x=\"35.780682\" xlink:href=\"#mb4c3d85c89\" y=\"224.64\"/>\r\n      </g>\r\n     </g>\r\n     <g id=\"text_1\">\r\n      <!-- 0 -->\r\n      <defs>\r\n       <path d=\"M 31.78125 66.40625 \r\nQ 24.171875 66.40625 20.328125 58.90625 \r\nQ 16.5 51.421875 16.5 36.375 \r\nQ 16.5 21.390625 20.328125 13.890625 \r\nQ 24.171875 6.390625 31.78125 6.390625 \r\nQ 39.453125 6.390625 43.28125 13.890625 \r\nQ 47.125 21.390625 47.125 36.375 \r\nQ 47.125 51.421875 43.28125 58.90625 \r\nQ 39.453125 66.40625 31.78125 66.40625 \r\nz\r\nM 31.78125 74.21875 \r\nQ 44.046875 74.21875 50.515625 64.515625 \r\nQ 56.984375 54.828125 56.984375 36.375 \r\nQ 56.984375 17.96875 50.515625 8.265625 \r\nQ 44.046875 -1.421875 31.78125 -1.421875 \r\nQ 19.53125 -1.421875 13.0625 8.265625 \r\nQ 6.59375 17.96875 6.59375 36.375 \r\nQ 6.59375 54.828125 13.0625 64.515625 \r\nQ 19.53125 74.21875 31.78125 74.21875 \r\nz\r\n\" id=\"DejaVuSans-48\"/>\r\n      </defs>\r\n      <g transform=\"translate(32.599432 239.238437)scale(0.1 -0.1)\">\r\n       <use xlink:href=\"#DejaVuSans-48\"/>\r\n      </g>\r\n     </g>\r\n    </g>\r\n    <g id=\"xtick_2\">\r\n     <g id=\"line2d_2\">\r\n      <g>\r\n       <use style=\"stroke:#000000;stroke-width:0.8;\" x=\"97.268285\" xlink:href=\"#mb4c3d85c89\" y=\"224.64\"/>\r\n      </g>\r\n     </g>\r\n     <g id=\"text_2\">\r\n      <!-- 20 -->\r\n      <defs>\r\n       <path d=\"M 19.1875 8.296875 \r\nL 53.609375 8.296875 \r\nL 53.609375 0 \r\nL 7.328125 0 \r\nL 7.328125 8.296875 \r\nQ 12.9375 14.109375 22.625 23.890625 \r\nQ 32.328125 33.6875 34.8125 36.53125 \r\nQ 39.546875 41.84375 41.421875 45.53125 \r\nQ 43.3125 49.21875 43.3125 52.78125 \r\nQ 43.3125 58.59375 39.234375 62.25 \r\nQ 35.15625 65.921875 28.609375 65.921875 \r\nQ 23.96875 65.921875 18.8125 64.3125 \r\nQ 13.671875 62.703125 7.8125 59.421875 \r\nL 7.8125 69.390625 \r\nQ 13.765625 71.78125 18.9375 73 \r\nQ 24.125 74.21875 28.421875 74.21875 \r\nQ 39.75 74.21875 46.484375 68.546875 \r\nQ 53.21875 62.890625 53.21875 53.421875 \r\nQ 53.21875 48.921875 51.53125 44.890625 \r\nQ 49.859375 40.875 45.40625 35.40625 \r\nQ 44.1875 33.984375 37.640625 27.21875 \r\nQ 31.109375 20.453125 19.1875 8.296875 \r\nz\r\n\" id=\"DejaVuSans-50\"/>\r\n      </defs>\r\n      <g transform=\"translate(90.905785 239.238437)scale(0.1 -0.1)\">\r\n       <use xlink:href=\"#DejaVuSans-50\"/>\r\n       <use x=\"63.623047\" xlink:href=\"#DejaVuSans-48\"/>\r\n      </g>\r\n     </g>\r\n    </g>\r\n    <g id=\"xtick_3\">\r\n     <g id=\"line2d_3\">\r\n      <g>\r\n       <use style=\"stroke:#000000;stroke-width:0.8;\" x=\"158.755888\" xlink:href=\"#mb4c3d85c89\" y=\"224.64\"/>\r\n      </g>\r\n     </g>\r\n     <g id=\"text_3\">\r\n      <!-- 40 -->\r\n      <defs>\r\n       <path d=\"M 37.796875 64.3125 \r\nL 12.890625 25.390625 \r\nL 37.796875 25.390625 \r\nz\r\nM 35.203125 72.90625 \r\nL 47.609375 72.90625 \r\nL 47.609375 25.390625 \r\nL 58.015625 25.390625 \r\nL 58.015625 17.1875 \r\nL 47.609375 17.1875 \r\nL 47.609375 0 \r\nL 37.796875 0 \r\nL 37.796875 17.1875 \r\nL 4.890625 17.1875 \r\nL 4.890625 26.703125 \r\nz\r\n\" id=\"DejaVuSans-52\"/>\r\n      </defs>\r\n      <g transform=\"translate(152.393388 239.238437)scale(0.1 -0.1)\">\r\n       <use xlink:href=\"#DejaVuSans-52\"/>\r\n       <use x=\"63.623047\" xlink:href=\"#DejaVuSans-48\"/>\r\n      </g>\r\n     </g>\r\n    </g>\r\n    <g id=\"xtick_4\">\r\n     <g id=\"line2d_4\">\r\n      <g>\r\n       <use style=\"stroke:#000000;stroke-width:0.8;\" x=\"220.243492\" xlink:href=\"#mb4c3d85c89\" y=\"224.64\"/>\r\n      </g>\r\n     </g>\r\n     <g id=\"text_4\">\r\n      <!-- 60 -->\r\n      <defs>\r\n       <path d=\"M 33.015625 40.375 \r\nQ 26.375 40.375 22.484375 35.828125 \r\nQ 18.609375 31.296875 18.609375 23.390625 \r\nQ 18.609375 15.53125 22.484375 10.953125 \r\nQ 26.375 6.390625 33.015625 6.390625 \r\nQ 39.65625 6.390625 43.53125 10.953125 \r\nQ 47.40625 15.53125 47.40625 23.390625 \r\nQ 47.40625 31.296875 43.53125 35.828125 \r\nQ 39.65625 40.375 33.015625 40.375 \r\nz\r\nM 52.59375 71.296875 \r\nL 52.59375 62.3125 \r\nQ 48.875 64.0625 45.09375 64.984375 \r\nQ 41.3125 65.921875 37.59375 65.921875 \r\nQ 27.828125 65.921875 22.671875 59.328125 \r\nQ 17.53125 52.734375 16.796875 39.40625 \r\nQ 19.671875 43.65625 24.015625 45.921875 \r\nQ 28.375 48.1875 33.59375 48.1875 \r\nQ 44.578125 48.1875 50.953125 41.515625 \r\nQ 57.328125 34.859375 57.328125 23.390625 \r\nQ 57.328125 12.15625 50.6875 5.359375 \r\nQ 44.046875 -1.421875 33.015625 -1.421875 \r\nQ 20.359375 -1.421875 13.671875 8.265625 \r\nQ 6.984375 17.96875 6.984375 36.375 \r\nQ 6.984375 53.65625 15.1875 63.9375 \r\nQ 23.390625 74.21875 37.203125 74.21875 \r\nQ 40.921875 74.21875 44.703125 73.484375 \r\nQ 48.484375 72.75 52.59375 71.296875 \r\nz\r\n\" id=\"DejaVuSans-54\"/>\r\n      </defs>\r\n      <g transform=\"translate(213.880992 239.238437)scale(0.1 -0.1)\">\r\n       <use xlink:href=\"#DejaVuSans-54\"/>\r\n       <use x=\"63.623047\" xlink:href=\"#DejaVuSans-48\"/>\r\n      </g>\r\n     </g>\r\n    </g>\r\n    <g id=\"xtick_5\">\r\n     <g id=\"line2d_5\">\r\n      <g>\r\n       <use style=\"stroke:#000000;stroke-width:0.8;\" x=\"281.731095\" xlink:href=\"#mb4c3d85c89\" y=\"224.64\"/>\r\n      </g>\r\n     </g>\r\n     <g id=\"text_5\">\r\n      <!-- 80 -->\r\n      <defs>\r\n       <path d=\"M 31.78125 34.625 \r\nQ 24.75 34.625 20.71875 30.859375 \r\nQ 16.703125 27.09375 16.703125 20.515625 \r\nQ 16.703125 13.921875 20.71875 10.15625 \r\nQ 24.75 6.390625 31.78125 6.390625 \r\nQ 38.8125 6.390625 42.859375 10.171875 \r\nQ 46.921875 13.96875 46.921875 20.515625 \r\nQ 46.921875 27.09375 42.890625 30.859375 \r\nQ 38.875 34.625 31.78125 34.625 \r\nz\r\nM 21.921875 38.8125 \r\nQ 15.578125 40.375 12.03125 44.71875 \r\nQ 8.5 49.078125 8.5 55.328125 \r\nQ 8.5 64.0625 14.71875 69.140625 \r\nQ 20.953125 74.21875 31.78125 74.21875 \r\nQ 42.671875 74.21875 48.875 69.140625 \r\nQ 55.078125 64.0625 55.078125 55.328125 \r\nQ 55.078125 49.078125 51.53125 44.71875 \r\nQ 48 40.375 41.703125 38.8125 \r\nQ 48.828125 37.15625 52.796875 32.3125 \r\nQ 56.78125 27.484375 56.78125 20.515625 \r\nQ 56.78125 9.90625 50.3125 4.234375 \r\nQ 43.84375 -1.421875 31.78125 -1.421875 \r\nQ 19.734375 -1.421875 13.25 4.234375 \r\nQ 6.78125 9.90625 6.78125 20.515625 \r\nQ 6.78125 27.484375 10.78125 32.3125 \r\nQ 14.796875 37.15625 21.921875 38.8125 \r\nz\r\nM 18.3125 54.390625 \r\nQ 18.3125 48.734375 21.84375 45.5625 \r\nQ 25.390625 42.390625 31.78125 42.390625 \r\nQ 38.140625 42.390625 41.71875 45.5625 \r\nQ 45.3125 48.734375 45.3125 54.390625 \r\nQ 45.3125 60.0625 41.71875 63.234375 \r\nQ 38.140625 66.40625 31.78125 66.40625 \r\nQ 25.390625 66.40625 21.84375 63.234375 \r\nQ 18.3125 60.0625 18.3125 54.390625 \r\nz\r\n\" id=\"DejaVuSans-56\"/>\r\n      </defs>\r\n      <g transform=\"translate(275.368595 239.238437)scale(0.1 -0.1)\">\r\n       <use xlink:href=\"#DejaVuSans-56\"/>\r\n       <use x=\"63.623047\" xlink:href=\"#DejaVuSans-48\"/>\r\n      </g>\r\n     </g>\r\n    </g>\r\n    <g id=\"xtick_6\">\r\n     <g id=\"line2d_6\">\r\n      <g>\r\n       <use style=\"stroke:#000000;stroke-width:0.8;\" x=\"343.218698\" xlink:href=\"#mb4c3d85c89\" y=\"224.64\"/>\r\n      </g>\r\n     </g>\r\n     <g id=\"text_6\">\r\n      <!-- 100 -->\r\n      <defs>\r\n       <path d=\"M 12.40625 8.296875 \r\nL 28.515625 8.296875 \r\nL 28.515625 63.921875 \r\nL 10.984375 60.40625 \r\nL 10.984375 69.390625 \r\nL 28.421875 72.90625 \r\nL 38.28125 72.90625 \r\nL 38.28125 8.296875 \r\nL 54.390625 8.296875 \r\nL 54.390625 0 \r\nL 12.40625 0 \r\nz\r\n\" id=\"DejaVuSans-49\"/>\r\n      </defs>\r\n      <g transform=\"translate(333.674948 239.238437)scale(0.1 -0.1)\">\r\n       <use xlink:href=\"#DejaVuSans-49\"/>\r\n       <use x=\"63.623047\" xlink:href=\"#DejaVuSans-48\"/>\r\n       <use x=\"127.246094\" xlink:href=\"#DejaVuSans-48\"/>\r\n      </g>\r\n     </g>\r\n    </g>\r\n   </g>\r\n   <g id=\"matplotlib.axis_2\">\r\n    <g id=\"ytick_1\">\r\n     <g id=\"line2d_7\">\r\n      <defs>\r\n       <path d=\"M 0 0 \r\nL -3.5 0 \r\n\" id=\"mbac2e0c902\" style=\"stroke:#000000;stroke-width:0.8;\"/>\r\n      </defs>\r\n      <g>\r\n       <use style=\"stroke:#000000;stroke-width:0.8;\" x=\"20.5625\" xlink:href=\"#mbac2e0c902\" y=\"214.940479\"/>\r\n      </g>\r\n     </g>\r\n     <g id=\"text_7\">\r\n      <!-- 0 -->\r\n      <g transform=\"translate(7.2 218.739698)scale(0.1 -0.1)\">\r\n       <use xlink:href=\"#DejaVuSans-48\"/>\r\n      </g>\r\n     </g>\r\n    </g>\r\n    <g id=\"ytick_2\">\r\n     <g id=\"line2d_8\">\r\n      <g>\r\n       <use style=\"stroke:#000000;stroke-width:0.8;\" x=\"20.5625\" xlink:href=\"#mbac2e0c902\" y=\"167.866997\"/>\r\n      </g>\r\n     </g>\r\n     <g id=\"text_8\">\r\n      <!-- 1 -->\r\n      <g transform=\"translate(7.2 171.666216)scale(0.1 -0.1)\">\r\n       <use xlink:href=\"#DejaVuSans-49\"/>\r\n      </g>\r\n     </g>\r\n    </g>\r\n    <g id=\"ytick_3\">\r\n     <g id=\"line2d_9\">\r\n      <g>\r\n       <use style=\"stroke:#000000;stroke-width:0.8;\" x=\"20.5625\" xlink:href=\"#mbac2e0c902\" y=\"120.793515\"/>\r\n      </g>\r\n     </g>\r\n     <g id=\"text_9\">\r\n      <!-- 2 -->\r\n      <g transform=\"translate(7.2 124.592734)scale(0.1 -0.1)\">\r\n       <use xlink:href=\"#DejaVuSans-50\"/>\r\n      </g>\r\n     </g>\r\n    </g>\r\n    <g id=\"ytick_4\">\r\n     <g id=\"line2d_10\">\r\n      <g>\r\n       <use style=\"stroke:#000000;stroke-width:0.8;\" x=\"20.5625\" xlink:href=\"#mbac2e0c902\" y=\"73.720033\"/>\r\n      </g>\r\n     </g>\r\n     <g id=\"text_10\">\r\n      <!-- 3 -->\r\n      <defs>\r\n       <path d=\"M 40.578125 39.3125 \r\nQ 47.65625 37.796875 51.625 33 \r\nQ 55.609375 28.21875 55.609375 21.1875 \r\nQ 55.609375 10.40625 48.1875 4.484375 \r\nQ 40.765625 -1.421875 27.09375 -1.421875 \r\nQ 22.515625 -1.421875 17.65625 -0.515625 \r\nQ 12.796875 0.390625 7.625 2.203125 \r\nL 7.625 11.71875 \r\nQ 11.71875 9.328125 16.59375 8.109375 \r\nQ 21.484375 6.890625 26.8125 6.890625 \r\nQ 36.078125 6.890625 40.9375 10.546875 \r\nQ 45.796875 14.203125 45.796875 21.1875 \r\nQ 45.796875 27.640625 41.28125 31.265625 \r\nQ 36.765625 34.90625 28.71875 34.90625 \r\nL 20.21875 34.90625 \r\nL 20.21875 43.015625 \r\nL 29.109375 43.015625 \r\nQ 36.375 43.015625 40.234375 45.921875 \r\nQ 44.09375 48.828125 44.09375 54.296875 \r\nQ 44.09375 59.90625 40.109375 62.90625 \r\nQ 36.140625 65.921875 28.71875 65.921875 \r\nQ 24.65625 65.921875 20.015625 65.03125 \r\nQ 15.375 64.15625 9.8125 62.3125 \r\nL 9.8125 71.09375 \r\nQ 15.4375 72.65625 20.34375 73.4375 \r\nQ 25.25 74.21875 29.59375 74.21875 \r\nQ 40.828125 74.21875 47.359375 69.109375 \r\nQ 53.90625 64.015625 53.90625 55.328125 \r\nQ 53.90625 49.265625 50.4375 45.09375 \r\nQ 46.96875 40.921875 40.578125 39.3125 \r\nz\r\n\" id=\"DejaVuSans-51\"/>\r\n      </defs>\r\n      <g transform=\"translate(7.2 77.519252)scale(0.1 -0.1)\">\r\n       <use xlink:href=\"#DejaVuSans-51\"/>\r\n      </g>\r\n     </g>\r\n    </g>\r\n    <g id=\"ytick_5\">\r\n     <g id=\"line2d_11\">\r\n      <g>\r\n       <use style=\"stroke:#000000;stroke-width:0.8;\" x=\"20.5625\" xlink:href=\"#mbac2e0c902\" y=\"26.646552\"/>\r\n      </g>\r\n     </g>\r\n     <g id=\"text_11\">\r\n      <!-- 4 -->\r\n      <g transform=\"translate(7.2 30.44577)scale(0.1 -0.1)\">\r\n       <use xlink:href=\"#DejaVuSans-52\"/>\r\n      </g>\r\n     </g>\r\n    </g>\r\n   </g>\r\n   <g id=\"line2d_12\">\r\n    <path clip-path=\"url(#p9b1ca17334)\" d=\"M 35.780682 21.890695 \r\nL 38.855062 32.213281 \r\nL 41.929442 45.411329 \r\nL 45.003822 62.223739 \r\nL 48.078202 85.353733 \r\nL 51.152583 109.393188 \r\nL 54.226963 129.933024 \r\nL 57.301343 146.798929 \r\nL 60.375723 160.056368 \r\nL 63.450103 169.892082 \r\nL 66.524483 178.284457 \r\nL 69.598864 184.59325 \r\nL 72.673244 188.755972 \r\nL 75.747624 191.789169 \r\nL 78.822004 194.480215 \r\nL 81.896384 196.174694 \r\nL 84.970764 197.927507 \r\nL 88.045145 199.172736 \r\nL 91.119525 199.534608 \r\nL 94.193905 201.070156 \r\nL 97.268285 201.386702 \r\nL 100.342665 202.527716 \r\nL 103.417045 202.636076 \r\nL 106.491426 203.450142 \r\nL 109.565806 203.890991 \r\nL 112.640186 204.329338 \r\nL 115.714566 205.306482 \r\nL 118.788946 205.650286 \r\nL 121.863326 205.632816 \r\nL 124.937707 206.56561 \r\nL 128.012087 206.874378 \r\nL 131.086467 207.357115 \r\nL 134.160847 207.572723 \r\nL 137.235227 208.000364 \r\nL 140.309607 208.330207 \r\nL 143.383988 208.541882 \r\nL 146.458368 209.000456 \r\nL 149.532748 209.316354 \r\nL 152.607128 209.794896 \r\nL 155.681508 209.97386 \r\nL 158.755888 210.288757 \r\nL 161.830269 210.65119 \r\nL 164.904649 210.9158 \r\nL 167.979029 211.141452 \r\nL 171.053409 211.419697 \r\nL 174.127789 211.617373 \r\nL 177.202169 211.620545 \r\nL 180.27655 212.008802 \r\nL 183.35093 212.182393 \r\nL 186.42531 212.438223 \r\nL 189.49969 212.593417 \r\nL 192.57407 212.694529 \r\nL 195.64845 212.933054 \r\nL 198.722831 213.017109 \r\nL 201.797211 213.198496 \r\nL 204.871591 213.333544 \r\nL 207.945971 213.451155 \r\nL 211.020351 213.544405 \r\nL 214.094731 213.654619 \r\nL 217.169112 213.752695 \r\nL 220.243492 213.848873 \r\nL 223.317872 213.920175 \r\nL 226.392252 214.000922 \r\nL 229.466632 214.066922 \r\nL 232.541012 214.14159 \r\nL 235.615393 214.178006 \r\nL 238.689773 214.23878 \r\nL 241.764153 214.233422 \r\nL 244.838533 214.306436 \r\nL 247.912913 214.338463 \r\nL 250.987293 214.382747 \r\nL 254.061674 214.434431 \r\nL 257.136054 214.438044 \r\nL 260.210434 214.466251 \r\nL 263.284814 214.475698 \r\nL 266.359194 214.513892 \r\nL 269.433574 214.526074 \r\nL 272.507955 214.555168 \r\nL 275.582335 214.575415 \r\nL 278.656715 214.593271 \r\nL 281.731095 214.59075 \r\nL 284.805475 214.62052 \r\nL 287.879855 214.635011 \r\nL 290.954236 214.6443 \r\nL 294.028616 214.657301 \r\nL 297.102996 214.663753 \r\nL 300.177376 214.674351 \r\nL 303.251756 214.668809 \r\nL 306.326136 214.679727 \r\nL 309.400517 214.698658 \r\nL 312.474897 214.705121 \r\nL 315.549277 214.715539 \r\nL 318.623657 214.717783 \r\nL 321.698037 214.724541 \r\nL 324.772417 214.728693 \r\nL 327.846798 214.73545 \r\nL 330.921178 214.744413 \r\nL 333.995558 214.747413 \r\nL 337.069938 214.750978 \r\nL 340.144318 214.756364 \r\n\" style=\"fill:none;stroke:#1f77b4;stroke-linecap:square;stroke-width:1.5;\"/>\r\n   </g>\r\n   <g id=\"line2d_13\">\r\n    <path clip-path=\"url(#p9b1ca17334)\" d=\"M 35.780682 17.083636 \r\nL 38.855062 29.806986 \r\nL 41.929442 46.341222 \r\nL 45.003822 68.08111 \r\nL 48.078202 93.179367 \r\nL 51.152583 115.114823 \r\nL 54.226963 134.04802 \r\nL 57.301343 150.049086 \r\nL 60.375723 162.732526 \r\nL 63.450103 172.572553 \r\nL 66.524483 179.791279 \r\nL 69.598864 185.192367 \r\nL 72.673244 189.204387 \r\nL 75.747624 192.292139 \r\nL 78.822004 194.641707 \r\nL 81.896384 196.559142 \r\nL 84.970764 198.017541 \r\nL 88.045145 199.215194 \r\nL 91.119525 200.174317 \r\nL 94.193905 201.100333 \r\nL 97.268285 201.88674 \r\nL 100.342665 202.588975 \r\nL 103.417045 203.222618 \r\nL 106.491426 203.757203 \r\nL 109.565806 204.352757 \r\nL 112.640186 204.889297 \r\nL 115.714566 205.424908 \r\nL 118.788946 205.884066 \r\nL 121.863326 206.31209 \r\nL 124.937707 206.733189 \r\nL 128.012087 207.169411 \r\nL 131.086467 207.555832 \r\nL 134.160847 207.91833 \r\nL 137.235227 208.302567 \r\nL 140.309607 208.643907 \r\nL 143.383988 209.003146 \r\nL 146.458368 209.305531 \r\nL 149.532748 209.617563 \r\nL 152.607128 209.952314 \r\nL 155.681508 210.224842 \r\nL 158.755888 210.51911 \r\nL 161.830269 210.788388 \r\nL 164.904649 210.999216 \r\nL 167.979029 211.250835 \r\nL 171.053409 211.469882 \r\nL 174.127789 211.708425 \r\nL 177.202169 211.898457 \r\nL 180.27655 212.085386 \r\nL 183.35093 212.283701 \r\nL 186.42531 212.467642 \r\nL 189.49969 212.642273 \r\nL 192.57407 212.802339 \r\nL 195.64845 212.966825 \r\nL 198.722831 213.095258 \r\nL 201.797211 213.224701 \r\nL 204.871591 213.34057 \r\nL 207.945971 213.448127 \r\nL 211.020351 213.55107 \r\nL 214.094731 213.651776 \r\nL 217.169112 213.743856 \r\nL 220.243492 213.815675 \r\nL 223.317872 213.890018 \r\nL 226.392252 213.965052 \r\nL 229.466632 214.026697 \r\nL 232.541012 214.085264 \r\nL 235.615393 214.13538 \r\nL 238.689773 214.184221 \r\nL 241.764153 214.227181 \r\nL 244.838533 214.272119 \r\nL 247.912913 214.302351 \r\nL 250.987293 214.336037 \r\nL 254.061674 214.36687 \r\nL 257.136054 214.387458 \r\nL 260.210434 214.402256 \r\nL 263.284814 214.431528 \r\nL 266.359194 214.453674 \r\nL 269.433574 214.468728 \r\nL 272.507955 214.489349 \r\nL 275.582335 214.504364 \r\nL 278.656715 214.520075 \r\nL 281.731095 214.533364 \r\nL 284.805475 214.552133 \r\nL 287.879855 214.562365 \r\nL 290.954236 214.575347 \r\nL 294.028616 214.586583 \r\nL 297.102996 214.598769 \r\nL 300.177376 214.607623 \r\nL 303.251756 214.61773 \r\nL 306.326136 214.627835 \r\nL 309.400517 214.637682 \r\nL 312.474897 214.645675 \r\nL 315.549277 214.655619 \r\nL 318.623657 214.663317 \r\nL 321.698037 214.66647 \r\nL 324.772417 214.676499 \r\nL 327.846798 214.683318 \r\nL 330.921178 214.690074 \r\nL 333.995558 214.694437 \r\nL 337.069938 214.701832 \r\nL 340.144318 214.707919 \r\n\" style=\"fill:none;stroke:#ff7f0e;stroke-linecap:square;stroke-width:1.5;\"/>\r\n   </g>\r\n   <g id=\"patch_3\">\r\n    <path d=\"M 20.5625 224.64 \r\nL 20.5625 7.2 \r\n\" style=\"fill:none;stroke:#000000;stroke-linecap:square;stroke-linejoin:miter;stroke-width:0.8;\"/>\r\n   </g>\r\n   <g id=\"patch_4\">\r\n    <path d=\"M 355.3625 224.64 \r\nL 355.3625 7.2 \r\n\" style=\"fill:none;stroke:#000000;stroke-linecap:square;stroke-linejoin:miter;stroke-width:0.8;\"/>\r\n   </g>\r\n   <g id=\"patch_5\">\r\n    <path d=\"M 20.5625 224.64 \r\nL 355.3625 224.64 \r\n\" style=\"fill:none;stroke:#000000;stroke-linecap:square;stroke-linejoin:miter;stroke-width:0.8;\"/>\r\n   </g>\r\n   <g id=\"patch_6\">\r\n    <path d=\"M 20.5625 7.2 \r\nL 355.3625 7.2 \r\n\" style=\"fill:none;stroke:#000000;stroke-linecap:square;stroke-linejoin:miter;stroke-width:0.8;\"/>\r\n   </g>\r\n   <g id=\"legend_1\">\r\n    <g id=\"patch_7\">\r\n     <path d=\"M 277.221875 44.834375 \r\nL 348.3625 44.834375 \r\nQ 350.3625 44.834375 350.3625 42.834375 \r\nL 350.3625 14.2 \r\nQ 350.3625 12.2 348.3625 12.2 \r\nL 277.221875 12.2 \r\nQ 275.221875 12.2 275.221875 14.2 \r\nL 275.221875 42.834375 \r\nQ 275.221875 44.834375 277.221875 44.834375 \r\nz\r\n\" style=\"fill:#ffffff;opacity:0.8;stroke:#cccccc;stroke-linejoin:miter;\"/>\r\n    </g>\r\n    <g id=\"line2d_14\">\r\n     <path d=\"M 279.221875 20.298437 \r\nL 299.221875 20.298437 \r\n\" style=\"fill:none;stroke:#1f77b4;stroke-linecap:square;stroke-width:1.5;\"/>\r\n    </g>\r\n    <g id=\"line2d_15\"/>\r\n    <g id=\"text_12\">\r\n     <!-- loss -->\r\n     <defs>\r\n      <path d=\"M 9.421875 75.984375 \r\nL 18.40625 75.984375 \r\nL 18.40625 0 \r\nL 9.421875 0 \r\nz\r\n\" id=\"DejaVuSans-108\"/>\r\n      <path d=\"M 30.609375 48.390625 \r\nQ 23.390625 48.390625 19.1875 42.75 \r\nQ 14.984375 37.109375 14.984375 27.296875 \r\nQ 14.984375 17.484375 19.15625 11.84375 \r\nQ 23.34375 6.203125 30.609375 6.203125 \r\nQ 37.796875 6.203125 41.984375 11.859375 \r\nQ 46.1875 17.53125 46.1875 27.296875 \r\nQ 46.1875 37.015625 41.984375 42.703125 \r\nQ 37.796875 48.390625 30.609375 48.390625 \r\nz\r\nM 30.609375 56 \r\nQ 42.328125 56 49.015625 48.375 \r\nQ 55.71875 40.765625 55.71875 27.296875 \r\nQ 55.71875 13.875 49.015625 6.21875 \r\nQ 42.328125 -1.421875 30.609375 -1.421875 \r\nQ 18.84375 -1.421875 12.171875 6.21875 \r\nQ 5.515625 13.875 5.515625 27.296875 \r\nQ 5.515625 40.765625 12.171875 48.375 \r\nQ 18.84375 56 30.609375 56 \r\nz\r\n\" id=\"DejaVuSans-111\"/>\r\n      <path d=\"M 44.28125 53.078125 \r\nL 44.28125 44.578125 \r\nQ 40.484375 46.53125 36.375 47.5 \r\nQ 32.28125 48.484375 27.875 48.484375 \r\nQ 21.1875 48.484375 17.84375 46.4375 \r\nQ 14.5 44.390625 14.5 40.28125 \r\nQ 14.5 37.15625 16.890625 35.375 \r\nQ 19.28125 33.59375 26.515625 31.984375 \r\nL 29.59375 31.296875 \r\nQ 39.15625 29.25 43.1875 25.515625 \r\nQ 47.21875 21.78125 47.21875 15.09375 \r\nQ 47.21875 7.46875 41.1875 3.015625 \r\nQ 35.15625 -1.421875 24.609375 -1.421875 \r\nQ 20.21875 -1.421875 15.453125 -0.5625 \r\nQ 10.6875 0.296875 5.421875 2 \r\nL 5.421875 11.28125 \r\nQ 10.40625 8.6875 15.234375 7.390625 \r\nQ 20.0625 6.109375 24.8125 6.109375 \r\nQ 31.15625 6.109375 34.5625 8.28125 \r\nQ 37.984375 10.453125 37.984375 14.40625 \r\nQ 37.984375 18.0625 35.515625 20.015625 \r\nQ 33.0625 21.96875 24.703125 23.78125 \r\nL 21.578125 24.515625 \r\nQ 13.234375 26.265625 9.515625 29.90625 \r\nQ 5.8125 33.546875 5.8125 39.890625 \r\nQ 5.8125 47.609375 11.28125 51.796875 \r\nQ 16.75 56 26.8125 56 \r\nQ 31.78125 56 36.171875 55.265625 \r\nQ 40.578125 54.546875 44.28125 53.078125 \r\nz\r\n\" id=\"DejaVuSans-115\"/>\r\n     </defs>\r\n     <g transform=\"translate(307.221875 23.798437)scale(0.1 -0.1)\">\r\n      <use xlink:href=\"#DejaVuSans-108\"/>\r\n      <use x=\"27.783203\" xlink:href=\"#DejaVuSans-111\"/>\r\n      <use x=\"88.964844\" xlink:href=\"#DejaVuSans-115\"/>\r\n      <use x=\"141.064453\" xlink:href=\"#DejaVuSans-115\"/>\r\n     </g>\r\n    </g>\r\n    <g id=\"line2d_16\">\r\n     <path d=\"M 279.221875 34.976562 \r\nL 299.221875 34.976562 \r\n\" style=\"fill:none;stroke:#ff7f0e;stroke-linecap:square;stroke-width:1.5;\"/>\r\n    </g>\r\n    <g id=\"line2d_17\"/>\r\n    <g id=\"text_13\">\r\n     <!-- val_loss -->\r\n     <defs>\r\n      <path d=\"M 2.984375 54.6875 \r\nL 12.5 54.6875 \r\nL 29.59375 8.796875 \r\nL 46.6875 54.6875 \r\nL 56.203125 54.6875 \r\nL 35.6875 0 \r\nL 23.484375 0 \r\nz\r\n\" id=\"DejaVuSans-118\"/>\r\n      <path d=\"M 34.28125 27.484375 \r\nQ 23.390625 27.484375 19.1875 25 \r\nQ 14.984375 22.515625 14.984375 16.5 \r\nQ 14.984375 11.71875 18.140625 8.90625 \r\nQ 21.296875 6.109375 26.703125 6.109375 \r\nQ 34.1875 6.109375 38.703125 11.40625 \r\nQ 43.21875 16.703125 43.21875 25.484375 \r\nL 43.21875 27.484375 \r\nz\r\nM 52.203125 31.203125 \r\nL 52.203125 0 \r\nL 43.21875 0 \r\nL 43.21875 8.296875 \r\nQ 40.140625 3.328125 35.546875 0.953125 \r\nQ 30.953125 -1.421875 24.3125 -1.421875 \r\nQ 15.921875 -1.421875 10.953125 3.296875 \r\nQ 6 8.015625 6 15.921875 \r\nQ 6 25.140625 12.171875 29.828125 \r\nQ 18.359375 34.515625 30.609375 34.515625 \r\nL 43.21875 34.515625 \r\nL 43.21875 35.40625 \r\nQ 43.21875 41.609375 39.140625 45 \r\nQ 35.0625 48.390625 27.6875 48.390625 \r\nQ 23 48.390625 18.546875 47.265625 \r\nQ 14.109375 46.140625 10.015625 43.890625 \r\nL 10.015625 52.203125 \r\nQ 14.9375 54.109375 19.578125 55.046875 \r\nQ 24.21875 56 28.609375 56 \r\nQ 40.484375 56 46.34375 49.84375 \r\nQ 52.203125 43.703125 52.203125 31.203125 \r\nz\r\n\" id=\"DejaVuSans-97\"/>\r\n      <path d=\"M 50.984375 -16.609375 \r\nL 50.984375 -23.578125 \r\nL -0.984375 -23.578125 \r\nL -0.984375 -16.609375 \r\nz\r\n\" id=\"DejaVuSans-95\"/>\r\n     </defs>\r\n     <g transform=\"translate(307.221875 38.476562)scale(0.1 -0.1)\">\r\n      <use xlink:href=\"#DejaVuSans-118\"/>\r\n      <use x=\"59.179688\" xlink:href=\"#DejaVuSans-97\"/>\r\n      <use x=\"120.458984\" xlink:href=\"#DejaVuSans-108\"/>\r\n      <use x=\"148.242188\" xlink:href=\"#DejaVuSans-95\"/>\r\n      <use x=\"198.242188\" xlink:href=\"#DejaVuSans-108\"/>\r\n      <use x=\"226.025391\" xlink:href=\"#DejaVuSans-111\"/>\r\n      <use x=\"287.207031\" xlink:href=\"#DejaVuSans-115\"/>\r\n      <use x=\"339.306641\" xlink:href=\"#DejaVuSans-115\"/>\r\n     </g>\r\n    </g>\r\n   </g>\r\n  </g>\r\n </g>\r\n <defs>\r\n  <clipPath id=\"p9b1ca17334\">\r\n   <rect height=\"217.44\" width=\"334.8\" x=\"20.5625\" y=\"7.2\"/>\r\n  </clipPath>\r\n </defs>\r\n</svg>\r\n",
      "image/png": "[encoded data removed]"
     },
     "metadata": {
      "needs_background": "light"
     }
    }
   ],
   "source": [
    "plt.plot(train_history, label=\"loss\")\n",
    "plt.plot(val_history, label=\"val_loss\")\n",
    "plt.legend()\n",
    "plt.show()"
   ]
  },
  {
   "cell_type": "code",
   "execution_count": 58,
   "metadata": {
    "tags": []
   },
   "outputs": [
    {
     "output_type": "stream",
     "name": "stdout",
     "text": "(48000, 1, 28, 28)\n(12000, 1, 28, 28)\n(10000, 1, 28, 28)\n"
    }
   ],
   "source": [
    "# 【問題6】MNISTをKerasで学習\n",
    "# 読み込み\n",
    "(X_train, y_train), (X_test, y_test) = mnist.load_data()\n",
    "X_train = X_train.astype(np.float)[:, np.newaxis, :, :]\n",
    "X_test = X_test.astype(np.float)[:, np.newaxis, :, :]\n",
    "X_train /= 255\n",
    "X_test /= 255\n",
    "X_train, X_val, y_train, y_val = train_test_split(X_train, y_train, test_size=0.2)\n",
    "print(X_train.shape)\n",
    "print(X_val.shape)\n",
    "print(X_test.shape)"
   ]
  },
  {
   "cell_type": "code",
   "execution_count": 59,
   "metadata": {
    "tags": []
   },
   "outputs": [
    {
     "output_type": "stream",
     "name": "stdout",
     "text": "NNfor6(\n  (layer): Sequential(\n    (0): Conv2d(1, 32, kernel_size=(3, 3), stride=(1, 1))\n    (1): ReLU()\n    (2): Conv2d(32, 16, kernel_size=(3, 3), stride=(1, 1))\n    (3): ReLU()\n    (4): MaxPool2d(kernel_size=(2, 2), stride=(2, 2), padding=0, dilation=1, ceil_mode=False)\n    (5): Flatten()\n    (6): Linear(in_features=2304, out_features=10, bias=True)\n  )\n)\n"
    }
   ],
   "source": [
    "# PyTorchでモデル構築\n",
    "n_channels_1 = 1\n",
    "n_channels_2 = 32\n",
    "activation_1 = nn.ReLU()\n",
    "n_channels_3 = 16\n",
    "activation_2 = nn.ReLU()\n",
    "n_features = int(((X_train.shape[2]-4)/2)*((X_train.shape[3]-4)/2)*n_channels_3)\n",
    "n_output = 10\n",
    "\n",
    "## ネットワーク\n",
    "class NNfor6(nn.Module):\n",
    "    \n",
    "    def __init__(self):\n",
    "        super(NNfor6, self).__init__()\n",
    "        self.layer = nn.Sequential(nn.Conv2d(n_channels_1, n_channels_2, kernel_size=(3, 3)), activation_1,\n",
    "                                   nn.Conv2d(n_channels_2, n_channels_3, kernel_size=(3, 3)), activation_2,\n",
    "                                   nn.MaxPool2d(kernel_size=(2, 2)),\n",
    "                                   nn.Flatten(),\n",
    "                                   nn.Linear(n_features, n_output))\n",
    "    \n",
    "    def forward(self, X):\n",
    "        X = self.layer(X)\n",
    "\n",
    "        return X\n",
    "\n",
    "## インスタンス作成\n",
    "model = NNfor6()\n",
    "print(model)"
   ]
  },
  {
   "cell_type": "code",
   "execution_count": 60,
   "metadata": {},
   "outputs": [],
   "source": [
    "## ミニバッチ\n",
    "batch_size = 128\n",
    "\n",
    "## numpy配列をテンソルに変換\n",
    "t_X_train = torch.from_numpy(X_train).float()\n",
    "t_y_train = torch.from_numpy(y_train).long()\n",
    "t_X_valid = torch.from_numpy(X_val).float()\n",
    "t_y_valid = torch.from_numpy(y_val).long()\n",
    "\n",
    "## 特徴量とラベルをデータセットにまとめる\n",
    "dataset_train = TensorDataset(t_X_train, t_y_train)\n",
    "dataset_valid = TensorDataset(t_X_valid, t_y_valid)\n",
    "\n",
    "# データローダを作成\n",
    "loader_train = DataLoader(dataset_train, batch_size=batch_size, shuffle=True)\n",
    "loader_valid = DataLoader(dataset_valid, batch_size=batch_size)"
   ]
  },
  {
   "cell_type": "code",
   "execution_count": 61,
   "metadata": {},
   "outputs": [],
   "source": [
    "## オプティマイザ\n",
    "lr = 0.001\n",
    "\n",
    "optimizer = optim.Adam(\n",
    "    model.parameters(),\n",
    "    lr=lr\n",
    ")\n",
    "\n",
    "## 損失関数\n",
    "criterion = nn.CrossEntropyLoss()"
   ]
  },
  {
   "cell_type": "code",
   "execution_count": 62,
   "metadata": {},
   "outputs": [],
   "source": [
    "## 学習(train)\n",
    "def train_step(X_train, y_train):\n",
    "    ## 訓練モード    \n",
    "    model.train()\n",
    "\n",
    "    ## 訓練データに対して予測\n",
    "    y_train_pred = model(X_train)\n",
    "\n",
    "    ## 勾配初期化\n",
    "    optimizer.zero_grad()\n",
    "    \n",
    "    ## 損失の取得\n",
    "    loss = criterion(y_train_pred, y_train)\n",
    "    ## 勾配を計算\n",
    "    loss.backward()\n",
    "\n",
    "    ## パラメータ更新\n",
    "    optimizer.step()\n",
    "\n",
    "    ## 正解数の確認\n",
    "    with torch.no_grad():\n",
    "        y_train_pred_num = torch.argmax(y_train_pred, axis=1)\n",
    "        acc = (y_train_pred_num == y_train).sum()\n",
    "\n",
    "    return (loss.item(), acc.item())\n",
    "\n",
    "## 評価(validation)\n",
    "def valid_step(X_val, y_val):\n",
    "    ## 評価モード\n",
    "    model.eval()\n",
    "\n",
    "    ## 予測\n",
    "    y_val_pred = model(X_val)\n",
    "\n",
    "    ## 損失計算\n",
    "    loss = criterion(y_val_pred, y_val)\n",
    "\n",
    "    ## 正解数計算\n",
    "    with torch.no_grad():\n",
    "        y_val_pred_num = torch.argmax(y_val_pred, axis=1)\n",
    "        acc = (y_val_pred_num == y_val).sum()\n",
    "\n",
    "    return (loss.item(), acc.item())"
   ]
  },
  {
   "cell_type": "code",
   "execution_count": 63,
   "metadata": {
    "tags": []
   },
   "outputs": [
    {
     "output_type": "stream",
     "name": "stdout",
     "text": "epoch1/5: [loss:0.0028, acc:0.8965, val_loss:0.0011, val_acc:0.9619]\nepoch2/5: [loss:0.0007, acc:0.9729, val_loss:0.0006, val_acc:0.9768]\nepoch3/5: [loss:0.0005, acc:0.9811, val_loss:0.0006, val_acc:0.9772]\nepoch4/5: [loss:0.0004, acc:0.9841, val_loss:0.0005, val_acc:0.9796]\nepoch5/5: [loss:0.0003, acc:0.9864, val_loss:0.0005, val_acc:0.9822]\nDone!\n"
    },
    {
     "output_type": "display_data",
     "data": {
      "text/plain": "OrderedDict([('layer.0.weight',\n              tensor([[[[-6.6515e-02,  3.8745e-01, -3.6519e-01],\n                        [ 3.0598e-01, -1.6159e-01, -1.1785e-01],\n                        [ 3.4303e-01, -2.1639e-02, -4.2074e-01]]],\n              \n              \n                      [[[-1.7692e-01, -4.7700e-01,  1.8381e-01],\n                        [-3.9763e-01, -2.1087e-01,  3.2134e-01],\n                        [-4.9433e-01, -2.3804e-01,  3.2278e-01]]],\n              \n              \n                      [[[-1.9446e-01, -6.2865e-02,  3.9672e-02],\n                        [-8.6459e-02,  8.3800e-02,  1.0328e-01],\n                        [ 9.9521e-03, -1.0248e-01, -2.0454e-01]]],\n              \n              \n                      [[[ 1.8014e-01,  2.0634e-01,  5.0279e-01],\n                        [-5.4063e-02,  3.6979e-01, -1.1240e-01],\n                        [-2.1484e-01, -4.7952e-01, -4.1213e-01]]],\n              \n              \n                      [[[ 3.4974e-02, -2.2078e-01,  4.2671e-04],\n                        [ 4.7836e-02,  3.0812e-01,  4.5509e-01],\n                        [-7.0214e-02,  3.1230e-03,  3.9253e-01]]],\n              \n              \n                      [[[ 6.4301e-02,  3.4789e-01, -2.4635e-01],\n                        [-7.6108e-02,  3.6388e-01, -9.0382e-02],\n                        [-3.3683e-02, -1.3423e-01,  3.9917e-02]]],\n              \n              \n                      [[[-1.7566e-01,  2.1410e-01, -5.3822e-02],\n                        [-2.6763e-01, -4.1472e-02, -1.4149e-01],\n                        [-2.5842e-01, -2.2276e-01, -2.1377e-01]]],\n              \n              \n                      [[[ 3.0513e-01,  1.6141e-01,  3.2135e-01],\n                        [ 7.4574e-02,  3.4114e-01,  2.8601e-01],\n                        [-8.0268e-02, -7.5144e-02, -2.7421e-01]]],\n              \n              \n                      [[[-6.1171e-02, -1.4000e-01, -2.7185e-01],\n                        [ 3.2271e-02, -2.7588e-01,  2.5436e-01],\n                        [ 2.1230e-01,  4.7722e-01,  2.9668e-03]]],\n              \n              \n                      [[[ 1.8694e-02,  2.5282e-01, -8.6958e-02],\n                        [ 1.7130e-01,  6.4956e-02,  2.6562e-02],\n                        [-6.9015e-02,  3.9525e-01,  4.2432e-01]]],\n              \n              \n                      [[[ 2.0921e-01, -4.0859e-02, -2.6824e-03],\n                        [ 2.4543e-01,  1.1523e-01, -2.1916e-01],\n                        [ 4.8260e-01, -2.3791e-01, -3.0215e-01]]],\n              \n              \n                      [[[-3.9226e-01, -1.6366e-02, -2.4947e-01],\n                        [-2.1387e-01, -3.3981e-01,  4.2220e-01],\n                        [-4.4073e-02,  1.8804e-01,  4.2042e-01]]],\n              \n              \n                      [[[-1.9631e-02,  3.5423e-01,  1.1988e-01],\n                        [ 6.5070e-02,  3.1629e-01,  3.5930e-01],\n                        [ 2.9982e-02,  9.3281e-02,  2.8787e-01]]],\n              \n              \n                      [[[ 8.2560e-02, -2.0924e-01,  3.3401e-02],\n                        [-2.3145e-02, -9.7142e-02,  2.6725e-01],\n                        [ 1.2694e-01,  2.9279e-01,  3.6837e-01]]],\n              \n              \n                      [[[-2.2852e-01,  2.6761e-01,  8.7823e-02],\n                        [ 7.0542e-05,  2.2288e-01,  3.0963e-01],\n                        [-2.6037e-02,  2.1212e-01,  3.8698e-01]]],\n              \n              \n                      [[[-3.1822e-01,  1.8388e-02, -4.4794e-01],\n                        [-3.8603e-02, -1.7543e-01, -3.0777e-01],\n                        [ 5.0238e-01, -7.9589e-02,  3.0741e-01]]],\n              \n              \n                      [[[-2.8024e-01, -2.9269e-03, -3.9760e-01],\n                        [ 3.6218e-01,  4.1095e-01, -1.0546e-01],\n                        [ 3.7192e-01, -1.7599e-02,  9.9257e-02]]],\n              \n              \n                      [[[ 3.5611e-01, -3.2797e-02, -2.5109e-01],\n                        [ 3.4188e-01, -1.9928e-01, -1.6988e-01],\n                        [ 4.2754e-01,  2.0480e-01, -1.9345e-01]]],\n              \n              \n                      [[[ 1.5547e-01, -1.6473e-01, -5.0684e-01],\n                        [ 4.5671e-01, -1.7172e-01, -3.3865e-01],\n                        [ 5.4355e-01, -7.2923e-02,  1.9254e-01]]],\n              \n              \n                      [[[-8.5987e-02, -2.3710e-01, -2.2506e-02],\n                        [ 5.0265e-02, -2.6944e-01, -3.3239e-01],\n                        [-2.9373e-01, -1.3348e-01,  2.1513e-01]]],\n              \n              \n                      [[[-1.0091e-01,  1.0843e-01,  5.4855e-01],\n                        [-5.1980e-01, -2.5502e-01, -7.4180e-02],\n                        [ 1.4080e-01, -1.3198e-01,  1.1986e-01]]],\n              \n              \n                      [[[-3.8550e-01,  1.7839e-01,  4.7418e-01],\n                        [-7.6307e-02, -8.5535e-02,  2.2594e-01],\n                        [ 1.3237e-01,  2.4333e-01,  2.4847e-02]]],\n              \n              \n                      [[[ 6.1352e-01, -4.1537e-02, -1.3062e-01],\n                        [-2.8659e-01,  1.8187e-01, -1.2266e-01],\n                        [-4.2026e-01, -4.3916e-02,  1.6281e-01]]],\n              \n              \n                      [[[ 5.0633e-01,  7.0678e-02, -1.6148e-01],\n                        [-3.3577e-01, -2.7998e-01,  3.6356e-01],\n                        [-2.9783e-01, -1.5459e-01,  3.3441e-01]]],\n              \n              \n                      [[[ 3.5978e-01, -3.0894e-01,  1.8662e-01],\n                        [ 3.3638e-01,  1.5645e-01, -2.8699e-01],\n                        [ 3.4560e-01,  3.2284e-01, -3.1624e-01]]],\n              \n              \n                      [[[-1.1987e-01, -1.6805e-01,  4.1205e-01],\n                        [ 2.1736e-01,  1.1603e-01, -1.4663e-01],\n                        [ 2.1201e-01, -1.4380e-01, -3.3710e-01]]],\n              \n              \n                      [[[-5.1330e-01, -6.4064e-01, -3.0748e-01],\n                        [ 3.7314e-02,  2.5826e-01, -8.1623e-02],\n                        [ 1.0886e-01,  2.9943e-01,  7.6922e-03]]],\n              \n              \n                      [[[-4.1054e-01, -4.9905e-01, -7.9325e-02],\n                        [-6.2180e-02, -1.0704e-01,  3.9541e-01],\n                        [ 1.0498e-01,  5.3149e-01,  2.5450e-01]]],\n              \n              \n                      [[[ 3.0145e-01,  3.7871e-01,  1.4271e-01],\n                        [ 1.7188e-01,  2.1670e-01, -1.0368e-01],\n                        [-1.0346e-01,  2.2421e-01,  2.8162e-01]]],\n              \n              \n                      [[[-4.2704e-01, -5.0034e-01, -4.5250e-01],\n                        [-7.7663e-02,  2.9692e-02,  3.1341e-01],\n                        [-5.9867e-02,  1.4242e-01,  1.3776e-01]]],\n              \n              \n                      [[[ 1.3220e-01,  1.3543e-02,  3.9949e-01],\n                        [ 2.7089e-01,  1.4393e-01, -1.5457e-01],\n                        [-4.8739e-02, -2.2364e-01, -4.3652e-01]]],\n              \n              \n                      [[[ 3.7314e-01, -2.1576e-01, -1.9504e-01],\n                        [ 1.5699e-01, -3.9461e-02, -5.2038e-01],\n                        [ 4.2533e-01, -1.7763e-01, -3.5105e-01]]]])),\n             ('layer.0.bias',\n              tensor([ 0.0500,  0.3090, -0.3004,  0.0401, -0.0018,  0.2657,  0.2131, -0.0005,\n                      -0.0286, -0.0858, -0.0713,  0.0053, -0.0096,  0.2168, -0.0674,  0.2960,\n                       0.1126, -0.1596,  0.0864, -0.2340,  0.0593, -0.1841,  0.0192,  0.0716,\n                      -0.1713,  0.1475,  0.1978,  0.0024, -0.0715,  0.2015,  0.1390,  0.1655])),\n             ('layer.2.weight',\n              tensor([[[[ 2.3714e-01, -1.1059e-01, -2.0515e-01],\n                        [-1.1285e-01, -1.2101e-01, -9.3014e-02],\n                        [-3.3421e-01, -1.7157e-01,  5.3173e-02]],\n              \n                       [[-6.2388e-02,  6.0806e-02,  1.0524e-01],\n                        [ 6.9223e-02,  3.5792e-02,  8.0360e-02],\n                        [ 1.3148e-01,  1.2453e-01,  1.0423e-01]],\n              \n                       [[ 3.5643e-02, -5.2832e-02,  4.4199e-02],\n                        [ 4.5270e-02,  1.5943e-02, -3.0788e-02],\n                        [ 1.6860e-02, -5.2039e-02,  4.1207e-02]],\n              \n                       ...,\n              \n                       [[ 2.9446e-02,  1.0566e-01,  1.7927e-01],\n                        [ 5.6435e-02,  5.6413e-02,  1.0342e-01],\n                        [ 6.2027e-02,  1.1398e-01, -3.4657e-03]],\n              \n                       [[ 7.8852e-02,  6.6529e-03, -1.3400e-01],\n                        [ 4.3958e-02, -1.3956e-01, -9.0035e-02],\n                        [ 2.5964e-02, -1.2516e-01,  4.2241e-03]],\n              \n                       [[ 4.0304e-02,  1.5746e-02, -2.9650e-02],\n                        [ 2.9556e-02, -1.8000e-03, -1.4593e-02],\n                        [-6.2390e-02, -6.7519e-02, -1.4357e-02]]],\n              \n              \n                      [[[-5.9709e-02, -1.0060e-01, -1.3055e-01],\n                        [ 9.9157e-02,  1.0580e-01,  1.9346e-01],\n                        [ 1.2385e-01,  1.6070e-01, -9.6318e-03]],\n              \n                       [[-9.2066e-03,  2.0092e-04, -8.7237e-02],\n                        [-7.6115e-02, -1.0796e-01, -1.5978e-01],\n                        [-8.9966e-02, -1.4895e-01, -6.4670e-02]],\n              \n                       [[-5.2812e-02,  2.6859e-02,  4.4951e-02],\n                        [ 1.4442e-02,  1.2925e-02, -2.2716e-04],\n                        [ 2.0661e-02,  8.7329e-03, -3.1626e-02]],\n              \n                       ...,\n              \n                       [[ 5.4202e-02,  1.5626e-01,  1.9948e-01],\n                        [ 8.9905e-02,  9.7815e-03,  5.2738e-02],\n                        [-4.8621e-02, -9.4499e-02, -3.1017e-02]],\n              \n                       [[-8.5095e-02, -6.7297e-02, -1.9341e-02],\n                        [ 4.0550e-03,  2.2566e-01,  2.5382e-01],\n                        [ 2.1223e-01,  2.5872e-01,  1.9178e-01]],\n              \n                       [[-8.0142e-02, -1.7661e-01, -1.8928e-01],\n                        [-1.5431e-01, -9.8352e-02, -2.3831e-02],\n                        [-3.2456e-03,  5.2834e-03,  9.3945e-02]]],\n              \n              \n                      [[[-3.8551e-02, -4.0540e-02, -1.2853e-02],\n                        [ 2.7101e-02,  2.1555e-02,  2.7575e-02],\n                        [ 4.7060e-02,  3.6763e-02,  3.3877e-02]],\n              \n                       [[-1.1145e-02,  3.2940e-02,  3.5099e-02],\n                        [ 4.7565e-02,  3.0456e-02, -2.4744e-02],\n                        [ 5.0934e-02, -5.0132e-02, -5.9175e-02]],\n              \n                       [[ 3.2919e-02, -3.9451e-02,  2.7782e-02],\n                        [-1.7742e-02, -1.5568e-03, -4.8597e-03],\n                        [-2.9499e-02, -2.8736e-02, -2.7123e-02]],\n              \n                       ...,\n              \n                       [[ 7.9550e-03, -3.1372e-02,  2.4971e-02],\n                        [ 3.8078e-02,  4.5603e-02, -3.5484e-02],\n                        [-1.8255e-02, -4.0508e-02, -5.8039e-02]],\n              \n                       [[-6.3184e-02, -1.8868e-02,  9.3692e-03],\n                        [-4.5116e-02, -1.6788e-03,  1.8662e-02],\n                        [ 1.8150e-02,  7.4842e-03, -4.6673e-02]],\n              \n                       [[-2.8783e-02,  4.4790e-02, -6.1036e-02],\n                        [ 4.3634e-02,  2.7251e-02, -9.5534e-03],\n                        [ 2.2484e-02, -2.5486e-02,  4.1272e-02]]],\n              \n              \n                      ...,\n              \n              \n                      [[[ 2.0938e-03, -9.4559e-03,  1.0749e-01],\n                        [ 3.9399e-02, -4.9044e-02,  4.9292e-02],\n                        [ 3.6633e-02,  6.1878e-03,  4.1765e-02]],\n              \n                       [[ 8.6282e-03, -4.0635e-02, -3.7019e-02],\n                        [-9.0008e-02, -3.3659e-02, -3.6247e-02],\n                        [-4.8649e-02, -4.5178e-04, -2.9078e-02]],\n              \n                       [[-5.0262e-02, -6.6506e-04, -3.9723e-02],\n                        [-2.8145e-02, -4.4795e-02,  5.3981e-02],\n                        [-9.7711e-03, -1.2683e-02,  2.0529e-03]],\n              \n                       ...,\n              \n                       [[-3.3458e-02,  4.1526e-02, -1.7782e-03],\n                        [ 1.4445e-02,  1.1694e-01,  1.9593e-02],\n                        [-3.4194e-02, -2.9597e-02,  1.0377e-02]],\n              \n                       [[ 3.8128e-02,  2.1406e-02,  1.4844e-02],\n                        [-6.5313e-02,  4.2187e-02,  8.0188e-02],\n                        [ 4.6804e-03,  3.6388e-02,  2.9657e-02]],\n              \n                       [[-3.3577e-02, -6.3190e-02,  2.8304e-03],\n                        [-3.5750e-02, -3.5776e-02, -6.3324e-02],\n                        [ 1.3279e-02, -8.5281e-03, -2.3759e-02]]],\n              \n              \n                      [[[ 4.3194e-02, -1.5191e-03, -2.5941e-02],\n                        [-4.9480e-02,  3.5976e-02,  3.9093e-02],\n                        [ 1.6828e-02,  2.0407e-02, -1.0974e-02]],\n              \n                       [[ 3.2940e-02, -1.8271e-02,  2.9012e-02],\n                        [-3.4556e-02, -5.5339e-02, -5.3448e-03],\n                        [ 3.7959e-02,  2.6367e-02,  3.4419e-02]],\n              \n                       [[-6.1211e-03,  6.4873e-03, -1.0302e-03],\n                        [ 4.0333e-03,  5.2671e-02, -2.0428e-02],\n                        [ 3.7675e-02,  2.8012e-02,  5.6895e-03]],\n              \n                       ...,\n              \n                       [[-1.4237e-02,  1.6435e-02,  4.2189e-02],\n                        [-2.3356e-02,  4.4715e-02, -5.0905e-02],\n                        [-2.6672e-02, -1.5853e-02,  3.8759e-02]],\n              \n                       [[-3.8424e-02, -6.2103e-02, -3.1056e-02],\n                        [ 2.6747e-02, -3.3035e-02,  1.1462e-02],\n                        [ 1.7370e-02, -1.7473e-02, -1.8101e-03]],\n              \n                       [[-2.2040e-02, -6.5748e-03, -4.5180e-02],\n                        [-2.8398e-02,  4.2019e-03,  5.0833e-02],\n                        [ 4.3343e-02, -1.5562e-02, -4.7738e-02]]],\n              \n              \n                      [[[-7.6542e-02,  1.0389e-01,  3.6178e-01],\n                        [ 3.3476e-02,  2.5803e-01,  3.1017e-01],\n                        [ 2.2692e-01,  4.0846e-01,  2.5154e-01]],\n              \n                       [[ 1.0247e-01,  1.1115e-01,  6.3576e-02],\n                        [ 2.0356e-01,  2.5081e-01,  1.6844e-01],\n                        [ 1.9892e-01,  1.8576e-01,  1.0909e-01]],\n              \n                       [[-5.8568e-02, -7.4715e-03,  3.8269e-02],\n                        [ 1.2504e-02, -3.8520e-02,  5.4148e-02],\n                        [-5.1442e-02,  1.3210e-02,  1.5122e-02]],\n              \n                       ...,\n              \n                       [[-3.4180e-02, -8.2929e-02, -1.4908e-01],\n                        [ 5.4398e-02, -1.2334e-01, -1.4637e-01],\n                        [ 8.1539e-02, -1.1276e-01, -2.4457e-01]],\n              \n                       [[-1.6677e-01, -5.6980e-02,  1.0157e-01],\n                        [-1.8493e-01, -1.4955e-01, -5.5377e-02],\n                        [-1.1580e-01, -8.4117e-02, -1.2010e-01]],\n              \n                       [[-7.5749e-05,  4.7175e-02,  2.0475e-01],\n                        [-1.0766e-01,  1.0423e-01,  1.7214e-01],\n                        [ 3.7585e-02,  2.2463e-01,  1.7937e-01]]]])),\n             ('layer.2.bias',\n              tensor([ 0.0086, -0.0281, -0.0064,  0.0468, -0.0013,  0.0057, -0.0435,  0.0138,\n                       0.0202, -0.0040,  0.0879,  0.0154,  0.0287,  0.0109, -0.0553, -0.0630])),\n             ('layer.6.weight',\n              tensor([[ 0.0027,  0.0047, -0.0633,  ..., -0.2230, -0.0786, -0.0448],\n                      [ 0.0781,  0.0113,  0.0363,  ..., -0.0421, -0.0674, -0.0538],\n                      [-0.0106,  0.0417, -0.0034,  ..., -0.0581, -0.0842, -0.0197],\n                      ...,\n                      [-0.0433,  0.0059, -0.0211,  ...,  0.0178,  0.0405, -0.0309],\n                      [-0.0377,  0.0467,  0.0478,  ..., -0.1675, -0.0955, -0.0273],\n                      [ 0.0202, -0.0026,  0.0084,  ...,  0.0879, -0.1160, -0.1061]])),\n             ('layer.6.bias',\n              tensor([-0.0094,  0.0239,  0.0101, -0.0009, -0.0145,  0.0207, -0.0111,  0.0149,\n                      -0.0283, -0.0095]))])"
     },
     "metadata": {}
    }
   ],
   "source": [
    "## パラメータ初期化関数\n",
    "def initializer(layer):\n",
    "    if type(layer) == nn.Linear:\n",
    "        nn.init.kaiming_normal_(layer.weight)\n",
    "        layer.bias.data.fill_(0.0)\n",
    "\n",
    "## パラメータ初期化する\n",
    "model.apply(initializer)\n",
    "\n",
    "n_epoch = 5\n",
    "train_history = []\n",
    "val_history = []\n",
    "\n",
    "# 1エポック内1データあたりの損失・正解率の平均\n",
    "avg_loss = 0.0\n",
    "avg_acc = 0.0\n",
    "avg_val_loss = 0.0\n",
    "avg_val_acc = 0.0\n",
    "\n",
    "## 学習する\n",
    "for epoch in range(n_epoch):\n",
    "    ## epoch内のloss, accの保存\n",
    "    total_loss = 0.0\n",
    "    total_acc = 0.0\n",
    "    total_val_loss = 0.0\n",
    "    total_val_acc = 0.0\n",
    "    ## 累計データ数の保存\n",
    "    total_train = 0\n",
    "    total_val = 0\n",
    "\n",
    "    ## 訓練\n",
    "    for X_train, y_train in loader_train:\n",
    "       loss, acc = train_step(X_train, y_train)\n",
    "       total_loss += loss\n",
    "       total_acc += acc\n",
    "       total_train += len(y_train)\n",
    "\n",
    "    ## 評価\n",
    "    for X_val, y_val in loader_valid:\n",
    "        val_loss, val_acc = valid_step(X_val, y_val)\n",
    "        total_val_loss += val_loss\n",
    "        total_val_acc += val_acc\n",
    "        total_val += len(y_val)\n",
    "\n",
    "    # 平均計算\n",
    "    avg_loss = total_loss/total_train\n",
    "    avg_val_loss = total_val_loss/total_val\n",
    "    avg_acc = total_acc/total_train\n",
    "    avg_val_acc = total_val_acc/total_val\n",
    "\n",
    "    print(f'epoch{epoch+1}/{n_epoch}: [loss:{avg_loss:.4f}, acc:{avg_acc:.4f}, val_loss:{avg_val_loss:.4f}, val_acc:{avg_val_acc:.4f}]')\n",
    "\n",
    "    # リストに追加\n",
    "    train_history.append(avg_loss)\n",
    "    val_history.append(avg_val_loss)\n",
    "\n",
    "print('Done!')\n",
    "display(model.state_dict())"
   ]
  },
  {
   "cell_type": "code",
   "execution_count": 64,
   "metadata": {
    "tags": []
   },
   "outputs": [
    {
     "output_type": "stream",
     "name": "stdout",
     "text": "y_pred_proba tensor([[-6.8542e+00, -5.4845e+00, -1.1071e+00,  ...,  1.5085e+01,\n         -3.2599e+00,  7.0407e-01],\n        [-1.0208e+00, -9.7754e-01,  1.0842e+01,  ..., -1.7415e+01,\n         -1.4150e+00, -1.2467e+01],\n        [-4.0342e+00,  8.6646e+00, -9.9296e-01,  ...,  9.2288e-03,\n         -1.7936e-01, -8.1182e+00],\n        ...,\n        [-1.1781e+01, -5.0670e+00, -1.1936e+01,  ..., -1.9019e+00,\n          5.6381e-03,  6.6801e-01],\n        [-4.3676e+00, -1.1092e+01, -8.3667e+00,  ..., -1.0085e+01,\n          4.5348e+00, -6.4990e+00],\n        [-3.9635e+00, -1.6759e+01, -3.2875e+00,  ..., -1.3846e+01,\n         -2.2791e+00, -1.3644e+01]], grad_fn=<AddmmBackward>)\ny_pred [7 2 1 ... 4 5 6]\ny_test [7 2 1 ... 4 5 6]\nacc:  0.9833\n"
    }
   ],
   "source": [
    "# 予測\n",
    "## Tensor変換\n",
    "t_X_test = torch.from_numpy(X_test).float()\n",
    "y_pred_proba = model(t_X_test)\n",
    "y_pred = torch.argmax(y_pred_proba, axis=1)\n",
    "print(\"y_pred_proba\", y_pred_proba)\n",
    "print(\"y_pred\", y_pred.flatten().int().detach().numpy())\n",
    "print(\"y_test\", y_test.flatten())\n",
    "print(\"acc: \", accuracy_score(y_test.flatten(),  y_pred.flatten().int().detach().numpy()))"
   ]
  },
  {
   "cell_type": "code",
   "execution_count": 65,
   "metadata": {},
   "outputs": [
    {
     "output_type": "display_data",
     "data": {
      "text/plain": "<Figure size 432x288 with 1 Axes>",
      "image/svg+xml": "<?xml version=\"1.0\" encoding=\"utf-8\" standalone=\"no\"?>\r\n<!DOCTYPE svg PUBLIC \"-//W3C//DTD SVG 1.1//EN\"\r\n  \"http://www.w3.org/Graphics/SVG/1.1/DTD/svg11.dtd\">\r\n<!-- Created with matplotlib (https://matplotlib.org/) -->\r\n<svg height=\"248.518125pt\" version=\"1.1\" viewBox=\"0 0 391.190625 248.518125\" width=\"391.190625pt\" xmlns=\"http://www.w3.org/2000/svg\" xmlns:xlink=\"http://www.w3.org/1999/xlink\">\r\n <defs>\r\n  <style type=\"text/css\">\r\n*{stroke-linecap:butt;stroke-linejoin:round;}\r\n  </style>\r\n </defs>\r\n <g id=\"figure_1\">\r\n  <g id=\"patch_1\">\r\n   <path d=\"M 0 248.518125 \r\nL 391.190625 248.518125 \r\nL 391.190625 0 \r\nL 0 0 \r\nz\r\n\" style=\"fill:none;\"/>\r\n  </g>\r\n  <g id=\"axes_1\">\r\n   <g id=\"patch_2\">\r\n    <path d=\"M 49.190625 224.64 \r\nL 383.990625 224.64 \r\nL 383.990625 7.2 \r\nL 49.190625 7.2 \r\nz\r\n\" style=\"fill:#ffffff;\"/>\r\n   </g>\r\n   <g id=\"matplotlib.axis_1\">\r\n    <g id=\"xtick_1\">\r\n     <g id=\"line2d_1\">\r\n      <defs>\r\n       <path d=\"M 0 0 \r\nL 0 3.5 \r\n\" id=\"ma7fa40723e\" style=\"stroke:#000000;stroke-width:0.8;\"/>\r\n      </defs>\r\n      <g>\r\n       <use style=\"stroke:#000000;stroke-width:0.8;\" x=\"64.408807\" xlink:href=\"#ma7fa40723e\" y=\"224.64\"/>\r\n      </g>\r\n     </g>\r\n     <g id=\"text_1\">\r\n      <!-- 0.0 -->\r\n      <defs>\r\n       <path d=\"M 31.78125 66.40625 \r\nQ 24.171875 66.40625 20.328125 58.90625 \r\nQ 16.5 51.421875 16.5 36.375 \r\nQ 16.5 21.390625 20.328125 13.890625 \r\nQ 24.171875 6.390625 31.78125 6.390625 \r\nQ 39.453125 6.390625 43.28125 13.890625 \r\nQ 47.125 21.390625 47.125 36.375 \r\nQ 47.125 51.421875 43.28125 58.90625 \r\nQ 39.453125 66.40625 31.78125 66.40625 \r\nz\r\nM 31.78125 74.21875 \r\nQ 44.046875 74.21875 50.515625 64.515625 \r\nQ 56.984375 54.828125 56.984375 36.375 \r\nQ 56.984375 17.96875 50.515625 8.265625 \r\nQ 44.046875 -1.421875 31.78125 -1.421875 \r\nQ 19.53125 -1.421875 13.0625 8.265625 \r\nQ 6.59375 17.96875 6.59375 36.375 \r\nQ 6.59375 54.828125 13.0625 64.515625 \r\nQ 19.53125 74.21875 31.78125 74.21875 \r\nz\r\n\" id=\"DejaVuSans-48\"/>\r\n       <path d=\"M 10.6875 12.40625 \r\nL 21 12.40625 \r\nL 21 0 \r\nL 10.6875 0 \r\nz\r\n\" id=\"DejaVuSans-46\"/>\r\n      </defs>\r\n      <g transform=\"translate(56.457244 239.238437)scale(0.1 -0.1)\">\r\n       <use xlink:href=\"#DejaVuSans-48\"/>\r\n       <use x=\"63.623047\" xlink:href=\"#DejaVuSans-46\"/>\r\n       <use x=\"95.410156\" xlink:href=\"#DejaVuSans-48\"/>\r\n      </g>\r\n     </g>\r\n    </g>\r\n    <g id=\"xtick_2\">\r\n     <g id=\"line2d_2\">\r\n      <g>\r\n       <use style=\"stroke:#000000;stroke-width:0.8;\" x=\"102.454261\" xlink:href=\"#ma7fa40723e\" y=\"224.64\"/>\r\n      </g>\r\n     </g>\r\n     <g id=\"text_2\">\r\n      <!-- 0.5 -->\r\n      <defs>\r\n       <path d=\"M 10.796875 72.90625 \r\nL 49.515625 72.90625 \r\nL 49.515625 64.59375 \r\nL 19.828125 64.59375 \r\nL 19.828125 46.734375 \r\nQ 21.96875 47.46875 24.109375 47.828125 \r\nQ 26.265625 48.1875 28.421875 48.1875 \r\nQ 40.625 48.1875 47.75 41.5 \r\nQ 54.890625 34.8125 54.890625 23.390625 \r\nQ 54.890625 11.625 47.5625 5.09375 \r\nQ 40.234375 -1.421875 26.90625 -1.421875 \r\nQ 22.3125 -1.421875 17.546875 -0.640625 \r\nQ 12.796875 0.140625 7.71875 1.703125 \r\nL 7.71875 11.625 \r\nQ 12.109375 9.234375 16.796875 8.0625 \r\nQ 21.484375 6.890625 26.703125 6.890625 \r\nQ 35.15625 6.890625 40.078125 11.328125 \r\nQ 45.015625 15.765625 45.015625 23.390625 \r\nQ 45.015625 31 40.078125 35.4375 \r\nQ 35.15625 39.890625 26.703125 39.890625 \r\nQ 22.75 39.890625 18.8125 39.015625 \r\nQ 14.890625 38.140625 10.796875 36.28125 \r\nz\r\n\" id=\"DejaVuSans-53\"/>\r\n      </defs>\r\n      <g transform=\"translate(94.502699 239.238437)scale(0.1 -0.1)\">\r\n       <use xlink:href=\"#DejaVuSans-48\"/>\r\n       <use x=\"63.623047\" xlink:href=\"#DejaVuSans-46\"/>\r\n       <use x=\"95.410156\" xlink:href=\"#DejaVuSans-53\"/>\r\n      </g>\r\n     </g>\r\n    </g>\r\n    <g id=\"xtick_3\">\r\n     <g id=\"line2d_3\">\r\n      <g>\r\n       <use style=\"stroke:#000000;stroke-width:0.8;\" x=\"140.499716\" xlink:href=\"#ma7fa40723e\" y=\"224.64\"/>\r\n      </g>\r\n     </g>\r\n     <g id=\"text_3\">\r\n      <!-- 1.0 -->\r\n      <defs>\r\n       <path d=\"M 12.40625 8.296875 \r\nL 28.515625 8.296875 \r\nL 28.515625 63.921875 \r\nL 10.984375 60.40625 \r\nL 10.984375 69.390625 \r\nL 28.421875 72.90625 \r\nL 38.28125 72.90625 \r\nL 38.28125 8.296875 \r\nL 54.390625 8.296875 \r\nL 54.390625 0 \r\nL 12.40625 0 \r\nz\r\n\" id=\"DejaVuSans-49\"/>\r\n      </defs>\r\n      <g transform=\"translate(132.548153 239.238437)scale(0.1 -0.1)\">\r\n       <use xlink:href=\"#DejaVuSans-49\"/>\r\n       <use x=\"63.623047\" xlink:href=\"#DejaVuSans-46\"/>\r\n       <use x=\"95.410156\" xlink:href=\"#DejaVuSans-48\"/>\r\n      </g>\r\n     </g>\r\n    </g>\r\n    <g id=\"xtick_4\">\r\n     <g id=\"line2d_4\">\r\n      <g>\r\n       <use style=\"stroke:#000000;stroke-width:0.8;\" x=\"178.54517\" xlink:href=\"#ma7fa40723e\" y=\"224.64\"/>\r\n      </g>\r\n     </g>\r\n     <g id=\"text_4\">\r\n      <!-- 1.5 -->\r\n      <g transform=\"translate(170.593608 239.238437)scale(0.1 -0.1)\">\r\n       <use xlink:href=\"#DejaVuSans-49\"/>\r\n       <use x=\"63.623047\" xlink:href=\"#DejaVuSans-46\"/>\r\n       <use x=\"95.410156\" xlink:href=\"#DejaVuSans-53\"/>\r\n      </g>\r\n     </g>\r\n    </g>\r\n    <g id=\"xtick_5\">\r\n     <g id=\"line2d_5\">\r\n      <g>\r\n       <use style=\"stroke:#000000;stroke-width:0.8;\" x=\"216.590625\" xlink:href=\"#ma7fa40723e\" y=\"224.64\"/>\r\n      </g>\r\n     </g>\r\n     <g id=\"text_5\">\r\n      <!-- 2.0 -->\r\n      <defs>\r\n       <path d=\"M 19.1875 8.296875 \r\nL 53.609375 8.296875 \r\nL 53.609375 0 \r\nL 7.328125 0 \r\nL 7.328125 8.296875 \r\nQ 12.9375 14.109375 22.625 23.890625 \r\nQ 32.328125 33.6875 34.8125 36.53125 \r\nQ 39.546875 41.84375 41.421875 45.53125 \r\nQ 43.3125 49.21875 43.3125 52.78125 \r\nQ 43.3125 58.59375 39.234375 62.25 \r\nQ 35.15625 65.921875 28.609375 65.921875 \r\nQ 23.96875 65.921875 18.8125 64.3125 \r\nQ 13.671875 62.703125 7.8125 59.421875 \r\nL 7.8125 69.390625 \r\nQ 13.765625 71.78125 18.9375 73 \r\nQ 24.125 74.21875 28.421875 74.21875 \r\nQ 39.75 74.21875 46.484375 68.546875 \r\nQ 53.21875 62.890625 53.21875 53.421875 \r\nQ 53.21875 48.921875 51.53125 44.890625 \r\nQ 49.859375 40.875 45.40625 35.40625 \r\nQ 44.1875 33.984375 37.640625 27.21875 \r\nQ 31.109375 20.453125 19.1875 8.296875 \r\nz\r\n\" id=\"DejaVuSans-50\"/>\r\n      </defs>\r\n      <g transform=\"translate(208.639063 239.238437)scale(0.1 -0.1)\">\r\n       <use xlink:href=\"#DejaVuSans-50\"/>\r\n       <use x=\"63.623047\" xlink:href=\"#DejaVuSans-46\"/>\r\n       <use x=\"95.410156\" xlink:href=\"#DejaVuSans-48\"/>\r\n      </g>\r\n     </g>\r\n    </g>\r\n    <g id=\"xtick_6\">\r\n     <g id=\"line2d_6\">\r\n      <g>\r\n       <use style=\"stroke:#000000;stroke-width:0.8;\" x=\"254.63608\" xlink:href=\"#ma7fa40723e\" y=\"224.64\"/>\r\n      </g>\r\n     </g>\r\n     <g id=\"text_6\">\r\n      <!-- 2.5 -->\r\n      <g transform=\"translate(246.684517 239.238437)scale(0.1 -0.1)\">\r\n       <use xlink:href=\"#DejaVuSans-50\"/>\r\n       <use x=\"63.623047\" xlink:href=\"#DejaVuSans-46\"/>\r\n       <use x=\"95.410156\" xlink:href=\"#DejaVuSans-53\"/>\r\n      </g>\r\n     </g>\r\n    </g>\r\n    <g id=\"xtick_7\">\r\n     <g id=\"line2d_7\">\r\n      <g>\r\n       <use style=\"stroke:#000000;stroke-width:0.8;\" x=\"292.681534\" xlink:href=\"#ma7fa40723e\" y=\"224.64\"/>\r\n      </g>\r\n     </g>\r\n     <g id=\"text_7\">\r\n      <!-- 3.0 -->\r\n      <defs>\r\n       <path d=\"M 40.578125 39.3125 \r\nQ 47.65625 37.796875 51.625 33 \r\nQ 55.609375 28.21875 55.609375 21.1875 \r\nQ 55.609375 10.40625 48.1875 4.484375 \r\nQ 40.765625 -1.421875 27.09375 -1.421875 \r\nQ 22.515625 -1.421875 17.65625 -0.515625 \r\nQ 12.796875 0.390625 7.625 2.203125 \r\nL 7.625 11.71875 \r\nQ 11.71875 9.328125 16.59375 8.109375 \r\nQ 21.484375 6.890625 26.8125 6.890625 \r\nQ 36.078125 6.890625 40.9375 10.546875 \r\nQ 45.796875 14.203125 45.796875 21.1875 \r\nQ 45.796875 27.640625 41.28125 31.265625 \r\nQ 36.765625 34.90625 28.71875 34.90625 \r\nL 20.21875 34.90625 \r\nL 20.21875 43.015625 \r\nL 29.109375 43.015625 \r\nQ 36.375 43.015625 40.234375 45.921875 \r\nQ 44.09375 48.828125 44.09375 54.296875 \r\nQ 44.09375 59.90625 40.109375 62.90625 \r\nQ 36.140625 65.921875 28.71875 65.921875 \r\nQ 24.65625 65.921875 20.015625 65.03125 \r\nQ 15.375 64.15625 9.8125 62.3125 \r\nL 9.8125 71.09375 \r\nQ 15.4375 72.65625 20.34375 73.4375 \r\nQ 25.25 74.21875 29.59375 74.21875 \r\nQ 40.828125 74.21875 47.359375 69.109375 \r\nQ 53.90625 64.015625 53.90625 55.328125 \r\nQ 53.90625 49.265625 50.4375 45.09375 \r\nQ 46.96875 40.921875 40.578125 39.3125 \r\nz\r\n\" id=\"DejaVuSans-51\"/>\r\n      </defs>\r\n      <g transform=\"translate(284.729972 239.238437)scale(0.1 -0.1)\">\r\n       <use xlink:href=\"#DejaVuSans-51\"/>\r\n       <use x=\"63.623047\" xlink:href=\"#DejaVuSans-46\"/>\r\n       <use x=\"95.410156\" xlink:href=\"#DejaVuSans-48\"/>\r\n      </g>\r\n     </g>\r\n    </g>\r\n    <g id=\"xtick_8\">\r\n     <g id=\"line2d_8\">\r\n      <g>\r\n       <use style=\"stroke:#000000;stroke-width:0.8;\" x=\"330.726989\" xlink:href=\"#ma7fa40723e\" y=\"224.64\"/>\r\n      </g>\r\n     </g>\r\n     <g id=\"text_8\">\r\n      <!-- 3.5 -->\r\n      <g transform=\"translate(322.775426 239.238437)scale(0.1 -0.1)\">\r\n       <use xlink:href=\"#DejaVuSans-51\"/>\r\n       <use x=\"63.623047\" xlink:href=\"#DejaVuSans-46\"/>\r\n       <use x=\"95.410156\" xlink:href=\"#DejaVuSans-53\"/>\r\n      </g>\r\n     </g>\r\n    </g>\r\n    <g id=\"xtick_9\">\r\n     <g id=\"line2d_9\">\r\n      <g>\r\n       <use style=\"stroke:#000000;stroke-width:0.8;\" x=\"368.772443\" xlink:href=\"#ma7fa40723e\" y=\"224.64\"/>\r\n      </g>\r\n     </g>\r\n     <g id=\"text_9\">\r\n      <!-- 4.0 -->\r\n      <defs>\r\n       <path d=\"M 37.796875 64.3125 \r\nL 12.890625 25.390625 \r\nL 37.796875 25.390625 \r\nz\r\nM 35.203125 72.90625 \r\nL 47.609375 72.90625 \r\nL 47.609375 25.390625 \r\nL 58.015625 25.390625 \r\nL 58.015625 17.1875 \r\nL 47.609375 17.1875 \r\nL 47.609375 0 \r\nL 37.796875 0 \r\nL 37.796875 17.1875 \r\nL 4.890625 17.1875 \r\nL 4.890625 26.703125 \r\nz\r\n\" id=\"DejaVuSans-52\"/>\r\n      </defs>\r\n      <g transform=\"translate(360.820881 239.238437)scale(0.1 -0.1)\">\r\n       <use xlink:href=\"#DejaVuSans-52\"/>\r\n       <use x=\"63.623047\" xlink:href=\"#DejaVuSans-46\"/>\r\n       <use x=\"95.410156\" xlink:href=\"#DejaVuSans-48\"/>\r\n      </g>\r\n     </g>\r\n    </g>\r\n   </g>\r\n   <g id=\"matplotlib.axis_2\">\r\n    <g id=\"ytick_1\">\r\n     <g id=\"line2d_10\">\r\n      <defs>\r\n       <path d=\"M 0 0 \r\nL -3.5 0 \r\n\" id=\"m2724c2d602\" style=\"stroke:#000000;stroke-width:0.8;\"/>\r\n      </defs>\r\n      <g>\r\n       <use style=\"stroke:#000000;stroke-width:0.8;\" x=\"49.190625\" xlink:href=\"#m2724c2d602\" y=\"201.681791\"/>\r\n      </g>\r\n     </g>\r\n     <g id=\"text_10\">\r\n      <!-- 0.0005 -->\r\n      <g transform=\"translate(7.2 205.481009)scale(0.1 -0.1)\">\r\n       <use xlink:href=\"#DejaVuSans-48\"/>\r\n       <use x=\"63.623047\" xlink:href=\"#DejaVuSans-46\"/>\r\n       <use x=\"95.410156\" xlink:href=\"#DejaVuSans-48\"/>\r\n       <use x=\"159.033203\" xlink:href=\"#DejaVuSans-48\"/>\r\n       <use x=\"222.65625\" xlink:href=\"#DejaVuSans-48\"/>\r\n       <use x=\"286.279297\" xlink:href=\"#DejaVuSans-53\"/>\r\n      </g>\r\n     </g>\r\n    </g>\r\n    <g id=\"ytick_2\">\r\n     <g id=\"line2d_11\">\r\n      <g>\r\n       <use style=\"stroke:#000000;stroke-width:0.8;\" x=\"49.190625\" xlink:href=\"#m2724c2d602\" y=\"161.126994\"/>\r\n      </g>\r\n     </g>\r\n     <g id=\"text_11\">\r\n      <!-- 0.0010 -->\r\n      <g transform=\"translate(7.2 164.926213)scale(0.1 -0.1)\">\r\n       <use xlink:href=\"#DejaVuSans-48\"/>\r\n       <use x=\"63.623047\" xlink:href=\"#DejaVuSans-46\"/>\r\n       <use x=\"95.410156\" xlink:href=\"#DejaVuSans-48\"/>\r\n       <use x=\"159.033203\" xlink:href=\"#DejaVuSans-48\"/>\r\n       <use x=\"222.65625\" xlink:href=\"#DejaVuSans-49\"/>\r\n       <use x=\"286.279297\" xlink:href=\"#DejaVuSans-48\"/>\r\n      </g>\r\n     </g>\r\n    </g>\r\n    <g id=\"ytick_3\">\r\n     <g id=\"line2d_12\">\r\n      <g>\r\n       <use style=\"stroke:#000000;stroke-width:0.8;\" x=\"49.190625\" xlink:href=\"#m2724c2d602\" y=\"120.572198\"/>\r\n      </g>\r\n     </g>\r\n     <g id=\"text_12\">\r\n      <!-- 0.0015 -->\r\n      <g transform=\"translate(7.2 124.371417)scale(0.1 -0.1)\">\r\n       <use xlink:href=\"#DejaVuSans-48\"/>\r\n       <use x=\"63.623047\" xlink:href=\"#DejaVuSans-46\"/>\r\n       <use x=\"95.410156\" xlink:href=\"#DejaVuSans-48\"/>\r\n       <use x=\"159.033203\" xlink:href=\"#DejaVuSans-48\"/>\r\n       <use x=\"222.65625\" xlink:href=\"#DejaVuSans-49\"/>\r\n       <use x=\"286.279297\" xlink:href=\"#DejaVuSans-53\"/>\r\n      </g>\r\n     </g>\r\n    </g>\r\n    <g id=\"ytick_4\">\r\n     <g id=\"line2d_13\">\r\n      <g>\r\n       <use style=\"stroke:#000000;stroke-width:0.8;\" x=\"49.190625\" xlink:href=\"#m2724c2d602\" y=\"80.017401\"/>\r\n      </g>\r\n     </g>\r\n     <g id=\"text_13\">\r\n      <!-- 0.0020 -->\r\n      <g transform=\"translate(7.2 83.81662)scale(0.1 -0.1)\">\r\n       <use xlink:href=\"#DejaVuSans-48\"/>\r\n       <use x=\"63.623047\" xlink:href=\"#DejaVuSans-46\"/>\r\n       <use x=\"95.410156\" xlink:href=\"#DejaVuSans-48\"/>\r\n       <use x=\"159.033203\" xlink:href=\"#DejaVuSans-48\"/>\r\n       <use x=\"222.65625\" xlink:href=\"#DejaVuSans-50\"/>\r\n       <use x=\"286.279297\" xlink:href=\"#DejaVuSans-48\"/>\r\n      </g>\r\n     </g>\r\n    </g>\r\n    <g id=\"ytick_5\">\r\n     <g id=\"line2d_14\">\r\n      <g>\r\n       <use style=\"stroke:#000000;stroke-width:0.8;\" x=\"49.190625\" xlink:href=\"#m2724c2d602\" y=\"39.462605\"/>\r\n      </g>\r\n     </g>\r\n     <g id=\"text_14\">\r\n      <!-- 0.0025 -->\r\n      <g transform=\"translate(7.2 43.261824)scale(0.1 -0.1)\">\r\n       <use xlink:href=\"#DejaVuSans-48\"/>\r\n       <use x=\"63.623047\" xlink:href=\"#DejaVuSans-46\"/>\r\n       <use x=\"95.410156\" xlink:href=\"#DejaVuSans-48\"/>\r\n       <use x=\"159.033203\" xlink:href=\"#DejaVuSans-48\"/>\r\n       <use x=\"222.65625\" xlink:href=\"#DejaVuSans-50\"/>\r\n       <use x=\"286.279297\" xlink:href=\"#DejaVuSans-53\"/>\r\n      </g>\r\n     </g>\r\n    </g>\r\n   </g>\r\n   <g id=\"line2d_15\">\r\n    <path clip-path=\"url(#p86892ec347)\" d=\"M 64.408807 17.083636 \r\nL 140.499716 182.844616 \r\nL 216.590625 201.774809 \r\nL 292.681534 209.697085 \r\nL 368.772443 214.756364 \r\n\" style=\"fill:none;stroke:#1f77b4;stroke-linecap:square;stroke-width:1.5;\"/>\r\n   </g>\r\n   <g id=\"line2d_16\">\r\n    <path clip-path=\"url(#p86892ec347)\" d=\"M 64.408807 155.21009 \r\nL 140.499716 193.031234 \r\nL 216.590625 195.8854 \r\nL 292.681534 199.223078 \r\nL 368.772443 204.226601 \r\n\" style=\"fill:none;stroke:#ff7f0e;stroke-linecap:square;stroke-width:1.5;\"/>\r\n   </g>\r\n   <g id=\"patch_3\">\r\n    <path d=\"M 49.190625 224.64 \r\nL 49.190625 7.2 \r\n\" style=\"fill:none;stroke:#000000;stroke-linecap:square;stroke-linejoin:miter;stroke-width:0.8;\"/>\r\n   </g>\r\n   <g id=\"patch_4\">\r\n    <path d=\"M 383.990625 224.64 \r\nL 383.990625 7.2 \r\n\" style=\"fill:none;stroke:#000000;stroke-linecap:square;stroke-linejoin:miter;stroke-width:0.8;\"/>\r\n   </g>\r\n   <g id=\"patch_5\">\r\n    <path d=\"M 49.190625 224.64 \r\nL 383.990625 224.64 \r\n\" style=\"fill:none;stroke:#000000;stroke-linecap:square;stroke-linejoin:miter;stroke-width:0.8;\"/>\r\n   </g>\r\n   <g id=\"patch_6\">\r\n    <path d=\"M 49.190625 7.2 \r\nL 383.990625 7.2 \r\n\" style=\"fill:none;stroke:#000000;stroke-linecap:square;stroke-linejoin:miter;stroke-width:0.8;\"/>\r\n   </g>\r\n   <g id=\"legend_1\">\r\n    <g id=\"patch_7\">\r\n     <path d=\"M 305.85 44.834375 \r\nL 376.990625 44.834375 \r\nQ 378.990625 44.834375 378.990625 42.834375 \r\nL 378.990625 14.2 \r\nQ 378.990625 12.2 376.990625 12.2 \r\nL 305.85 12.2 \r\nQ 303.85 12.2 303.85 14.2 \r\nL 303.85 42.834375 \r\nQ 303.85 44.834375 305.85 44.834375 \r\nz\r\n\" style=\"fill:#ffffff;opacity:0.8;stroke:#cccccc;stroke-linejoin:miter;\"/>\r\n    </g>\r\n    <g id=\"line2d_17\">\r\n     <path d=\"M 307.85 20.298437 \r\nL 327.85 20.298437 \r\n\" style=\"fill:none;stroke:#1f77b4;stroke-linecap:square;stroke-width:1.5;\"/>\r\n    </g>\r\n    <g id=\"line2d_18\"/>\r\n    <g id=\"text_15\">\r\n     <!-- loss -->\r\n     <defs>\r\n      <path d=\"M 9.421875 75.984375 \r\nL 18.40625 75.984375 \r\nL 18.40625 0 \r\nL 9.421875 0 \r\nz\r\n\" id=\"DejaVuSans-108\"/>\r\n      <path d=\"M 30.609375 48.390625 \r\nQ 23.390625 48.390625 19.1875 42.75 \r\nQ 14.984375 37.109375 14.984375 27.296875 \r\nQ 14.984375 17.484375 19.15625 11.84375 \r\nQ 23.34375 6.203125 30.609375 6.203125 \r\nQ 37.796875 6.203125 41.984375 11.859375 \r\nQ 46.1875 17.53125 46.1875 27.296875 \r\nQ 46.1875 37.015625 41.984375 42.703125 \r\nQ 37.796875 48.390625 30.609375 48.390625 \r\nz\r\nM 30.609375 56 \r\nQ 42.328125 56 49.015625 48.375 \r\nQ 55.71875 40.765625 55.71875 27.296875 \r\nQ 55.71875 13.875 49.015625 6.21875 \r\nQ 42.328125 -1.421875 30.609375 -1.421875 \r\nQ 18.84375 -1.421875 12.171875 6.21875 \r\nQ 5.515625 13.875 5.515625 27.296875 \r\nQ 5.515625 40.765625 12.171875 48.375 \r\nQ 18.84375 56 30.609375 56 \r\nz\r\n\" id=\"DejaVuSans-111\"/>\r\n      <path d=\"M 44.28125 53.078125 \r\nL 44.28125 44.578125 \r\nQ 40.484375 46.53125 36.375 47.5 \r\nQ 32.28125 48.484375 27.875 48.484375 \r\nQ 21.1875 48.484375 17.84375 46.4375 \r\nQ 14.5 44.390625 14.5 40.28125 \r\nQ 14.5 37.15625 16.890625 35.375 \r\nQ 19.28125 33.59375 26.515625 31.984375 \r\nL 29.59375 31.296875 \r\nQ 39.15625 29.25 43.1875 25.515625 \r\nQ 47.21875 21.78125 47.21875 15.09375 \r\nQ 47.21875 7.46875 41.1875 3.015625 \r\nQ 35.15625 -1.421875 24.609375 -1.421875 \r\nQ 20.21875 -1.421875 15.453125 -0.5625 \r\nQ 10.6875 0.296875 5.421875 2 \r\nL 5.421875 11.28125 \r\nQ 10.40625 8.6875 15.234375 7.390625 \r\nQ 20.0625 6.109375 24.8125 6.109375 \r\nQ 31.15625 6.109375 34.5625 8.28125 \r\nQ 37.984375 10.453125 37.984375 14.40625 \r\nQ 37.984375 18.0625 35.515625 20.015625 \r\nQ 33.0625 21.96875 24.703125 23.78125 \r\nL 21.578125 24.515625 \r\nQ 13.234375 26.265625 9.515625 29.90625 \r\nQ 5.8125 33.546875 5.8125 39.890625 \r\nQ 5.8125 47.609375 11.28125 51.796875 \r\nQ 16.75 56 26.8125 56 \r\nQ 31.78125 56 36.171875 55.265625 \r\nQ 40.578125 54.546875 44.28125 53.078125 \r\nz\r\n\" id=\"DejaVuSans-115\"/>\r\n     </defs>\r\n     <g transform=\"translate(335.85 23.798437)scale(0.1 -0.1)\">\r\n      <use xlink:href=\"#DejaVuSans-108\"/>\r\n      <use x=\"27.783203\" xlink:href=\"#DejaVuSans-111\"/>\r\n      <use x=\"88.964844\" xlink:href=\"#DejaVuSans-115\"/>\r\n      <use x=\"141.064453\" xlink:href=\"#DejaVuSans-115\"/>\r\n     </g>\r\n    </g>\r\n    <g id=\"line2d_19\">\r\n     <path d=\"M 307.85 34.976562 \r\nL 327.85 34.976562 \r\n\" style=\"fill:none;stroke:#ff7f0e;stroke-linecap:square;stroke-width:1.5;\"/>\r\n    </g>\r\n    <g id=\"line2d_20\"/>\r\n    <g id=\"text_16\">\r\n     <!-- val_loss -->\r\n     <defs>\r\n      <path d=\"M 2.984375 54.6875 \r\nL 12.5 54.6875 \r\nL 29.59375 8.796875 \r\nL 46.6875 54.6875 \r\nL 56.203125 54.6875 \r\nL 35.6875 0 \r\nL 23.484375 0 \r\nz\r\n\" id=\"DejaVuSans-118\"/>\r\n      <path d=\"M 34.28125 27.484375 \r\nQ 23.390625 27.484375 19.1875 25 \r\nQ 14.984375 22.515625 14.984375 16.5 \r\nQ 14.984375 11.71875 18.140625 8.90625 \r\nQ 21.296875 6.109375 26.703125 6.109375 \r\nQ 34.1875 6.109375 38.703125 11.40625 \r\nQ 43.21875 16.703125 43.21875 25.484375 \r\nL 43.21875 27.484375 \r\nz\r\nM 52.203125 31.203125 \r\nL 52.203125 0 \r\nL 43.21875 0 \r\nL 43.21875 8.296875 \r\nQ 40.140625 3.328125 35.546875 0.953125 \r\nQ 30.953125 -1.421875 24.3125 -1.421875 \r\nQ 15.921875 -1.421875 10.953125 3.296875 \r\nQ 6 8.015625 6 15.921875 \r\nQ 6 25.140625 12.171875 29.828125 \r\nQ 18.359375 34.515625 30.609375 34.515625 \r\nL 43.21875 34.515625 \r\nL 43.21875 35.40625 \r\nQ 43.21875 41.609375 39.140625 45 \r\nQ 35.0625 48.390625 27.6875 48.390625 \r\nQ 23 48.390625 18.546875 47.265625 \r\nQ 14.109375 46.140625 10.015625 43.890625 \r\nL 10.015625 52.203125 \r\nQ 14.9375 54.109375 19.578125 55.046875 \r\nQ 24.21875 56 28.609375 56 \r\nQ 40.484375 56 46.34375 49.84375 \r\nQ 52.203125 43.703125 52.203125 31.203125 \r\nz\r\n\" id=\"DejaVuSans-97\"/>\r\n      <path d=\"M 50.984375 -16.609375 \r\nL 50.984375 -23.578125 \r\nL -0.984375 -23.578125 \r\nL -0.984375 -16.609375 \r\nz\r\n\" id=\"DejaVuSans-95\"/>\r\n     </defs>\r\n     <g transform=\"translate(335.85 38.476562)scale(0.1 -0.1)\">\r\n      <use xlink:href=\"#DejaVuSans-118\"/>\r\n      <use x=\"59.179688\" xlink:href=\"#DejaVuSans-97\"/>\r\n      <use x=\"120.458984\" xlink:href=\"#DejaVuSans-108\"/>\r\n      <use x=\"148.242188\" xlink:href=\"#DejaVuSans-95\"/>\r\n      <use x=\"198.242188\" xlink:href=\"#DejaVuSans-108\"/>\r\n      <use x=\"226.025391\" xlink:href=\"#DejaVuSans-111\"/>\r\n      <use x=\"287.207031\" xlink:href=\"#DejaVuSans-115\"/>\r\n      <use x=\"339.306641\" xlink:href=\"#DejaVuSans-115\"/>\r\n     </g>\r\n    </g>\r\n   </g>\r\n  </g>\r\n </g>\r\n <defs>\r\n  <clipPath id=\"p86892ec347\">\r\n   <rect height=\"217.44\" width=\"334.8\" x=\"49.190625\" y=\"7.2\"/>\r\n  </clipPath>\r\n </defs>\r\n</svg>\r\n",
      "image/png": "[encoded data removed]"
     },
     "metadata": {
      "needs_background": "light"
     }
    }
   ],
   "source": [
    "plt.plot(train_history, label=\"loss\")\n",
    "plt.plot(val_history, label=\"val_loss\")\n",
    "plt.legend()\n",
    "plt.show()"
   ]
  },
  {
   "cell_type": "markdown",
   "metadata": {},
   "source": [
    "### 【問題8】\n",
    "#### （アドバンス課題）フレームワークの比較\n",
    "それぞれのフレームワークにはどのような違いがあるかをまとめてください。\n",
    "\n",
    "\n",
    "**《視点例》**\n",
    "\n",
    "\n",
    "- 計算速度\n",
    "- コードの行数・可読性\n",
    "- 用意されている機能"
   ]
  }
 ],
 "metadata": {
  "language_info": {
   "codemirror_mode": {
    "name": "ipython",
    "version": 3
   },
   "file_extension": ".py",
   "mimetype": "text/x-python",
   "name": "python",
   "nbconvert_exporter": "python",
   "pygments_lexer": "ipython3",
   "version": "3.7.6-final"
  },
  "orig_nbformat": 2,
  "kernelspec": {
   "name": "python3",
   "display_name": "Python 3"
  }
 },
 "nbformat": 4,
 "nbformat_minor": 2
}