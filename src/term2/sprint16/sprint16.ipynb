{
 "cells": [
  {
   "cell_type": "markdown",
   "metadata": {},
   "source": [
    "# Sprint\n",
    "## 論文紹介"
   ]
  },
  {
   "cell_type": "markdown",
   "metadata": {},
   "source": [
    "## 1.このSprintについて\n",
    "\n",
    "### Sprintの目的\n",
    "- 関心分野の研究動向を掴めるようにする\n",
    "- 論文の要旨を紹介できるようにする\n",
    "\n",
    "### どのように学ぶか\n",
    "論文を短期間で読み資料を作成します"
   ]
  },
  {
   "cell_type": "markdown",
   "metadata": {},
   "source": [
    "## 2.論文紹介\n",
    "\n",
    "機械学習分野のある分野に関して短期間で研究動向を把握することを目指します。\n",
    "\n",
    "\n",
    "自分自身が興味のある分野に対し、論文5本の要旨をまとめたスライドを用意し、5分程度で紹介してください。\n",
    "\n",
    "\n",
    "### 要件\n",
    "- 聞いた人がその分野について何らかの傾向をつかめる発表にする。\n",
    "- 論文の選定理由を答えられるようにする。\n",
    "\n",
    "### 課題提出方法\n",
    "スライドをSpeaker DeckやSlideshareなどに投稿し、そのURLを提出してください。スライドは外部に公開することを意識して作成してください。"
   ]
  }
 ],
 "metadata": {
  "language_info": {
   "codemirror_mode": {
    "name": "ipython",
    "version": 3
   },
   "file_extension": ".py",
   "mimetype": "text/x-python",
   "name": "python",
   "nbconvert_exporter": "python",
   "pygments_lexer": "ipython3",
   "version": 3
  },
  "orig_nbformat": 2
 },
 "nbformat": 4,
 "nbformat_minor": 2
}