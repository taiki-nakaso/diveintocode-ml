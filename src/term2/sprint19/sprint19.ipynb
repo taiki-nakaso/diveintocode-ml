{
  "nbformat": 4,
  "nbformat_minor": 0,
  "metadata": {
    "orig_nbformat": 2,
    "colab": {
      "name": "sprint19.ipynb",
      "provenance": [],
      "collapsed_sections": [],
      "toc_visible": true
    },
    "kernelspec": {
      "name": "python3",
      "display_name": "Python 3"
    },
    "accelerator": "GPU"
  },
  "cells": [
    {
      "cell_type": "markdown",
      "metadata": {
        "id": "FCtnRrF5pfZA",
        "colab_type": "text"
      },
      "source": [
        "# Sprint\n",
        "## セグメンテーション1"
      ]
    },
    {
      "cell_type": "markdown",
      "metadata": {
        "id": "TnYXY39YpfZC",
        "colab_type": "text"
      },
      "source": [
        "## 1.このSprintについて\n",
        "\n",
        "### Sprintの目的\n",
        "- コンピュータビジョンの代表的タスクであるセグメンテーションを学ぶ\n",
        "\n",
        "### どのように学ぶか\n",
        "公開されている実装を用いてKaggleコンペティションのデータでセグメンテーションを行います。"
      ]
    },
    {
      "cell_type": "markdown",
      "metadata": {
        "id": "mlfb6uP_pfZD",
        "colab_type": "text"
      },
      "source": [
        "## 2.セグメンテーション\n",
        "\n",
        "KaggleのTGS Salt Identification Challengeのデータセットを使用し、セグメンテーションを行います。\n",
        "\n",
        "\n",
        "[TGS Salt Identification Challenge | Kaggle](https://www.kaggle.com/c/tgs-salt-identification-challenge)\n",
        "\n",
        "\n",
        "セグメンテーション手法としてU-Net\\[1\\]を使います。\n",
        "\n",
        "\n",
        "\\[1\\]O.Ronneberger, P.Fischer, T.Brox. U-Net: Convolutional Networks for Biomedical Image Segmentation. Medical Image Computing and Computer-Assisted Intervention (MICCAI), Springer, LNCS, Vol.9351: 234–241, 2015\n",
        "\n",
        "\n",
        "[https://arxiv.org/pdf/1505.04597.pdf](https://arxiv.org/pdf/1505.04597.pdf)"
      ]
    },
    {
      "cell_type": "markdown",
      "metadata": {
        "id": "p96brul2pfZD",
        "colab_type": "text"
      },
      "source": [
        "### 【問題1】\n",
        "#### 学習・推定\n",
        "以下のKeras実装を使用して学習・推定を行ってください。\n",
        "\n",
        "\n",
        "[zhixuhao/unet: unet for image segmentation](https://github.com/zhixuhao/unet)\n",
        "\n",
        "\n",
        "**《GPU環境での学習》**\n",
        "\n",
        "\n",
        "大規模なデータセット、大きなモデルになるため、GPUを使用する必要があります。\n",
        "\n",
        "\n",
        "**《新たなデータセットの適用》**\n",
        "\n",
        "\n",
        "公開されている実装で用意されたものとは異なるデータセットを入力するための準備が必要です。\n",
        "\n"
      ]
    },
    {
      "cell_type": "code",
      "metadata": {
        "id": "h75bA2YMsj2Y",
        "colab_type": "code",
        "colab": {}
      },
      "source": [
        "import os"
      ],
      "execution_count": null,
      "outputs": []
    },
    {
      "cell_type": "code",
      "metadata": {
        "id": "PPojJ5nqpw5x",
        "colab_type": "code",
        "colab": {
          "base_uri": "https://localhost:8080/",
          "height": 122
        },
        "outputId": "ea852ffa-9c2c-49dd-e71e-57423e0d7b7b"
      },
      "source": [
        "# driveマウント\n",
        "from google.colab import drive\n",
        "drive.mount('/content/drive/')"
      ],
      "execution_count": 1,
      "outputs": [
        {
          "output_type": "stream",
          "text": [
            "Go to this URL in a browser: https://accounts.google.com/o/oauth2/auth?client_id=947318989803-6bn6qk8qdgf4n4g3pfee6491hc0brc4i.apps.googleusercontent.com&redirect_uri=urn%3aietf%3awg%3aoauth%3a2.0%3aoob&response_type=code&scope=email%20https%3a%2f%2fwww.googleapis.com%2fauth%2fdocs.test%20https%3a%2f%2fwww.googleapis.com%2fauth%2fdrive%20https%3a%2f%2fwww.googleapis.com%2fauth%2fdrive.photos.readonly%20https%3a%2f%2fwww.googleapis.com%2fauth%2fpeopleapi.readonly\n",
            "\n",
            "Enter your authorization code:\n",
            "··········\n",
            "Mounted at /content/drive/\n"
          ],
          "name": "stdout"
        }
      ]
    },
    {
      "cell_type": "code",
      "metadata": {
        "id": "tN3Pr5C-rMnE",
        "colab_type": "code",
        "colab": {
          "base_uri": "https://localhost:8080/",
          "height": 34
        },
        "outputId": "f685050b-d827-4ecd-cee4-c9218101375d"
      },
      "source": [
        "os.chdir('/content/drive/My Drive/')\n",
        "os.getcwd()"
      ],
      "execution_count": 3,
      "outputs": [
        {
          "output_type": "execute_result",
          "data": {
            "text/plain": [
              "'/content/drive/My Drive'"
            ]
          },
          "metadata": {
            "tags": []
          },
          "execution_count": 3
        }
      ]
    },
    {
      "cell_type": "code",
      "metadata": {
        "id": "O1NkzfWmsgZ1",
        "colab_type": "code",
        "colab": {
          "base_uri": "https://localhost:8080/",
          "height": 119
        },
        "outputId": "39c6569c-1c67-4620-c178-751cbf5f45fe"
      },
      "source": [
        "!git clone https://github.com/zhixuhao/unet.git"
      ],
      "execution_count": 4,
      "outputs": [
        {
          "output_type": "stream",
          "text": [
            "Cloning into 'unet'...\n",
            "remote: Enumerating objects: 394, done.\u001b[K\n",
            "remote: Total 394 (delta 0), reused 0 (delta 0), pack-reused 394\u001b[K\n",
            "Receiving objects: 100% (394/394), 44.92 MiB | 13.91 MiB/s, done.\n",
            "Resolving deltas: 100% (79/79), done.\n",
            "Checking out files: 100% (253/253), done.\n"
          ],
          "name": "stdout"
        }
      ]
    },
    {
      "cell_type": "code",
      "metadata": {
        "id": "SYMgxpEhvmAn",
        "colab_type": "code",
        "colab": {}
      },
      "source": [
        "os.chdir('/content/drive/My Drive/unet/')"
      ],
      "execution_count": 5,
      "outputs": []
    },
    {
      "cell_type": "markdown",
      "metadata": {
        "id": "1wcWr5VNpfZE",
        "colab_type": "text"
      },
      "source": [
        "### 【問題2】\n",
        "#### コードリーディング\n",
        "論文\\[1\\]に目を通した上で、上記実装のコードリーディングを行ってください。"
      ]
    }
  ]
}