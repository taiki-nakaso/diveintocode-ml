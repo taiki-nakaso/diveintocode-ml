{
 "cells": [
  {
   "cell_type": "code",
   "execution_count": 6,
   "metadata": {},
   "outputs": [
    {
     "output_type": "stream",
     "name": "stdout",
     "text": "1st ack.ack\n"
    }
   ],
   "source": [
    "name = \"ack\"\n",
    "print(\"1st \" + name + \".ack\")"
   ]
  },
  {
   "cell_type": "code",
   "execution_count": 12,
   "metadata": {},
   "outputs": [
    {
     "output_type": "stream",
     "name": "stdout",
     "text": "im 19834 years old.\nim (1, 2, 3) years old.\n"
    }
   ],
   "source": [
    "age = 19834\n",
    "print(\"im \" + str(age) + \" years old.\")\n",
    "age = (1,2,3)\n",
    "# print(\"im {} years old.\".format(age))\n",
    "# print(\"im {} {} {} years old.\".format(age)) -- false"
   ]
  },
  {
   "cell_type": "code",
   "execution_count": 20,
   "metadata": {},
   "outputs": [
    {
     "output_type": "stream",
     "name": "stdout",
     "text": "answer:5-3\n"
    }
   ],
   "source": [
    "plus = 5\n",
    "minus = -3\n",
    "print(\"answer:{: }{: }\".format(plus, minus))"
   ]
  },
  {
   "cell_type": "code",
   "execution_count": 1,
   "metadata": {},
   "outputs": [
    {
     "output_type": "stream",
     "name": "stdout",
     "text": "answer:-3 5\n"
    }
   ],
   "source": [
    "plus = 5\n",
    "minus = -3\n",
    "print(\"answer:{1: }{0: }\".format(plus, minus))"
   ]
  },
  {
   "cell_type": "code",
   "execution_count": 9,
   "metadata": {},
   "outputs": [
    {
     "output_type": "stream",
     "name": "stdout",
     "text": "answer:-3.24+5.1\n"
    }
   ],
   "source": [
    "plus = 5.129\n",
    "minus = -3.241\n",
    "print(\"answer:{1:+.2f}{0:+.1f}\".format(plus, minus))"
   ]
  },
  {
   "cell_type": "code",
   "execution_count": 19,
   "metadata": {},
   "outputs": [
    {
     "output_type": "stream",
     "name": "stdout",
     "text": "The quick brown fox jumps over the lazy dog\n"
    }
   ],
   "source": [
    "print(\"the quick brown fox jumps over the lazy dog\".capitalize())"
   ]
  },
  {
   "cell_type": "code",
   "execution_count": 21,
   "metadata": {},
   "outputs": [
    {
     "output_type": "stream",
     "name": "stdout",
     "text": "endand"
    }
   ],
   "source": [
    "print(\"end\", end=\"and\")"
   ]
  }
 ],
 "metadata": {
  "kernelspec": {
   "display_name": "Python 3",
   "language": "python",
   "name": "python3"
  },
  "language_info": {
   "codemirror_mode": {
    "name": "ipython",
    "version": 3
   },
   "file_extension": ".py",
   "mimetype": "text/x-python",
   "name": "python",
   "nbconvert_exporter": "python",
   "pygments_lexer": "ipython3",
   "version": "3.7.6-final"
  }
 },
 "nbformat": 4,
 "nbformat_minor": 4
}