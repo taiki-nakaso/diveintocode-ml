{
 "nbformat": 4,
 "nbformat_minor": 2,
 "metadata": {
  "language_info": {
   "name": "python",
   "codemirror_mode": {
    "name": "ipython",
    "version": 3
   },
   "version": "3.7.6-final"
  },
  "orig_nbformat": 2,
  "file_extension": ".py",
  "mimetype": "text/x-python",
  "name": "python",
  "npconvert_exporter": "python",
  "pygments_lexer": "ipython3",
  "version": 3,
  "kernelspec": {
   "name": "python3",
   "display_name": "Python 3"
  }
 },
 "cells": [
  {
   "cell_type": "code",
   "execution_count": 1,
   "metadata": {},
   "outputs": [
    {
     "output_type": "stream",
     "name": "stdout",
     "text": "1\n2\n4\n5\n6\n3\n52\n35\n22\n6\n"
    }
   ],
   "source": [
    "nums = [1,2,4,5,6,3,52,35,22,6]\n",
    "for n in nums:\n",
    "    print(n)"
   ]
  },
  {
   "cell_type": "code",
   "execution_count": 3,
   "metadata": {},
   "outputs": [
    {
     "output_type": "stream",
     "name": "stdout",
     "text": "w\ne\nd\nu\nf\nd\nc\nb\nj\nk\nc\nn\nd\ns\nl\ni\nv\n"
    }
   ],
   "source": [
    "txt = \"wedufdcbjkcndsliv\"\n",
    "for p in txt:\n",
    "    print(p)"
   ]
  },
  {
   "cell_type": "code",
   "execution_count": 4,
   "metadata": {},
   "outputs": [
    {
     "output_type": "stream",
     "name": "stdout",
     "text": "0\n1\n2\n3\n4\n5\n6\n7\n8\n9\n"
    }
   ],
   "source": [
    "for i in range(10):\n",
    "    print(i)"
   ]
  },
  {
   "cell_type": "code",
   "execution_count": 9,
   "metadata": {},
   "outputs": [
    {
     "output_type": "stream",
     "name": "stdout",
     "text": "range(0, 10)\n<class 'range'>\n[0, 1, 2, 3, 4, 5, 6, 7, 8, 9]\n<class 'list'>\n"
    }
   ],
   "source": [
    "print(range(10))\n",
    "print(type(range(10)))\n",
    "print(list(range(10)))\n",
    "print(type(list(range(10))))"
   ]
  },
  {
   "cell_type": "code",
   "execution_count": 19,
   "metadata": {},
   "outputs": [
    {
     "output_type": "stream",
     "name": "stdout",
     "text": "1\n9\n17\n25\n33\n41\n49\n57\n65\n73\n81\n89\n97\n1\n-7\n-15\n-23\n-31\n-39\n-47\n-55\n-63\n-71\n-79\n-87\n-95\n"
    }
   ],
   "source": [
    "for i in range(1,100,8):\n",
    "    print(i)\n",
    "for i in range(1,-100,-8):\n",
    "    print(i)"
   ]
  },
  {
   "cell_type": "code",
   "execution_count": 21,
   "metadata": {},
   "outputs": [
    {
     "output_type": "stream",
     "name": "stdout",
     "text": "0:9\n1:8\n2:7\n3:7\n4:6\n5:5\n6:5\n7:4\n8:3\n9:3\n10:2\n11:2\n12:1\n"
    }
   ],
   "source": [
    "temp = [9,8,7,7,6,5,5,4,3,3,2,2,1]\n",
    "for i,tp in enumerate(temp):\n",
    "    print(\"{}:{}\".format(i,tp))"
   ]
  },
  {
   "cell_type": "code",
   "execution_count": 23,
   "metadata": {},
   "outputs": [
    {
     "output_type": "stream",
     "name": "stdout",
     "text": "1:9\n2:8\n3:7\n4:7\n5:6\n6:5\n7:5\n8:4\n9:3\n10:3\n11:2\n12:2\n"
    }
   ],
   "source": [
    "nums = list(range(1,13))\n",
    "for n,tp in zip(nums, temp):\n",
    "    print(\"{}:{}\".format(n,tp))"
   ]
  },
  {
   "cell_type": "code",
   "execution_count": 24,
   "metadata": {},
   "outputs": [
    {
     "output_type": "stream",
     "name": "stdout",
     "text": "0\n2\n4\n"
    }
   ],
   "source": [
    "num = 0\n",
    "while num < 5:\n",
    "    print(num)\n",
    "    num +=2"
   ]
  },
  {
   "cell_type": "code",
   "execution_count": 25,
   "metadata": {},
   "outputs": [
    {
     "output_type": "stream",
     "name": "stdout",
     "text": "0\n3\n6\n9\n12\n15\n"
    }
   ],
   "source": [
    "num = 0\n",
    "while True:\n",
    "    print(num)\n",
    "    num += 3\n",
    "    if num > 15:\n",
    "        break"
   ]
  }
 ]
}