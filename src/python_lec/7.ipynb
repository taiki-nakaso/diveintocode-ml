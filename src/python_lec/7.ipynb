{
 "nbformat": 4,
 "nbformat_minor": 2,
 "metadata": {
  "language_info": {
   "name": "python",
   "codemirror_mode": {
    "name": "ipython",
    "version": 3
   },
   "version": "3.7.6-final"
  },
  "orig_nbformat": 2,
  "file_extension": ".py",
  "mimetype": "text/x-python",
  "name": "python",
  "npconvert_exporter": "python",
  "pygments_lexer": "ipython3",
  "version": 3,
  "kernelspec": {
   "name": "python3",
   "display_name": "Python 3"
  }
 },
 "cells": [
  {
   "cell_type": "code",
   "execution_count": 1,
   "metadata": {},
   "outputs": [
    {
     "output_type": "stream",
     "name": "stdout",
     "text": "hello!!!\n"
    }
   ],
   "source": [
    "def phello():\n",
    "    print(\"hello!!!\")\n",
    "phello()"
   ]
  },
  {
   "cell_type": "code",
   "execution_count": 2,
   "metadata": {},
   "outputs": [
    {
     "output_type": "stream",
     "name": "stdout",
     "text": "hello, john\n"
    }
   ],
   "source": [
    "def phello_arg(arg):\n",
    "    print(\"hello, {}\".format(arg))\n",
    "phello_arg(\"john\")"
   ]
  },
  {
   "cell_type": "code",
   "execution_count": 4,
   "metadata": {},
   "outputs": [
    {
     "output_type": "stream",
     "name": "stdout",
     "text": "hello! first last\n"
    }
   ],
   "source": [
    "def phello_args(arg1, arg2):\n",
    "    print(\"hello! {} {}\".format(arg1, arg2))\n",
    "phello_args(\"first\", \"last\")"
   ]
  },
  {
   "cell_type": "code",
   "execution_count": 5,
   "metadata": {},
   "outputs": [
    {
     "output_type": "stream",
     "name": "stdout",
     "text": "hello, some name!\nhello, ssss nothing!\n"
    }
   ],
   "source": [
    "def phello_default(arg, narg=\"nothing\"):\n",
    "    print(\"hello, {} {}!\".format(arg, narg))\n",
    "phello_default(\"some\", \"name\")\n",
    "phello_default(\"ssss\")"
   ]
  },
  {
   "cell_type": "code",
   "execution_count": 6,
   "metadata": {},
   "outputs": [
    {
     "output_type": "stream",
     "name": "stdout",
     "text": "hello, Python?\n"
    }
   ],
   "source": [
    "def phello_re(arg, end=\"!\"):\n",
    "    return \"hello, {}{}\".format(arg, end)\n",
    "print(phello_re(\"Python\", end=\"?\"))"
   ]
  },
  {
   "cell_type": "code",
   "execution_count": 13,
   "metadata": {},
   "outputs": [
    {
     "output_type": "stream",
     "name": "stdout",
     "text": "6\n-200\n18.6\n24.599999999999998\n"
    }
   ],
   "source": [
    "def func(x,y):\n",
    "    ans = (x+y) * 2\n",
    "    return ans\n",
    "print(func(1,2))\n",
    "print(func(0,-100))\n",
    "print(func(4, 5.3))\n",
    "print(func(3.1, 9.2))\n",
    "# print(ans) -- false"
   ]
  },
  {
   "cell_type": "code",
   "execution_count": 15,
   "metadata": {},
   "outputs": [
    {
     "output_type": "stream",
     "name": "stdout",
     "text": "17 60\n"
    }
   ],
   "source": [
    "def func2(a, b):\n",
    "    ans1 = a + b\n",
    "    ans2 = a * b\n",
    "    return ans1, ans2\n",
    "ansa, ansb = func2(12,5)\n",
    "print(ansa, ansb)"
   ]
  },
  {
   "cell_type": "code",
   "execution_count": 19,
   "metadata": {},
   "outputs": [
    {
     "output_type": "stream",
     "name": "stdout",
     "text": "Bob is 20under\nBob is 17over\nBob is 16over\n"
    }
   ],
   "source": [
    "ADULT = 20\n",
    "def adult(age, adage=20):\n",
    "    \"\"\"\n",
    "    comment\n",
    "    comment\n",
    "    \"\"\"\n",
    "    # comment\n",
    "    # comment\n",
    "    if age > adage:\n",
    "        return \"{}over\".format(adage)\n",
    "    else:\n",
    "        return \"{}under\".format(adage)\n",
    "name = \"Bob\"\n",
    "az = 18\n",
    "print(\"{} is {}\".format(name, adult(az)))\n",
    "print(\"{} is {}\".format(name, adult(az,17)))\n",
    "print(\"{} is {}\".format(name, adult(age=az,adage=16)))"
   ]
  }
 ]
}