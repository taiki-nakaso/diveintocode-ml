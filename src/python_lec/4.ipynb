{
 "nbformat": 4,
 "nbformat_minor": 2,
 "metadata": {
  "language_info": {
   "name": "python",
   "codemirror_mode": {
    "name": "ipython",
    "version": 3
   },
   "version": "3.7.6-final"
  },
  "orig_nbformat": 2,
  "file_extension": ".py",
  "mimetype": "text/x-python",
  "name": "python",
  "npconvert_exporter": "python",
  "pygments_lexer": "ipython3",
  "version": 3,
  "kernelspec": {
   "name": "python3",
   "display_name": "Python 3"
  }
 },
 "cells": [
  {
   "cell_type": "code",
   "execution_count": 29,
   "metadata": {},
   "outputs": [
    {
     "output_type": "stream",
     "name": "stdout",
     "text": "[1, 2, 3, 4, 5, 4, 3, 2, 1]\n<class 'list'>\n"
    }
   ],
   "source": [
    "list1 = [1,2,3,4,5,4,3,2,1]\n",
    "print(list1)\n",
    "print(type(list1))"
   ]
  },
  {
   "cell_type": "code",
   "execution_count": 30,
   "metadata": {},
   "outputs": [
    {
     "output_type": "stream",
     "name": "stdout",
     "text": "4 8\n"
    }
   ],
   "source": [
    "list2 = [2,7,3,0,4,4,5,7,8,3]\n",
    "print(\"{} {}\".format(list2[4], list2[-2]))"
   ]
  },
  {
   "cell_type": "code",
   "execution_count": 31,
   "metadata": {},
   "outputs": [
    {
     "output_type": "stream",
     "name": "stdout",
     "text": "[3, 6, 4, 8, 3, 5, 7, 8]\n[3, 4, 3, 7]\n[2, 8, 7, 5, 3, 8, 4, 6, 3]\n"
    }
   ],
   "source": [
    "list3 = [3,6,4,8,3,5,7,8,2]\n",
    "print(list3[0:-1])\n",
    "print(list3[0:-2:2])\n",
    "print(list3[::-1])"
   ]
  },
  {
   "cell_type": "code",
   "execution_count": 32,
   "metadata": {},
   "outputs": [
    {
     "output_type": "stream",
     "name": "stdout",
     "text": "9\n"
    }
   ],
   "source": [
    "print(len(list3))"
   ]
  },
  {
   "cell_type": "code",
   "execution_count": 33,
   "metadata": {},
   "outputs": [
    {
     "output_type": "stream",
     "name": "stdout",
     "text": "[3, 6, 4, 8, 3, 5, 7, 8, 2]\n[3, 6, 4, 8, 3, 5, 7, 8, 2, 1232121]\n[3, 6, 4, 8, 3, 5, 7, 8, 2]\n"
    }
   ],
   "source": [
    "print(list3)\n",
    "list3.append(1232121)\n",
    "print(list3)\n",
    "list3 = [3,6,4,8,3,5,7,8,2]\n",
    "print(list3)"
   ]
  },
  {
   "cell_type": "code",
   "execution_count": 34,
   "metadata": {},
   "outputs": [
    {
     "output_type": "stream",
     "name": "stdout",
     "text": "[1, 2, 3, 4, 5, 4, 3, 2, 1, 2, 7, 3, 0, 4, 4, 5, 7, 8, 3, 3, 6, 4, 8, 3, 5, 7, 8, 2]\n"
    }
   ],
   "source": [
    "print(list1 + list2 + list3)"
   ]
  },
  {
   "cell_type": "code",
   "execution_count": 35,
   "metadata": {},
   "outputs": [
    {
     "output_type": "stream",
     "name": "stdout",
     "text": "(1, 2, 3, 5, 6, 3, 6, 4)\n<class 'tuple'>\n"
    }
   ],
   "source": [
    "tp = (1,2,3,5,6,3,6,4)\n",
    "print(tp)\n",
    "print(type(tp))"
   ]
  }
 ]
}